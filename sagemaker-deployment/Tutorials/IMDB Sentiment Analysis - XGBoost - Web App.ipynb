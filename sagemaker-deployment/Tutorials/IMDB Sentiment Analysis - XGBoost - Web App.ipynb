{
 "cells": [
  {
   "cell_type": "markdown",
   "metadata": {},
   "source": [
    "# Sentiment Analysis Web App\n",
    "\n",
    "_Deep Learning Nanodegree Program | Deployment_\n",
    "\n",
    "---\n",
    "\n",
    "In this notebook we will use Amazon's SageMaker service to construct a random tree model to predict the sentiment of a movie review. In addition, we will deploy this model to an endpoint and construct a very simple web app which will interact with our model's deployed endpoint.\n",
    "\n",
    "## General Outline\n",
    "\n",
    "Typically, when using a notebook instance with SageMaker, you will proceed through the following steps. Of course, not every step will need to be done with each project. Also, there is quite a lot of room for variation in many of the steps, as you will see throughout these lessons.\n",
    "\n",
    "1. Download or otherwise retrieve the data.\n",
    "2. Process / Prepare the data.\n",
    "3. Upload the processed data to S3.\n",
    "4. Train a chosen model.\n",
    "5. Test the trained model (typically using a batch transform job).\n",
    "6. Deploy the trained model.\n",
    "7. Use the deployed model.\n",
    "\n",
    "In this notebook we will progress through each of the steps above. We will also see that the final step, using the deployed model, can be quite challenging."
   ]
  },
  {
   "cell_type": "markdown",
   "metadata": {},
   "source": [
    "## Step 1: Downloading the data\n",
    "\n",
    "The dataset we are going to use is very popular among researchers in Natural Language Processing, usually referred to as the [IMDb dataset](http://ai.stanford.edu/~amaas/data/sentiment/). It consists of movie reviews from the website [imdb.com](http://www.imdb.com/), each labeled as either '**pos**itive', if the reviewer enjoyed the film, or '**neg**ative' otherwise.\n",
    "\n",
    "> Maas, Andrew L., et al. [Learning Word Vectors for Sentiment Analysis](http://ai.stanford.edu/~amaas/data/sentiment/). In _Proceedings of the 49th Annual Meeting of the Association for Computational Linguistics: Human Language Technologies_. Association for Computational Linguistics, 2011.\n",
    "\n",
    "We begin by using some Jupyter Notebook magic to download and extract the dataset."
   ]
  },
  {
   "cell_type": "code",
   "execution_count": 1,
   "metadata": {},
   "outputs": [
    {
     "name": "stdout",
     "output_type": "stream",
     "text": [
      "mkdir: cannot create directory ‘../data’: File exists\n",
      "--2019-12-12 14:13:19--  http://ai.stanford.edu/~amaas/data/sentiment/aclImdb_v1.tar.gz\n",
      "Resolving ai.stanford.edu (ai.stanford.edu)... 171.64.68.10\n",
      "Connecting to ai.stanford.edu (ai.stanford.edu)|171.64.68.10|:80... connected.\n",
      "HTTP request sent, awaiting response... 200 OK\n",
      "Length: 84125825 (80M) [application/x-gzip]\n",
      "Saving to: ‘../data/aclImdb_v1.tar.gz’\n",
      "\n",
      "../data/aclImdb_v1. 100%[===================>]  80.23M  20.5MB/s    in 5.6s    \n",
      "\n",
      "2019-12-12 14:13:25 (14.3 MB/s) - ‘../data/aclImdb_v1.tar.gz’ saved [84125825/84125825]\n",
      "\n"
     ]
    }
   ],
   "source": [
    "%mkdir ../data\n",
    "!wget -O ../data/aclImdb_v1.tar.gz http://ai.stanford.edu/~amaas/data/sentiment/aclImdb_v1.tar.gz\n",
    "!tar -zxf ../data/aclImdb_v1.tar.gz -C ../data"
   ]
  },
  {
   "cell_type": "markdown",
   "metadata": {},
   "source": [
    "## Step 2: Preparing and Processing the data\n",
    "\n",
    "The data we have downloaded is split into various files, each of which contains a single review. It will be much easier going forward if we combine these individual files into two large files, one for training and one for testing."
   ]
  },
  {
   "cell_type": "code",
   "execution_count": 2,
   "metadata": {},
   "outputs": [],
   "source": [
    "import os\n",
    "import glob\n",
    "\n",
    "def read_imdb_data(data_dir='../data/aclImdb'):\n",
    "    data = {}\n",
    "    labels = {}\n",
    "    \n",
    "    for data_type in ['train', 'test']:\n",
    "        data[data_type] = {}\n",
    "        labels[data_type] = {}\n",
    "        \n",
    "        for sentiment in ['pos', 'neg']:\n",
    "            data[data_type][sentiment] = []\n",
    "            labels[data_type][sentiment] = []\n",
    "            \n",
    "            path = os.path.join(data_dir, data_type, sentiment, '*.txt')\n",
    "            files = glob.glob(path)\n",
    "            \n",
    "            for f in files:\n",
    "                with open(f) as review:\n",
    "                    data[data_type][sentiment].append(review.read())\n",
    "                    # Here we represent a positive review by '1' and a negative review by '0'\n",
    "                    labels[data_type][sentiment].append(1 if sentiment == 'pos' else 0)\n",
    "                    \n",
    "            assert len(data[data_type][sentiment]) == len(labels[data_type][sentiment]), \\\n",
    "                    \"{}/{} data size does not match labels size\".format(data_type, sentiment)\n",
    "                \n",
    "    return data, labels"
   ]
  },
  {
   "cell_type": "code",
   "execution_count": 3,
   "metadata": {},
   "outputs": [
    {
     "name": "stdout",
     "output_type": "stream",
     "text": [
      "IMDB reviews: train = 12500 pos / 12500 neg, test = 12500 pos / 12500 neg\n"
     ]
    }
   ],
   "source": [
    "data, labels = read_imdb_data()\n",
    "print(\"IMDB reviews: train = {} pos / {} neg, test = {} pos / {} neg\".format(\n",
    "            len(data['train']['pos']), len(data['train']['neg']),\n",
    "            len(data['test']['pos']), len(data['test']['neg'])))"
   ]
  },
  {
   "cell_type": "code",
   "execution_count": 4,
   "metadata": {},
   "outputs": [],
   "source": [
    "from sklearn.utils import shuffle\n",
    "\n",
    "def prepare_imdb_data(data, labels):\n",
    "    \"\"\"Prepare training and test sets from IMDb movie reviews.\"\"\"\n",
    "    \n",
    "    #Combine positive and negative reviews and labels\n",
    "    data_train = data['train']['pos'] + data['train']['neg']\n",
    "    data_test = data['test']['pos'] + data['test']['neg']\n",
    "    labels_train = labels['train']['pos'] + labels['train']['neg']\n",
    "    labels_test = labels['test']['pos'] + labels['test']['neg']\n",
    "    \n",
    "    #Shuffle reviews and corresponding labels within training and test sets\n",
    "    data_train, labels_train = shuffle(data_train, labels_train)\n",
    "    data_test, labels_test = shuffle(data_test, labels_test)\n",
    "    \n",
    "    # Return a unified training data, test data, training labels, test labets\n",
    "    return data_train, data_test, labels_train, labels_test"
   ]
  },
  {
   "cell_type": "code",
   "execution_count": 5,
   "metadata": {},
   "outputs": [
    {
     "name": "stdout",
     "output_type": "stream",
     "text": [
      "IMDb reviews (combined): train = 25000, test = 25000\n"
     ]
    }
   ],
   "source": [
    "train_X, test_X, train_y, test_y = prepare_imdb_data(data, labels)\n",
    "print(\"IMDb reviews (combined): train = {}, test = {}\".format(len(train_X), len(test_X)))"
   ]
  },
  {
   "cell_type": "code",
   "execution_count": 6,
   "metadata": {},
   "outputs": [
    {
     "data": {
      "text/plain": [
       "\"The film largely focuses on a bullying Robert Taylor as a ruthless buffalo hunter and the people who have to put up with him. Set amidst a hunt for dwindling numbers of buffalo, it portrays the end of a tragic era of senseless slaughter and is full of drama and remorse for both the buffalo and the Native Americans. Taylor is blinded by his hatred of Indians and his naivete that the buffalo herds will never disappear. In one scene, he shoots animal after animal, while in another he murders Indians and then eats the food they had cooking on their fire. Under this ruthless exterior lies an insecure person who is reduced to begging his comrades (Stewart Granger, Lloyd Nolan, and Russ Tamblyn) not to leave him. It's not the most pleasant of films and is weighed down by the drama it creates, leading to a dismal and very fitting conclusion in a blizzard.\""
      ]
     },
     "execution_count": 6,
     "metadata": {},
     "output_type": "execute_result"
    }
   ],
   "source": [
    "train_X[100]"
   ]
  },
  {
   "cell_type": "markdown",
   "metadata": {},
   "source": [
    "## Processing the data\n",
    "\n",
    "Now that we have our training and testing datasets merged and ready to use, we need to start processing the raw data into something that will be useable by our machine learning algorithm. To begin with, we remove any html formatting and any non-alpha numeric characters that may appear in the reviews. We will do this in a very simplistic way using Python's regular expression module. We will discuss the reason for this rather simplistic pre-processing later on."
   ]
  },
  {
   "cell_type": "code",
   "execution_count": 7,
   "metadata": {},
   "outputs": [],
   "source": [
    "import re\n",
    "\n",
    "REPLACE_NO_SPACE = re.compile(\"(\\.)|(\\;)|(\\:)|(\\!)|(\\')|(\\?)|(\\,)|(\\\")|(\\()|(\\))|(\\[)|(\\])\")\n",
    "REPLACE_WITH_SPACE = re.compile(\"(<br\\s*/><br\\s*/>)|(\\-)|(\\/)\")\n",
    "\n",
    "def review_to_words(review):\n",
    "    words = REPLACE_NO_SPACE.sub(\"\", review.lower())\n",
    "    words = REPLACE_WITH_SPACE.sub(\" \", words)\n",
    "    return words"
   ]
  },
  {
   "cell_type": "code",
   "execution_count": 8,
   "metadata": {},
   "outputs": [
    {
     "data": {
      "text/plain": [
       "'the film largely focuses on a bullying robert taylor as a ruthless buffalo hunter and the people who have to put up with him set amidst a hunt for dwindling numbers of buffalo it portrays the end of a tragic era of senseless slaughter and is full of drama and remorse for both the buffalo and the native americans taylor is blinded by his hatred of indians and his naivete that the buffalo herds will never disappear in one scene he shoots animal after animal while in another he murders indians and then eats the food they had cooking on their fire under this ruthless exterior lies an insecure person who is reduced to begging his comrades stewart granger lloyd nolan and russ tamblyn not to leave him its not the most pleasant of films and is weighed down by the drama it creates leading to a dismal and very fitting conclusion in a blizzard'"
      ]
     },
     "execution_count": 8,
     "metadata": {},
     "output_type": "execute_result"
    }
   ],
   "source": [
    "review_to_words(train_X[100])"
   ]
  },
  {
   "cell_type": "code",
   "execution_count": 9,
   "metadata": {},
   "outputs": [],
   "source": [
    "import pickle\n",
    "\n",
    "cache_dir = os.path.join(\"../cache\", \"sentiment_web_app\")  # where to store cache files\n",
    "os.makedirs(cache_dir, exist_ok=True)  # ensure cache directory exists\n",
    "\n",
    "def preprocess_data(data_train, data_test, labels_train, labels_test,\n",
    "                    cache_dir=cache_dir, cache_file=\"preprocessed_data.pkl\"):\n",
    "    \"\"\"Convert each review to words; read from cache if available.\"\"\"\n",
    "\n",
    "    # If cache_file is not None, try to read from it first\n",
    "    cache_data = None\n",
    "    if cache_file is not None:\n",
    "        try:\n",
    "            with open(os.path.join(cache_dir, cache_file), \"rb\") as f:\n",
    "                cache_data = pickle.load(f)\n",
    "            print(\"Read preprocessed data from cache file:\", cache_file)\n",
    "        except:\n",
    "            pass  # unable to read from cache, but that's okay\n",
    "    \n",
    "    # If cache is missing, then do the heavy lifting\n",
    "    if cache_data is None:\n",
    "        # Preprocess training and test data to obtain words for each review\n",
    "        #words_train = list(map(review_to_words, data_train))\n",
    "        #words_test = list(map(review_to_words, data_test))\n",
    "        words_train = [review_to_words(review) for review in data_train]\n",
    "        words_test = [review_to_words(review) for review in data_test]\n",
    "        \n",
    "        # Write to cache file for future runs\n",
    "        if cache_file is not None:\n",
    "            cache_data = dict(words_train=words_train, words_test=words_test,\n",
    "                              labels_train=labels_train, labels_test=labels_test)\n",
    "            with open(os.path.join(cache_dir, cache_file), \"wb\") as f:\n",
    "                pickle.dump(cache_data, f)\n",
    "            print(\"Wrote preprocessed data to cache file:\", cache_file)\n",
    "    else:\n",
    "        # Unpack data loaded from cache file\n",
    "        words_train, words_test, labels_train, labels_test = (cache_data['words_train'],\n",
    "                cache_data['words_test'], cache_data['labels_train'], cache_data['labels_test'])\n",
    "    \n",
    "    return words_train, words_test, labels_train, labels_test"
   ]
  },
  {
   "cell_type": "code",
   "execution_count": 10,
   "metadata": {},
   "outputs": [
    {
     "name": "stdout",
     "output_type": "stream",
     "text": [
      "Wrote preprocessed data to cache file: preprocessed_data.pkl\n"
     ]
    }
   ],
   "source": [
    "# Preprocess data\n",
    "train_X, test_X, train_y, test_y = preprocess_data(train_X, test_X, train_y, test_y)"
   ]
  },
  {
   "cell_type": "markdown",
   "metadata": {},
   "source": [
    "### Extract Bag-of-Words features\n",
    "\n",
    "For the model we will be implementing, rather than using the reviews directly, we are going to transform each review into a Bag-of-Words feature representation. Keep in mind that 'in the wild' we will only have access to the training set so our transformer can only use the training set to construct a representation."
   ]
  },
  {
   "cell_type": "code",
   "execution_count": 11,
   "metadata": {},
   "outputs": [],
   "source": [
    "import numpy as np\n",
    "from sklearn.feature_extraction.text import CountVectorizer\n",
    "from sklearn.externals import joblib\n",
    "# joblib is an enhanced version of pickle that is more efficient for storing NumPy arrays\n",
    "\n",
    "def extract_BoW_features(words_train, words_test, vocabulary_size=5000,\n",
    "                         cache_dir=cache_dir, cache_file=\"bow_features.pkl\"):\n",
    "    \"\"\"Extract Bag-of-Words for a given set of documents, already preprocessed into words.\"\"\"\n",
    "    \n",
    "    # If cache_file is not None, try to read from it first\n",
    "    cache_data = None\n",
    "    if cache_file is not None:\n",
    "        try:\n",
    "            with open(os.path.join(cache_dir, cache_file), \"rb\") as f:\n",
    "                cache_data = joblib.load(f)\n",
    "            print(\"Read features from cache file:\", cache_file)\n",
    "        except:\n",
    "            pass  # unable to read from cache, but that's okay\n",
    "    \n",
    "    # If cache is missing, then do the heavy lifting\n",
    "    if cache_data is None:\n",
    "        # Fit a vectorizer to training documents and use it to transform them\n",
    "        # NOTE: Training documents have already been preprocessed and tokenized into words;\n",
    "        #       pass in dummy functions to skip those steps, e.g. preprocessor=lambda x: x\n",
    "        vectorizer = CountVectorizer(max_features=vocabulary_size)\n",
    "        features_train = vectorizer.fit_transform(words_train).toarray()\n",
    "\n",
    "        # Apply the same vectorizer to transform the test documents (ignore unknown words)\n",
    "        features_test = vectorizer.transform(words_test).toarray()\n",
    "        \n",
    "        # NOTE: Remember to convert the features using .toarray() for a compact representation\n",
    "        \n",
    "        # Write to cache file for future runs (store vocabulary as well)\n",
    "        if cache_file is not None:\n",
    "            vocabulary = vectorizer.vocabulary_\n",
    "            cache_data = dict(features_train=features_train, features_test=features_test,\n",
    "                             vocabulary=vocabulary)\n",
    "            with open(os.path.join(cache_dir, cache_file), \"wb\") as f:\n",
    "                joblib.dump(cache_data, f)\n",
    "            print(\"Wrote features to cache file:\", cache_file)\n",
    "    else:\n",
    "        # Unpack data loaded from cache file\n",
    "        features_train, features_test, vocabulary = (cache_data['features_train'],\n",
    "                cache_data['features_test'], cache_data['vocabulary'])\n",
    "    \n",
    "    # Return both the extracted features as well as the vocabulary\n",
    "    return features_train, features_test, vocabulary"
   ]
  },
  {
   "cell_type": "code",
   "execution_count": 12,
   "metadata": {},
   "outputs": [
    {
     "name": "stdout",
     "output_type": "stream",
     "text": [
      "Wrote features to cache file: bow_features.pkl\n"
     ]
    }
   ],
   "source": [
    "# Extract Bag of Words features for both training and test datasets\n",
    "train_X, test_X, vocabulary = extract_BoW_features(train_X, test_X)"
   ]
  },
  {
   "cell_type": "code",
   "execution_count": 13,
   "metadata": {},
   "outputs": [
    {
     "data": {
      "text/plain": [
       "5000"
      ]
     },
     "execution_count": 13,
     "metadata": {},
     "output_type": "execute_result"
    }
   ],
   "source": [
    "len(train_X[100])"
   ]
  },
  {
   "cell_type": "markdown",
   "metadata": {},
   "source": [
    "## Step 3: Upload data to S3\n",
    "\n",
    "Now that we have created the feature representation of our training (and testing) data, it is time to start setting up and using the XGBoost classifier provided by SageMaker.\n",
    "\n",
    "### Writing the datasets\n",
    "\n",
    "The XGBoost classifier that we will be using requires the dataset to be written to a file and stored using Amazon S3. To do this, we will start by splitting the training dataset into two parts, the data we will train the model with and a validation set. Then, we will write those datasets to a file locally and then upload the files to S3. In addition, we will write the test set to a file and upload that file to S3. This is so that we can use SageMakers Batch Transform functionality to test our model once we've fit it."
   ]
  },
  {
   "cell_type": "code",
   "execution_count": 14,
   "metadata": {},
   "outputs": [],
   "source": [
    "import pandas as pd\n",
    "\n",
    "# Earlier we shuffled the training dataset so to make things simple we can just assign\n",
    "# the first 10 000 reviews to the validation set and use the remaining reviews for training.\n",
    "val_X = pd.DataFrame(train_X[:10000])\n",
    "train_X = pd.DataFrame(train_X[10000:])\n",
    "\n",
    "val_y = pd.DataFrame(train_y[:10000])\n",
    "train_y = pd.DataFrame(train_y[10000:])"
   ]
  },
  {
   "cell_type": "markdown",
   "metadata": {},
   "source": [
    "The documentation for the XGBoost algorithm in SageMaker requires that the training and validation datasets should contain no headers or index and that the label should occur first for each sample.\n",
    "\n",
    "For more information about this and other algorithms, the SageMaker developer documentation can be found on __[Amazon's website.](https://docs.aws.amazon.com/sagemaker/latest/dg/)__"
   ]
  },
  {
   "cell_type": "code",
   "execution_count": 15,
   "metadata": {},
   "outputs": [],
   "source": [
    "# First we make sure that the local directory in which we'd like to store the training and validation csv files exists.\n",
    "data_dir = '../data/sentiment_web_app'\n",
    "if not os.path.exists(data_dir):\n",
    "    os.makedirs(data_dir)"
   ]
  },
  {
   "cell_type": "code",
   "execution_count": 16,
   "metadata": {},
   "outputs": [],
   "source": [
    "pd.DataFrame(test_X).to_csv(os.path.join(data_dir, 'test.csv'), header=False, index=False)\n",
    "\n",
    "pd.concat([val_y, val_X], axis=1).to_csv(os.path.join(data_dir, 'validation.csv'), header=False, index=False)\n",
    "pd.concat([train_y, train_X], axis=1).to_csv(os.path.join(data_dir, 'train.csv'), header=False, index=False)"
   ]
  },
  {
   "cell_type": "code",
   "execution_count": 17,
   "metadata": {},
   "outputs": [],
   "source": [
    "# To save a bit of memory we can set text_X, train_X, val_X, train_y and val_y to None.\n",
    "\n",
    "test_X = train_X = val_X = train_y = val_y = None"
   ]
  },
  {
   "cell_type": "markdown",
   "metadata": {},
   "source": [
    "### Uploading Training / Validation files to S3\n",
    "\n",
    "Amazon's S3 service allows us to store files that can be accessed by both the built-in training models such as the XGBoost model we will be using as well as custom models such as the one we will see a little later.\n",
    "\n",
    "For this and most other tasks we will be doing using SageMaker, there are two methods we could use. The first is to use the low level functionality of SageMaker which requires knowing each of the objects involved in the SageMaker environment. The second is to use the high level functionality in which certain choices have been made on the user's behalf. The low level approach benefits from allowing the user a great deal of flexibility while the high level approach makes development much quicker. For our purposes we will opt to use the high level approach although using the low-level approach is certainly an option.\n",
    "\n",
    "Recall the method `upload_data()` which is a member of the object representing our current SageMaker session. What this method does is upload the data to the default bucket (which is created if it does not exist) into the path described by the key_prefix variable. To see this for yourself, once you have uploaded the data files, go to the S3 console and look to see where the files have been uploaded.\n",
    "\n",
    "For additional resources, see the __[SageMaker API documentation](http://sagemaker.readthedocs.io/en/latest/)__ and in addition the __[SageMaker Developer Guide.](https://docs.aws.amazon.com/sagemaker/latest/dg/)__"
   ]
  },
  {
   "cell_type": "code",
   "execution_count": 18,
   "metadata": {},
   "outputs": [],
   "source": [
    "import sagemaker\n",
    "\n",
    "session = sagemaker.Session() # Store the current SageMaker session\n",
    "\n",
    "# S3 prefix (which folder will we use)\n",
    "prefix = 'sentiment-web-app'\n",
    "\n",
    "test_location = session.upload_data(os.path.join(data_dir, 'test.csv'), key_prefix=prefix)\n",
    "val_location = session.upload_data(os.path.join(data_dir, 'validation.csv'), key_prefix=prefix)\n",
    "train_location = session.upload_data(os.path.join(data_dir, 'train.csv'), key_prefix=prefix)"
   ]
  },
  {
   "cell_type": "markdown",
   "metadata": {},
   "source": [
    "## Step 4: Creating the XGBoost model\n",
    "\n",
    "Now that the data has been uploaded it is time to create the XGBoost model. To begin with, we need to do some setup. At this point it is worth discussing what a model is in SageMaker. It is easiest to think of a model of comprising three different objects in the SageMaker ecosystem, which interact with one another.\n",
    "\n",
    "- Model Artifacts\n",
    "- Training Code (Container)\n",
    "- Inference Code (Container)\n",
    "\n",
    "The Model Artifacts are what you might think of as the actual model itself. For example, if you were building a neural network, the model artifacts would be the weights of the various layers. In our case, for an XGBoost model, the artifacts are the actual trees that are created during training.\n",
    "\n",
    "The other two objects, the training code and the inference code are then used to manipulate the training artifacts. More precisely, the training code uses the training data that is provided and creates the model artifacts, while the inference code uses the model artifacts to make predictions on new data.\n",
    "\n",
    "The way that SageMaker runs the training and inference code is by making use of Docker containers. For now, think of a container as being a way of packaging code up so that dependencies aren't an issue."
   ]
  },
  {
   "cell_type": "code",
   "execution_count": 19,
   "metadata": {},
   "outputs": [],
   "source": [
    "from sagemaker import get_execution_role\n",
    "\n",
    "# Our current execution role is required when creating the model as the training\n",
    "# and inference code will need to access the model artifacts.\n",
    "role = get_execution_role()"
   ]
  },
  {
   "cell_type": "code",
   "execution_count": 20,
   "metadata": {},
   "outputs": [
    {
     "name": "stderr",
     "output_type": "stream",
     "text": [
      "WARNING:root:There is a more up to date SageMaker XGBoost image. To use the newer image, please set 'repo_version'='0.90-1'. For example:\n",
      "\tget_image_uri(region, 'xgboost', '0.90-1').\n"
     ]
    }
   ],
   "source": [
    "# We need to retrieve the location of the container which is provided by Amazon for using XGBoost.\n",
    "# As a matter of convenience, the training and inference code both use the same container.\n",
    "from sagemaker.amazon.amazon_estimator import get_image_uri\n",
    "\n",
    "container = get_image_uri(session.boto_region_name, 'xgboost')"
   ]
  },
  {
   "cell_type": "code",
   "execution_count": 21,
   "metadata": {},
   "outputs": [],
   "source": [
    "# First we create a SageMaker estimator object for our model.\n",
    "xgb = sagemaker.estimator.Estimator(container, # The location of the container we wish to use\n",
    "                                    role,                                    # What is our current IAM Role\n",
    "                                    train_instance_count=1,                  # How many compute instances\n",
    "                                    train_instance_type='ml.m4.xlarge',      # What kind of compute instances\n",
    "                                    output_path='s3://{}/{}/output'.format(session.default_bucket(), prefix),\n",
    "                                    sagemaker_session=session)\n",
    "\n",
    "# And then set the algorithm specific parameters.\n",
    "xgb.set_hyperparameters(max_depth=5,\n",
    "                        eta=0.2,\n",
    "                        gamma=4,\n",
    "                        min_child_weight=6,\n",
    "                        subsample=0.8,\n",
    "                        silent=0,\n",
    "                        objective='binary:logistic',\n",
    "                        early_stopping_rounds=10,\n",
    "                        num_round=500)"
   ]
  },
  {
   "cell_type": "markdown",
   "metadata": {},
   "source": [
    "### Fit the XGBoost model\n",
    "\n",
    "Now that our model has been set up we simply need to attach the training and validation datasets and then ask SageMaker to set up the computation."
   ]
  },
  {
   "cell_type": "code",
   "execution_count": 22,
   "metadata": {},
   "outputs": [],
   "source": [
    "s3_input_train = sagemaker.s3_input(s3_data=train_location, content_type='csv')\n",
    "s3_input_validation = sagemaker.s3_input(s3_data=val_location, content_type='csv')"
   ]
  },
  {
   "cell_type": "code",
   "execution_count": 23,
   "metadata": {},
   "outputs": [
    {
     "name": "stdout",
     "output_type": "stream",
     "text": [
      "2019-12-12 14:19:30 Starting - Starting the training job...\n",
      "2019-12-12 14:19:31 Starting - Launching requested ML instances......\n",
      "2019-12-12 14:20:37 Starting - Preparing the instances for training......\n",
      "2019-12-12 14:21:45 Downloading - Downloading input data...\n",
      "2019-12-12 14:22:17 Training - Downloading the training image..\u001b[34mArguments: train\u001b[0m\n",
      "\u001b[34m[2019-12-12:14:22:37:INFO] Running standalone xgboost training.\u001b[0m\n",
      "\u001b[34m[2019-12-12:14:22:37:INFO] File size need to be processed in the node: 238.5mb. Available memory size in the node: 8509.8mb\u001b[0m\n",
      "\u001b[34m[2019-12-12:14:22:37:INFO] Determined delimiter of CSV input is ','\u001b[0m\n",
      "\u001b[34m[14:22:37] S3DistributionType set as FullyReplicated\u001b[0m\n",
      "\u001b[34m[14:22:38] 15000x5000 matrix with 75000000 entries loaded from /opt/ml/input/data/train?format=csv&label_column=0&delimiter=,\u001b[0m\n",
      "\u001b[34m[2019-12-12:14:22:38:INFO] Determined delimiter of CSV input is ','\u001b[0m\n",
      "\u001b[34m[14:22:38] S3DistributionType set as FullyReplicated\u001b[0m\n",
      "\u001b[34m[14:22:40] 10000x5000 matrix with 50000000 entries loaded from /opt/ml/input/data/validation?format=csv&label_column=0&delimiter=,\u001b[0m\n",
      "\u001b[34m[14:22:43] src/tree/updater_prune.cc:74: tree pruning end, 1 roots, 46 extra nodes, 0 pruned nodes, max_depth=5\u001b[0m\n",
      "\u001b[34m[0]#011train-error:0.306#011validation-error:0.307\u001b[0m\n",
      "\u001b[34mMultiple eval metrics have been passed: 'validation-error' will be used for early stopping.\n",
      "\u001b[0m\n",
      "\u001b[34mWill train until validation-error hasn't improved in 10 rounds.\u001b[0m\n",
      "\u001b[34m[14:22:44] src/tree/updater_prune.cc:74: tree pruning end, 1 roots, 36 extra nodes, 6 pruned nodes, max_depth=5\u001b[0m\n",
      "\u001b[34m[1]#011train-error:0.292467#011validation-error:0.2979\u001b[0m\n",
      "\u001b[34m[14:22:46] src/tree/updater_prune.cc:74: tree pruning end, 1 roots, 44 extra nodes, 6 pruned nodes, max_depth=5\u001b[0m\n",
      "\u001b[34m[2]#011train-error:0.281267#011validation-error:0.2884\u001b[0m\n",
      "\u001b[34m[14:22:47] src/tree/updater_prune.cc:74: tree pruning end, 1 roots, 28 extra nodes, 4 pruned nodes, max_depth=5\u001b[0m\n",
      "\n",
      "2019-12-12 14:22:36 Training - Training image download completed. Training in progress.\u001b[34m[3]#011train-error:0.2802#011validation-error:0.2854\u001b[0m\n",
      "\u001b[34m[14:22:49] src/tree/updater_prune.cc:74: tree pruning end, 1 roots, 48 extra nodes, 2 pruned nodes, max_depth=5\u001b[0m\n",
      "\u001b[34m[4]#011train-error:0.267867#011validation-error:0.2743\u001b[0m\n",
      "\u001b[34m[14:22:50] src/tree/updater_prune.cc:74: tree pruning end, 1 roots, 28 extra nodes, 6 pruned nodes, max_depth=5\u001b[0m\n",
      "\u001b[34m[5]#011train-error:0.262333#011validation-error:0.2685\u001b[0m\n",
      "\u001b[34m[14:22:51] src/tree/updater_prune.cc:74: tree pruning end, 1 roots, 34 extra nodes, 6 pruned nodes, max_depth=5\u001b[0m\n",
      "\u001b[34m[6]#011train-error:0.2574#011validation-error:0.2635\u001b[0m\n",
      "\u001b[34m[14:22:52] src/tree/updater_prune.cc:74: tree pruning end, 1 roots, 34 extra nodes, 4 pruned nodes, max_depth=5\u001b[0m\n",
      "\u001b[34m[7]#011train-error:0.250667#011validation-error:0.2592\u001b[0m\n",
      "\u001b[34m[14:22:54] src/tree/updater_prune.cc:74: tree pruning end, 1 roots, 40 extra nodes, 4 pruned nodes, max_depth=5\u001b[0m\n",
      "\u001b[34m[8]#011train-error:0.236933#011validation-error:0.2457\u001b[0m\n",
      "\u001b[34m[14:22:55] src/tree/updater_prune.cc:74: tree pruning end, 1 roots, 28 extra nodes, 10 pruned nodes, max_depth=5\u001b[0m\n",
      "\u001b[34m[9]#011train-error:0.233533#011validation-error:0.241\u001b[0m\n",
      "\u001b[34m[14:22:56] src/tree/updater_prune.cc:74: tree pruning end, 1 roots, 24 extra nodes, 14 pruned nodes, max_depth=5\u001b[0m\n",
      "\u001b[34m[10]#011train-error:0.227#011validation-error:0.2355\u001b[0m\n",
      "\u001b[34m[14:22:58] src/tree/updater_prune.cc:74: tree pruning end, 1 roots, 22 extra nodes, 10 pruned nodes, max_depth=5\u001b[0m\n",
      "\u001b[34m[11]#011train-error:0.224267#011validation-error:0.234\u001b[0m\n",
      "\u001b[34m[14:22:59] src/tree/updater_prune.cc:74: tree pruning end, 1 roots, 30 extra nodes, 6 pruned nodes, max_depth=5\u001b[0m\n",
      "\u001b[34m[12]#011train-error:0.216733#011validation-error:0.2268\u001b[0m\n",
      "\u001b[34m[14:23:00] src/tree/updater_prune.cc:74: tree pruning end, 1 roots, 32 extra nodes, 10 pruned nodes, max_depth=5\u001b[0m\n",
      "\u001b[34m[13]#011train-error:0.212267#011validation-error:0.2212\u001b[0m\n",
      "\u001b[34m[14:23:01] src/tree/updater_prune.cc:74: tree pruning end, 1 roots, 32 extra nodes, 4 pruned nodes, max_depth=5\u001b[0m\n",
      "\u001b[34m[14]#011train-error:0.2076#011validation-error:0.2172\u001b[0m\n",
      "\u001b[34m[14:23:03] src/tree/updater_prune.cc:74: tree pruning end, 1 roots, 26 extra nodes, 6 pruned nodes, max_depth=5\u001b[0m\n",
      "\u001b[34m[15]#011train-error:0.2024#011validation-error:0.2159\u001b[0m\n",
      "\u001b[34m[14:23:04] src/tree/updater_prune.cc:74: tree pruning end, 1 roots, 26 extra nodes, 8 pruned nodes, max_depth=5\u001b[0m\n",
      "\u001b[34m[16]#011train-error:0.200867#011validation-error:0.2135\u001b[0m\n",
      "\u001b[34m[14:23:05] src/tree/updater_prune.cc:74: tree pruning end, 1 roots, 26 extra nodes, 10 pruned nodes, max_depth=5\u001b[0m\n",
      "\u001b[34m[17]#011train-error:0.198#011validation-error:0.2102\u001b[0m\n",
      "\u001b[34m[14:23:06] src/tree/updater_prune.cc:74: tree pruning end, 1 roots, 40 extra nodes, 12 pruned nodes, max_depth=5\u001b[0m\n",
      "\u001b[34m[18]#011train-error:0.1942#011validation-error:0.2114\u001b[0m\n",
      "\u001b[34m[14:23:08] src/tree/updater_prune.cc:74: tree pruning end, 1 roots, 28 extra nodes, 12 pruned nodes, max_depth=5\u001b[0m\n",
      "\u001b[34m[19]#011train-error:0.1898#011validation-error:0.2086\u001b[0m\n",
      "\u001b[34m[14:23:09] src/tree/updater_prune.cc:74: tree pruning end, 1 roots, 32 extra nodes, 2 pruned nodes, max_depth=5\u001b[0m\n",
      "\u001b[34m[20]#011train-error:0.1872#011validation-error:0.2066\u001b[0m\n",
      "\u001b[34m[14:23:10] src/tree/updater_prune.cc:74: tree pruning end, 1 roots, 30 extra nodes, 2 pruned nodes, max_depth=5\u001b[0m\n",
      "\u001b[34m[21]#011train-error:0.1838#011validation-error:0.2049\u001b[0m\n",
      "\u001b[34m[14:23:11] src/tree/updater_prune.cc:74: tree pruning end, 1 roots, 22 extra nodes, 8 pruned nodes, max_depth=5\u001b[0m\n",
      "\u001b[34m[22]#011train-error:0.183133#011validation-error:0.205\u001b[0m\n",
      "\u001b[34m[14:23:13] src/tree/updater_prune.cc:74: tree pruning end, 1 roots, 26 extra nodes, 10 pruned nodes, max_depth=5\u001b[0m\n",
      "\u001b[34m[23]#011train-error:0.182867#011validation-error:0.2028\u001b[0m\n",
      "\u001b[34m[14:23:14] src/tree/updater_prune.cc:74: tree pruning end, 1 roots, 30 extra nodes, 12 pruned nodes, max_depth=5\u001b[0m\n",
      "\u001b[34m[24]#011train-error:0.180133#011validation-error:0.2005\u001b[0m\n",
      "\u001b[34m[14:23:15] src/tree/updater_prune.cc:74: tree pruning end, 1 roots, 28 extra nodes, 12 pruned nodes, max_depth=5\u001b[0m\n",
      "\u001b[34m[25]#011train-error:0.1774#011validation-error:0.1978\u001b[0m\n",
      "\u001b[34m[14:23:17] src/tree/updater_prune.cc:74: tree pruning end, 1 roots, 32 extra nodes, 10 pruned nodes, max_depth=5\u001b[0m\n",
      "\u001b[34m[26]#011train-error:0.175867#011validation-error:0.1947\u001b[0m\n",
      "\u001b[34m[14:23:18] src/tree/updater_prune.cc:74: tree pruning end, 1 roots, 20 extra nodes, 18 pruned nodes, max_depth=5\u001b[0m\n",
      "\u001b[34m[27]#011train-error:0.174067#011validation-error:0.194\u001b[0m\n",
      "\u001b[34m[14:23:19] src/tree/updater_prune.cc:74: tree pruning end, 1 roots, 24 extra nodes, 10 pruned nodes, max_depth=5\u001b[0m\n",
      "\u001b[34m[28]#011train-error:0.171467#011validation-error:0.1928\u001b[0m\n",
      "\u001b[34m[14:23:20] src/tree/updater_prune.cc:74: tree pruning end, 1 roots, 34 extra nodes, 16 pruned nodes, max_depth=5\u001b[0m\n",
      "\u001b[34m[29]#011train-error:0.168667#011validation-error:0.1907\u001b[0m\n",
      "\u001b[34m[14:23:22] src/tree/updater_prune.cc:74: tree pruning end, 1 roots, 26 extra nodes, 10 pruned nodes, max_depth=5\u001b[0m\n",
      "\u001b[34m[30]#011train-error:0.1668#011validation-error:0.1919\u001b[0m\n",
      "\u001b[34m[14:23:23] src/tree/updater_prune.cc:74: tree pruning end, 1 roots, 36 extra nodes, 6 pruned nodes, max_depth=5\u001b[0m\n",
      "\u001b[34m[31]#011train-error:0.163#011validation-error:0.1908\u001b[0m\n",
      "\u001b[34m[14:23:24] src/tree/updater_prune.cc:74: tree pruning end, 1 roots, 44 extra nodes, 2 pruned nodes, max_depth=5\u001b[0m\n",
      "\u001b[34m[32]#011train-error:0.1622#011validation-error:0.1904\u001b[0m\n",
      "\u001b[34m[14:23:25] src/tree/updater_prune.cc:74: tree pruning end, 1 roots, 30 extra nodes, 6 pruned nodes, max_depth=5\u001b[0m\n",
      "\u001b[34m[33]#011train-error:0.1612#011validation-error:0.1909\u001b[0m\n",
      "\u001b[34m[14:23:27] src/tree/updater_prune.cc:74: tree pruning end, 1 roots, 18 extra nodes, 6 pruned nodes, max_depth=5\u001b[0m\n",
      "\u001b[34m[34]#011train-error:0.159533#011validation-error:0.1891\u001b[0m\n",
      "\u001b[34m[14:23:28] src/tree/updater_prune.cc:74: tree pruning end, 1 roots, 24 extra nodes, 10 pruned nodes, max_depth=5\u001b[0m\n",
      "\u001b[34m[35]#011train-error:0.1576#011validation-error:0.1882\u001b[0m\n",
      "\u001b[34m[14:23:29] src/tree/updater_prune.cc:74: tree pruning end, 1 roots, 20 extra nodes, 14 pruned nodes, max_depth=5\u001b[0m\n",
      "\u001b[34m[36]#011train-error:0.1562#011validation-error:0.1877\u001b[0m\n",
      "\u001b[34m[14:23:31] src/tree/updater_prune.cc:74: tree pruning end, 1 roots, 32 extra nodes, 12 pruned nodes, max_depth=5\u001b[0m\n",
      "\u001b[34m[37]#011train-error:0.1536#011validation-error:0.1859\u001b[0m\n",
      "\u001b[34m[14:23:32] src/tree/updater_prune.cc:74: tree pruning end, 1 roots, 10 extra nodes, 12 pruned nodes, max_depth=5\u001b[0m\n",
      "\u001b[34m[38]#011train-error:0.153#011validation-error:0.1838\u001b[0m\n",
      "\u001b[34m[14:23:33] src/tree/updater_prune.cc:74: tree pruning end, 1 roots, 30 extra nodes, 6 pruned nodes, max_depth=5\u001b[0m\n",
      "\u001b[34m[39]#011train-error:0.153#011validation-error:0.181\u001b[0m\n",
      "\u001b[34m[14:23:34] src/tree/updater_prune.cc:74: tree pruning end, 1 roots, 16 extra nodes, 10 pruned nodes, max_depth=5\u001b[0m\n",
      "\u001b[34m[40]#011train-error:0.151467#011validation-error:0.18\u001b[0m\n",
      "\u001b[34m[14:23:36] src/tree/updater_prune.cc:74: tree pruning end, 1 roots, 26 extra nodes, 2 pruned nodes, max_depth=5\u001b[0m\n",
      "\u001b[34m[41]#011train-error:0.148667#011validation-error:0.1795\u001b[0m\n",
      "\u001b[34m[14:23:37] src/tree/updater_prune.cc:74: tree pruning end, 1 roots, 26 extra nodes, 12 pruned nodes, max_depth=5\u001b[0m\n",
      "\u001b[34m[42]#011train-error:0.147933#011validation-error:0.1774\u001b[0m\n"
     ]
    },
    {
     "name": "stdout",
     "output_type": "stream",
     "text": [
      "\u001b[34m[14:23:38] src/tree/updater_prune.cc:74: tree pruning end, 1 roots, 36 extra nodes, 8 pruned nodes, max_depth=5\u001b[0m\n",
      "\u001b[34m[43]#011train-error:0.146067#011validation-error:0.1776\u001b[0m\n",
      "\u001b[34m[14:23:39] src/tree/updater_prune.cc:74: tree pruning end, 1 roots, 22 extra nodes, 12 pruned nodes, max_depth=5\u001b[0m\n",
      "\u001b[34m[44]#011train-error:0.145533#011validation-error:0.1769\u001b[0m\n",
      "\u001b[34m[14:23:41] src/tree/updater_prune.cc:74: tree pruning end, 1 roots, 24 extra nodes, 10 pruned nodes, max_depth=5\u001b[0m\n",
      "\u001b[34m[45]#011train-error:0.1448#011validation-error:0.1762\u001b[0m\n",
      "\u001b[34m[14:23:42] src/tree/updater_prune.cc:74: tree pruning end, 1 roots, 20 extra nodes, 8 pruned nodes, max_depth=5\u001b[0m\n",
      "\u001b[34m[46]#011train-error:0.144267#011validation-error:0.1749\u001b[0m\n",
      "\u001b[34m[14:23:43] src/tree/updater_prune.cc:74: tree pruning end, 1 roots, 22 extra nodes, 2 pruned nodes, max_depth=5\u001b[0m\n",
      "\u001b[34m[47]#011train-error:0.143#011validation-error:0.1746\u001b[0m\n",
      "\u001b[34m[14:23:44] src/tree/updater_prune.cc:74: tree pruning end, 1 roots, 30 extra nodes, 8 pruned nodes, max_depth=5\u001b[0m\n",
      "\u001b[34m[48]#011train-error:0.1412#011validation-error:0.1733\u001b[0m\n",
      "\u001b[34m[14:23:46] src/tree/updater_prune.cc:74: tree pruning end, 1 roots, 26 extra nodes, 8 pruned nodes, max_depth=5\u001b[0m\n",
      "\u001b[34m[49]#011train-error:0.1396#011validation-error:0.1723\u001b[0m\n",
      "\u001b[34m[14:23:47] src/tree/updater_prune.cc:74: tree pruning end, 1 roots, 28 extra nodes, 8 pruned nodes, max_depth=5\u001b[0m\n",
      "\u001b[34m[50]#011train-error:0.138733#011validation-error:0.1726\u001b[0m\n",
      "\u001b[34m[14:23:48] src/tree/updater_prune.cc:74: tree pruning end, 1 roots, 14 extra nodes, 6 pruned nodes, max_depth=5\u001b[0m\n",
      "\u001b[34m[51]#011train-error:0.138133#011validation-error:0.1712\u001b[0m\n",
      "\u001b[34m[14:23:50] src/tree/updater_prune.cc:74: tree pruning end, 1 roots, 28 extra nodes, 8 pruned nodes, max_depth=5\u001b[0m\n",
      "\u001b[34m[52]#011train-error:0.1368#011validation-error:0.17\u001b[0m\n",
      "\u001b[34m[14:23:51] src/tree/updater_prune.cc:74: tree pruning end, 1 roots, 22 extra nodes, 8 pruned nodes, max_depth=5\u001b[0m\n",
      "\u001b[34m[53]#011train-error:0.136067#011validation-error:0.1701\u001b[0m\n",
      "\u001b[34m[14:23:52] src/tree/updater_prune.cc:74: tree pruning end, 1 roots, 26 extra nodes, 6 pruned nodes, max_depth=5\u001b[0m\n",
      "\u001b[34m[54]#011train-error:0.134333#011validation-error:0.1689\u001b[0m\n",
      "\u001b[34m[14:23:53] src/tree/updater_prune.cc:74: tree pruning end, 1 roots, 26 extra nodes, 4 pruned nodes, max_depth=5\u001b[0m\n",
      "\u001b[34m[55]#011train-error:0.134467#011validation-error:0.1692\u001b[0m\n",
      "\u001b[34m[14:23:55] src/tree/updater_prune.cc:74: tree pruning end, 1 roots, 24 extra nodes, 8 pruned nodes, max_depth=5\u001b[0m\n",
      "\u001b[34m[56]#011train-error:0.133467#011validation-error:0.1676\u001b[0m\n",
      "\u001b[34m[14:23:56] src/tree/updater_prune.cc:74: tree pruning end, 1 roots, 30 extra nodes, 12 pruned nodes, max_depth=5\u001b[0m\n",
      "\u001b[34m[57]#011train-error:0.132#011validation-error:0.1681\u001b[0m\n",
      "\u001b[34m[14:23:57] src/tree/updater_prune.cc:74: tree pruning end, 1 roots, 28 extra nodes, 10 pruned nodes, max_depth=5\u001b[0m\n",
      "\u001b[34m[58]#011train-error:0.129467#011validation-error:0.1672\u001b[0m\n",
      "\u001b[34m[14:23:58] src/tree/updater_prune.cc:74: tree pruning end, 1 roots, 22 extra nodes, 14 pruned nodes, max_depth=5\u001b[0m\n",
      "\u001b[34m[59]#011train-error:0.129467#011validation-error:0.1671\u001b[0m\n",
      "\u001b[34m[14:24:00] src/tree/updater_prune.cc:74: tree pruning end, 1 roots, 16 extra nodes, 14 pruned nodes, max_depth=5\u001b[0m\n",
      "\u001b[34m[60]#011train-error:0.129533#011validation-error:0.1664\u001b[0m\n",
      "\u001b[34m[14:24:01] src/tree/updater_prune.cc:74: tree pruning end, 1 roots, 12 extra nodes, 14 pruned nodes, max_depth=5\u001b[0m\n",
      "\u001b[34m[61]#011train-error:0.129133#011validation-error:0.1654\u001b[0m\n",
      "\u001b[34m[14:24:02] src/tree/updater_prune.cc:74: tree pruning end, 1 roots, 18 extra nodes, 20 pruned nodes, max_depth=5\u001b[0m\n",
      "\u001b[34m[62]#011train-error:0.128667#011validation-error:0.1649\u001b[0m\n",
      "\u001b[34m[14:24:03] src/tree/updater_prune.cc:74: tree pruning end, 1 roots, 18 extra nodes, 20 pruned nodes, max_depth=5\u001b[0m\n",
      "\u001b[34m[63]#011train-error:0.128267#011validation-error:0.1633\u001b[0m\n",
      "\u001b[34m[14:24:05] src/tree/updater_prune.cc:74: tree pruning end, 1 roots, 34 extra nodes, 2 pruned nodes, max_depth=5\u001b[0m\n",
      "\u001b[34m[64]#011train-error:0.1276#011validation-error:0.1649\u001b[0m\n",
      "\u001b[34m[14:24:06] src/tree/updater_prune.cc:74: tree pruning end, 1 roots, 18 extra nodes, 14 pruned nodes, max_depth=5\u001b[0m\n",
      "\u001b[34m[65]#011train-error:0.126267#011validation-error:0.1632\u001b[0m\n",
      "\u001b[34m[14:24:07] src/tree/updater_prune.cc:74: tree pruning end, 1 roots, 32 extra nodes, 12 pruned nodes, max_depth=5\u001b[0m\n",
      "\u001b[34m[66]#011train-error:0.125267#011validation-error:0.161\u001b[0m\n",
      "\u001b[34m[14:24:08] src/tree/updater_prune.cc:74: tree pruning end, 1 roots, 18 extra nodes, 8 pruned nodes, max_depth=5\u001b[0m\n",
      "\u001b[34m[67]#011train-error:0.124933#011validation-error:0.1598\u001b[0m\n",
      "\u001b[34m[14:24:10] src/tree/updater_prune.cc:74: tree pruning end, 1 roots, 22 extra nodes, 8 pruned nodes, max_depth=5\u001b[0m\n",
      "\u001b[34m[68]#011train-error:0.123333#011validation-error:0.158\u001b[0m\n",
      "\u001b[34m[14:24:11] src/tree/updater_prune.cc:74: tree pruning end, 1 roots, 10 extra nodes, 16 pruned nodes, max_depth=5\u001b[0m\n",
      "\u001b[34m[69]#011train-error:0.123667#011validation-error:0.158\u001b[0m\n",
      "\u001b[34m[14:24:12] src/tree/updater_prune.cc:74: tree pruning end, 1 roots, 26 extra nodes, 4 pruned nodes, max_depth=5\u001b[0m\n",
      "\u001b[34m[70]#011train-error:0.123#011validation-error:0.1573\u001b[0m\n",
      "\u001b[34m[14:24:14] src/tree/updater_prune.cc:74: tree pruning end, 1 roots, 20 extra nodes, 10 pruned nodes, max_depth=5\u001b[0m\n",
      "\u001b[34m[71]#011train-error:0.122467#011validation-error:0.1574\u001b[0m\n",
      "\u001b[34m[14:24:15] src/tree/updater_prune.cc:74: tree pruning end, 1 roots, 12 extra nodes, 8 pruned nodes, max_depth=5\u001b[0m\n",
      "\u001b[34m[72]#011train-error:0.121667#011validation-error:0.1568\u001b[0m\n",
      "\u001b[34m[14:24:16] src/tree/updater_prune.cc:74: tree pruning end, 1 roots, 18 extra nodes, 10 pruned nodes, max_depth=5\u001b[0m\n",
      "\u001b[34m[73]#011train-error:0.1212#011validation-error:0.1566\u001b[0m\n",
      "\u001b[34m[14:24:17] src/tree/updater_prune.cc:74: tree pruning end, 1 roots, 20 extra nodes, 14 pruned nodes, max_depth=5\u001b[0m\n",
      "\u001b[34m[74]#011train-error:0.119867#011validation-error:0.1561\u001b[0m\n",
      "\u001b[34m[14:24:19] src/tree/updater_prune.cc:74: tree pruning end, 1 roots, 24 extra nodes, 6 pruned nodes, max_depth=5\u001b[0m\n",
      "\u001b[34m[75]#011train-error:0.119067#011validation-error:0.1564\u001b[0m\n",
      "\u001b[34m[14:24:20] src/tree/updater_prune.cc:74: tree pruning end, 1 roots, 20 extra nodes, 8 pruned nodes, max_depth=5\u001b[0m\n",
      "\u001b[34m[76]#011train-error:0.1178#011validation-error:0.1565\u001b[0m\n",
      "\u001b[34m[14:24:21] src/tree/updater_prune.cc:74: tree pruning end, 1 roots, 16 extra nodes, 10 pruned nodes, max_depth=5\u001b[0m\n",
      "\u001b[34m[77]#011train-error:0.117667#011validation-error:0.1557\u001b[0m\n",
      "\u001b[34m[14:24:22] src/tree/updater_prune.cc:74: tree pruning end, 1 roots, 16 extra nodes, 10 pruned nodes, max_depth=5\u001b[0m\n",
      "\u001b[34m[78]#011train-error:0.117267#011validation-error:0.1549\u001b[0m\n",
      "\u001b[34m[14:24:24] src/tree/updater_prune.cc:74: tree pruning end, 1 roots, 14 extra nodes, 4 pruned nodes, max_depth=5\u001b[0m\n",
      "\u001b[34m[79]#011train-error:0.116333#011validation-error:0.1547\u001b[0m\n",
      "\u001b[34m[14:24:25] src/tree/updater_prune.cc:74: tree pruning end, 1 roots, 16 extra nodes, 14 pruned nodes, max_depth=5\u001b[0m\n",
      "\u001b[34m[80]#011train-error:0.1154#011validation-error:0.1552\u001b[0m\n",
      "\u001b[34m[14:24:26] src/tree/updater_prune.cc:74: tree pruning end, 1 roots, 16 extra nodes, 4 pruned nodes, max_depth=5\u001b[0m\n",
      "\u001b[34m[81]#011train-error:0.1148#011validation-error:0.1551\u001b[0m\n",
      "\u001b[34m[14:24:28] src/tree/updater_prune.cc:74: tree pruning end, 1 roots, 22 extra nodes, 4 pruned nodes, max_depth=5\u001b[0m\n",
      "\u001b[34m[82]#011train-error:0.1142#011validation-error:0.1551\u001b[0m\n",
      "\u001b[34m[14:24:29] src/tree/updater_prune.cc:74: tree pruning end, 1 roots, 22 extra nodes, 4 pruned nodes, max_depth=5\u001b[0m\n",
      "\u001b[34m[83]#011train-error:0.1142#011validation-error:0.1546\u001b[0m\n",
      "\u001b[34m[14:24:30] src/tree/updater_prune.cc:74: tree pruning end, 1 roots, 12 extra nodes, 10 pruned nodes, max_depth=5\u001b[0m\n",
      "\u001b[34m[84]#011train-error:0.1144#011validation-error:0.1534\u001b[0m\n",
      "\u001b[34m[14:24:31] src/tree/updater_prune.cc:74: tree pruning end, 1 roots, 20 extra nodes, 8 pruned nodes, max_depth=5\u001b[0m\n",
      "\u001b[34m[85]#011train-error:0.1136#011validation-error:0.153\u001b[0m\n",
      "\u001b[34m[14:24:33] src/tree/updater_prune.cc:74: tree pruning end, 1 roots, 14 extra nodes, 10 pruned nodes, max_depth=5\u001b[0m\n",
      "\u001b[34m[86]#011train-error:0.113533#011validation-error:0.1528\u001b[0m\n",
      "\u001b[34m[14:24:34] src/tree/updater_prune.cc:74: tree pruning end, 1 roots, 14 extra nodes, 14 pruned nodes, max_depth=5\u001b[0m\n",
      "\u001b[34m[87]#011train-error:0.1128#011validation-error:0.1526\u001b[0m\n",
      "\u001b[34m[14:24:35] src/tree/updater_prune.cc:74: tree pruning end, 1 roots, 14 extra nodes, 8 pruned nodes, max_depth=5\u001b[0m\n",
      "\u001b[34m[88]#011train-error:0.1122#011validation-error:0.1513\u001b[0m\n",
      "\u001b[34m[14:24:37] src/tree/updater_prune.cc:74: tree pruning end, 1 roots, 16 extra nodes, 14 pruned nodes, max_depth=5\u001b[0m\n",
      "\u001b[34m[89]#011train-error:0.1116#011validation-error:0.1515\u001b[0m\n",
      "\u001b[34m[14:24:38] src/tree/updater_prune.cc:74: tree pruning end, 1 roots, 14 extra nodes, 6 pruned nodes, max_depth=5\u001b[0m\n",
      "\u001b[34m[90]#011train-error:0.110867#011validation-error:0.1515\u001b[0m\n"
     ]
    },
    {
     "name": "stdout",
     "output_type": "stream",
     "text": [
      "\u001b[34m[14:24:39] src/tree/updater_prune.cc:74: tree pruning end, 1 roots, 22 extra nodes, 16 pruned nodes, max_depth=5\u001b[0m\n",
      "\u001b[34m[91]#011train-error:0.1098#011validation-error:0.1513\u001b[0m\n",
      "\u001b[34m[14:24:40] src/tree/updater_prune.cc:74: tree pruning end, 1 roots, 20 extra nodes, 6 pruned nodes, max_depth=5\u001b[0m\n",
      "\u001b[34m[92]#011train-error:0.109267#011validation-error:0.1505\u001b[0m\n",
      "\u001b[34m[14:24:42] src/tree/updater_prune.cc:74: tree pruning end, 1 roots, 18 extra nodes, 2 pruned nodes, max_depth=5\u001b[0m\n",
      "\u001b[34m[93]#011train-error:0.1088#011validation-error:0.1508\u001b[0m\n",
      "\u001b[34m[14:24:43] src/tree/updater_prune.cc:74: tree pruning end, 1 roots, 22 extra nodes, 4 pruned nodes, max_depth=5\u001b[0m\n",
      "\u001b[34m[94]#011train-error:0.107133#011validation-error:0.1505\u001b[0m\n",
      "\u001b[34m[14:24:44] src/tree/updater_prune.cc:74: tree pruning end, 1 roots, 10 extra nodes, 10 pruned nodes, max_depth=5\u001b[0m\n",
      "\u001b[34m[95]#011train-error:0.107533#011validation-error:0.1489\u001b[0m\n",
      "\u001b[34m[14:24:45] src/tree/updater_prune.cc:74: tree pruning end, 1 roots, 20 extra nodes, 4 pruned nodes, max_depth=5\u001b[0m\n",
      "\u001b[34m[96]#011train-error:0.1068#011validation-error:0.1482\u001b[0m\n",
      "\u001b[34m[14:24:47] src/tree/updater_prune.cc:74: tree pruning end, 1 roots, 18 extra nodes, 8 pruned nodes, max_depth=5\u001b[0m\n",
      "\u001b[34m[97]#011train-error:0.1062#011validation-error:0.1482\u001b[0m\n",
      "\u001b[34m[14:24:48] src/tree/updater_prune.cc:74: tree pruning end, 1 roots, 26 extra nodes, 8 pruned nodes, max_depth=5\u001b[0m\n",
      "\u001b[34m[98]#011train-error:0.104933#011validation-error:0.1492\u001b[0m\n",
      "\u001b[34m[14:24:49] src/tree/updater_prune.cc:74: tree pruning end, 1 roots, 14 extra nodes, 4 pruned nodes, max_depth=5\u001b[0m\n",
      "\u001b[34m[99]#011train-error:0.104533#011validation-error:0.1494\u001b[0m\n",
      "\u001b[34m[14:24:50] src/tree/updater_prune.cc:74: tree pruning end, 1 roots, 32 extra nodes, 8 pruned nodes, max_depth=5\u001b[0m\n",
      "\u001b[34m[100]#011train-error:0.1036#011validation-error:0.1492\u001b[0m\n",
      "\u001b[34m[14:24:52] src/tree/updater_prune.cc:74: tree pruning end, 1 roots, 20 extra nodes, 6 pruned nodes, max_depth=5\u001b[0m\n",
      "\u001b[34m[101]#011train-error:0.1026#011validation-error:0.1486\u001b[0m\n",
      "\u001b[34m[14:24:53] src/tree/updater_prune.cc:74: tree pruning end, 1 roots, 18 extra nodes, 8 pruned nodes, max_depth=5\u001b[0m\n",
      "\u001b[34m[102]#011train-error:0.1026#011validation-error:0.149\u001b[0m\n",
      "\u001b[34m[14:24:54] src/tree/updater_prune.cc:74: tree pruning end, 1 roots, 20 extra nodes, 6 pruned nodes, max_depth=5\u001b[0m\n",
      "\u001b[34m[103]#011train-error:0.102#011validation-error:0.1484\u001b[0m\n",
      "\u001b[34m[14:24:56] src/tree/updater_prune.cc:74: tree pruning end, 1 roots, 10 extra nodes, 6 pruned nodes, max_depth=5\u001b[0m\n",
      "\u001b[34m[104]#011train-error:0.101267#011validation-error:0.1476\u001b[0m\n",
      "\u001b[34m[14:24:57] src/tree/updater_prune.cc:74: tree pruning end, 1 roots, 10 extra nodes, 10 pruned nodes, max_depth=5\u001b[0m\n",
      "\u001b[34m[105]#011train-error:0.101333#011validation-error:0.1472\u001b[0m\n",
      "\u001b[34m[14:24:58] src/tree/updater_prune.cc:74: tree pruning end, 1 roots, 24 extra nodes, 16 pruned nodes, max_depth=5\u001b[0m\n",
      "\u001b[34m[106]#011train-error:0.101067#011validation-error:0.147\u001b[0m\n",
      "\u001b[34m[14:24:59] src/tree/updater_prune.cc:74: tree pruning end, 1 roots, 22 extra nodes, 14 pruned nodes, max_depth=5\u001b[0m\n",
      "\u001b[34m[107]#011train-error:0.100333#011validation-error:0.1451\u001b[0m\n",
      "\u001b[34m[14:25:01] src/tree/updater_prune.cc:74: tree pruning end, 1 roots, 12 extra nodes, 8 pruned nodes, max_depth=5\u001b[0m\n",
      "\u001b[34m[108]#011train-error:0.100467#011validation-error:0.1447\u001b[0m\n",
      "\u001b[34m[14:25:02] src/tree/updater_prune.cc:74: tree pruning end, 1 roots, 16 extra nodes, 8 pruned nodes, max_depth=5\u001b[0m\n",
      "\u001b[34m[109]#011train-error:0.1002#011validation-error:0.1448\u001b[0m\n",
      "\u001b[34m[14:25:03] src/tree/updater_prune.cc:74: tree pruning end, 1 roots, 32 extra nodes, 4 pruned nodes, max_depth=5\u001b[0m\n",
      "\u001b[34m[110]#011train-error:0.0986#011validation-error:0.1457\u001b[0m\n",
      "\u001b[34m[14:25:04] src/tree/updater_prune.cc:74: tree pruning end, 1 roots, 14 extra nodes, 16 pruned nodes, max_depth=5\u001b[0m\n",
      "\u001b[34m[111]#011train-error:0.0986#011validation-error:0.1449\u001b[0m\n",
      "\u001b[34m[14:25:06] src/tree/updater_prune.cc:74: tree pruning end, 1 roots, 12 extra nodes, 2 pruned nodes, max_depth=5\u001b[0m\n",
      "\u001b[34m[112]#011train-error:0.098067#011validation-error:0.1445\u001b[0m\n",
      "\u001b[34m[14:25:07] src/tree/updater_prune.cc:74: tree pruning end, 1 roots, 28 extra nodes, 8 pruned nodes, max_depth=5\u001b[0m\n",
      "\u001b[34m[113]#011train-error:0.0972#011validation-error:0.1453\u001b[0m\n",
      "\u001b[34m[14:25:08] src/tree/updater_prune.cc:74: tree pruning end, 1 roots, 18 extra nodes, 2 pruned nodes, max_depth=5\u001b[0m\n",
      "\u001b[34m[114]#011train-error:0.096867#011validation-error:0.1449\u001b[0m\n",
      "\u001b[34m[14:25:10] src/tree/updater_prune.cc:74: tree pruning end, 1 roots, 18 extra nodes, 10 pruned nodes, max_depth=5\u001b[0m\n",
      "\u001b[34m[115]#011train-error:0.097133#011validation-error:0.1446\u001b[0m\n",
      "\u001b[34m[14:25:11] src/tree/updater_prune.cc:74: tree pruning end, 1 roots, 10 extra nodes, 6 pruned nodes, max_depth=5\u001b[0m\n",
      "\u001b[34m[116]#011train-error:0.096933#011validation-error:0.1442\u001b[0m\n",
      "\u001b[34m[14:25:12] src/tree/updater_prune.cc:74: tree pruning end, 1 roots, 12 extra nodes, 2 pruned nodes, max_depth=5\u001b[0m\n",
      "\u001b[34m[117]#011train-error:0.0972#011validation-error:0.144\u001b[0m\n",
      "\u001b[34m[14:25:13] src/tree/updater_prune.cc:74: tree pruning end, 1 roots, 12 extra nodes, 8 pruned nodes, max_depth=5\u001b[0m\n",
      "\u001b[34m[118]#011train-error:0.096533#011validation-error:0.1431\u001b[0m\n",
      "\u001b[34m[14:25:15] src/tree/updater_prune.cc:74: tree pruning end, 1 roots, 10 extra nodes, 6 pruned nodes, max_depth=5\u001b[0m\n",
      "\u001b[34m[119]#011train-error:0.095867#011validation-error:0.1433\u001b[0m\n",
      "\u001b[34m[14:25:16] src/tree/updater_prune.cc:74: tree pruning end, 1 roots, 10 extra nodes, 8 pruned nodes, max_depth=5\u001b[0m\n",
      "\u001b[34m[120]#011train-error:0.096133#011validation-error:0.1435\u001b[0m\n",
      "\u001b[34m[14:25:17] src/tree/updater_prune.cc:74: tree pruning end, 1 roots, 22 extra nodes, 10 pruned nodes, max_depth=5\u001b[0m\n",
      "\u001b[34m[121]#011train-error:0.094067#011validation-error:0.1427\u001b[0m\n",
      "\u001b[34m[14:25:18] src/tree/updater_prune.cc:74: tree pruning end, 1 roots, 26 extra nodes, 12 pruned nodes, max_depth=5\u001b[0m\n",
      "\u001b[34m[122]#011train-error:0.093533#011validation-error:0.1434\u001b[0m\n",
      "\u001b[34m[14:25:20] src/tree/updater_prune.cc:74: tree pruning end, 1 roots, 12 extra nodes, 12 pruned nodes, max_depth=5\u001b[0m\n",
      "\u001b[34m[123]#011train-error:0.093333#011validation-error:0.1437\u001b[0m\n",
      "\u001b[34m[14:25:21] src/tree/updater_prune.cc:74: tree pruning end, 1 roots, 22 extra nodes, 8 pruned nodes, max_depth=5\u001b[0m\n",
      "\u001b[34m[124]#011train-error:0.0926#011validation-error:0.1441\u001b[0m\n",
      "\u001b[34m[14:25:22] src/tree/updater_prune.cc:74: tree pruning end, 1 roots, 18 extra nodes, 8 pruned nodes, max_depth=5\u001b[0m\n",
      "\u001b[34m[125]#011train-error:0.092#011validation-error:0.1433\u001b[0m\n",
      "\u001b[34m[14:25:24] src/tree/updater_prune.cc:74: tree pruning end, 1 roots, 18 extra nodes, 6 pruned nodes, max_depth=5\u001b[0m\n",
      "\u001b[34m[126]#011train-error:0.0918#011validation-error:0.1427\u001b[0m\n",
      "\u001b[34m[14:25:25] src/tree/updater_prune.cc:74: tree pruning end, 1 roots, 10 extra nodes, 8 pruned nodes, max_depth=5\u001b[0m\n",
      "\u001b[34m[127]#011train-error:0.091733#011validation-error:0.1426\u001b[0m\n",
      "\u001b[34m[14:25:26] src/tree/updater_prune.cc:74: tree pruning end, 1 roots, 26 extra nodes, 8 pruned nodes, max_depth=5\u001b[0m\n",
      "\u001b[34m[128]#011train-error:0.091067#011validation-error:0.1428\u001b[0m\n",
      "\u001b[34m[14:25:27] src/tree/updater_prune.cc:74: tree pruning end, 1 roots, 16 extra nodes, 6 pruned nodes, max_depth=5\u001b[0m\n",
      "\u001b[34m[129]#011train-error:0.090533#011validation-error:0.1422\u001b[0m\n",
      "\u001b[34m[14:25:29] src/tree/updater_prune.cc:74: tree pruning end, 1 roots, 14 extra nodes, 10 pruned nodes, max_depth=5\u001b[0m\n",
      "\u001b[34m[130]#011train-error:0.090267#011validation-error:0.1429\u001b[0m\n",
      "\u001b[34m[14:25:30] src/tree/updater_prune.cc:74: tree pruning end, 1 roots, 16 extra nodes, 8 pruned nodes, max_depth=5\u001b[0m\n",
      "\u001b[34m[131]#011train-error:0.0898#011validation-error:0.1434\u001b[0m\n",
      "\u001b[34m[14:25:31] src/tree/updater_prune.cc:74: tree pruning end, 1 roots, 12 extra nodes, 6 pruned nodes, max_depth=5\u001b[0m\n",
      "\u001b[34m[132]#011train-error:0.0896#011validation-error:0.1422\u001b[0m\n",
      "\u001b[34m[14:25:32] src/tree/updater_prune.cc:74: tree pruning end, 1 roots, 14 extra nodes, 6 pruned nodes, max_depth=5\u001b[0m\n",
      "\u001b[34m[133]#011train-error:0.089267#011validation-error:0.1417\u001b[0m\n",
      "\u001b[34m[14:25:34] src/tree/updater_prune.cc:74: tree pruning end, 1 roots, 30 extra nodes, 14 pruned nodes, max_depth=5\u001b[0m\n",
      "\u001b[34m[134]#011train-error:0.0888#011validation-error:0.1417\u001b[0m\n",
      "\u001b[34m[14:25:35] src/tree/updater_prune.cc:74: tree pruning end, 1 roots, 24 extra nodes, 12 pruned nodes, max_depth=5\u001b[0m\n",
      "\u001b[34m[135]#011train-error:0.088733#011validation-error:0.1413\u001b[0m\n",
      "\u001b[34m[14:25:36] src/tree/updater_prune.cc:74: tree pruning end, 1 roots, 22 extra nodes, 4 pruned nodes, max_depth=5\u001b[0m\n",
      "\u001b[34m[136]#011train-error:0.087733#011validation-error:0.1413\u001b[0m\n",
      "\u001b[34m[14:25:38] src/tree/updater_prune.cc:74: tree pruning end, 1 roots, 14 extra nodes, 8 pruned nodes, max_depth=5\u001b[0m\n",
      "\u001b[34m[137]#011train-error:0.087133#011validation-error:0.1414\u001b[0m\n",
      "\u001b[34m[14:25:39] src/tree/updater_prune.cc:74: tree pruning end, 1 roots, 36 extra nodes, 12 pruned nodes, max_depth=5\u001b[0m\n",
      "\u001b[34m[138]#011train-error:0.0868#011validation-error:0.1402\u001b[0m\n"
     ]
    },
    {
     "name": "stdout",
     "output_type": "stream",
     "text": [
      "\u001b[34m[14:25:40] src/tree/updater_prune.cc:74: tree pruning end, 1 roots, 14 extra nodes, 4 pruned nodes, max_depth=5\u001b[0m\n",
      "\u001b[34m[139]#011train-error:0.086667#011validation-error:0.1403\u001b[0m\n",
      "\u001b[34m[14:25:41] src/tree/updater_prune.cc:74: tree pruning end, 1 roots, 22 extra nodes, 6 pruned nodes, max_depth=5\u001b[0m\n",
      "\u001b[34m[140]#011train-error:0.086333#011validation-error:0.1401\u001b[0m\n",
      "\u001b[34m[14:25:43] src/tree/updater_prune.cc:74: tree pruning end, 1 roots, 20 extra nodes, 2 pruned nodes, max_depth=5\u001b[0m\n",
      "\u001b[34m[141]#011train-error:0.0856#011validation-error:0.1395\u001b[0m\n",
      "\u001b[34m[14:25:44] src/tree/updater_prune.cc:74: tree pruning end, 1 roots, 10 extra nodes, 4 pruned nodes, max_depth=5\u001b[0m\n",
      "\u001b[34m[142]#011train-error:0.0858#011validation-error:0.1396\u001b[0m\n",
      "\u001b[34m[14:25:45] src/tree/updater_prune.cc:74: tree pruning end, 1 roots, 16 extra nodes, 4 pruned nodes, max_depth=5\u001b[0m\n",
      "\u001b[34m[143]#011train-error:0.085733#011validation-error:0.1397\u001b[0m\n",
      "\u001b[34m[14:25:46] src/tree/updater_prune.cc:74: tree pruning end, 1 roots, 16 extra nodes, 10 pruned nodes, max_depth=5\u001b[0m\n",
      "\u001b[34m[144]#011train-error:0.0848#011validation-error:0.1397\u001b[0m\n",
      "\u001b[34m[14:25:48] src/tree/updater_prune.cc:74: tree pruning end, 1 roots, 16 extra nodes, 16 pruned nodes, max_depth=5\u001b[0m\n",
      "\u001b[34m[145]#011train-error:0.0844#011validation-error:0.1396\u001b[0m\n",
      "\u001b[34m[14:25:49] src/tree/updater_prune.cc:74: tree pruning end, 1 roots, 14 extra nodes, 6 pruned nodes, max_depth=5\u001b[0m\n",
      "\u001b[34m[146]#011train-error:0.084133#011validation-error:0.1392\u001b[0m\n",
      "\u001b[34m[14:25:50] src/tree/updater_prune.cc:74: tree pruning end, 1 roots, 12 extra nodes, 12 pruned nodes, max_depth=5\u001b[0m\n",
      "\u001b[34m[147]#011train-error:0.0838#011validation-error:0.1386\u001b[0m\n",
      "\u001b[34m[14:25:51] src/tree/updater_prune.cc:74: tree pruning end, 1 roots, 18 extra nodes, 2 pruned nodes, max_depth=5\u001b[0m\n",
      "\u001b[34m[148]#011train-error:0.083267#011validation-error:0.1381\u001b[0m\n",
      "\u001b[34m[14:25:53] src/tree/updater_prune.cc:74: tree pruning end, 1 roots, 18 extra nodes, 6 pruned nodes, max_depth=5\u001b[0m\n",
      "\u001b[34m[149]#011train-error:0.083#011validation-error:0.1387\u001b[0m\n",
      "\u001b[34m[14:25:54] src/tree/updater_prune.cc:74: tree pruning end, 1 roots, 16 extra nodes, 8 pruned nodes, max_depth=5\u001b[0m\n",
      "\u001b[34m[150]#011train-error:0.082933#011validation-error:0.1387\u001b[0m\n",
      "\u001b[34m[14:25:55] src/tree/updater_prune.cc:74: tree pruning end, 1 roots, 14 extra nodes, 6 pruned nodes, max_depth=5\u001b[0m\n",
      "\u001b[34m[151]#011train-error:0.0824#011validation-error:0.138\u001b[0m\n",
      "\u001b[34m[14:25:57] src/tree/updater_prune.cc:74: tree pruning end, 1 roots, 14 extra nodes, 10 pruned nodes, max_depth=5\u001b[0m\n",
      "\u001b[34m[152]#011train-error:0.082067#011validation-error:0.1378\u001b[0m\n",
      "\u001b[34m[14:25:58] src/tree/updater_prune.cc:74: tree pruning end, 1 roots, 12 extra nodes, 6 pruned nodes, max_depth=5\u001b[0m\n",
      "\u001b[34m[153]#011train-error:0.082#011validation-error:0.1378\u001b[0m\n",
      "\u001b[34m[14:25:59] src/tree/updater_prune.cc:74: tree pruning end, 1 roots, 18 extra nodes, 8 pruned nodes, max_depth=5\u001b[0m\n",
      "\u001b[34m[154]#011train-error:0.082133#011validation-error:0.1375\u001b[0m\n",
      "\u001b[34m[14:26:00] src/tree/updater_prune.cc:74: tree pruning end, 1 roots, 12 extra nodes, 8 pruned nodes, max_depth=5\u001b[0m\n",
      "\u001b[34m[155]#011train-error:0.081933#011validation-error:0.1367\u001b[0m\n",
      "\u001b[34m[14:26:02] src/tree/updater_prune.cc:74: tree pruning end, 1 roots, 18 extra nodes, 8 pruned nodes, max_depth=5\u001b[0m\n",
      "\u001b[34m[156]#011train-error:0.0812#011validation-error:0.1364\u001b[0m\n",
      "\u001b[34m[14:26:03] src/tree/updater_prune.cc:74: tree pruning end, 1 roots, 16 extra nodes, 10 pruned nodes, max_depth=5\u001b[0m\n",
      "\u001b[34m[157]#011train-error:0.080867#011validation-error:0.137\u001b[0m\n",
      "\u001b[34m[14:26:04] src/tree/updater_prune.cc:74: tree pruning end, 1 roots, 18 extra nodes, 6 pruned nodes, max_depth=5\u001b[0m\n",
      "\u001b[34m[158]#011train-error:0.080467#011validation-error:0.1371\u001b[0m\n",
      "\u001b[34m[14:26:06] src/tree/updater_prune.cc:74: tree pruning end, 1 roots, 16 extra nodes, 12 pruned nodes, max_depth=5\u001b[0m\n",
      "\u001b[34m[159]#011train-error:0.079467#011validation-error:0.1376\u001b[0m\n",
      "\u001b[34m[14:26:07] src/tree/updater_prune.cc:74: tree pruning end, 1 roots, 16 extra nodes, 8 pruned nodes, max_depth=5\u001b[0m\n",
      "\u001b[34m[160]#011train-error:0.079867#011validation-error:0.1377\u001b[0m\n",
      "\u001b[34m[14:26:08] src/tree/updater_prune.cc:74: tree pruning end, 1 roots, 12 extra nodes, 8 pruned nodes, max_depth=5\u001b[0m\n",
      "\u001b[34m[161]#011train-error:0.0794#011validation-error:0.1372\u001b[0m\n",
      "\u001b[34m[14:26:09] src/tree/updater_prune.cc:74: tree pruning end, 1 roots, 22 extra nodes, 6 pruned nodes, max_depth=5\u001b[0m\n",
      "\u001b[34m[162]#011train-error:0.0788#011validation-error:0.1375\u001b[0m\n",
      "\u001b[34m[14:26:11] src/tree/updater_prune.cc:74: tree pruning end, 1 roots, 22 extra nodes, 16 pruned nodes, max_depth=5\u001b[0m\n",
      "\u001b[34m[163]#011train-error:0.078333#011validation-error:0.1373\u001b[0m\n",
      "\u001b[34m[14:26:12] src/tree/updater_prune.cc:74: tree pruning end, 1 roots, 16 extra nodes, 6 pruned nodes, max_depth=5\u001b[0m\n",
      "\u001b[34m[164]#011train-error:0.078533#011validation-error:0.1375\u001b[0m\n",
      "\u001b[34m[14:26:13] src/tree/updater_prune.cc:74: tree pruning end, 1 roots, 12 extra nodes, 4 pruned nodes, max_depth=5\u001b[0m\n",
      "\u001b[34m[165]#011train-error:0.078267#011validation-error:0.1378\u001b[0m\n",
      "\u001b[34m[14:26:14] src/tree/updater_prune.cc:74: tree pruning end, 1 roots, 22 extra nodes, 10 pruned nodes, max_depth=5\u001b[0m\n",
      "\u001b[34m[166]#011train-error:0.0772#011validation-error:0.1373\u001b[0m\n",
      "\u001b[34mStopping. Best iteration:\u001b[0m\n",
      "\u001b[34m[156]#011train-error:0.0812#011validation-error:0.1364\n",
      "\u001b[0m\n",
      "\n",
      "2019-12-12 14:26:26 Uploading - Uploading generated training model\n",
      "2019-12-12 14:26:26 Completed - Training job completed\n",
      "Training seconds: 281\n",
      "Billable seconds: 281\n"
     ]
    }
   ],
   "source": [
    "xgb.fit({'train': s3_input_train, 'validation': s3_input_validation})"
   ]
  },
  {
   "cell_type": "markdown",
   "metadata": {},
   "source": [
    "## Step 5: Testing the model\n",
    "\n",
    "Now that we've fit our XGBoost model, it's time to see how well it performs. To do this we will use SageMakers Batch Transform functionality. Batch Transform is a convenient way to perform inference on a large dataset in a way that is not realtime. That is, we don't necessarily need to use our model's results immediately and instead we can perform inference on a large number of samples. An example of this in industry might be performing an end of month report. This method of inference can also be useful to us as it means that we can perform inference on our entire test set. \n",
    "\n",
    "To perform a Batch Transformation we need to first create a transformer objects from our trained estimator object."
   ]
  },
  {
   "cell_type": "code",
   "execution_count": 24,
   "metadata": {},
   "outputs": [],
   "source": [
    "xgb_transformer = xgb.transformer(instance_count = 1, instance_type = 'ml.m4.xlarge')"
   ]
  },
  {
   "cell_type": "markdown",
   "metadata": {},
   "source": [
    "Next we actually perform the transform job. When doing so we need to make sure to specify the type of data we are sending so that it is serialized correctly in the background. In our case we are providing our model with csv data so we specify `text/csv`. Also, if the test data that we have provided is too large to process all at once then we need to specify how the data file should be split up. Since each line is a single entry in our data set we tell SageMaker that it can split the input on each line."
   ]
  },
  {
   "cell_type": "code",
   "execution_count": 25,
   "metadata": {},
   "outputs": [],
   "source": [
    "xgb_transformer.transform(test_location, content_type='text/csv', split_type='Line')"
   ]
  },
  {
   "cell_type": "markdown",
   "metadata": {},
   "source": [
    "Currently the transform job is running but it is doing so in the background. Since we wish to wait until the transform job is done and we would like a bit of feedback we can run the `wait()` method."
   ]
  },
  {
   "cell_type": "code",
   "execution_count": 26,
   "metadata": {},
   "outputs": [
    {
     "name": "stdout",
     "output_type": "stream",
     "text": [
      "........................\u001b[34mArguments: serve\u001b[0m\n",
      "\u001b[34m[2019-12-12 14:30:35 +0000] [1] [INFO] Starting gunicorn 19.7.1\u001b[0m\n",
      "\u001b[34m[2019-12-12 14:30:35 +0000] [1] [INFO] Listening at: http://0.0.0.0:8080 (1)\u001b[0m\n",
      "\u001b[34m[2019-12-12 14:30:35 +0000] [1] [INFO] Using worker: gevent\u001b[0m\n",
      "\u001b[34m[2019-12-12 14:30:35 +0000] [37] [INFO] Booting worker with pid: 37\u001b[0m\n",
      "\u001b[34m[2019-12-12 14:30:35 +0000] [38] [INFO] Booting worker with pid: 38\u001b[0m\n",
      "\u001b[34m[2019-12-12 14:30:35 +0000] [39] [INFO] Booting worker with pid: 39\u001b[0m\n",
      "\u001b[34m[2019-12-12:14:30:35:INFO] Model loaded successfully for worker : 37\u001b[0m\n",
      "\u001b[34m[2019-12-12 14:30:35 +0000] [40] [INFO] Booting worker with pid: 40\u001b[0m\n",
      "\u001b[34m[2019-12-12:14:30:35:INFO] Model loaded successfully for worker : 38\u001b[0m\n",
      "\u001b[34m[2019-12-12:14:30:35:INFO] Model loaded successfully for worker : 40\u001b[0m\n",
      "\u001b[34m[2019-12-12:14:30:35:INFO] Model loaded successfully for worker : 39\u001b[0m\n",
      "\u001b[32m2019-12-12T14:30:58.199:[sagemaker logs]: MaxConcurrentTransforms=4, MaxPayloadInMB=6, BatchStrategy=MULTI_RECORD\u001b[0m\n",
      "\u001b[34m[2019-12-12:14:31:01:INFO] Sniff delimiter as ','\u001b[0m\n",
      "\u001b[34m[2019-12-12:14:31:01:INFO] Determined delimiter of CSV input is ','\u001b[0m\n",
      "\u001b[34m[2019-12-12:14:31:01:INFO] Sniff delimiter as ','\u001b[0m\n",
      "\u001b[34m[2019-12-12:14:31:01:INFO] Determined delimiter of CSV input is ','\u001b[0m\n",
      "\u001b[34m[2019-12-12:14:31:01:INFO] Sniff delimiter as ','\u001b[0m\n",
      "\u001b[34m[2019-12-12:14:31:01:INFO] Determined delimiter of CSV input is ','\u001b[0m\n",
      "\u001b[35m[2019-12-12:14:31:01:INFO] Sniff delimiter as ','\u001b[0m\n",
      "\u001b[35m[2019-12-12:14:31:01:INFO] Determined delimiter of CSV input is ','\u001b[0m\n",
      "\u001b[35m[2019-12-12:14:31:01:INFO] Sniff delimiter as ','\u001b[0m\n",
      "\u001b[35m[2019-12-12:14:31:01:INFO] Determined delimiter of CSV input is ','\u001b[0m\n",
      "\u001b[35m[2019-12-12:14:31:01:INFO] Sniff delimiter as ','\u001b[0m\n",
      "\u001b[35m[2019-12-12:14:31:01:INFO] Determined delimiter of CSV input is ','\u001b[0m\n",
      "\u001b[34m[2019-12-12:14:31:03:INFO] Sniff delimiter as ','\u001b[0m\n",
      "\u001b[34m[2019-12-12:14:31:03:INFO] Determined delimiter of CSV input is ','\u001b[0m\n",
      "\u001b[35m[2019-12-12:14:31:03:INFO] Sniff delimiter as ','\u001b[0m\n",
      "\u001b[35m[2019-12-12:14:31:03:INFO] Determined delimiter of CSV input is ','\u001b[0m\n",
      "\u001b[34m[2019-12-12:14:31:03:INFO] Sniff delimiter as ','\u001b[0m\n",
      "\u001b[34m[2019-12-12:14:31:03:INFO] Determined delimiter of CSV input is ','\u001b[0m\n",
      "\u001b[35m[2019-12-12:14:31:03:INFO] Sniff delimiter as ','\u001b[0m\n",
      "\u001b[35m[2019-12-12:14:31:03:INFO] Determined delimiter of CSV input is ','\u001b[0m\n",
      "\u001b[34m[2019-12-12:14:31:04:INFO] Sniff delimiter as ','\u001b[0m\n",
      "\u001b[34m[2019-12-12:14:31:04:INFO] Determined delimiter of CSV input is ','\u001b[0m\n",
      "\u001b[34m[2019-12-12:14:31:04:INFO] Sniff delimiter as ','\u001b[0m\n",
      "\u001b[34m[2019-12-12:14:31:04:INFO] Determined delimiter of CSV input is ','\u001b[0m\n",
      "\u001b[34m[2019-12-12:14:31:04:INFO] Sniff delimiter as ','\u001b[0m\n",
      "\u001b[34m[2019-12-12:14:31:04:INFO] Determined delimiter of CSV input is ','\u001b[0m\n",
      "\u001b[35m[2019-12-12:14:31:04:INFO] Sniff delimiter as ','\u001b[0m\n",
      "\u001b[35m[2019-12-12:14:31:04:INFO] Determined delimiter of CSV input is ','\u001b[0m\n",
      "\u001b[35m[2019-12-12:14:31:04:INFO] Sniff delimiter as ','\u001b[0m\n",
      "\u001b[35m[2019-12-12:14:31:04:INFO] Determined delimiter of CSV input is ','\u001b[0m\n",
      "\u001b[35m[2019-12-12:14:31:04:INFO] Sniff delimiter as ','\u001b[0m\n",
      "\u001b[35m[2019-12-12:14:31:04:INFO] Determined delimiter of CSV input is ','\u001b[0m\n",
      "\u001b[34m[2019-12-12:14:31:06:INFO] Sniff delimiter as ','\u001b[0m\n",
      "\u001b[34m[2019-12-12:14:31:06:INFO] Determined delimiter of CSV input is ','\u001b[0m\n",
      "\u001b[35m[2019-12-12:14:31:06:INFO] Sniff delimiter as ','\u001b[0m\n",
      "\u001b[35m[2019-12-12:14:31:06:INFO] Determined delimiter of CSV input is ','\u001b[0m\n",
      "\u001b[34m[2019-12-12:14:31:07:INFO] Sniff delimiter as ','\u001b[0m\n",
      "\u001b[34m[2019-12-12:14:31:07:INFO] Determined delimiter of CSV input is ','\u001b[0m\n",
      "\u001b[34m[2019-12-12:14:31:07:INFO] Sniff delimiter as ','\u001b[0m\n",
      "\u001b[34m[2019-12-12:14:31:07:INFO] Determined delimiter of CSV input is ','\u001b[0m\n",
      "\u001b[34m[2019-12-12:14:31:07:INFO] Sniff delimiter as ','\u001b[0m\n",
      "\u001b[34m[2019-12-12:14:31:07:INFO] Determined delimiter of CSV input is ','\u001b[0m\n",
      "\u001b[35m[2019-12-12:14:31:07:INFO] Sniff delimiter as ','\u001b[0m\n",
      "\u001b[35m[2019-12-12:14:31:07:INFO] Determined delimiter of CSV input is ','\u001b[0m\n",
      "\u001b[35m[2019-12-12:14:31:07:INFO] Sniff delimiter as ','\u001b[0m\n",
      "\u001b[35m[2019-12-12:14:31:07:INFO] Determined delimiter of CSV input is ','\u001b[0m\n",
      "\u001b[35m[2019-12-12:14:31:07:INFO] Sniff delimiter as ','\u001b[0m\n",
      "\u001b[35m[2019-12-12:14:31:07:INFO] Determined delimiter of CSV input is ','\u001b[0m\n",
      "\u001b[34m[2019-12-12:14:31:09:INFO] Sniff delimiter as ','\u001b[0m\n",
      "\u001b[34m[2019-12-12:14:31:09:INFO] Determined delimiter of CSV input is ','\u001b[0m\n",
      "\u001b[34m[2019-12-12:14:31:09:INFO] Sniff delimiter as ','\u001b[0m\n",
      "\u001b[34m[2019-12-12:14:31:09:INFO] Determined delimiter of CSV input is ','\u001b[0m\n",
      "\u001b[34m[2019-12-12:14:31:09:INFO] Sniff delimiter as ','\u001b[0m\n",
      "\u001b[34m[2019-12-12:14:31:09:INFO] Determined delimiter of CSV input is ','\u001b[0m\n",
      "\u001b[35m[2019-12-12:14:31:09:INFO] Sniff delimiter as ','\u001b[0m\n",
      "\u001b[35m[2019-12-12:14:31:09:INFO] Determined delimiter of CSV input is ','\u001b[0m\n",
      "\u001b[35m[2019-12-12:14:31:09:INFO] Sniff delimiter as ','\u001b[0m\n",
      "\u001b[35m[2019-12-12:14:31:09:INFO] Determined delimiter of CSV input is ','\u001b[0m\n",
      "\u001b[35m[2019-12-12:14:31:09:INFO] Sniff delimiter as ','\u001b[0m\n",
      "\u001b[35m[2019-12-12:14:31:09:INFO] Determined delimiter of CSV input is ','\u001b[0m\n",
      "\u001b[34m[2019-12-12:14:31:10:INFO] Sniff delimiter as ','\u001b[0m\n",
      "\u001b[34m[2019-12-12:14:31:10:INFO] Determined delimiter of CSV input is ','\u001b[0m\n",
      "\u001b[35m[2019-12-12:14:31:10:INFO] Sniff delimiter as ','\u001b[0m\n",
      "\u001b[35m[2019-12-12:14:31:10:INFO] Determined delimiter of CSV input is ','\u001b[0m\n",
      "\u001b[34m[2019-12-12:14:31:11:INFO] Sniff delimiter as ','\u001b[0m\n",
      "\u001b[34m[2019-12-12:14:31:11:INFO] Determined delimiter of CSV input is ','\u001b[0m\n",
      "\u001b[34m[2019-12-12:14:31:12:INFO] Sniff delimiter as ','\u001b[0m\n",
      "\u001b[34m[2019-12-12:14:31:12:INFO] Determined delimiter of CSV input is ','\u001b[0m\n",
      "\u001b[35m[2019-12-12:14:31:11:INFO] Sniff delimiter as ','\u001b[0m\n",
      "\u001b[35m[2019-12-12:14:31:11:INFO] Determined delimiter of CSV input is ','\u001b[0m\n",
      "\u001b[35m[2019-12-12:14:31:12:INFO] Sniff delimiter as ','\u001b[0m\n",
      "\u001b[35m[2019-12-12:14:31:12:INFO] Determined delimiter of CSV input is ','\u001b[0m\n",
      "\u001b[34m[2019-12-12:14:31:14:INFO] Sniff delimiter as ','\u001b[0m\n",
      "\u001b[34m[2019-12-12:14:31:14:INFO] Determined delimiter of CSV input is ','\u001b[0m\n",
      "\u001b[34m[2019-12-12:14:31:14:INFO] Sniff delimiter as ','\u001b[0m\n",
      "\u001b[34m[2019-12-12:14:31:14:INFO] Determined delimiter of CSV input is ','\u001b[0m\n",
      "\u001b[34m[2019-12-12:14:31:14:INFO] Sniff delimiter as ','\u001b[0m\n",
      "\u001b[34m[2019-12-12:14:31:14:INFO] Determined delimiter of CSV input is ','\u001b[0m\n",
      "\u001b[34m[2019-12-12:14:31:14:INFO] Sniff delimiter as ','\u001b[0m\n",
      "\u001b[34m[2019-12-12:14:31:14:INFO] Determined delimiter of CSV input is ','\u001b[0m\n",
      "\u001b[35m[2019-12-12:14:31:14:INFO] Sniff delimiter as ','\u001b[0m\n",
      "\u001b[35m[2019-12-12:14:31:14:INFO] Determined delimiter of CSV input is ','\u001b[0m\n",
      "\u001b[35m[2019-12-12:14:31:14:INFO] Sniff delimiter as ','\u001b[0m\n",
      "\u001b[35m[2019-12-12:14:31:14:INFO] Determined delimiter of CSV input is ','\u001b[0m\n",
      "\u001b[35m[2019-12-12:14:31:14:INFO] Sniff delimiter as ','\u001b[0m\n",
      "\u001b[35m[2019-12-12:14:31:14:INFO] Determined delimiter of CSV input is ','\u001b[0m\n",
      "\u001b[35m[2019-12-12:14:31:14:INFO] Sniff delimiter as ','\u001b[0m\n",
      "\u001b[35m[2019-12-12:14:31:14:INFO] Determined delimiter of CSV input is ','\u001b[0m\n",
      "\u001b[34m[2019-12-12:14:31:16:INFO] Sniff delimiter as ','\u001b[0m\n",
      "\u001b[34m[2019-12-12:14:31:16:INFO] Determined delimiter of CSV input is ','\u001b[0m\n",
      "\u001b[34m[2019-12-12:14:31:16:INFO] Sniff delimiter as ','\u001b[0m\n",
      "\u001b[34m[2019-12-12:14:31:16:INFO] Determined delimiter of CSV input is ','\u001b[0m\n",
      "\u001b[34m[2019-12-12:14:31:16:INFO] Sniff delimiter as ','\u001b[0m\n",
      "\u001b[34m[2019-12-12:14:31:16:INFO] Determined delimiter of CSV input is ','\u001b[0m\n",
      "\u001b[35m[2019-12-12:14:31:16:INFO] Sniff delimiter as ','\u001b[0m\n",
      "\u001b[35m[2019-12-12:14:31:16:INFO] Determined delimiter of CSV input is ','\u001b[0m\n",
      "\u001b[35m[2019-12-12:14:31:16:INFO] Sniff delimiter as ','\u001b[0m\n",
      "\u001b[35m[2019-12-12:14:31:16:INFO] Determined delimiter of CSV input is ','\u001b[0m\n",
      "\u001b[35m[2019-12-12:14:31:16:INFO] Sniff delimiter as ','\u001b[0m\n",
      "\u001b[35m[2019-12-12:14:31:16:INFO] Determined delimiter of CSV input is ','\u001b[0m\n",
      "\u001b[34m[2019-12-12:14:31:17:INFO] Sniff delimiter as ','\u001b[0m\n",
      "\u001b[34m[2019-12-12:14:31:17:INFO] Determined delimiter of CSV input is ','\u001b[0m\n",
      "\u001b[35m[2019-12-12:14:31:17:INFO] Sniff delimiter as ','\u001b[0m\n",
      "\u001b[35m[2019-12-12:14:31:17:INFO] Determined delimiter of CSV input is ','\u001b[0m\n",
      "\u001b[34m[2019-12-12:14:31:19:INFO] Sniff delimiter as ','\u001b[0m\n",
      "\u001b[34m[2019-12-12:14:31:19:INFO] Determined delimiter of CSV input is ','\u001b[0m\n",
      "\u001b[35m[2019-12-12:14:31:19:INFO] Sniff delimiter as ','\u001b[0m\n",
      "\u001b[35m[2019-12-12:14:31:19:INFO] Determined delimiter of CSV input is ','\u001b[0m\n",
      "\u001b[34m[2019-12-12:14:31:19:INFO] Sniff delimiter as ','\u001b[0m\n",
      "\u001b[34m[2019-12-12:14:31:19:INFO] Determined delimiter of CSV input is ','\u001b[0m\n",
      "\u001b[34m[2019-12-12:14:31:19:INFO] Sniff delimiter as ','\u001b[0m\n",
      "\u001b[34m[2019-12-12:14:31:19:INFO] Determined delimiter of CSV input is ','\u001b[0m\n",
      "\u001b[34m[2019-12-12:14:31:19:INFO] Sniff delimiter as ','\u001b[0m\n",
      "\u001b[34m[2019-12-12:14:31:19:INFO] Determined delimiter of CSV input is ','\u001b[0m\n",
      "\u001b[35m[2019-12-12:14:31:19:INFO] Sniff delimiter as ','\u001b[0m\n",
      "\u001b[35m[2019-12-12:14:31:19:INFO] Determined delimiter of CSV input is ','\u001b[0m\n",
      "\u001b[35m[2019-12-12:14:31:19:INFO] Sniff delimiter as ','\u001b[0m\n",
      "\u001b[35m[2019-12-12:14:31:19:INFO] Determined delimiter of CSV input is ','\u001b[0m\n",
      "\u001b[35m[2019-12-12:14:31:19:INFO] Sniff delimiter as ','\u001b[0m\n",
      "\u001b[35m[2019-12-12:14:31:19:INFO] Determined delimiter of CSV input is ','\u001b[0m\n",
      "\u001b[34m[2019-12-12:14:31:21:INFO] Sniff delimiter as ','\u001b[0m\n",
      "\u001b[34m[2019-12-12:14:31:21:INFO] Determined delimiter of CSV input is ','\u001b[0m\n",
      "\u001b[34m[2019-12-12:14:31:21:INFO] Sniff delimiter as ','\u001b[0m\n",
      "\u001b[34m[2019-12-12:14:31:21:INFO] Determined delimiter of CSV input is ','\u001b[0m\n",
      "\u001b[34m[2019-12-12:14:31:21:INFO] Sniff delimiter as ','\u001b[0m\n",
      "\u001b[34m[2019-12-12:14:31:21:INFO] Determined delimiter of CSV input is ','\u001b[0m\n",
      "\u001b[34m[2019-12-12:14:31:21:INFO] Sniff delimiter as ','\u001b[0m\n",
      "\u001b[34m[2019-12-12:14:31:21:INFO] Determined delimiter of CSV input is ','\u001b[0m\n",
      "\u001b[35m[2019-12-12:14:31:21:INFO] Sniff delimiter as ','\u001b[0m\n",
      "\u001b[35m[2019-12-12:14:31:21:INFO] Determined delimiter of CSV input is ','\u001b[0m\n",
      "\u001b[35m[2019-12-12:14:31:21:INFO] Sniff delimiter as ','\u001b[0m\n",
      "\u001b[35m[2019-12-12:14:31:21:INFO] Determined delimiter of CSV input is ','\u001b[0m\n",
      "\u001b[35m[2019-12-12:14:31:21:INFO] Sniff delimiter as ','\u001b[0m\n",
      "\u001b[35m[2019-12-12:14:31:21:INFO] Determined delimiter of CSV input is ','\u001b[0m\n",
      "\u001b[35m[2019-12-12:14:31:21:INFO] Sniff delimiter as ','\u001b[0m\n",
      "\u001b[35m[2019-12-12:14:31:21:INFO] Determined delimiter of CSV input is ','\u001b[0m\n"
     ]
    },
    {
     "name": "stdout",
     "output_type": "stream",
     "text": [
      "\n"
     ]
    }
   ],
   "source": [
    "xgb_transformer.wait()"
   ]
  },
  {
   "cell_type": "markdown",
   "metadata": {},
   "source": [
    "Now the transform job has executed and the result, the estimated sentiment of each review, has been saved on S3. Since we would rather work on this file locally we can perform a bit of notebook magic to copy the file to the `data_dir`."
   ]
  },
  {
   "cell_type": "code",
   "execution_count": 27,
   "metadata": {},
   "outputs": [
    {
     "name": "stdout",
     "output_type": "stream",
     "text": [
      "Completed 256.0 KiB/369.8 KiB (3.3 MiB/s) with 1 file(s) remaining\r",
      "Completed 369.8 KiB/369.8 KiB (4.7 MiB/s) with 1 file(s) remaining\r",
      "download: s3://sagemaker-us-east-1-219395513308/xgboost-2019-12-12-14-26-45-937/test.csv.out to ../data/sentiment_web_app/test.csv.out\r\n"
     ]
    }
   ],
   "source": [
    "!aws s3 cp --recursive $xgb_transformer.output_path $data_dir"
   ]
  },
  {
   "cell_type": "markdown",
   "metadata": {},
   "source": [
    "The last step is now to read in the output from our model, convert the output to something a little more usable, in this case we want the sentiment to be either `1` (positive) or `0` (negative), and then compare to the ground truth labels."
   ]
  },
  {
   "cell_type": "code",
   "execution_count": 28,
   "metadata": {},
   "outputs": [],
   "source": [
    "predictions = pd.read_csv(os.path.join(data_dir, 'test.csv.out'), header=None)\n",
    "predictions = [round(num) for num in predictions.squeeze().values]"
   ]
  },
  {
   "cell_type": "code",
   "execution_count": 29,
   "metadata": {},
   "outputs": [
    {
     "data": {
      "text/plain": [
       "0.85864"
      ]
     },
     "execution_count": 29,
     "metadata": {},
     "output_type": "execute_result"
    }
   ],
   "source": [
    "from sklearn.metrics import accuracy_score\n",
    "accuracy_score(test_y, predictions)"
   ]
  },
  {
   "cell_type": "markdown",
   "metadata": {},
   "source": [
    "## Step 6: Deploying the model\n",
    "\n",
    "Once we construct and fit our model, SageMaker stores the resulting model artifacts and we can use those to deploy an endpoint (inference code). To see this, look in the SageMaker console and you should see that a model has been created along with a link to the S3 location where the model artifacts have been stored.\n",
    "\n",
    "Deploying an endpoint is a lot like training the model with a few important differences. The first is that a deployed model doesn't change the model artifacts, so as you send it various testing instances the model won't change. Another difference is that since we aren't performing a fixed computation, as we were in the training step or while performing a batch transform, the compute instance that gets started stays running until we tell it to stop. This is important to note as if we forget and leave it running we will be charged the entire time.\n",
    "\n",
    "In other words **If you are no longer using a deployed endpoint, shut it down!**"
   ]
  },
  {
   "cell_type": "code",
   "execution_count": 30,
   "metadata": {},
   "outputs": [
    {
     "name": "stderr",
     "output_type": "stream",
     "text": [
      "WARNING:sagemaker:Using already existing model: xgboost-2019-12-12-14-19-30-633\n"
     ]
    },
    {
     "name": "stdout",
     "output_type": "stream",
     "text": [
      "---------------------------------------------------------------------------------------------------------------!"
     ]
    }
   ],
   "source": [
    "xgb_predictor = xgb.deploy(initial_instance_count = 1, instance_type = 'ml.m4.xlarge')"
   ]
  },
  {
   "cell_type": "markdown",
   "metadata": {},
   "source": [
    "### Testing the model (again)\n",
    "\n",
    "Now that we have deployed our endpoint, we can send the testing data to it and get back the inference results. We already did this earlier using the batch transform functionality of SageMaker, however, we will test our model again using the newly deployed endpoint so that we can make sure that it works properly and to get a bit of a feel for how the endpoint works.\n",
    "\n",
    "When using the created endpoint it is important to know that we are limited in the amount of information we can send in each call so we need to break the testing data up into chunks and then send each chunk. Also, we need to serialize our data before we send it to the endpoint to ensure that our data is transmitted properly. Fortunately, SageMaker can do the serialization part for us provided we tell it the format of our data."
   ]
  },
  {
   "cell_type": "code",
   "execution_count": 31,
   "metadata": {},
   "outputs": [],
   "source": [
    "from sagemaker.predictor import csv_serializer\n",
    "\n",
    "# We need to tell the endpoint what format the data we are sending is in so that SageMaker can perform the serialization.\n",
    "xgb_predictor.content_type = 'text/csv'\n",
    "xgb_predictor.serializer = csv_serializer"
   ]
  },
  {
   "cell_type": "code",
   "execution_count": 32,
   "metadata": {},
   "outputs": [],
   "source": [
    "# We split the data into chunks and send each chunk seperately, accumulating the results.\n",
    "\n",
    "def predict(data, rows=512):\n",
    "    split_array = np.array_split(data, int(data.shape[0] / float(rows) + 1))\n",
    "    predictions = ''\n",
    "    for array in split_array:\n",
    "        predictions = ','.join([predictions, xgb_predictor.predict(array).decode('utf-8')])\n",
    "    \n",
    "    return np.fromstring(predictions[1:], sep=',')"
   ]
  },
  {
   "cell_type": "code",
   "execution_count": 33,
   "metadata": {},
   "outputs": [],
   "source": [
    "test_X = pd.read_csv(os.path.join(data_dir, 'test.csv'), header=None).values\n",
    "\n",
    "predictions = predict(test_X)\n",
    "predictions = [round(num) for num in predictions]"
   ]
  },
  {
   "cell_type": "markdown",
   "metadata": {},
   "source": [
    "Lastly, we check to see what the accuracy of our model is."
   ]
  },
  {
   "cell_type": "code",
   "execution_count": 34,
   "metadata": {},
   "outputs": [
    {
     "data": {
      "text/plain": [
       "0.85864"
      ]
     },
     "execution_count": 34,
     "metadata": {},
     "output_type": "execute_result"
    }
   ],
   "source": [
    "from sklearn.metrics import accuracy_score\n",
    "accuracy_score(test_y, predictions)"
   ]
  },
  {
   "cell_type": "markdown",
   "metadata": {},
   "source": [
    "And the results here should agree with the model testing that we did earlier using the batch transform job.\n",
    "\n",
    "### Cleaning up\n",
    "\n",
    "Now that we've determined that deploying our model works as expected, we are going to shut it down. Remember that the longer the endpoint is left running, the greater the cost and since we have a bit more work to do before we are able to use our endpoint with our simple web app, we should shut everything down."
   ]
  },
  {
   "cell_type": "code",
   "execution_count": null,
   "metadata": {},
   "outputs": [],
   "source": [
    "xgb_predictor.delete_endpoint()"
   ]
  },
  {
   "cell_type": "markdown",
   "metadata": {},
   "source": [
    "## Step 7: Putting our model to work\n",
    "\n",
    "As we've mentioned a few times now, our goal is to have our model deployed and then access it using a very simple web app. The intent is for this web app to take some user submitted data (a review), send it off to our endpoint (the model) and then display the result.\n",
    "\n",
    "However, there is a small catch. Currently the only way we can access the endpoint to send it data is using the SageMaker API. We can, if we wish, expose the actual URL that our model's endpoint is receiving data from, however, if we just send it data ourselves we will not get anything in return. This is because the endpoint created by SageMaker requires the entity accessing it have the correct permissions. So, we would need to somehow authenticate our web app with AWS.\n",
    "\n",
    "Having a website that authenticates to AWS seems a bit beyond the scope of this lesson so we will opt for an alternative approach. Namely, we will create a new endpoint which does not require authentication and which acts as a proxy for the SageMaker endpoint.\n",
    "\n",
    "As an additional constraint, we will try to avoid doing any data processing in the web app itself. Remember that when we constructed and tested our model we started with a movie review, then we simplified it by removing any html formatting and punctuation, then we constructed a bag of words embedding and the resulting vector is what we sent to our model. All of this needs to be done to our user input as well.\n",
    "\n",
    "Fortunately we can do all of this data processing in the backend, using Amazon's Lambda service.\n",
    "\n",
    "<img src=\"Web App Diagram.svg\">\n",
    "\n",
    "The diagram above gives an overview of how the various services will work together. On the far right is the model which we trained above and which will be deployed using SageMaker. On the far left is our web app that collects a user's movie review, sends it off and expects a positive or negative sentiment in return.\n",
    "\n",
    "In the middle is where some of the magic happens. We will construct a Lambda function, which you can think of as a straightforward Python function that can be executed whenever a specified event occurs. This Python function will do the data processing we need to perform on a user submitted review. In addition, we will give this function permission to send and recieve data from a SageMaker endpoint.\n",
    "\n",
    "Lastly, the method we will use to execute the Lambda function is a new endpoint that we will create using API Gateway. This endpoint will be a url that listens for data to be sent to it. Once it gets some data it will pass that data on to the Lambda function and then return whatever the Lambda function returns. Essentially it will act as an interface that lets our web app communicate with the Lambda function.\n",
    "\n",
    "### Processing a single review\n",
    "\n",
    "For now, suppose we are given a movie review by our user in the form of a string, like so:"
   ]
  },
  {
   "cell_type": "code",
   "execution_count": 35,
   "metadata": {},
   "outputs": [],
   "source": [
    "test_review = \"Nothing but a disgusting materialistic pageant of glistening abed remote control greed zombies, totally devoid of any heart or heat. A romantic comedy that has zero romantic chemestry and zero laughs!\""
   ]
  },
  {
   "cell_type": "markdown",
   "metadata": {},
   "source": [
    "How do we go from this string to the bag of words feature vector that is expected by our model?\n",
    "\n",
    "If we recall at the beginning of this notebook, the first step is to remove any unnecessary characters using the `review_to_words` method. Remember that we intentionally did this in a very simplistic way. This is because we are going to have to copy this method to our (eventual) Lambda function (we will go into more detail later) and this means it needs to be rather simplistic."
   ]
  },
  {
   "cell_type": "code",
   "execution_count": 36,
   "metadata": {},
   "outputs": [
    {
     "name": "stdout",
     "output_type": "stream",
     "text": [
      "nothing but a disgusting materialistic pageant of glistening abed remote control greed zombies totally devoid of any heart or heat a romantic comedy that has zero romantic chemestry and zero laughs\n"
     ]
    }
   ],
   "source": [
    "test_words = review_to_words(test_review)\n",
    "print(test_words)"
   ]
  },
  {
   "cell_type": "markdown",
   "metadata": {},
   "source": [
    "Next, we need to construct a bag of words embedding of the `test_words` string. To do this, remember that a bag of words embedding uses a `vocabulary` consisting of the most frequently appearing words in a set of documents. Then, for each word in the vocabulary we record the number of times that word appears in `test_words`. We constructed the `vocabulary` earlier using the training set for our problem so encoding `test_words` is relatively straightforward."
   ]
  },
  {
   "cell_type": "code",
   "execution_count": 37,
   "metadata": {},
   "outputs": [],
   "source": [
    "def bow_encoding(words, vocabulary):\n",
    "    bow = [0] * len(vocabulary) # Start by setting the count for each word in the vocabulary to zero.\n",
    "    for word in words.split():  # For each word in the string\n",
    "        if word in vocabulary:  # If the word is one that occurs in the vocabulary, increase its count.\n",
    "            bow[vocabulary[word]] += 1\n",
    "    return bow"
   ]
  },
  {
   "cell_type": "code",
   "execution_count": 38,
   "metadata": {},
   "outputs": [
    {
     "name": "stdout",
     "output_type": "stream",
     "text": [
      "[0, 0, 0, 0, 0, 0, 0, 0, 0, 0, 0, 0, 0, 0, 0, 0, 0, 0, 0, 0, 0, 0, 0, 0, 0, 0, 0, 0, 0, 0, 0, 0, 0, 0, 0, 0, 0, 0, 0, 0, 0, 0, 0, 0, 0, 0, 0, 0, 0, 0, 0, 0, 0, 0, 0, 0, 0, 0, 0, 0, 0, 0, 0, 0, 0, 0, 0, 0, 0, 0, 0, 0, 0, 0, 0, 0, 0, 0, 0, 0, 0, 0, 0, 0, 0, 0, 0, 0, 0, 0, 0, 0, 0, 0, 0, 0, 0, 0, 0, 0, 0, 0, 0, 0, 0, 0, 0, 0, 0, 0, 0, 0, 0, 0, 0, 0, 0, 0, 0, 0, 0, 0, 0, 0, 0, 0, 0, 0, 0, 0, 0, 0, 0, 0, 0, 0, 0, 0, 0, 0, 0, 0, 0, 0, 0, 0, 0, 0, 0, 0, 0, 0, 0, 0, 0, 0, 0, 0, 0, 0, 0, 0, 0, 0, 0, 0, 0, 0, 0, 0, 0, 0, 0, 0, 0, 0, 0, 0, 0, 0, 0, 0, 0, 0, 0, 0, 0, 0, 0, 0, 0, 0, 0, 0, 0, 0, 0, 0, 0, 0, 0, 0, 0, 0, 0, 0, 0, 0, 0, 0, 0, 0, 0, 0, 0, 0, 0, 0, 0, 0, 0, 0, 0, 0, 0, 0, 1, 0, 0, 0, 0, 0, 0, 0, 0, 0, 0, 0, 0, 0, 0, 0, 0, 0, 0, 0, 0, 0, 0, 0, 0, 0, 0, 0, 0, 0, 1, 0, 0, 0, 0, 0, 0, 0, 0, 0, 0, 0, 0, 0, 0, 0, 0, 0, 0, 0, 0, 0, 0, 0, 0, 0, 0, 0, 0, 0, 0, 0, 0, 0, 0, 0, 0, 0, 0, 0, 0, 0, 0, 0, 0, 0, 0, 0, 0, 0, 0, 0, 0, 0, 0, 0, 0, 0, 0, 0, 0, 0, 0, 0, 0, 0, 0, 0, 0, 0, 0, 0, 0, 0, 0, 0, 0, 0, 0, 0, 0, 0, 0, 0, 0, 0, 0, 0, 0, 0, 0, 0, 0, 0, 0, 0, 0, 0, 0, 0, 0, 0, 0, 0, 0, 0, 0, 0, 0, 0, 0, 0, 0, 0, 0, 0, 0, 0, 0, 0, 0, 0, 0, 0, 0, 0, 0, 0, 0, 0, 0, 0, 0, 0, 0, 0, 0, 0, 0, 0, 0, 0, 0, 0, 0, 0, 0, 0, 0, 0, 0, 0, 0, 0, 0, 0, 0, 0, 0, 0, 0, 0, 0, 0, 0, 0, 0, 0, 0, 0, 0, 0, 0, 0, 0, 0, 0, 0, 0, 0, 0, 0, 0, 0, 0, 0, 0, 0, 0, 0, 0, 0, 0, 0, 0, 0, 0, 0, 0, 0, 0, 0, 0, 0, 0, 0, 0, 0, 0, 0, 0, 0, 0, 0, 0, 0, 0, 0, 0, 0, 0, 0, 0, 0, 0, 0, 0, 0, 0, 0, 0, 0, 0, 0, 0, 0, 0, 0, 0, 0, 0, 0, 0, 0, 0, 0, 0, 0, 0, 0, 0, 0, 0, 0, 0, 0, 0, 0, 0, 0, 0, 0, 0, 0, 0, 0, 0, 0, 0, 0, 0, 0, 0, 0, 0, 0, 0, 0, 0, 0, 0, 0, 0, 0, 0, 0, 0, 0, 0, 0, 0, 0, 0, 0, 0, 0, 0, 0, 0, 0, 0, 0, 0, 0, 0, 0, 0, 0, 0, 0, 0, 0, 0, 0, 0, 0, 0, 0, 0, 0, 0, 0, 0, 0, 0, 0, 0, 0, 0, 0, 0, 0, 0, 0, 0, 0, 0, 0, 0, 0, 0, 0, 0, 0, 0, 0, 0, 0, 0, 0, 0, 0, 0, 0, 0, 0, 0, 0, 0, 0, 0, 0, 0, 0, 0, 0, 0, 0, 0, 0, 0, 0, 0, 0, 0, 0, 0, 0, 0, 0, 1, 0, 0, 0, 0, 0, 0, 0, 0, 0, 0, 0, 0, 0, 0, 0, 0, 0, 0, 0, 0, 0, 0, 0, 0, 0, 0, 0, 0, 0, 0, 0, 0, 0, 0, 0, 0, 0, 0, 0, 0, 0, 0, 0, 0, 0, 0, 0, 0, 0, 0, 0, 0, 0, 0, 0, 0, 0, 0, 0, 0, 0, 0, 0, 0, 0, 0, 0, 0, 0, 0, 0, 0, 0, 0, 0, 0, 0, 0, 0, 0, 0, 0, 0, 0, 0, 0, 0, 0, 0, 0, 0, 0, 0, 0, 0, 0, 0, 0, 0, 0, 0, 0, 0, 0, 0, 0, 0, 0, 0, 0, 0, 0, 0, 0, 0, 0, 0, 0, 0, 0, 0, 0, 0, 0, 0, 0, 0, 0, 0, 0, 0, 0, 0, 0, 0, 0, 0, 0, 0, 0, 0, 0, 0, 0, 0, 0, 0, 0, 0, 0, 0, 0, 0, 0, 0, 0, 0, 0, 0, 0, 0, 0, 0, 0, 0, 0, 0, 0, 0, 0, 0, 0, 0, 0, 0, 0, 0, 0, 0, 0, 0, 0, 0, 0, 0, 0, 0, 0, 0, 0, 0, 0, 0, 0, 0, 0, 0, 0, 0, 0, 0, 0, 0, 0, 0, 0, 0, 0, 0, 0, 0, 0, 0, 0, 0, 0, 0, 0, 0, 0, 0, 0, 0, 0, 0, 0, 0, 0, 0, 0, 0, 0, 0, 0, 0, 0, 0, 0, 0, 0, 0, 0, 0, 0, 0, 0, 0, 0, 0, 0, 0, 0, 0, 1, 0, 0, 0, 0, 0, 0, 0, 0, 0, 0, 0, 0, 0, 0, 0, 0, 0, 0, 0, 0, 0, 0, 0, 0, 0, 0, 0, 0, 0, 0, 0, 0, 0, 0, 0, 0, 0, 0, 0, 0, 0, 0, 0, 0, 0, 0, 0, 0, 0, 0, 0, 0, 0, 0, 0, 0, 0, 0, 0, 0, 0, 0, 0, 0, 0, 0, 0, 0, 0, 0, 0, 0, 0, 0, 0, 0, 0, 0, 0, 0, 0, 0, 0, 0, 0, 0, 1, 0, 0, 0, 0, 0, 0, 0, 0, 0, 0, 0, 0, 0, 0, 0, 0, 0, 0, 0, 0, 0, 0, 0, 0, 0, 0, 0, 0, 0, 0, 0, 0, 0, 0, 0, 0, 0, 0, 0, 0, 0, 0, 0, 0, 0, 0, 0, 0, 0, 0, 0, 0, 0, 0, 0, 0, 0, 0, 0, 0, 0, 0, 0, 0, 0, 0, 0, 0, 0, 0, 0, 0, 0, 0, 0, 0, 0, 0, 0, 0, 0, 0, 0, 0, 0, 0, 0, 0, 0, 0, 0, 0, 0, 0, 0, 0, 0, 0, 0, 0, 0, 0, 0, 0, 0, 0, 0, 0, 0, 0, 0, 0, 0, 0, 0, 0, 0, 0, 0, 0, 0, 0, 0, 0, 0, 0, 0, 0, 0, 0, 0, 0, 0, 0, 0, 0, 0, 0, 0, 0, 0, 0, 0, 0, 0, 0, 0, 0, 0, 0, 0, 0, 0, 0, 0, 0, 0, 0, 0, 0, 0, 0, 0, 0, 0, 0, 0, 0, 0, 0, 0, 0, 0, 0, 0, 0, 0, 0, 0, 0, 0, 0, 0, 0, 0, 0, 0, 0, 0, 0, 0, 0, 0, 0, 0, 0, 0, 0, 0, 0, 0, 0, 0, 0, 0, 0, 0, 0, 0, 0, 0, 0, 0, 0, 0, 0, 0, 0, 0, 0, 0, 0, 0, 0, 0, 0, 0, 0, 0, 0, 0, 0, 0, 0, 0, 0, 0, 0, 0, 0, 0, 0, 0, 0, 0, 0, 0, 0, 0, 0, 0, 0, 1, 0, 0, 0, 0, 0, 0, 0, 0, 0, 0, 0, 0, 0, 0, 0, 0, 0, 0, 0, 0, 0, 0, 0, 0, 0, 0, 0, 0, 0, 0, 0, 0, 0, 0, 0, 0, 0, 0, 0, 0, 0, 0, 0, 0, 0, 0, 0, 0, 0, 0, 0, 0, 0, 0, 0, 1, 0, 0, 0, 0, 0, 0, 0, 0, 0, 0, 0, 0, 0, 0, 0, 0, 0, 0, 0, 0, 0, 0, 0, 0, 0, 0, 0, 0, 0, 0, 0, 0, 0, 0, 0, 0, 0, 0, 0, 0, 0, 0, 0, 0, 0, 0, 0, 0, 0, 0, 0, 0, 0, 0, 0, 0, 0, 0, 0, 0, 0, 0, 0, 0, 0, 0, 0, 0, 0, 0, 0, 0, 0, 0, 0, 0, 0, 0, 0, 0, 0, 0, 0, 0, 0, 0, 0, 0, 0, 0, 0, 0, 0, 0, 0, 0, 0, 0, 0, 0, 0, 0, 0, 0, 0, 0, 0, 0, 0, 0, 0, 0, 0, 0, 0, 0, 0, 0, 0, 0, 0, 0, 0, 0, 0, 0, 0, 0, 0, 0, 0, 0, 0, 0, 0, 0, 0, 0, 0, 0, 0, 0, 0, 0, 0, 0, 0, 0, 0, 0, 0, 0, 0, 0, 0, 0, 0, 0, 0, 0, 0, 0, 0, 0, 0, 0, 0, 0, 0, 0, 0, 0, 0, 0, 0, 0, 0, 0, 0, 0, 0, 0, 0, 0, 0, 0, 0, 0, 0, 0, 0, 0, 0, 0, 0, 0, 0, 0, 0, 0, 0, 0, 0, 0, 0, 0, 0, 0, 0, 0, 0, 0, 0, 0, 0, 0, 0, 0, 0, 0, 0, 0, 0, 0, 0, 0, 0, 0, 0, 0, 0, 0, 0, 0, 0, 0, 0, 0, 0, 0, 0, 0, 0, 0, 0, 0, 0, 0, 0, 0, 0, 0, 0, 0, 0, 0, 0, 0, 0, 0, 0, 0, 0, 0, 0, 0, 0, 0, 0, 0, 0, 0, 0, 0, 0, 0, 0, 0, 0, 0, 0, 0, 0, 0, 0, 0, 0, 0, 0, 0, 0, 0, 0, 0, 0, 0, 0, 0, 0, 0, 0, 0, 0, 0, 0, 0, 0, 0, 0, 0, 0, 0, 0, 0, 0, 0, 0, 0, 0, 0, 0, 0, 0, 0, 0, 0, 0, 0, 0, 0, 0, 0, 0, 0, 0, 0, 0, 0, 0, 0, 0, 0, 0, 0, 0, 0, 0, 0, 0, 0, 0, 0, 0, 0, 0, 0, 0, 0, 0, 0, 0, 0, 0, 0, 0, 0, 0, 0, 0, 0, 0, 0, 0, 0, 0, 0, 0, 0, 0, 0, 0, 0, 0, 0, 0, 0, 0, 0, 0, 0, 0, 0, 0, 0, 0, 0, 0, 0, 0, 0, 0, 0, 0, 0, 0, 0, 0, 0, 0, 0, 0, 0, 0, 0, 0, 0, 0, 0, 0, 0, 0, 0, 0, 0, 0, 0, 0, 0, 0, 0, 0, 0, 0, 0, 0, 0, 0, 0, 0, 0, 0, 0, 0, 0, 0, 0, 0, 0, 0, 0, 0, 0, 0, 0, 0, 0, 0, 0, 0, 0, 0, 0, 0, 0, 0, 0, 0, 0, 0, 0, 0, 0, 0, 0, 0, 0, 0, 0, 0, 0, 0, 0, 0, 0, 0, 0, 0, 0, 0, 0, 0, 0, 0, 0, 0, 0, 0, 0, 0, 0, 0, 0, 0, 0, 0, 0, 0, 0, 0, 0, 0, 0, 0, 0, 0, 0, 0, 0, 0, 0, 0, 0, 0, 0, 0, 0, 0, 0, 0, 0, 0, 0, 0, 0, 0, 0, 0, 0, 0, 0, 0, 0, 0, 0, 0, 0, 0, 0, 0, 0, 0, 0, 0, 0, 0, 0, 0, 0, 0, 0, 0, 0, 0, 0, 0, 0, 0, 0, 0, 0, 0, 0, 0, 0, 0, 0, 0, 0, 0, 0, 0, 0, 0, 0, 0, 0, 0, 0, 0, 0, 0, 0, 0, 0, 0, 0, 0, 0, 0, 0, 0, 0, 0, 0, 0, 0, 0, 0, 0, 0, 0, 0, 0, 0, 0, 0, 0, 0, 0, 0, 0, 0, 0, 0, 0, 0, 0, 0, 0, 0, 0, 0, 0, 0, 0, 0, 0, 0, 0, 0, 0, 0, 0, 0, 0, 0, 0, 0, 0, 0, 0, 0, 0, 0, 0, 0, 0, 0, 0, 0, 0, 0, 0, 0, 0, 0, 0, 0, 0, 0, 0, 0, 0, 0, 0, 0, 0, 0, 0, 0, 0, 1, 0, 0, 0, 0, 0, 0, 0, 0, 0, 0, 0, 0, 0, 0, 0, 0, 0, 0, 0, 0, 0, 0, 0, 0, 0, 0, 0, 0, 0, 0, 0, 0, 0, 0, 0, 0, 0, 0, 0, 0, 0, 0, 0, 0, 0, 0, 0, 0, 0, 0, 0, 0, 0, 0, 0, 0, 0, 0, 0, 0, 0, 0, 0, 0, 0, 0, 0, 0, 0, 0, 0, 0, 0, 0, 1, 0, 0, 0, 0, 0, 0, 0, 0, 0, 0, 0, 0, 0, 0, 0, 0, 0, 0, 0, 0, 1, 0, 0, 1, 0, 0, 0, 0, 0, 0, 0, 0, 0, 0, 0, 0, 0, 0, 0, 0, 0, 0, 0, 0, 0, 0, 0, 0, 0, 0, 0, 0, 0, 0, 0, 0, 0, 0, 0, 0, 0, 0, 0, 0, 0, 0, 0, 0, 0, 0, 0, 0, 0, 0, 0, 0, 0, 0, 0, 0, 0, 0, 0, 0, 0, 0, 0, 0, 0, 0, 0, 0, 0, 0, 0, 0, 0, 0, 0, 0, 0, 0, 0, 0, 0, 0, 0, 0, 0, 0, 0, 0, 0, 0, 0, 0, 0, 0, 0, 0, 0, 0, 0, 0, 0, 0, 0, 0, 0, 0, 0, 0, 0, 0, 0, 0, 0, 0, 0, 0, 0, 0, 0, 0, 0, 0, 0, 0, 0, 0, 0, 0, 0, 0, 0, 0, 0, 0, 0, 0, 0, 0, 0, 0, 0, 0, 0, 0, 0, 0, 0, 0, 0, 0, 0, 0, 0, 0, 0, 0, 0, 0, 0, 0, 0, 0, 0, 0, 0, 0, 0, 0, 0, 0, 0, 0, 0, 0, 0, 0, 0, 0, 0, 0, 0, 0, 0, 0, 0, 0, 0, 0, 0, 0, 0, 0, 0, 0, 0, 0, 0, 0, 0, 0, 0, 0, 0, 0, 0, 0, 0, 0, 0, 0, 0, 0, 0, 0, 0, 0, 0, 0, 0, 0, 0, 0, 0, 0, 0, 0, 0, 0, 0, 0, 0, 0, 0, 0, 0, 0, 0, 0, 0, 0, 0, 0, 0, 0, 0, 0, 0, 0, 0, 0, 0, 0, 0, 0, 0, 0, 0, 0, 0, 0, 0, 0, 0, 0, 0, 0, 0, 0, 0, 0, 0, 0, 0, 0, 0, 0, 0, 0, 0, 0, 0, 0, 0, 0, 0, 0, 0, 0, 0, 0, 0, 0, 0, 0, 0, 0, 0, 0, 0, 0, 0, 0, 0, 0, 0, 0, 0, 0, 0, 0, 0, 0, 0, 0, 0, 0, 0, 0, 0, 0, 0, 0, 0, 0, 0, 0, 0, 0, 0, 0, 0, 0, 0, 0, 0, 0, 0, 0, 0, 0, 0, 0, 0, 0, 0, 0, 0, 0, 0, 0, 0, 0, 0, 0, 0, 0, 0, 0, 0, 0, 0, 0, 0, 0, 0, 0, 0, 0, 0, 0, 0, 0, 0, 0, 0, 0, 0, 0, 0, 0, 0, 0, 0, 0, 0, 0, 0, 0, 0, 0, 0, 0, 0, 0, 0, 0, 0, 0, 0, 0, 0, 0, 0, 0, 0, 0, 0, 0, 0, 0, 0, 0, 0, 0, 0, 0, 0, 0, 0, 0, 0, 0, 0, 0, 0, 0, 0, 0, 0, 0, 0, 0, 0, 0, 0, 0, 0, 0, 0, 0, 0, 0, 0, 0, 0, 0, 0, 0, 0, 0, 0, 0, 0, 0, 0, 0, 0, 0, 0, 0, 0, 0, 0, 0, 0, 0, 1, 0, 0, 0, 0, 0, 0, 0, 0, 0, 0, 0, 0, 0, 0, 0, 0, 0, 0, 0, 0, 0, 0, 0, 0, 0, 0, 0, 0, 0, 0, 0, 0, 0, 0, 0, 0, 0, 0, 0, 0, 0, 0, 0, 0, 0, 0, 0, 0, 0, 0, 0, 0, 0, 0, 0, 0, 0, 0, 0, 0, 0, 0, 0, 0, 0, 0, 0, 0, 0, 0, 0, 0, 0, 0, 0, 0, 0, 0, 0, 0, 0, 0, 0, 0, 0, 0, 0, 0, 0, 0, 0, 0, 0, 0, 0, 0, 0, 0, 0, 0, 0, 0, 0, 0, 0, 0, 0, 0, 0, 0, 0, 0, 0, 0, 0, 0, 0, 0, 0, 0, 0, 0, 0, 0, 0, 0, 0, 0, 0, 0, 0, 0, 0, 0, 0, 0, 0, 0, 0, 0, 0, 0, 0, 0, 0, 0, 0, 0, 0, 0, 0, 0, 0, 0, 0, 0, 0, 0, 0, 0, 0, 0, 0, 0, 0, 0, 0, 0, 0, 0, 0, 0, 0, 0, 0, 0, 0, 0, 0, 0, 0, 0, 0, 0, 0, 0, 0, 0, 0, 0, 0, 0, 0, 0, 0, 0, 0, 0, 0, 0, 0, 0, 0, 0, 0, 0, 0, 0, 0, 0, 0, 0, 0, 0, 0, 0, 0, 0, 0, 0, 0, 0, 0, 0, 0, 0, 0, 0, 0, 0, 0, 0, 0, 0, 0, 0, 0, 0, 0, 0, 0, 0, 0, 0, 0, 0, 0, 0, 0, 0, 0, 0, 0, 0, 0, 0, 0, 0, 0, 0, 0, 0, 0, 0, 0, 0, 0, 0, 0, 0, 0, 0, 0, 0, 0, 0, 0, 0, 0, 0, 0, 0, 0, 0, 0, 0, 0, 0, 0, 0, 0, 0, 0, 0, 0, 0, 0, 0, 0, 0, 0, 0, 0, 0, 0, 0, 0, 0, 0, 0, 0, 0, 0, 0, 0, 0, 0, 0, 0, 0, 0, 0, 0, 0, 0, 0, 0, 0, 0, 0, 0, 0, 0, 0, 0, 0, 0, 0, 0, 0, 0, 0, 0, 0, 0, 0, 0, 0, 0, 0, 0, 0, 0, 0, 0, 0, 0, 0, 0, 0, 0, 0, 0, 0, 0, 0, 0, 0, 0, 0, 0, 0, 0, 0, 0, 0, 0, 0, 0, 0, 0, 0, 0, 0, 0, 0, 0, 0, 0, 0, 0, 0, 0, 0, 0, 0, 0, 0, 0, 0, 0, 0, 0, 0, 0, 0, 0, 0, 0, 0, 0, 0, 0, 0, 0, 0, 0, 0, 0, 0, 0, 0, 0, 0, 0, 0, 0, 0, 0, 0, 0, 0, 0, 0, 0, 0, 0, 0, 0, 0, 0, 0, 0, 0, 0, 0, 0, 0, 0, 0, 0, 0, 0, 0, 0, 0, 0, 0, 0, 0, 0, 0, 0, 0, 0, 0, 0, 0, 0, 0, 0, 0, 0, 0, 0, 0, 0, 0, 0, 0, 0, 0, 0, 0, 0, 0, 0, 0, 0, 0, 0, 0, 0, 0, 0, 0, 0, 0, 0, 0, 0, 0, 0, 0, 0, 0, 0, 0, 0, 0, 0, 0, 1, 0, 0, 0, 0, 0, 0, 0, 0, 0, 0, 0, 0, 0, 0, 0, 0, 0, 0, 0, 0, 0, 0, 0, 0, 0, 0, 0, 0, 0, 0, 0, 0, 0, 0, 0, 2, 0, 0, 0, 0, 0, 0, 0, 0, 0, 0, 0, 0, 0, 0, 0, 0, 0, 0, 0, 0, 0, 0, 0, 0, 0, 0, 0, 0, 0, 0, 0, 0, 0, 0, 0, 0, 0, 0, 0, 0, 1, 0, 0, 0, 0, 0, 0, 0, 0, 0, 0, 0, 0, 0, 0, 0, 0, 0, 0, 0, 0, 0, 0, 0, 0, 0, 0, 0, 0, 0, 0, 0, 0, 0, 0, 0, 0, 0, 0, 0, 0, 0, 0, 0, 0, 0, 0, 0, 0, 0, 0, 0, 0, 0, 0, 0, 0, 0, 0, 0, 0, 0, 0, 0, 0, 0, 0, 0, 0, 0, 0, 0, 0, 0, 0, 0, 0, 0, 0, 0, 0, 0, 0, 0, 0, 0, 0, 0, 0, 0, 0, 0, 0, 0, 0, 0, 0, 0, 0, 0, 0, 0, 0, 0, 0, 0, 0, 0, 0, 0, 0, 0, 0, 0, 0, 0, 0, 0, 0, 0, 0, 0, 0, 0, 0, 0, 0, 0, 0, 0, 0, 0, 0, 0, 0, 0, 0, 0, 0, 0, 0, 0, 0, 0, 0, 0, 0, 0, 0, 0, 0, 0, 0, 0, 0, 0, 0, 0, 0, 0, 0, 0, 0, 0, 0, 0, 0, 0, 0, 0, 0, 0, 0, 0, 0, 0, 0, 0, 0, 0, 0, 0, 0, 0, 0, 0, 0, 0, 0, 0, 0, 0, 0, 0, 0, 0, 0, 0, 0, 0, 0, 0, 0, 0, 0, 0, 0, 0, 0, 0, 0, 0, 0, 0, 0, 0, 0, 0, 0, 0, 0, 0, 0, 0, 0, 0, 0, 0, 0, 0, 0, 0, 0, 0, 0, 0, 0, 0, 0, 0, 0, 0, 0, 0, 0, 0, 0, 0, 0, 0, 0, 0, 0, 0, 0, 0, 0, 0, 0, 0, 0, 0, 0, 0, 0, 0, 0, 0, 0, 0, 0, 0, 0, 0, 0, 0, 0, 0, 0, 0, 0, 0, 0, 0, 0, 0, 0, 0, 0, 0, 0, 0, 0, 0, 0, 0, 0, 0, 0, 0, 0, 0, 0, 0, 0, 0, 0, 0, 0, 0, 0, 0, 0, 0, 0, 0, 0, 0, 0, 0, 0, 0, 0, 0, 0, 0, 0, 0, 0, 0, 0, 0, 0, 0, 0, 0, 0, 0, 0, 0, 0, 0, 0, 0, 0, 0, 0, 0, 0, 0, 0, 0, 0, 0, 0, 0, 0, 0, 0, 0, 0, 0, 0, 0, 0, 0, 0, 0, 0, 0, 0, 0, 0, 0, 0, 0, 0, 0, 0, 0, 0, 0, 0, 0, 0, 0, 0, 0, 0, 0, 0, 0, 0, 0, 0, 0, 0, 0, 0, 0, 0, 0, 0, 0, 0, 0, 0, 0, 0, 0, 0, 0, 0, 0, 0, 0, 0, 0, 0, 0, 0, 0, 0, 0, 0, 0, 0, 0, 0, 0, 0, 0, 0, 0, 0, 0, 0, 0, 0, 0, 0, 0, 0, 0, 0, 0, 0, 0, 0, 0, 0, 0, 0, 0, 0, 0, 0, 0, 0, 0, 0, 0, 0, 0, 0, 0, 0, 0, 0, 0, 0, 0, 0, 0, 0, 0, 0, 0, 0, 0, 0, 0, 0, 0, 0, 0, 0, 0, 0, 0, 0, 0, 0, 0, 0, 0, 0, 0, 1, 0, 0, 0, 0, 0, 0, 0, 0, 0, 0, 0, 0, 0, 0, 0, 0, 0, 0, 0, 0, 0, 0, 0, 0, 0, 0, 0, 0, 0, 0, 0, 0, 0, 0, 0, 0, 0, 0, 0, 0, 0, 0, 0, 0, 0, 0, 0, 0, 0, 0, 0, 0, 0, 0, 0, 0, 0, 0, 0, 0, 0, 0, 0, 0, 0, 0, 0, 0, 0, 0, 0, 0, 0, 0, 0, 0, 0, 0, 0, 0, 0, 0, 0, 0, 0, 0, 0, 0, 0, 0, 0, 0, 0, 0, 0, 0, 0, 0, 0, 0, 0, 0, 0, 0, 0, 0, 0, 0, 0, 0, 2, 0, 0, 0, 0, 0, 0, 0, 0, 0, 0, 0, 0, 0, 0, 0, 0, 0, 0, 0, 0, 0, 0, 0, 0, 0, 0, 0, 0, 0, 0, 0, 0, 0, 0, 0, 0, 0, 0, 0, 0, 0, 0, 0, 0, 0, 0, 0, 0, 0, 0, 0, 0, 0, 0, 0, 0, 0, 0, 0, 0, 0, 0, 0, 0, 0, 0, 0, 0, 0, 0, 0, 0, 0, 0, 0, 0, 0, 0, 0, 0, 0, 0, 0, 0, 0, 0, 0, 0, 0, 0, 0, 0, 0, 0, 0, 0, 0, 0, 0, 0, 0, 0, 0, 0, 0, 0, 0, 0, 0, 0, 0, 0, 0, 0, 0, 0, 0, 0, 0, 0, 0, 0, 0, 0, 0, 0, 0, 0, 0, 0, 0, 0, 0, 0, 0, 0, 0, 0, 0, 0, 0, 0, 0, 0, 0, 0, 0, 0, 0, 0, 0, 0, 0, 0, 0, 0, 0, 0, 0, 0, 0, 0, 0, 0, 0, 0, 0, 0, 0, 0, 0, 0, 0, 0, 0, 0, 0, 0, 0, 0, 0, 0, 0, 0, 0, 0, 0, 0, 0, 0, 0, 0, 0, 0, 0, 0, 0, 0, 0, 0, 0, 0, 0, 0, 0, 0, 0, 0, 0, 0, 0, 0, 0, 0, 0, 0, 0, 0, 0, 0, 0, 0, 0, 0, 0, 0, 0, 0, 0, 0, 0, 0, 0, 0, 0, 0, 0, 0, 0, 0, 0, 0, 0, 0, 0, 0, 0, 0, 0, 0, 0, 0, 0, 0, 0, 0, 0, 0, 0, 0, 0, 0, 0, 0, 0, 0, 0, 0, 0, 0, 0, 0, 0, 0, 0, 0, 0, 0, 0, 0, 0, 0, 0, 0, 0, 0, 0, 0, 0, 0, 0, 0, 0, 0, 0, 0, 0, 0, 0, 0, 0, 0, 0, 0, 0, 0, 0, 0, 0, 0, 0, 0, 0, 0, 0, 0, 0, 0, 0, 0, 0, 0, 0, 0, 0, 0, 0, 0, 0, 0, 0, 0, 0, 0, 0, 0, 0, 0, 0, 0, 0, 0, 0, 0, 0, 0, 0, 0, 0, 0, 0, 0, 0, 0, 0, 0, 0, 0, 0, 0, 0, 0, 0, 0, 0, 0, 0, 0, 0, 0, 0, 0, 0, 0, 0, 0, 0, 0, 0, 0, 0, 0, 0, 0, 0, 0, 0, 0, 0, 0, 0, 0, 0, 0, 0, 0, 0, 0, 0, 0, 0, 0, 0, 0, 0, 0, 0, 0, 0, 0, 0, 0, 0, 0, 0, 0, 0, 0, 0, 0, 0, 0, 0, 0, 0, 0, 0, 0, 0, 0, 0, 0, 0, 0, 0, 0, 0, 0, 0, 0, 0, 0, 0, 0, 0, 0, 0, 0, 0, 0, 0, 0, 0, 0, 0, 0, 0, 0, 0, 0, 0, 0, 0, 0, 0, 0, 0, 0, 0, 0, 0, 0, 0, 0, 0, 0, 0, 0, 0, 0, 0, 0, 0, 0, 0, 0, 0, 0, 0, 0, 0, 0, 0, 0, 0, 0, 0, 0, 0, 0, 0, 0, 0, 0, 0, 0, 0, 0, 0, 0, 0, 0, 0, 0, 0, 0, 0, 0, 0, 0, 0, 0, 0, 0, 0, 0, 0, 0, 0, 0, 0, 0, 0, 0, 0, 0, 0, 0, 0, 0, 0, 0, 0, 0, 0, 0, 0, 0, 0, 0, 0, 0, 0, 0, 0, 0, 0, 0, 0, 0, 0, 0, 0, 0, 0, 0, 0, 0, 0, 0, 0, 0, 0, 0, 0, 0, 0, 0, 0, 0, 0, 0, 0, 0, 0, 0, 0, 0, 0, 0, 0, 0, 0, 0, 0, 0, 0, 0, 0, 0, 0, 0, 0, 0, 0, 0, 0, 0, 0, 0, 0, 0, 0, 0, 0, 0, 0, 0, 0, 0, 0, 0, 0, 0, 0, 0, 0, 0, 0, 0, 0, 0, 0, 0, 0, 0, 0, 0, 0, 0, 0, 0, 0, 0, 0, 0, 0, 0, 0, 0, 0, 0, 0, 0, 0, 0, 0, 0, 0, 0, 0, 0, 0, 0, 0, 0, 0, 0, 0, 0, 0, 0, 0, 0, 0, 0, 0, 0, 0, 0, 0, 0, 0, 0, 0, 0, 0, 0, 0, 0, 1, 0, 0, 0, 0, 0, 0, 0, 0, 0, 0, 0, 0, 0, 0, 0, 0, 0, 0, 0, 0, 0, 0, 0, 0, 0, 0, 0, 0, 0, 0, 0, 0, 0, 0, 0, 0, 0, 0, 0, 0, 0, 0, 0, 0, 0, 0, 0, 0, 0, 0, 0, 0, 0, 0, 0, 0, 0, 0, 0, 0, 0, 0, 0, 0, 0, 0, 0, 0, 0, 0, 0, 0, 0, 0, 0, 0, 0, 0, 0, 0, 0, 0, 0, 0, 0, 0, 0, 0, 0, 0, 0, 0, 0, 0, 0, 0, 0, 0, 0, 0, 0, 0, 0, 0, 0, 0, 0, 1, 0, 0, 0, 0, 0, 0, 0, 0, 0, 0, 0, 0, 0, 0, 0, 0, 0, 0, 0, 0, 0, 0, 0, 0, 0, 0, 0, 0, 0, 0, 0, 0, 0, 0, 0, 0, 0, 0, 0, 0, 0, 0, 0, 0, 0, 0, 0, 0, 0, 0, 0, 0, 0, 0, 0, 0, 0, 0, 0, 0, 0, 0, 0, 0, 0, 0, 0, 0, 0, 0, 0, 0, 0, 0, 0, 0, 0, 0, 0, 0, 0, 0, 0, 0, 0, 0, 0, 0, 0, 0, 0, 0, 0, 0, 0, 0, 0, 0, 0, 0, 0, 0, 0, 0, 0, 0, 0, 0, 0, 0, 0, 0, 0, 0, 0, 0, 0, 0, 0, 0, 0, 0, 0, 0, 0, 0, 0, 0, 0, 0, 0, 0, 0, 0, 0, 0, 0, 0, 0, 0, 0, 0, 0, 0, 0, 0, 0, 0, 0, 0, 0, 0, 0, 0, 0, 0, 0, 0, 0, 0, 0, 0, 0, 0, 0, 0, 0, 0, 0, 0, 0, 0, 0, 0, 0, 0, 0, 0, 0, 0, 0, 0, 0, 0, 0, 0, 0, 0, 0, 0, 0, 0, 0, 0, 0, 0, 0, 0, 0, 0, 0, 0, 0, 0, 0, 0, 0, 0, 0, 0, 0, 0, 0, 0, 0, 0, 0, 0, 0, 0, 0, 0, 0, 0, 0, 0, 0, 0, 0, 0, 0, 0, 0, 0, 0, 0, 0, 0, 0, 0, 0, 0, 0, 0, 0, 0, 0, 0, 0, 0, 0, 0, 0, 0, 0, 0, 0, 0, 0, 0, 0, 0, 0, 0, 0, 0, 0, 0, 0, 0, 0, 0, 0, 0, 0, 0, 0, 0, 0, 0, 0, 0, 0, 0, 0, 0, 0, 0, 0, 0, 0, 0, 0, 0, 0, 0, 0, 0, 0, 0, 0, 0, 0, 0, 0, 0, 0, 0, 0, 0, 0, 0, 0, 0, 0, 0, 0, 0, 0, 0, 0, 0, 0, 0, 0, 0, 0, 0, 0, 0, 0, 0, 0, 0, 0, 0, 0, 0, 0, 0, 0, 0, 0, 0, 0, 0, 0, 0, 0, 0, 0, 0, 0, 0, 0, 0, 0, 0, 0, 0, 0, 0, 0, 0, 0, 0, 0, 0, 0, 0, 0, 0, 0, 0, 0, 0, 0, 0, 0, 0, 0, 0, 0, 0, 0, 0, 0, 0, 0, 0, 0, 0, 0, 0, 0, 0, 0, 0, 0, 0, 0, 0, 0, 0, 0, 0, 0, 0, 0, 0, 0, 0, 0, 0, 0, 0, 0, 0, 0, 0, 0, 0, 0, 0, 0, 0, 0, 0, 0, 0, 0, 0, 0, 0, 0, 0, 0, 0, 0, 0, 0, 0, 0, 0, 0, 0, 0, 0, 0, 0, 0, 0, 0, 0, 0, 0, 0, 0, 0, 0, 0, 0, 0, 2, 0, 1, 0]\n"
     ]
    }
   ],
   "source": [
    "test_bow = bow_encoding(test_words, vocabulary)\n",
    "print(test_bow)"
   ]
  },
  {
   "cell_type": "code",
   "execution_count": 39,
   "metadata": {},
   "outputs": [
    {
     "data": {
      "text/plain": [
       "5000"
      ]
     },
     "execution_count": 39,
     "metadata": {},
     "output_type": "execute_result"
    }
   ],
   "source": [
    "len(test_bow)"
   ]
  },
  {
   "cell_type": "markdown",
   "metadata": {},
   "source": [
    "So now we know how to construct a bag of words encoding of a user provided review, how to we send it to our endpoint? First, we need to start the endpoint back up."
   ]
  },
  {
   "cell_type": "code",
   "execution_count": null,
   "metadata": {},
   "outputs": [],
   "source": [
    "xgb_predictor = xgb.deploy(initial_instance_count = 1, instance_type = 'ml.m4.xlarge')"
   ]
  },
  {
   "cell_type": "markdown",
   "metadata": {},
   "source": [
    "At this point we could just do the same thing that we did earlier when we tested our deployed model and send `test_bow` to our endpoint using the `xgb_predictor` object. However, when we eventually construct our Lambda function we won't have access to this object, so how do we call a SageMaker endpoint?\n",
    "\n",
    "It turns out that Python functions that are used in Lambda have access to another Amazon library called `boto3`. This library provides an API for working with Amazon services, including SageMaker. To start with, we need to get a handle to the SageMaker runtime."
   ]
  },
  {
   "cell_type": "code",
   "execution_count": 40,
   "metadata": {},
   "outputs": [],
   "source": [
    "import boto3\n",
    "\n",
    "runtime = boto3.Session().client('sagemaker-runtime')"
   ]
  },
  {
   "cell_type": "markdown",
   "metadata": {},
   "source": [
    "And now that we have access to the SageMaker runtime, we can ask it to make use of (invoke) an endpoint that has already been created. However, we need to provide SageMaker with the name of the deployed endpoint. To find this out we can print it out using the `xgb_predictor` object."
   ]
  },
  {
   "cell_type": "code",
   "execution_count": 47,
   "metadata": {},
   "outputs": [
    {
     "data": {
      "text/plain": [
       "'xgboost-2019-12-12-14-19-30-633'"
      ]
     },
     "execution_count": 47,
     "metadata": {},
     "output_type": "execute_result"
    }
   ],
   "source": [
    "xgb_predictor.endpoint"
   ]
  },
  {
   "cell_type": "markdown",
   "metadata": {},
   "source": [
    "Using the SageMaker runtime and the name of our endpoint, we can invoke the endpoint and send it the `test_bow` data."
   ]
  },
  {
   "cell_type": "code",
   "execution_count": 48,
   "metadata": {},
   "outputs": [
    {
     "ename": "ParamValidationError",
     "evalue": "Parameter validation failed:\nInvalid type for parameter Body, value: [0, 0, 0, 0, 0, 0, 0, 0, 0, 0, 0, 0, 0, 0, 0, 0, 0, 0, 0, 0, 0, 0, 0, 0, 0, 0, 0, 0, 0, 0, 0, 0, 0, 0, 0, 0, 0, 0, 0, 0, 0, 0, 0, 0, 0, 0, 0, 0, 0, 0, 0, 0, 0, 0, 0, 0, 0, 0, 0, 0, 0, 0, 0, 0, 0, 0, 0, 0, 0, 0, 0, 0, 0, 0, 0, 0, 0, 0, 0, 0, 0, 0, 0, 0, 0, 0, 0, 0, 0, 0, 0, 0, 0, 0, 0, 0, 0, 0, 0, 0, 0, 0, 0, 0, 0, 0, 0, 0, 0, 0, 0, 0, 0, 0, 0, 0, 0, 0, 0, 0, 0, 0, 0, 0, 0, 0, 0, 0, 0, 0, 0, 0, 0, 0, 0, 0, 0, 0, 0, 0, 0, 0, 0, 0, 0, 0, 0, 0, 0, 0, 0, 0, 0, 0, 0, 0, 0, 0, 0, 0, 0, 0, 0, 0, 0, 0, 0, 0, 0, 0, 0, 0, 0, 0, 0, 0, 0, 0, 0, 0, 0, 0, 0, 0, 0, 0, 0, 0, 0, 0, 0, 0, 0, 0, 0, 0, 0, 0, 0, 0, 0, 0, 0, 0, 0, 0, 0, 0, 0, 0, 0, 0, 0, 0, 0, 0, 0, 0, 0, 0, 0, 0, 0, 0, 0, 0, 1, 0, 0, 0, 0, 0, 0, 0, 0, 0, 0, 0, 0, 0, 0, 0, 0, 0, 0, 0, 0, 0, 0, 0, 0, 0, 0, 0, 0, 0, 1, 0, 0, 0, 0, 0, 0, 0, 0, 0, 0, 0, 0, 0, 0, 0, 0, 0, 0, 0, 0, 0, 0, 0, 0, 0, 0, 0, 0, 0, 0, 0, 0, 0, 0, 0, 0, 0, 0, 0, 0, 0, 0, 0, 0, 0, 0, 0, 0, 0, 0, 0, 0, 0, 0, 0, 0, 0, 0, 0, 0, 0, 0, 0, 0, 0, 0, 0, 0, 0, 0, 0, 0, 0, 0, 0, 0, 0, 0, 0, 0, 0, 0, 0, 0, 0, 0, 0, 0, 0, 0, 0, 0, 0, 0, 0, 0, 0, 0, 0, 0, 0, 0, 0, 0, 0, 0, 0, 0, 0, 0, 0, 0, 0, 0, 0, 0, 0, 0, 0, 0, 0, 0, 0, 0, 0, 0, 0, 0, 0, 0, 0, 0, 0, 0, 0, 0, 0, 0, 0, 0, 0, 0, 0, 0, 0, 0, 0, 0, 0, 0, 0, 0, 0, 0, 0, 0, 0, 0, 0, 0, 0, 0, 0, 0, 0, 0, 0, 0, 0, 0, 0, 0, 0, 0, 0, 0, 0, 0, 0, 0, 0, 0, 0, 0, 0, 0, 0, 0, 0, 0, 0, 0, 0, 0, 0, 0, 0, 0, 0, 0, 0, 0, 0, 0, 0, 0, 0, 0, 0, 0, 0, 0, 0, 0, 0, 0, 0, 0, 0, 0, 0, 0, 0, 0, 0, 0, 0, 0, 0, 0, 0, 0, 0, 0, 0, 0, 0, 0, 0, 0, 0, 0, 0, 0, 0, 0, 0, 0, 0, 0, 0, 0, 0, 0, 0, 0, 0, 0, 0, 0, 0, 0, 0, 0, 0, 0, 0, 0, 0, 0, 0, 0, 0, 0, 0, 0, 0, 0, 0, 0, 0, 0, 0, 0, 0, 0, 0, 0, 0, 0, 0, 0, 0, 0, 0, 0, 0, 0, 0, 0, 0, 0, 0, 0, 0, 0, 0, 0, 0, 0, 0, 0, 0, 0, 0, 0, 0, 0, 0, 0, 0, 0, 0, 0, 0, 0, 0, 0, 0, 0, 0, 0, 0, 0, 0, 0, 0, 0, 0, 0, 0, 0, 0, 0, 0, 0, 0, 0, 0, 0, 0, 0, 0, 0, 0, 0, 0, 0, 0, 0, 0, 0, 0, 0, 0, 0, 0, 0, 0, 0, 0, 0, 0, 0, 0, 0, 0, 0, 0, 1, 0, 0, 0, 0, 0, 0, 0, 0, 0, 0, 0, 0, 0, 0, 0, 0, 0, 0, 0, 0, 0, 0, 0, 0, 0, 0, 0, 0, 0, 0, 0, 0, 0, 0, 0, 0, 0, 0, 0, 0, 0, 0, 0, 0, 0, 0, 0, 0, 0, 0, 0, 0, 0, 0, 0, 0, 0, 0, 0, 0, 0, 0, 0, 0, 0, 0, 0, 0, 0, 0, 0, 0, 0, 0, 0, 0, 0, 0, 0, 0, 0, 0, 0, 0, 0, 0, 0, 0, 0, 0, 0, 0, 0, 0, 0, 0, 0, 0, 0, 0, 0, 0, 0, 0, 0, 0, 0, 0, 0, 0, 0, 0, 0, 0, 0, 0, 0, 0, 0, 0, 0, 0, 0, 0, 0, 0, 0, 0, 0, 0, 0, 0, 0, 0, 0, 0, 0, 0, 0, 0, 0, 0, 0, 0, 0, 0, 0, 0, 0, 0, 0, 0, 0, 0, 0, 0, 0, 0, 0, 0, 0, 0, 0, 0, 0, 0, 0, 0, 0, 0, 0, 0, 0, 0, 0, 0, 0, 0, 0, 0, 0, 0, 0, 0, 0, 0, 0, 0, 0, 0, 0, 0, 0, 0, 0, 0, 0, 0, 0, 0, 0, 0, 0, 0, 0, 0, 0, 0, 0, 0, 0, 0, 0, 0, 0, 0, 0, 0, 0, 0, 0, 0, 0, 0, 0, 0, 0, 0, 0, 0, 0, 0, 0, 0, 0, 0, 0, 0, 0, 0, 0, 0, 0, 0, 0, 0, 0, 0, 0, 0, 0, 0, 0, 1, 0, 0, 0, 0, 0, 0, 0, 0, 0, 0, 0, 0, 0, 0, 0, 0, 0, 0, 0, 0, 0, 0, 0, 0, 0, 0, 0, 0, 0, 0, 0, 0, 0, 0, 0, 0, 0, 0, 0, 0, 0, 0, 0, 0, 0, 0, 0, 0, 0, 0, 0, 0, 0, 0, 0, 0, 0, 0, 0, 0, 0, 0, 0, 0, 0, 0, 0, 0, 0, 0, 0, 0, 0, 0, 0, 0, 0, 0, 0, 0, 0, 0, 0, 0, 0, 0, 1, 0, 0, 0, 0, 0, 0, 0, 0, 0, 0, 0, 0, 0, 0, 0, 0, 0, 0, 0, 0, 0, 0, 0, 0, 0, 0, 0, 0, 0, 0, 0, 0, 0, 0, 0, 0, 0, 0, 0, 0, 0, 0, 0, 0, 0, 0, 0, 0, 0, 0, 0, 0, 0, 0, 0, 0, 0, 0, 0, 0, 0, 0, 0, 0, 0, 0, 0, 0, 0, 0, 0, 0, 0, 0, 0, 0, 0, 0, 0, 0, 0, 0, 0, 0, 0, 0, 0, 0, 0, 0, 0, 0, 0, 0, 0, 0, 0, 0, 0, 0, 0, 0, 0, 0, 0, 0, 0, 0, 0, 0, 0, 0, 0, 0, 0, 0, 0, 0, 0, 0, 0, 0, 0, 0, 0, 0, 0, 0, 0, 0, 0, 0, 0, 0, 0, 0, 0, 0, 0, 0, 0, 0, 0, 0, 0, 0, 0, 0, 0, 0, 0, 0, 0, 0, 0, 0, 0, 0, 0, 0, 0, 0, 0, 0, 0, 0, 0, 0, 0, 0, 0, 0, 0, 0, 0, 0, 0, 0, 0, 0, 0, 0, 0, 0, 0, 0, 0, 0, 0, 0, 0, 0, 0, 0, 0, 0, 0, 0, 0, 0, 0, 0, 0, 0, 0, 0, 0, 0, 0, 0, 0, 0, 0, 0, 0, 0, 0, 0, 0, 0, 0, 0, 0, 0, 0, 0, 0, 0, 0, 0, 0, 0, 0, 0, 0, 0, 0, 0, 0, 0, 0, 0, 0, 0, 0, 0, 0, 0, 0, 0, 0, 0, 1, 0, 0, 0, 0, 0, 0, 0, 0, 0, 0, 0, 0, 0, 0, 0, 0, 0, 0, 0, 0, 0, 0, 0, 0, 0, 0, 0, 0, 0, 0, 0, 0, 0, 0, 0, 0, 0, 0, 0, 0, 0, 0, 0, 0, 0, 0, 0, 0, 0, 0, 0, 0, 0, 0, 0, 1, 0, 0, 0, 0, 0, 0, 0, 0, 0, 0, 0, 0, 0, 0, 0, 0, 0, 0, 0, 0, 0, 0, 0, 0, 0, 0, 0, 0, 0, 0, 0, 0, 0, 0, 0, 0, 0, 0, 0, 0, 0, 0, 0, 0, 0, 0, 0, 0, 0, 0, 0, 0, 0, 0, 0, 0, 0, 0, 0, 0, 0, 0, 0, 0, 0, 0, 0, 0, 0, 0, 0, 0, 0, 0, 0, 0, 0, 0, 0, 0, 0, 0, 0, 0, 0, 0, 0, 0, 0, 0, 0, 0, 0, 0, 0, 0, 0, 0, 0, 0, 0, 0, 0, 0, 0, 0, 0, 0, 0, 0, 0, 0, 0, 0, 0, 0, 0, 0, 0, 0, 0, 0, 0, 0, 0, 0, 0, 0, 0, 0, 0, 0, 0, 0, 0, 0, 0, 0, 0, 0, 0, 0, 0, 0, 0, 0, 0, 0, 0, 0, 0, 0, 0, 0, 0, 0, 0, 0, 0, 0, 0, 0, 0, 0, 0, 0, 0, 0, 0, 0, 0, 0, 0, 0, 0, 0, 0, 0, 0, 0, 0, 0, 0, 0, 0, 0, 0, 0, 0, 0, 0, 0, 0, 0, 0, 0, 0, 0, 0, 0, 0, 0, 0, 0, 0, 0, 0, 0, 0, 0, 0, 0, 0, 0, 0, 0, 0, 0, 0, 0, 0, 0, 0, 0, 0, 0, 0, 0, 0, 0, 0, 0, 0, 0, 0, 0, 0, 0, 0, 0, 0, 0, 0, 0, 0, 0, 0, 0, 0, 0, 0, 0, 0, 0, 0, 0, 0, 0, 0, 0, 0, 0, 0, 0, 0, 0, 0, 0, 0, 0, 0, 0, 0, 0, 0, 0, 0, 0, 0, 0, 0, 0, 0, 0, 0, 0, 0, 0, 0, 0, 0, 0, 0, 0, 0, 0, 0, 0, 0, 0, 0, 0, 0, 0, 0, 0, 0, 0, 0, 0, 0, 0, 0, 0, 0, 0, 0, 0, 0, 0, 0, 0, 0, 0, 0, 0, 0, 0, 0, 0, 0, 0, 0, 0, 0, 0, 0, 0, 0, 0, 0, 0, 0, 0, 0, 0, 0, 0, 0, 0, 0, 0, 0, 0, 0, 0, 0, 0, 0, 0, 0, 0, 0, 0, 0, 0, 0, 0, 0, 0, 0, 0, 0, 0, 0, 0, 0, 0, 0, 0, 0, 0, 0, 0, 0, 0, 0, 0, 0, 0, 0, 0, 0, 0, 0, 0, 0, 0, 0, 0, 0, 0, 0, 0, 0, 0, 0, 0, 0, 0, 0, 0, 0, 0, 0, 0, 0, 0, 0, 0, 0, 0, 0, 0, 0, 0, 0, 0, 0, 0, 0, 0, 0, 0, 0, 0, 0, 0, 0, 0, 0, 0, 0, 0, 0, 0, 0, 0, 0, 0, 0, 0, 0, 0, 0, 0, 0, 0, 0, 0, 0, 0, 0, 0, 0, 0, 0, 0, 0, 0, 0, 0, 0, 0, 0, 0, 0, 0, 0, 0, 0, 0, 0, 0, 0, 0, 0, 0, 0, 0, 0, 0, 0, 0, 0, 0, 0, 0, 0, 0, 0, 0, 0, 0, 0, 0, 0, 0, 0, 0, 0, 0, 0, 0, 0, 0, 0, 0, 0, 0, 0, 0, 0, 0, 0, 0, 0, 0, 0, 0, 0, 0, 0, 0, 0, 0, 0, 0, 0, 0, 0, 0, 0, 0, 0, 0, 0, 0, 0, 0, 0, 0, 0, 0, 0, 0, 0, 0, 0, 0, 0, 0, 0, 0, 0, 0, 0, 0, 0, 0, 0, 0, 0, 0, 0, 0, 0, 0, 0, 0, 0, 0, 0, 0, 0, 0, 0, 0, 0, 0, 0, 0, 0, 0, 0, 0, 0, 0, 0, 0, 0, 0, 0, 0, 0, 0, 0, 0, 0, 0, 0, 0, 0, 0, 0, 0, 0, 0, 0, 0, 0, 0, 0, 0, 0, 0, 0, 0, 0, 0, 0, 0, 0, 0, 0, 0, 0, 0, 0, 0, 0, 0, 0, 0, 0, 0, 0, 0, 0, 0, 0, 0, 0, 0, 0, 0, 0, 0, 0, 0, 0, 0, 0, 0, 0, 0, 0, 0, 0, 0, 0, 0, 0, 0, 0, 0, 0, 0, 0, 0, 0, 1, 0, 0, 0, 0, 0, 0, 0, 0, 0, 0, 0, 0, 0, 0, 0, 0, 0, 0, 0, 0, 0, 0, 0, 0, 0, 0, 0, 0, 0, 0, 0, 0, 0, 0, 0, 0, 0, 0, 0, 0, 0, 0, 0, 0, 0, 0, 0, 0, 0, 0, 0, 0, 0, 0, 0, 0, 0, 0, 0, 0, 0, 0, 0, 0, 0, 0, 0, 0, 0, 0, 0, 0, 0, 0, 1, 0, 0, 0, 0, 0, 0, 0, 0, 0, 0, 0, 0, 0, 0, 0, 0, 0, 0, 0, 0, 1, 0, 0, 1, 0, 0, 0, 0, 0, 0, 0, 0, 0, 0, 0, 0, 0, 0, 0, 0, 0, 0, 0, 0, 0, 0, 0, 0, 0, 0, 0, 0, 0, 0, 0, 0, 0, 0, 0, 0, 0, 0, 0, 0, 0, 0, 0, 0, 0, 0, 0, 0, 0, 0, 0, 0, 0, 0, 0, 0, 0, 0, 0, 0, 0, 0, 0, 0, 0, 0, 0, 0, 0, 0, 0, 0, 0, 0, 0, 0, 0, 0, 0, 0, 0, 0, 0, 0, 0, 0, 0, 0, 0, 0, 0, 0, 0, 0, 0, 0, 0, 0, 0, 0, 0, 0, 0, 0, 0, 0, 0, 0, 0, 0, 0, 0, 0, 0, 0, 0, 0, 0, 0, 0, 0, 0, 0, 0, 0, 0, 0, 0, 0, 0, 0, 0, 0, 0, 0, 0, 0, 0, 0, 0, 0, 0, 0, 0, 0, 0, 0, 0, 0, 0, 0, 0, 0, 0, 0, 0, 0, 0, 0, 0, 0, 0, 0, 0, 0, 0, 0, 0, 0, 0, 0, 0, 0, 0, 0, 0, 0, 0, 0, 0, 0, 0, 0, 0, 0, 0, 0, 0, 0, 0, 0, 0, 0, 0, 0, 0, 0, 0, 0, 0, 0, 0, 0, 0, 0, 0, 0, 0, 0, 0, 0, 0, 0, 0, 0, 0, 0, 0, 0, 0, 0, 0, 0, 0, 0, 0, 0, 0, 0, 0, 0, 0, 0, 0, 0, 0, 0, 0, 0, 0, 0, 0, 0, 0, 0, 0, 0, 0, 0, 0, 0, 0, 0, 0, 0, 0, 0, 0, 0, 0, 0, 0, 0, 0, 0, 0, 0, 0, 0, 0, 0, 0, 0, 0, 0, 0, 0, 0, 0, 0, 0, 0, 0, 0, 0, 0, 0, 0, 0, 0, 0, 0, 0, 0, 0, 0, 0, 0, 0, 0, 0, 0, 0, 0, 0, 0, 0, 0, 0, 0, 0, 0, 0, 0, 0, 0, 0, 0, 0, 0, 0, 0, 0, 0, 0, 0, 0, 0, 0, 0, 0, 0, 0, 0, 0, 0, 0, 0, 0, 0, 0, 0, 0, 0, 0, 0, 0, 0, 0, 0, 0, 0, 0, 0, 0, 0, 0, 0, 0, 0, 0, 0, 0, 0, 0, 0, 0, 0, 0, 0, 0, 0, 0, 0, 0, 0, 0, 0, 0, 0, 0, 0, 0, 0, 0, 0, 0, 0, 0, 0, 0, 0, 0, 0, 0, 0, 0, 0, 0, 0, 0, 0, 0, 0, 0, 0, 0, 0, 0, 0, 0, 0, 0, 0, 0, 0, 0, 0, 0, 0, 0, 0, 0, 0, 0, 0, 0, 0, 0, 0, 0, 0, 0, 0, 0, 0, 0, 0, 0, 0, 0, 0, 0, 0, 0, 0, 0, 0, 0, 0, 0, 0, 0, 0, 0, 0, 0, 0, 0, 0, 0, 0, 0, 0, 0, 0, 1, 0, 0, 0, 0, 0, 0, 0, 0, 0, 0, 0, 0, 0, 0, 0, 0, 0, 0, 0, 0, 0, 0, 0, 0, 0, 0, 0, 0, 0, 0, 0, 0, 0, 0, 0, 0, 0, 0, 0, 0, 0, 0, 0, 0, 0, 0, 0, 0, 0, 0, 0, 0, 0, 0, 0, 0, 0, 0, 0, 0, 0, 0, 0, 0, 0, 0, 0, 0, 0, 0, 0, 0, 0, 0, 0, 0, 0, 0, 0, 0, 0, 0, 0, 0, 0, 0, 0, 0, 0, 0, 0, 0, 0, 0, 0, 0, 0, 0, 0, 0, 0, 0, 0, 0, 0, 0, 0, 0, 0, 0, 0, 0, 0, 0, 0, 0, 0, 0, 0, 0, 0, 0, 0, 0, 0, 0, 0, 0, 0, 0, 0, 0, 0, 0, 0, 0, 0, 0, 0, 0, 0, 0, 0, 0, 0, 0, 0, 0, 0, 0, 0, 0, 0, 0, 0, 0, 0, 0, 0, 0, 0, 0, 0, 0, 0, 0, 0, 0, 0, 0, 0, 0, 0, 0, 0, 0, 0, 0, 0, 0, 0, 0, 0, 0, 0, 0, 0, 0, 0, 0, 0, 0, 0, 0, 0, 0, 0, 0, 0, 0, 0, 0, 0, 0, 0, 0, 0, 0, 0, 0, 0, 0, 0, 0, 0, 0, 0, 0, 0, 0, 0, 0, 0, 0, 0, 0, 0, 0, 0, 0, 0, 0, 0, 0, 0, 0, 0, 0, 0, 0, 0, 0, 0, 0, 0, 0, 0, 0, 0, 0, 0, 0, 0, 0, 0, 0, 0, 0, 0, 0, 0, 0, 0, 0, 0, 0, 0, 0, 0, 0, 0, 0, 0, 0, 0, 0, 0, 0, 0, 0, 0, 0, 0, 0, 0, 0, 0, 0, 0, 0, 0, 0, 0, 0, 0, 0, 0, 0, 0, 0, 0, 0, 0, 0, 0, 0, 0, 0, 0, 0, 0, 0, 0, 0, 0, 0, 0, 0, 0, 0, 0, 0, 0, 0, 0, 0, 0, 0, 0, 0, 0, 0, 0, 0, 0, 0, 0, 0, 0, 0, 0, 0, 0, 0, 0, 0, 0, 0, 0, 0, 0, 0, 0, 0, 0, 0, 0, 0, 0, 0, 0, 0, 0, 0, 0, 0, 0, 0, 0, 0, 0, 0, 0, 0, 0, 0, 0, 0, 0, 0, 0, 0, 0, 0, 0, 0, 0, 0, 0, 0, 0, 0, 0, 0, 0, 0, 0, 0, 0, 0, 0, 0, 0, 0, 0, 0, 0, 0, 0, 0, 0, 0, 0, 0, 0, 0, 0, 0, 0, 0, 0, 0, 0, 0, 0, 0, 0, 0, 0, 0, 0, 0, 0, 0, 0, 0, 0, 0, 0, 0, 0, 0, 0, 0, 0, 0, 0, 0, 0, 0, 0, 0, 0, 0, 0, 0, 0, 0, 0, 0, 0, 0, 0, 0, 0, 0, 0, 0, 0, 0, 0, 0, 0, 0, 0, 0, 0, 0, 0, 0, 0, 0, 0, 0, 0, 0, 0, 0, 0, 0, 0, 0, 0, 0, 0, 0, 0, 0, 0, 0, 0, 0, 0, 0, 0, 0, 0, 0, 0, 0, 0, 0, 1, 0, 0, 0, 0, 0, 0, 0, 0, 0, 0, 0, 0, 0, 0, 0, 0, 0, 0, 0, 0, 0, 0, 0, 0, 0, 0, 0, 0, 0, 0, 0, 0, 0, 0, 0, 2, 0, 0, 0, 0, 0, 0, 0, 0, 0, 0, 0, 0, 0, 0, 0, 0, 0, 0, 0, 0, 0, 0, 0, 0, 0, 0, 0, 0, 0, 0, 0, 0, 0, 0, 0, 0, 0, 0, 0, 0, 1, 0, 0, 0, 0, 0, 0, 0, 0, 0, 0, 0, 0, 0, 0, 0, 0, 0, 0, 0, 0, 0, 0, 0, 0, 0, 0, 0, 0, 0, 0, 0, 0, 0, 0, 0, 0, 0, 0, 0, 0, 0, 0, 0, 0, 0, 0, 0, 0, 0, 0, 0, 0, 0, 0, 0, 0, 0, 0, 0, 0, 0, 0, 0, 0, 0, 0, 0, 0, 0, 0, 0, 0, 0, 0, 0, 0, 0, 0, 0, 0, 0, 0, 0, 0, 0, 0, 0, 0, 0, 0, 0, 0, 0, 0, 0, 0, 0, 0, 0, 0, 0, 0, 0, 0, 0, 0, 0, 0, 0, 0, 0, 0, 0, 0, 0, 0, 0, 0, 0, 0, 0, 0, 0, 0, 0, 0, 0, 0, 0, 0, 0, 0, 0, 0, 0, 0, 0, 0, 0, 0, 0, 0, 0, 0, 0, 0, 0, 0, 0, 0, 0, 0, 0, 0, 0, 0, 0, 0, 0, 0, 0, 0, 0, 0, 0, 0, 0, 0, 0, 0, 0, 0, 0, 0, 0, 0, 0, 0, 0, 0, 0, 0, 0, 0, 0, 0, 0, 0, 0, 0, 0, 0, 0, 0, 0, 0, 0, 0, 0, 0, 0, 0, 0, 0, 0, 0, 0, 0, 0, 0, 0, 0, 0, 0, 0, 0, 0, 0, 0, 0, 0, 0, 0, 0, 0, 0, 0, 0, 0, 0, 0, 0, 0, 0, 0, 0, 0, 0, 0, 0, 0, 0, 0, 0, 0, 0, 0, 0, 0, 0, 0, 0, 0, 0, 0, 0, 0, 0, 0, 0, 0, 0, 0, 0, 0, 0, 0, 0, 0, 0, 0, 0, 0, 0, 0, 0, 0, 0, 0, 0, 0, 0, 0, 0, 0, 0, 0, 0, 0, 0, 0, 0, 0, 0, 0, 0, 0, 0, 0, 0, 0, 0, 0, 0, 0, 0, 0, 0, 0, 0, 0, 0, 0, 0, 0, 0, 0, 0, 0, 0, 0, 0, 0, 0, 0, 0, 0, 0, 0, 0, 0, 0, 0, 0, 0, 0, 0, 0, 0, 0, 0, 0, 0, 0, 0, 0, 0, 0, 0, 0, 0, 0, 0, 0, 0, 0, 0, 0, 0, 0, 0, 0, 0, 0, 0, 0, 0, 0, 0, 0, 0, 0, 0, 0, 0, 0, 0, 0, 0, 0, 0, 0, 0, 0, 0, 0, 0, 0, 0, 0, 0, 0, 0, 0, 0, 0, 0, 0, 0, 0, 0, 0, 0, 0, 0, 0, 0, 0, 0, 0, 0, 0, 0, 0, 0, 0, 0, 0, 0, 0, 0, 0, 0, 0, 0, 0, 0, 0, 0, 0, 0, 0, 0, 0, 0, 0, 0, 0, 0, 0, 0, 0, 0, 0, 0, 0, 0, 0, 0, 0, 0, 0, 0, 0, 0, 0, 0, 0, 0, 0, 0, 0, 0, 0, 0, 0, 0, 0, 0, 0, 0, 0, 0, 0, 0, 0, 0, 0, 0, 0, 0, 0, 0, 0, 0, 0, 0, 0, 0, 0, 0, 0, 0, 0, 0, 0, 0, 1, 0, 0, 0, 0, 0, 0, 0, 0, 0, 0, 0, 0, 0, 0, 0, 0, 0, 0, 0, 0, 0, 0, 0, 0, 0, 0, 0, 0, 0, 0, 0, 0, 0, 0, 0, 0, 0, 0, 0, 0, 0, 0, 0, 0, 0, 0, 0, 0, 0, 0, 0, 0, 0, 0, 0, 0, 0, 0, 0, 0, 0, 0, 0, 0, 0, 0, 0, 0, 0, 0, 0, 0, 0, 0, 0, 0, 0, 0, 0, 0, 0, 0, 0, 0, 0, 0, 0, 0, 0, 0, 0, 0, 0, 0, 0, 0, 0, 0, 0, 0, 0, 0, 0, 0, 0, 0, 0, 0, 0, 0, 2, 0, 0, 0, 0, 0, 0, 0, 0, 0, 0, 0, 0, 0, 0, 0, 0, 0, 0, 0, 0, 0, 0, 0, 0, 0, 0, 0, 0, 0, 0, 0, 0, 0, 0, 0, 0, 0, 0, 0, 0, 0, 0, 0, 0, 0, 0, 0, 0, 0, 0, 0, 0, 0, 0, 0, 0, 0, 0, 0, 0, 0, 0, 0, 0, 0, 0, 0, 0, 0, 0, 0, 0, 0, 0, 0, 0, 0, 0, 0, 0, 0, 0, 0, 0, 0, 0, 0, 0, 0, 0, 0, 0, 0, 0, 0, 0, 0, 0, 0, 0, 0, 0, 0, 0, 0, 0, 0, 0, 0, 0, 0, 0, 0, 0, 0, 0, 0, 0, 0, 0, 0, 0, 0, 0, 0, 0, 0, 0, 0, 0, 0, 0, 0, 0, 0, 0, 0, 0, 0, 0, 0, 0, 0, 0, 0, 0, 0, 0, 0, 0, 0, 0, 0, 0, 0, 0, 0, 0, 0, 0, 0, 0, 0, 0, 0, 0, 0, 0, 0, 0, 0, 0, 0, 0, 0, 0, 0, 0, 0, 0, 0, 0, 0, 0, 0, 0, 0, 0, 0, 0, 0, 0, 0, 0, 0, 0, 0, 0, 0, 0, 0, 0, 0, 0, 0, 0, 0, 0, 0, 0, 0, 0, 0, 0, 0, 0, 0, 0, 0, 0, 0, 0, 0, 0, 0, 0, 0, 0, 0, 0, 0, 0, 0, 0, 0, 0, 0, 0, 0, 0, 0, 0, 0, 0, 0, 0, 0, 0, 0, 0, 0, 0, 0, 0, 0, 0, 0, 0, 0, 0, 0, 0, 0, 0, 0, 0, 0, 0, 0, 0, 0, 0, 0, 0, 0, 0, 0, 0, 0, 0, 0, 0, 0, 0, 0, 0, 0, 0, 0, 0, 0, 0, 0, 0, 0, 0, 0, 0, 0, 0, 0, 0, 0, 0, 0, 0, 0, 0, 0, 0, 0, 0, 0, 0, 0, 0, 0, 0, 0, 0, 0, 0, 0, 0, 0, 0, 0, 0, 0, 0, 0, 0, 0, 0, 0, 0, 0, 0, 0, 0, 0, 0, 0, 0, 0, 0, 0, 0, 0, 0, 0, 0, 0, 0, 0, 0, 0, 0, 0, 0, 0, 0, 0, 0, 0, 0, 0, 0, 0, 0, 0, 0, 0, 0, 0, 0, 0, 0, 0, 0, 0, 0, 0, 0, 0, 0, 0, 0, 0, 0, 0, 0, 0, 0, 0, 0, 0, 0, 0, 0, 0, 0, 0, 0, 0, 0, 0, 0, 0, 0, 0, 0, 0, 0, 0, 0, 0, 0, 0, 0, 0, 0, 0, 0, 0, 0, 0, 0, 0, 0, 0, 0, 0, 0, 0, 0, 0, 0, 0, 0, 0, 0, 0, 0, 0, 0, 0, 0, 0, 0, 0, 0, 0, 0, 0, 0, 0, 0, 0, 0, 0, 0, 0, 0, 0, 0, 0, 0, 0, 0, 0, 0, 0, 0, 0, 0, 0, 0, 0, 0, 0, 0, 0, 0, 0, 0, 0, 0, 0, 0, 0, 0, 0, 0, 0, 0, 0, 0, 0, 0, 0, 0, 0, 0, 0, 0, 0, 0, 0, 0, 0, 0, 0, 0, 0, 0, 0, 0, 0, 0, 0, 0, 0, 0, 0, 0, 0, 0, 0, 0, 0, 0, 0, 0, 0, 0, 0, 0, 0, 0, 0, 0, 0, 0, 0, 0, 0, 0, 0, 0, 0, 0, 0, 0, 0, 0, 0, 0, 0, 0, 0, 0, 0, 0, 0, 0, 0, 0, 0, 0, 0, 0, 0, 0, 0, 0, 0, 0, 0, 0, 0, 0, 0, 0, 0, 0, 0, 0, 0, 0, 0, 0, 0, 0, 0, 0, 0, 0, 0, 0, 0, 0, 0, 0, 0, 0, 0, 0, 0, 0, 0, 0, 0, 0, 0, 0, 0, 0, 0, 0, 0, 0, 0, 0, 0, 0, 0, 0, 0, 0, 0, 0, 0, 0, 0, 0, 0, 0, 0, 0, 0, 0, 0, 0, 0, 0, 0, 0, 0, 0, 0, 0, 0, 0, 0, 0, 0, 0, 0, 0, 0, 0, 0, 0, 0, 0, 0, 0, 0, 0, 0, 0, 0, 0, 0, 0, 0, 0, 0, 0, 0, 0, 0, 0, 0, 0, 0, 0, 0, 0, 1, 0, 0, 0, 0, 0, 0, 0, 0, 0, 0, 0, 0, 0, 0, 0, 0, 0, 0, 0, 0, 0, 0, 0, 0, 0, 0, 0, 0, 0, 0, 0, 0, 0, 0, 0, 0, 0, 0, 0, 0, 0, 0, 0, 0, 0, 0, 0, 0, 0, 0, 0, 0, 0, 0, 0, 0, 0, 0, 0, 0, 0, 0, 0, 0, 0, 0, 0, 0, 0, 0, 0, 0, 0, 0, 0, 0, 0, 0, 0, 0, 0, 0, 0, 0, 0, 0, 0, 0, 0, 0, 0, 0, 0, 0, 0, 0, 0, 0, 0, 0, 0, 0, 0, 0, 0, 0, 0, 1, 0, 0, 0, 0, 0, 0, 0, 0, 0, 0, 0, 0, 0, 0, 0, 0, 0, 0, 0, 0, 0, 0, 0, 0, 0, 0, 0, 0, 0, 0, 0, 0, 0, 0, 0, 0, 0, 0, 0, 0, 0, 0, 0, 0, 0, 0, 0, 0, 0, 0, 0, 0, 0, 0, 0, 0, 0, 0, 0, 0, 0, 0, 0, 0, 0, 0, 0, 0, 0, 0, 0, 0, 0, 0, 0, 0, 0, 0, 0, 0, 0, 0, 0, 0, 0, 0, 0, 0, 0, 0, 0, 0, 0, 0, 0, 0, 0, 0, 0, 0, 0, 0, 0, 0, 0, 0, 0, 0, 0, 0, 0, 0, 0, 0, 0, 0, 0, 0, 0, 0, 0, 0, 0, 0, 0, 0, 0, 0, 0, 0, 0, 0, 0, 0, 0, 0, 0, 0, 0, 0, 0, 0, 0, 0, 0, 0, 0, 0, 0, 0, 0, 0, 0, 0, 0, 0, 0, 0, 0, 0, 0, 0, 0, 0, 0, 0, 0, 0, 0, 0, 0, 0, 0, 0, 0, 0, 0, 0, 0, 0, 0, 0, 0, 0, 0, 0, 0, 0, 0, 0, 0, 0, 0, 0, 0, 0, 0, 0, 0, 0, 0, 0, 0, 0, 0, 0, 0, 0, 0, 0, 0, 0, 0, 0, 0, 0, 0, 0, 0, 0, 0, 0, 0, 0, 0, 0, 0, 0, 0, 0, 0, 0, 0, 0, 0, 0, 0, 0, 0, 0, 0, 0, 0, 0, 0, 0, 0, 0, 0, 0, 0, 0, 0, 0, 0, 0, 0, 0, 0, 0, 0, 0, 0, 0, 0, 0, 0, 0, 0, 0, 0, 0, 0, 0, 0, 0, 0, 0, 0, 0, 0, 0, 0, 0, 0, 0, 0, 0, 0, 0, 0, 0, 0, 0, 0, 0, 0, 0, 0, 0, 0, 0, 0, 0, 0, 0, 0, 0, 0, 0, 0, 0, 0, 0, 0, 0, 0, 0, 0, 0, 0, 0, 0, 0, 0, 0, 0, 0, 0, 0, 0, 0, 0, 0, 0, 0, 0, 0, 0, 0, 0, 0, 0, 0, 0, 0, 0, 0, 0, 0, 0, 0, 0, 0, 0, 0, 0, 0, 0, 0, 0, 0, 0, 0, 0, 0, 0, 0, 0, 0, 0, 0, 0, 0, 0, 0, 0, 0, 0, 0, 0, 0, 0, 0, 0, 0, 0, 0, 0, 0, 0, 0, 0, 0, 0, 0, 0, 0, 0, 0, 0, 0, 0, 0, 0, 0, 0, 0, 0, 0, 0, 0, 0, 0, 0, 0, 0, 0, 0, 0, 0, 0, 0, 0, 0, 0, 0, 0, 0, 0, 0, 0, 0, 0, 0, 0, 0, 0, 0, 0, 0, 0, 0, 0, 0, 0, 0, 0, 0, 0, 0, 0, 0, 0, 0, 0, 0, 0, 0, 0, 0, 0, 0, 2, 0, 1, 0], type: <class 'list'>, valid types: <class 'bytes'>, <class 'bytearray'>, file-like object",
     "output_type": "error",
     "traceback": [
      "\u001b[0;31m---------------------------------------------------------------------------\u001b[0m",
      "\u001b[0;31mParamValidationError\u001b[0m                      Traceback (most recent call last)",
      "\u001b[0;32m<ipython-input-48-c9ab54ae3a48>\u001b[0m in \u001b[0;36m<module>\u001b[0;34m()\u001b[0m\n\u001b[1;32m      1\u001b[0m response = runtime.invoke_endpoint(EndpointName = xgb_predictor.endpoint, # The name of the endpoint we created\n\u001b[1;32m      2\u001b[0m                                        \u001b[0mContentType\u001b[0m \u001b[0;34m=\u001b[0m \u001b[0;34m'text/csv'\u001b[0m\u001b[0;34m,\u001b[0m                     \u001b[0;31m# The data format that is expected\u001b[0m\u001b[0;34m\u001b[0m\u001b[0m\n\u001b[0;32m----> 3\u001b[0;31m                                        Body = test_bow)\n\u001b[0m",
      "\u001b[0;32m~/anaconda3/envs/python3/lib/python3.6/site-packages/botocore/client.py\u001b[0m in \u001b[0;36m_api_call\u001b[0;34m(self, *args, **kwargs)\u001b[0m\n\u001b[1;32m    355\u001b[0m                     \"%s() only accepts keyword arguments.\" % py_operation_name)\n\u001b[1;32m    356\u001b[0m             \u001b[0;31m# The \"self\" in this scope is referring to the BaseClient.\u001b[0m\u001b[0;34m\u001b[0m\u001b[0;34m\u001b[0m\u001b[0m\n\u001b[0;32m--> 357\u001b[0;31m             \u001b[0;32mreturn\u001b[0m \u001b[0mself\u001b[0m\u001b[0;34m.\u001b[0m\u001b[0m_make_api_call\u001b[0m\u001b[0;34m(\u001b[0m\u001b[0moperation_name\u001b[0m\u001b[0;34m,\u001b[0m \u001b[0mkwargs\u001b[0m\u001b[0;34m)\u001b[0m\u001b[0;34m\u001b[0m\u001b[0m\n\u001b[0m\u001b[1;32m    358\u001b[0m \u001b[0;34m\u001b[0m\u001b[0m\n\u001b[1;32m    359\u001b[0m         \u001b[0m_api_call\u001b[0m\u001b[0;34m.\u001b[0m\u001b[0m__name__\u001b[0m \u001b[0;34m=\u001b[0m \u001b[0mstr\u001b[0m\u001b[0;34m(\u001b[0m\u001b[0mpy_operation_name\u001b[0m\u001b[0;34m)\u001b[0m\u001b[0;34m\u001b[0m\u001b[0m\n",
      "\u001b[0;32m~/anaconda3/envs/python3/lib/python3.6/site-packages/botocore/client.py\u001b[0m in \u001b[0;36m_make_api_call\u001b[0;34m(self, operation_name, api_params)\u001b[0m\n\u001b[1;32m    632\u001b[0m         }\n\u001b[1;32m    633\u001b[0m         request_dict = self._convert_to_request_dict(\n\u001b[0;32m--> 634\u001b[0;31m             api_params, operation_model, context=request_context)\n\u001b[0m\u001b[1;32m    635\u001b[0m \u001b[0;34m\u001b[0m\u001b[0m\n\u001b[1;32m    636\u001b[0m         \u001b[0mservice_id\u001b[0m \u001b[0;34m=\u001b[0m \u001b[0mself\u001b[0m\u001b[0;34m.\u001b[0m\u001b[0m_service_model\u001b[0m\u001b[0;34m.\u001b[0m\u001b[0mservice_id\u001b[0m\u001b[0;34m.\u001b[0m\u001b[0mhyphenize\u001b[0m\u001b[0;34m(\u001b[0m\u001b[0;34m)\u001b[0m\u001b[0;34m\u001b[0m\u001b[0m\n",
      "\u001b[0;32m~/anaconda3/envs/python3/lib/python3.6/site-packages/botocore/client.py\u001b[0m in \u001b[0;36m_convert_to_request_dict\u001b[0;34m(self, api_params, operation_model, context)\u001b[0m\n\u001b[1;32m    680\u001b[0m             api_params, operation_model, context)\n\u001b[1;32m    681\u001b[0m         request_dict = self._serializer.serialize_to_request(\n\u001b[0;32m--> 682\u001b[0;31m             api_params, operation_model)\n\u001b[0m\u001b[1;32m    683\u001b[0m         \u001b[0;32mif\u001b[0m \u001b[0;32mnot\u001b[0m \u001b[0mself\u001b[0m\u001b[0;34m.\u001b[0m\u001b[0m_client_config\u001b[0m\u001b[0;34m.\u001b[0m\u001b[0minject_host_prefix\u001b[0m\u001b[0;34m:\u001b[0m\u001b[0;34m\u001b[0m\u001b[0m\n\u001b[1;32m    684\u001b[0m             \u001b[0mrequest_dict\u001b[0m\u001b[0;34m.\u001b[0m\u001b[0mpop\u001b[0m\u001b[0;34m(\u001b[0m\u001b[0;34m'host_prefix'\u001b[0m\u001b[0;34m,\u001b[0m \u001b[0;32mNone\u001b[0m\u001b[0;34m)\u001b[0m\u001b[0;34m\u001b[0m\u001b[0m\n",
      "\u001b[0;32m~/anaconda3/envs/python3/lib/python3.6/site-packages/botocore/validate.py\u001b[0m in \u001b[0;36mserialize_to_request\u001b[0;34m(self, parameters, operation_model)\u001b[0m\n\u001b[1;32m    295\u001b[0m                                                     operation_model.input_shape)\n\u001b[1;32m    296\u001b[0m             \u001b[0;32mif\u001b[0m \u001b[0mreport\u001b[0m\u001b[0;34m.\u001b[0m\u001b[0mhas_errors\u001b[0m\u001b[0;34m(\u001b[0m\u001b[0;34m)\u001b[0m\u001b[0;34m:\u001b[0m\u001b[0;34m\u001b[0m\u001b[0m\n\u001b[0;32m--> 297\u001b[0;31m                 \u001b[0;32mraise\u001b[0m \u001b[0mParamValidationError\u001b[0m\u001b[0;34m(\u001b[0m\u001b[0mreport\u001b[0m\u001b[0;34m=\u001b[0m\u001b[0mreport\u001b[0m\u001b[0;34m.\u001b[0m\u001b[0mgenerate_report\u001b[0m\u001b[0;34m(\u001b[0m\u001b[0;34m)\u001b[0m\u001b[0;34m)\u001b[0m\u001b[0;34m\u001b[0m\u001b[0m\n\u001b[0m\u001b[1;32m    298\u001b[0m         return self._serializer.serialize_to_request(parameters,\n\u001b[1;32m    299\u001b[0m                                                      operation_model)\n",
      "\u001b[0;31mParamValidationError\u001b[0m: Parameter validation failed:\nInvalid type for parameter Body, value: [0, 0, 0, 0, 0, 0, 0, 0, 0, 0, 0, 0, 0, 0, 0, 0, 0, 0, 0, 0, 0, 0, 0, 0, 0, 0, 0, 0, 0, 0, 0, 0, 0, 0, 0, 0, 0, 0, 0, 0, 0, 0, 0, 0, 0, 0, 0, 0, 0, 0, 0, 0, 0, 0, 0, 0, 0, 0, 0, 0, 0, 0, 0, 0, 0, 0, 0, 0, 0, 0, 0, 0, 0, 0, 0, 0, 0, 0, 0, 0, 0, 0, 0, 0, 0, 0, 0, 0, 0, 0, 0, 0, 0, 0, 0, 0, 0, 0, 0, 0, 0, 0, 0, 0, 0, 0, 0, 0, 0, 0, 0, 0, 0, 0, 0, 0, 0, 0, 0, 0, 0, 0, 0, 0, 0, 0, 0, 0, 0, 0, 0, 0, 0, 0, 0, 0, 0, 0, 0, 0, 0, 0, 0, 0, 0, 0, 0, 0, 0, 0, 0, 0, 0, 0, 0, 0, 0, 0, 0, 0, 0, 0, 0, 0, 0, 0, 0, 0, 0, 0, 0, 0, 0, 0, 0, 0, 0, 0, 0, 0, 0, 0, 0, 0, 0, 0, 0, 0, 0, 0, 0, 0, 0, 0, 0, 0, 0, 0, 0, 0, 0, 0, 0, 0, 0, 0, 0, 0, 0, 0, 0, 0, 0, 0, 0, 0, 0, 0, 0, 0, 0, 0, 0, 0, 0, 0, 1, 0, 0, 0, 0, 0, 0, 0, 0, 0, 0, 0, 0, 0, 0, 0, 0, 0, 0, 0, 0, 0, 0, 0, 0, 0, 0, 0, 0, 0, 1, 0, 0, 0, 0, 0, 0, 0, 0, 0, 0, 0, 0, 0, 0, 0, 0, 0, 0, 0, 0, 0, 0, 0, 0, 0, 0, 0, 0, 0, 0, 0, 0, 0, 0, 0, 0, 0, 0, 0, 0, 0, 0, 0, 0, 0, 0, 0, 0, 0, 0, 0, 0, 0, 0, 0, 0, 0, 0, 0, 0, 0, 0, 0, 0, 0, 0, 0, 0, 0, 0, 0, 0, 0, 0, 0, 0, 0, 0, 0, 0, 0, 0, 0, 0, 0, 0, 0, 0, 0, 0, 0, 0, 0, 0, 0, 0, 0, 0, 0, 0, 0, 0, 0, 0, 0, 0, 0, 0, 0, 0, 0, 0, 0, 0, 0, 0, 0, 0, 0, 0, 0, 0, 0, 0, 0, 0, 0, 0, 0, 0, 0, 0, 0, 0, 0, 0, 0, 0, 0, 0, 0, 0, 0, 0, 0, 0, 0, 0, 0, 0, 0, 0, 0, 0, 0, 0, 0, 0, 0, 0, 0, 0, 0, 0, 0, 0, 0, 0, 0, 0, 0, 0, 0, 0, 0, 0, 0, 0, 0, 0, 0, 0, 0, 0, 0, 0, 0, 0, 0, 0, 0, 0, 0, 0, 0, 0, 0, 0, 0, 0, 0, 0, 0, 0, 0, 0, 0, 0, 0, 0, 0, 0, 0, 0, 0, 0, 0, 0, 0, 0, 0, 0, 0, 0, 0, 0, 0, 0, 0, 0, 0, 0, 0, 0, 0, 0, 0, 0, 0, 0, 0, 0, 0, 0, 0, 0, 0, 0, 0, 0, 0, 0, 0, 0, 0, 0, 0, 0, 0, 0, 0, 0, 0, 0, 0, 0, 0, 0, 0, 0, 0, 0, 0, 0, 0, 0, 0, 0, 0, 0, 0, 0, 0, 0, 0, 0, 0, 0, 0, 0, 0, 0, 0, 0, 0, 0, 0, 0, 0, 0, 0, 0, 0, 0, 0, 0, 0, 0, 0, 0, 0, 0, 0, 0, 0, 0, 0, 0, 0, 0, 0, 0, 0, 0, 0, 0, 0, 0, 0, 0, 0, 0, 0, 0, 0, 0, 0, 0, 0, 0, 0, 0, 0, 0, 0, 0, 0, 0, 0, 0, 0, 0, 0, 0, 0, 0, 0, 0, 0, 0, 0, 0, 0, 0, 0, 0, 0, 0, 0, 0, 0, 0, 0, 0, 0, 0, 0, 0, 0, 1, 0, 0, 0, 0, 0, 0, 0, 0, 0, 0, 0, 0, 0, 0, 0, 0, 0, 0, 0, 0, 0, 0, 0, 0, 0, 0, 0, 0, 0, 0, 0, 0, 0, 0, 0, 0, 0, 0, 0, 0, 0, 0, 0, 0, 0, 0, 0, 0, 0, 0, 0, 0, 0, 0, 0, 0, 0, 0, 0, 0, 0, 0, 0, 0, 0, 0, 0, 0, 0, 0, 0, 0, 0, 0, 0, 0, 0, 0, 0, 0, 0, 0, 0, 0, 0, 0, 0, 0, 0, 0, 0, 0, 0, 0, 0, 0, 0, 0, 0, 0, 0, 0, 0, 0, 0, 0, 0, 0, 0, 0, 0, 0, 0, 0, 0, 0, 0, 0, 0, 0, 0, 0, 0, 0, 0, 0, 0, 0, 0, 0, 0, 0, 0, 0, 0, 0, 0, 0, 0, 0, 0, 0, 0, 0, 0, 0, 0, 0, 0, 0, 0, 0, 0, 0, 0, 0, 0, 0, 0, 0, 0, 0, 0, 0, 0, 0, 0, 0, 0, 0, 0, 0, 0, 0, 0, 0, 0, 0, 0, 0, 0, 0, 0, 0, 0, 0, 0, 0, 0, 0, 0, 0, 0, 0, 0, 0, 0, 0, 0, 0, 0, 0, 0, 0, 0, 0, 0, 0, 0, 0, 0, 0, 0, 0, 0, 0, 0, 0, 0, 0, 0, 0, 0, 0, 0, 0, 0, 0, 0, 0, 0, 0, 0, 0, 0, 0, 0, 0, 0, 0, 0, 0, 0, 0, 0, 0, 0, 0, 0, 0, 0, 0, 0, 1, 0, 0, 0, 0, 0, 0, 0, 0, 0, 0, 0, 0, 0, 0, 0, 0, 0, 0, 0, 0, 0, 0, 0, 0, 0, 0, 0, 0, 0, 0, 0, 0, 0, 0, 0, 0, 0, 0, 0, 0, 0, 0, 0, 0, 0, 0, 0, 0, 0, 0, 0, 0, 0, 0, 0, 0, 0, 0, 0, 0, 0, 0, 0, 0, 0, 0, 0, 0, 0, 0, 0, 0, 0, 0, 0, 0, 0, 0, 0, 0, 0, 0, 0, 0, 0, 0, 1, 0, 0, 0, 0, 0, 0, 0, 0, 0, 0, 0, 0, 0, 0, 0, 0, 0, 0, 0, 0, 0, 0, 0, 0, 0, 0, 0, 0, 0, 0, 0, 0, 0, 0, 0, 0, 0, 0, 0, 0, 0, 0, 0, 0, 0, 0, 0, 0, 0, 0, 0, 0, 0, 0, 0, 0, 0, 0, 0, 0, 0, 0, 0, 0, 0, 0, 0, 0, 0, 0, 0, 0, 0, 0, 0, 0, 0, 0, 0, 0, 0, 0, 0, 0, 0, 0, 0, 0, 0, 0, 0, 0, 0, 0, 0, 0, 0, 0, 0, 0, 0, 0, 0, 0, 0, 0, 0, 0, 0, 0, 0, 0, 0, 0, 0, 0, 0, 0, 0, 0, 0, 0, 0, 0, 0, 0, 0, 0, 0, 0, 0, 0, 0, 0, 0, 0, 0, 0, 0, 0, 0, 0, 0, 0, 0, 0, 0, 0, 0, 0, 0, 0, 0, 0, 0, 0, 0, 0, 0, 0, 0, 0, 0, 0, 0, 0, 0, 0, 0, 0, 0, 0, 0, 0, 0, 0, 0, 0, 0, 0, 0, 0, 0, 0, 0, 0, 0, 0, 0, 0, 0, 0, 0, 0, 0, 0, 0, 0, 0, 0, 0, 0, 0, 0, 0, 0, 0, 0, 0, 0, 0, 0, 0, 0, 0, 0, 0, 0, 0, 0, 0, 0, 0, 0, 0, 0, 0, 0, 0, 0, 0, 0, 0, 0, 0, 0, 0, 0, 0, 0, 0, 0, 0, 0, 0, 0, 0, 0, 0, 0, 0, 0, 1, 0, 0, 0, 0, 0, 0, 0, 0, 0, 0, 0, 0, 0, 0, 0, 0, 0, 0, 0, 0, 0, 0, 0, 0, 0, 0, 0, 0, 0, 0, 0, 0, 0, 0, 0, 0, 0, 0, 0, 0, 0, 0, 0, 0, 0, 0, 0, 0, 0, 0, 0, 0, 0, 0, 0, 1, 0, 0, 0, 0, 0, 0, 0, 0, 0, 0, 0, 0, 0, 0, 0, 0, 0, 0, 0, 0, 0, 0, 0, 0, 0, 0, 0, 0, 0, 0, 0, 0, 0, 0, 0, 0, 0, 0, 0, 0, 0, 0, 0, 0, 0, 0, 0, 0, 0, 0, 0, 0, 0, 0, 0, 0, 0, 0, 0, 0, 0, 0, 0, 0, 0, 0, 0, 0, 0, 0, 0, 0, 0, 0, 0, 0, 0, 0, 0, 0, 0, 0, 0, 0, 0, 0, 0, 0, 0, 0, 0, 0, 0, 0, 0, 0, 0, 0, 0, 0, 0, 0, 0, 0, 0, 0, 0, 0, 0, 0, 0, 0, 0, 0, 0, 0, 0, 0, 0, 0, 0, 0, 0, 0, 0, 0, 0, 0, 0, 0, 0, 0, 0, 0, 0, 0, 0, 0, 0, 0, 0, 0, 0, 0, 0, 0, 0, 0, 0, 0, 0, 0, 0, 0, 0, 0, 0, 0, 0, 0, 0, 0, 0, 0, 0, 0, 0, 0, 0, 0, 0, 0, 0, 0, 0, 0, 0, 0, 0, 0, 0, 0, 0, 0, 0, 0, 0, 0, 0, 0, 0, 0, 0, 0, 0, 0, 0, 0, 0, 0, 0, 0, 0, 0, 0, 0, 0, 0, 0, 0, 0, 0, 0, 0, 0, 0, 0, 0, 0, 0, 0, 0, 0, 0, 0, 0, 0, 0, 0, 0, 0, 0, 0, 0, 0, 0, 0, 0, 0, 0, 0, 0, 0, 0, 0, 0, 0, 0, 0, 0, 0, 0, 0, 0, 0, 0, 0, 0, 0, 0, 0, 0, 0, 0, 0, 0, 0, 0, 0, 0, 0, 0, 0, 0, 0, 0, 0, 0, 0, 0, 0, 0, 0, 0, 0, 0, 0, 0, 0, 0, 0, 0, 0, 0, 0, 0, 0, 0, 0, 0, 0, 0, 0, 0, 0, 0, 0, 0, 0, 0, 0, 0, 0, 0, 0, 0, 0, 0, 0, 0, 0, 0, 0, 0, 0, 0, 0, 0, 0, 0, 0, 0, 0, 0, 0, 0, 0, 0, 0, 0, 0, 0, 0, 0, 0, 0, 0, 0, 0, 0, 0, 0, 0, 0, 0, 0, 0, 0, 0, 0, 0, 0, 0, 0, 0, 0, 0, 0, 0, 0, 0, 0, 0, 0, 0, 0, 0, 0, 0, 0, 0, 0, 0, 0, 0, 0, 0, 0, 0, 0, 0, 0, 0, 0, 0, 0, 0, 0, 0, 0, 0, 0, 0, 0, 0, 0, 0, 0, 0, 0, 0, 0, 0, 0, 0, 0, 0, 0, 0, 0, 0, 0, 0, 0, 0, 0, 0, 0, 0, 0, 0, 0, 0, 0, 0, 0, 0, 0, 0, 0, 0, 0, 0, 0, 0, 0, 0, 0, 0, 0, 0, 0, 0, 0, 0, 0, 0, 0, 0, 0, 0, 0, 0, 0, 0, 0, 0, 0, 0, 0, 0, 0, 0, 0, 0, 0, 0, 0, 0, 0, 0, 0, 0, 0, 0, 0, 0, 0, 0, 0, 0, 0, 0, 0, 0, 0, 0, 0, 0, 0, 0, 0, 0, 0, 0, 0, 0, 0, 0, 0, 0, 0, 0, 0, 0, 0, 0, 0, 0, 0, 0, 0, 0, 0, 0, 0, 0, 0, 0, 0, 0, 0, 0, 0, 0, 0, 0, 0, 0, 0, 0, 0, 0, 0, 0, 0, 0, 0, 0, 0, 0, 0, 0, 0, 0, 0, 0, 0, 0, 0, 0, 0, 0, 0, 0, 0, 0, 0, 0, 0, 0, 0, 0, 0, 0, 0, 0, 0, 0, 0, 0, 0, 0, 0, 0, 0, 0, 0, 0, 0, 0, 0, 0, 0, 0, 0, 0, 0, 0, 0, 0, 0, 0, 0, 0, 0, 0, 0, 0, 0, 0, 0, 0, 0, 0, 0, 0, 0, 0, 0, 0, 0, 0, 0, 0, 0, 0, 0, 0, 0, 0, 0, 0, 0, 0, 0, 0, 0, 0, 0, 0, 0, 0, 0, 0, 0, 0, 0, 0, 0, 0, 0, 0, 0, 0, 0, 0, 0, 0, 0, 0, 0, 0, 0, 0, 0, 0, 0, 0, 0, 0, 0, 0, 0, 0, 0, 0, 0, 0, 0, 0, 1, 0, 0, 0, 0, 0, 0, 0, 0, 0, 0, 0, 0, 0, 0, 0, 0, 0, 0, 0, 0, 0, 0, 0, 0, 0, 0, 0, 0, 0, 0, 0, 0, 0, 0, 0, 0, 0, 0, 0, 0, 0, 0, 0, 0, 0, 0, 0, 0, 0, 0, 0, 0, 0, 0, 0, 0, 0, 0, 0, 0, 0, 0, 0, 0, 0, 0, 0, 0, 0, 0, 0, 0, 0, 0, 1, 0, 0, 0, 0, 0, 0, 0, 0, 0, 0, 0, 0, 0, 0, 0, 0, 0, 0, 0, 0, 1, 0, 0, 1, 0, 0, 0, 0, 0, 0, 0, 0, 0, 0, 0, 0, 0, 0, 0, 0, 0, 0, 0, 0, 0, 0, 0, 0, 0, 0, 0, 0, 0, 0, 0, 0, 0, 0, 0, 0, 0, 0, 0, 0, 0, 0, 0, 0, 0, 0, 0, 0, 0, 0, 0, 0, 0, 0, 0, 0, 0, 0, 0, 0, 0, 0, 0, 0, 0, 0, 0, 0, 0, 0, 0, 0, 0, 0, 0, 0, 0, 0, 0, 0, 0, 0, 0, 0, 0, 0, 0, 0, 0, 0, 0, 0, 0, 0, 0, 0, 0, 0, 0, 0, 0, 0, 0, 0, 0, 0, 0, 0, 0, 0, 0, 0, 0, 0, 0, 0, 0, 0, 0, 0, 0, 0, 0, 0, 0, 0, 0, 0, 0, 0, 0, 0, 0, 0, 0, 0, 0, 0, 0, 0, 0, 0, 0, 0, 0, 0, 0, 0, 0, 0, 0, 0, 0, 0, 0, 0, 0, 0, 0, 0, 0, 0, 0, 0, 0, 0, 0, 0, 0, 0, 0, 0, 0, 0, 0, 0, 0, 0, 0, 0, 0, 0, 0, 0, 0, 0, 0, 0, 0, 0, 0, 0, 0, 0, 0, 0, 0, 0, 0, 0, 0, 0, 0, 0, 0, 0, 0, 0, 0, 0, 0, 0, 0, 0, 0, 0, 0, 0, 0, 0, 0, 0, 0, 0, 0, 0, 0, 0, 0, 0, 0, 0, 0, 0, 0, 0, 0, 0, 0, 0, 0, 0, 0, 0, 0, 0, 0, 0, 0, 0, 0, 0, 0, 0, 0, 0, 0, 0, 0, 0, 0, 0, 0, 0, 0, 0, 0, 0, 0, 0, 0, 0, 0, 0, 0, 0, 0, 0, 0, 0, 0, 0, 0, 0, 0, 0, 0, 0, 0, 0, 0, 0, 0, 0, 0, 0, 0, 0, 0, 0, 0, 0, 0, 0, 0, 0, 0, 0, 0, 0, 0, 0, 0, 0, 0, 0, 0, 0, 0, 0, 0, 0, 0, 0, 0, 0, 0, 0, 0, 0, 0, 0, 0, 0, 0, 0, 0, 0, 0, 0, 0, 0, 0, 0, 0, 0, 0, 0, 0, 0, 0, 0, 0, 0, 0, 0, 0, 0, 0, 0, 0, 0, 0, 0, 0, 0, 0, 0, 0, 0, 0, 0, 0, 0, 0, 0, 0, 0, 0, 0, 0, 0, 0, 0, 0, 0, 0, 0, 0, 0, 0, 0, 0, 0, 0, 0, 0, 0, 0, 0, 0, 0, 0, 0, 0, 0, 0, 0, 0, 0, 0, 0, 0, 0, 0, 0, 0, 0, 0, 0, 0, 0, 0, 0, 0, 0, 0, 0, 0, 0, 0, 0, 0, 0, 0, 0, 0, 0, 0, 0, 0, 0, 0, 0, 0, 0, 0, 0, 0, 0, 0, 0, 0, 0, 0, 0, 0, 0, 0, 0, 0, 0, 0, 0, 0, 0, 1, 0, 0, 0, 0, 0, 0, 0, 0, 0, 0, 0, 0, 0, 0, 0, 0, 0, 0, 0, 0, 0, 0, 0, 0, 0, 0, 0, 0, 0, 0, 0, 0, 0, 0, 0, 0, 0, 0, 0, 0, 0, 0, 0, 0, 0, 0, 0, 0, 0, 0, 0, 0, 0, 0, 0, 0, 0, 0, 0, 0, 0, 0, 0, 0, 0, 0, 0, 0, 0, 0, 0, 0, 0, 0, 0, 0, 0, 0, 0, 0, 0, 0, 0, 0, 0, 0, 0, 0, 0, 0, 0, 0, 0, 0, 0, 0, 0, 0, 0, 0, 0, 0, 0, 0, 0, 0, 0, 0, 0, 0, 0, 0, 0, 0, 0, 0, 0, 0, 0, 0, 0, 0, 0, 0, 0, 0, 0, 0, 0, 0, 0, 0, 0, 0, 0, 0, 0, 0, 0, 0, 0, 0, 0, 0, 0, 0, 0, 0, 0, 0, 0, 0, 0, 0, 0, 0, 0, 0, 0, 0, 0, 0, 0, 0, 0, 0, 0, 0, 0, 0, 0, 0, 0, 0, 0, 0, 0, 0, 0, 0, 0, 0, 0, 0, 0, 0, 0, 0, 0, 0, 0, 0, 0, 0, 0, 0, 0, 0, 0, 0, 0, 0, 0, 0, 0, 0, 0, 0, 0, 0, 0, 0, 0, 0, 0, 0, 0, 0, 0, 0, 0, 0, 0, 0, 0, 0, 0, 0, 0, 0, 0, 0, 0, 0, 0, 0, 0, 0, 0, 0, 0, 0, 0, 0, 0, 0, 0, 0, 0, 0, 0, 0, 0, 0, 0, 0, 0, 0, 0, 0, 0, 0, 0, 0, 0, 0, 0, 0, 0, 0, 0, 0, 0, 0, 0, 0, 0, 0, 0, 0, 0, 0, 0, 0, 0, 0, 0, 0, 0, 0, 0, 0, 0, 0, 0, 0, 0, 0, 0, 0, 0, 0, 0, 0, 0, 0, 0, 0, 0, 0, 0, 0, 0, 0, 0, 0, 0, 0, 0, 0, 0, 0, 0, 0, 0, 0, 0, 0, 0, 0, 0, 0, 0, 0, 0, 0, 0, 0, 0, 0, 0, 0, 0, 0, 0, 0, 0, 0, 0, 0, 0, 0, 0, 0, 0, 0, 0, 0, 0, 0, 0, 0, 0, 0, 0, 0, 0, 0, 0, 0, 0, 0, 0, 0, 0, 0, 0, 0, 0, 0, 0, 0, 0, 0, 0, 0, 0, 0, 0, 0, 0, 0, 0, 0, 0, 0, 0, 0, 0, 0, 0, 0, 0, 0, 0, 0, 0, 0, 0, 0, 0, 0, 0, 0, 0, 0, 0, 0, 0, 0, 0, 0, 0, 0, 0, 0, 0, 0, 0, 0, 0, 0, 0, 0, 0, 0, 0, 0, 0, 0, 0, 0, 0, 0, 0, 0, 0, 0, 0, 0, 0, 0, 0, 0, 0, 0, 0, 0, 0, 0, 0, 0, 0, 0, 0, 0, 0, 0, 0, 0, 0, 0, 0, 0, 0, 0, 0, 0, 0, 0, 0, 0, 0, 0, 0, 0, 0, 0, 0, 0, 0, 0, 0, 0, 0, 0, 0, 0, 0, 0, 0, 0, 0, 0, 0, 0, 0, 0, 0, 0, 0, 0, 1, 0, 0, 0, 0, 0, 0, 0, 0, 0, 0, 0, 0, 0, 0, 0, 0, 0, 0, 0, 0, 0, 0, 0, 0, 0, 0, 0, 0, 0, 0, 0, 0, 0, 0, 0, 2, 0, 0, 0, 0, 0, 0, 0, 0, 0, 0, 0, 0, 0, 0, 0, 0, 0, 0, 0, 0, 0, 0, 0, 0, 0, 0, 0, 0, 0, 0, 0, 0, 0, 0, 0, 0, 0, 0, 0, 0, 1, 0, 0, 0, 0, 0, 0, 0, 0, 0, 0, 0, 0, 0, 0, 0, 0, 0, 0, 0, 0, 0, 0, 0, 0, 0, 0, 0, 0, 0, 0, 0, 0, 0, 0, 0, 0, 0, 0, 0, 0, 0, 0, 0, 0, 0, 0, 0, 0, 0, 0, 0, 0, 0, 0, 0, 0, 0, 0, 0, 0, 0, 0, 0, 0, 0, 0, 0, 0, 0, 0, 0, 0, 0, 0, 0, 0, 0, 0, 0, 0, 0, 0, 0, 0, 0, 0, 0, 0, 0, 0, 0, 0, 0, 0, 0, 0, 0, 0, 0, 0, 0, 0, 0, 0, 0, 0, 0, 0, 0, 0, 0, 0, 0, 0, 0, 0, 0, 0, 0, 0, 0, 0, 0, 0, 0, 0, 0, 0, 0, 0, 0, 0, 0, 0, 0, 0, 0, 0, 0, 0, 0, 0, 0, 0, 0, 0, 0, 0, 0, 0, 0, 0, 0, 0, 0, 0, 0, 0, 0, 0, 0, 0, 0, 0, 0, 0, 0, 0, 0, 0, 0, 0, 0, 0, 0, 0, 0, 0, 0, 0, 0, 0, 0, 0, 0, 0, 0, 0, 0, 0, 0, 0, 0, 0, 0, 0, 0, 0, 0, 0, 0, 0, 0, 0, 0, 0, 0, 0, 0, 0, 0, 0, 0, 0, 0, 0, 0, 0, 0, 0, 0, 0, 0, 0, 0, 0, 0, 0, 0, 0, 0, 0, 0, 0, 0, 0, 0, 0, 0, 0, 0, 0, 0, 0, 0, 0, 0, 0, 0, 0, 0, 0, 0, 0, 0, 0, 0, 0, 0, 0, 0, 0, 0, 0, 0, 0, 0, 0, 0, 0, 0, 0, 0, 0, 0, 0, 0, 0, 0, 0, 0, 0, 0, 0, 0, 0, 0, 0, 0, 0, 0, 0, 0, 0, 0, 0, 0, 0, 0, 0, 0, 0, 0, 0, 0, 0, 0, 0, 0, 0, 0, 0, 0, 0, 0, 0, 0, 0, 0, 0, 0, 0, 0, 0, 0, 0, 0, 0, 0, 0, 0, 0, 0, 0, 0, 0, 0, 0, 0, 0, 0, 0, 0, 0, 0, 0, 0, 0, 0, 0, 0, 0, 0, 0, 0, 0, 0, 0, 0, 0, 0, 0, 0, 0, 0, 0, 0, 0, 0, 0, 0, 0, 0, 0, 0, 0, 0, 0, 0, 0, 0, 0, 0, 0, 0, 0, 0, 0, 0, 0, 0, 0, 0, 0, 0, 0, 0, 0, 0, 0, 0, 0, 0, 0, 0, 0, 0, 0, 0, 0, 0, 0, 0, 0, 0, 0, 0, 0, 0, 0, 0, 0, 0, 0, 0, 0, 0, 0, 0, 0, 0, 0, 0, 0, 0, 0, 0, 0, 0, 0, 0, 0, 0, 0, 0, 0, 0, 0, 0, 0, 0, 0, 0, 0, 0, 0, 0, 0, 0, 0, 0, 0, 0, 0, 0, 0, 0, 0, 0, 0, 0, 0, 0, 0, 0, 0, 0, 0, 0, 0, 0, 0, 0, 0, 0, 0, 0, 0, 0, 0, 0, 0, 0, 0, 0, 0, 0, 1, 0, 0, 0, 0, 0, 0, 0, 0, 0, 0, 0, 0, 0, 0, 0, 0, 0, 0, 0, 0, 0, 0, 0, 0, 0, 0, 0, 0, 0, 0, 0, 0, 0, 0, 0, 0, 0, 0, 0, 0, 0, 0, 0, 0, 0, 0, 0, 0, 0, 0, 0, 0, 0, 0, 0, 0, 0, 0, 0, 0, 0, 0, 0, 0, 0, 0, 0, 0, 0, 0, 0, 0, 0, 0, 0, 0, 0, 0, 0, 0, 0, 0, 0, 0, 0, 0, 0, 0, 0, 0, 0, 0, 0, 0, 0, 0, 0, 0, 0, 0, 0, 0, 0, 0, 0, 0, 0, 0, 0, 0, 2, 0, 0, 0, 0, 0, 0, 0, 0, 0, 0, 0, 0, 0, 0, 0, 0, 0, 0, 0, 0, 0, 0, 0, 0, 0, 0, 0, 0, 0, 0, 0, 0, 0, 0, 0, 0, 0, 0, 0, 0, 0, 0, 0, 0, 0, 0, 0, 0, 0, 0, 0, 0, 0, 0, 0, 0, 0, 0, 0, 0, 0, 0, 0, 0, 0, 0, 0, 0, 0, 0, 0, 0, 0, 0, 0, 0, 0, 0, 0, 0, 0, 0, 0, 0, 0, 0, 0, 0, 0, 0, 0, 0, 0, 0, 0, 0, 0, 0, 0, 0, 0, 0, 0, 0, 0, 0, 0, 0, 0, 0, 0, 0, 0, 0, 0, 0, 0, 0, 0, 0, 0, 0, 0, 0, 0, 0, 0, 0, 0, 0, 0, 0, 0, 0, 0, 0, 0, 0, 0, 0, 0, 0, 0, 0, 0, 0, 0, 0, 0, 0, 0, 0, 0, 0, 0, 0, 0, 0, 0, 0, 0, 0, 0, 0, 0, 0, 0, 0, 0, 0, 0, 0, 0, 0, 0, 0, 0, 0, 0, 0, 0, 0, 0, 0, 0, 0, 0, 0, 0, 0, 0, 0, 0, 0, 0, 0, 0, 0, 0, 0, 0, 0, 0, 0, 0, 0, 0, 0, 0, 0, 0, 0, 0, 0, 0, 0, 0, 0, 0, 0, 0, 0, 0, 0, 0, 0, 0, 0, 0, 0, 0, 0, 0, 0, 0, 0, 0, 0, 0, 0, 0, 0, 0, 0, 0, 0, 0, 0, 0, 0, 0, 0, 0, 0, 0, 0, 0, 0, 0, 0, 0, 0, 0, 0, 0, 0, 0, 0, 0, 0, 0, 0, 0, 0, 0, 0, 0, 0, 0, 0, 0, 0, 0, 0, 0, 0, 0, 0, 0, 0, 0, 0, 0, 0, 0, 0, 0, 0, 0, 0, 0, 0, 0, 0, 0, 0, 0, 0, 0, 0, 0, 0, 0, 0, 0, 0, 0, 0, 0, 0, 0, 0, 0, 0, 0, 0, 0, 0, 0, 0, 0, 0, 0, 0, 0, 0, 0, 0, 0, 0, 0, 0, 0, 0, 0, 0, 0, 0, 0, 0, 0, 0, 0, 0, 0, 0, 0, 0, 0, 0, 0, 0, 0, 0, 0, 0, 0, 0, 0, 0, 0, 0, 0, 0, 0, 0, 0, 0, 0, 0, 0, 0, 0, 0, 0, 0, 0, 0, 0, 0, 0, 0, 0, 0, 0, 0, 0, 0, 0, 0, 0, 0, 0, 0, 0, 0, 0, 0, 0, 0, 0, 0, 0, 0, 0, 0, 0, 0, 0, 0, 0, 0, 0, 0, 0, 0, 0, 0, 0, 0, 0, 0, 0, 0, 0, 0, 0, 0, 0, 0, 0, 0, 0, 0, 0, 0, 0, 0, 0, 0, 0, 0, 0, 0, 0, 0, 0, 0, 0, 0, 0, 0, 0, 0, 0, 0, 0, 0, 0, 0, 0, 0, 0, 0, 0, 0, 0, 0, 0, 0, 0, 0, 0, 0, 0, 0, 0, 0, 0, 0, 0, 0, 0, 0, 0, 0, 0, 0, 0, 0, 0, 0, 0, 0, 0, 0, 0, 0, 0, 0, 0, 0, 0, 0, 0, 0, 0, 0, 0, 0, 0, 0, 0, 0, 0, 0, 0, 0, 0, 0, 0, 0, 0, 0, 0, 0, 0, 0, 0, 0, 0, 0, 0, 0, 0, 0, 0, 0, 0, 0, 0, 0, 0, 0, 0, 0, 0, 0, 0, 0, 0, 0, 0, 0, 0, 0, 0, 0, 0, 0, 0, 0, 0, 0, 0, 0, 0, 0, 0, 0, 0, 0, 0, 0, 0, 0, 0, 0, 0, 0, 0, 0, 0, 0, 0, 0, 0, 0, 0, 0, 0, 0, 0, 0, 0, 0, 0, 0, 0, 0, 0, 0, 0, 0, 0, 0, 0, 0, 0, 0, 0, 0, 0, 0, 0, 0, 0, 0, 0, 0, 0, 0, 0, 0, 0, 0, 0, 0, 0, 0, 0, 0, 0, 0, 0, 0, 0, 0, 0, 0, 0, 0, 0, 0, 0, 0, 0, 0, 0, 0, 0, 0, 0, 0, 0, 0, 0, 0, 0, 0, 0, 0, 0, 0, 0, 0, 0, 0, 0, 0, 0, 0, 0, 0, 0, 0, 0, 0, 0, 0, 1, 0, 0, 0, 0, 0, 0, 0, 0, 0, 0, 0, 0, 0, 0, 0, 0, 0, 0, 0, 0, 0, 0, 0, 0, 0, 0, 0, 0, 0, 0, 0, 0, 0, 0, 0, 0, 0, 0, 0, 0, 0, 0, 0, 0, 0, 0, 0, 0, 0, 0, 0, 0, 0, 0, 0, 0, 0, 0, 0, 0, 0, 0, 0, 0, 0, 0, 0, 0, 0, 0, 0, 0, 0, 0, 0, 0, 0, 0, 0, 0, 0, 0, 0, 0, 0, 0, 0, 0, 0, 0, 0, 0, 0, 0, 0, 0, 0, 0, 0, 0, 0, 0, 0, 0, 0, 0, 0, 1, 0, 0, 0, 0, 0, 0, 0, 0, 0, 0, 0, 0, 0, 0, 0, 0, 0, 0, 0, 0, 0, 0, 0, 0, 0, 0, 0, 0, 0, 0, 0, 0, 0, 0, 0, 0, 0, 0, 0, 0, 0, 0, 0, 0, 0, 0, 0, 0, 0, 0, 0, 0, 0, 0, 0, 0, 0, 0, 0, 0, 0, 0, 0, 0, 0, 0, 0, 0, 0, 0, 0, 0, 0, 0, 0, 0, 0, 0, 0, 0, 0, 0, 0, 0, 0, 0, 0, 0, 0, 0, 0, 0, 0, 0, 0, 0, 0, 0, 0, 0, 0, 0, 0, 0, 0, 0, 0, 0, 0, 0, 0, 0, 0, 0, 0, 0, 0, 0, 0, 0, 0, 0, 0, 0, 0, 0, 0, 0, 0, 0, 0, 0, 0, 0, 0, 0, 0, 0, 0, 0, 0, 0, 0, 0, 0, 0, 0, 0, 0, 0, 0, 0, 0, 0, 0, 0, 0, 0, 0, 0, 0, 0, 0, 0, 0, 0, 0, 0, 0, 0, 0, 0, 0, 0, 0, 0, 0, 0, 0, 0, 0, 0, 0, 0, 0, 0, 0, 0, 0, 0, 0, 0, 0, 0, 0, 0, 0, 0, 0, 0, 0, 0, 0, 0, 0, 0, 0, 0, 0, 0, 0, 0, 0, 0, 0, 0, 0, 0, 0, 0, 0, 0, 0, 0, 0, 0, 0, 0, 0, 0, 0, 0, 0, 0, 0, 0, 0, 0, 0, 0, 0, 0, 0, 0, 0, 0, 0, 0, 0, 0, 0, 0, 0, 0, 0, 0, 0, 0, 0, 0, 0, 0, 0, 0, 0, 0, 0, 0, 0, 0, 0, 0, 0, 0, 0, 0, 0, 0, 0, 0, 0, 0, 0, 0, 0, 0, 0, 0, 0, 0, 0, 0, 0, 0, 0, 0, 0, 0, 0, 0, 0, 0, 0, 0, 0, 0, 0, 0, 0, 0, 0, 0, 0, 0, 0, 0, 0, 0, 0, 0, 0, 0, 0, 0, 0, 0, 0, 0, 0, 0, 0, 0, 0, 0, 0, 0, 0, 0, 0, 0, 0, 0, 0, 0, 0, 0, 0, 0, 0, 0, 0, 0, 0, 0, 0, 0, 0, 0, 0, 0, 0, 0, 0, 0, 0, 0, 0, 0, 0, 0, 0, 0, 0, 0, 0, 0, 0, 0, 0, 0, 0, 0, 0, 0, 0, 0, 0, 0, 0, 0, 0, 0, 0, 0, 0, 0, 0, 0, 0, 0, 0, 0, 0, 0, 0, 0, 0, 0, 0, 0, 0, 0, 0, 0, 0, 0, 0, 0, 0, 0, 0, 0, 0, 0, 0, 0, 0, 0, 0, 0, 0, 0, 0, 0, 0, 0, 0, 0, 0, 0, 0, 0, 0, 0, 0, 0, 0, 0, 0, 0, 0, 0, 0, 0, 0, 0, 0, 0, 0, 0, 0, 0, 0, 2, 0, 1, 0], type: <class 'list'>, valid types: <class 'bytes'>, <class 'bytearray'>, file-like object"
     ]
    }
   ],
   "source": [
    "response = runtime.invoke_endpoint(EndpointName = xgb_predictor.endpoint, # The name of the endpoint we created\n",
    "                                       ContentType = 'text/csv',                     # The data format that is expected\n",
    "                                       Body = test_bow)"
   ]
  },
  {
   "cell_type": "markdown",
   "metadata": {},
   "source": [
    "So why did we get an error?\n",
    "\n",
    "Because we tried to send the endpoint a list of integers but it expected us to send data of type `text/csv`. So, we need to convert it."
   ]
  },
  {
   "cell_type": "code",
   "execution_count": 49,
   "metadata": {},
   "outputs": [],
   "source": [
    "response = runtime.invoke_endpoint(EndpointName = xgb_predictor.endpoint, # The name of the endpoint we created\n",
    "                                       ContentType = 'text/csv',                     # The data format that is expected\n",
    "                                       Body = ','.join([str(val) for val in test_bow]).encode('utf-8'))"
   ]
  },
  {
   "cell_type": "code",
   "execution_count": 50,
   "metadata": {},
   "outputs": [
    {
     "name": "stdout",
     "output_type": "stream",
     "text": [
      "{'ResponseMetadata': {'RequestId': 'f41e2d95-5053-42e9-a1cd-f7a5a4c083f6', 'HTTPStatusCode': 200, 'HTTPHeaders': {'x-amzn-requestid': 'f41e2d95-5053-42e9-a1cd-f7a5a4c083f6', 'x-amzn-invoked-production-variant': 'AllTraffic', 'date': 'Thu, 12 Dec 2019 15:09:51 GMT', 'content-type': 'text/csv; charset=utf-8', 'content-length': '14'}, 'RetryAttempts': 0}, 'ContentType': 'text/csv; charset=utf-8', 'InvokedProductionVariant': 'AllTraffic', 'Body': <botocore.response.StreamingBody object at 0x7f2883971940>}\n"
     ]
    }
   ],
   "source": [
    "print(response)"
   ]
  },
  {
   "cell_type": "markdown",
   "metadata": {},
   "source": [
    "As we can see, the response from our model is a somewhat complicated looking dict that contains a bunch of information. The bit that we are most interested in is `'Body'` object which is a streaming object that we need to `read` in order to make use of."
   ]
  },
  {
   "cell_type": "code",
   "execution_count": 51,
   "metadata": {},
   "outputs": [
    {
     "name": "stdout",
     "output_type": "stream",
     "text": [
      "0.401978105307\n"
     ]
    }
   ],
   "source": [
    "response = response['Body'].read().decode('utf-8')\n",
    "print(response)"
   ]
  },
  {
   "cell_type": "markdown",
   "metadata": {},
   "source": [
    "Now that we know how to process the incoming user data we can start setting up the infrastructure to make our simple web app work. To do this we will make use of two different services. Amazon's Lambda and API Gateway services.\n",
    "\n",
    "Lambda is a service which allows someone to write some relatively simple code and have it executed whenever a chosen trigger occurs. For example, you may want to update a database whenever new data is uploaded to a folder stored on S3.\n",
    "\n",
    "API Gateway is a service that allows you to create HTTP endpoints (url addresses) which are connected to other AWS services. One of the benefits to this is that you get to decide what credentials, if any, are required to access these endpoints.\n",
    "\n",
    "In our case we are going to set up an HTTP endpoint through API Gateway which is open to the public. Then, whenever anyone sends data to our public endpoint we will trigger a Lambda function which will send the input (in our case a review) to our model's endpoint and then return the result."
   ]
  },
  {
   "cell_type": "markdown",
   "metadata": {},
   "source": [
    "### Setting up a Lambda function\n",
    "\n",
    "The first thing we are going to do is set up a Lambda function. This Lambda function will be executed whenever our public API has data sent to it. When it is executed it will receive the data, perform any sort of processing that is required, send the data (the review) to the SageMaker endpoint we've created and then return the result.\n",
    "\n",
    "#### Part A: Create an IAM Role for the Lambda function\n",
    "\n",
    "Since we want the Lambda function to call a SageMaker endpoint, we need to make sure that it has permission to do so. To do this, we will construct a role that we can later give the Lambda function.\n",
    "\n",
    "Using the AWS Console, navigate to the **IAM** page and click on **Roles**. Then, click on **Create role**. Make sure that the **AWS service** is the type of trusted entity selected and choose **Lambda** as the service that will use this role, then click **Next: Permissions**.\n",
    "\n",
    "In the search box type `sagemaker` and select the check box next to the **AmazonSageMakerFullAccess** policy. Then, click on **Next: Review**.\n",
    "\n",
    "Lastly, give this role a name. Make sure you use a name that you will remember later on, for example `LambdaSageMakerRole`. Then, click on **Create role**."
   ]
  },
  {
   "cell_type": "markdown",
   "metadata": {},
   "source": [
    "#### Part B: Create a Lambda function\n",
    "\n",
    "Now it is time to actually create the Lambda function. Remember from earlier that in order to process the user provided input and send it to our endpoint we need to gather two pieces of information:\n",
    "\n",
    " - The name of the endpoint, and\n",
    " - the vocabulary object.\n",
    "\n",
    "We will copy these pieces of information to our Lambda function after we create it.\n",
    "\n",
    "To start, using the AWS Console, navigate to the AWS Lambda page and click on **Create a function**. When you get to the next page, make sure that **Author from scratch** is selected. Now, name your Lambda function, using a name that you will remember later on, for example `sentiment_analysis_xgboost_func`. Make sure that the **Python 3.6** runtime is selected and then choose the role that you created in the previous part. Then, click on **Create Function**.\n",
    "\n",
    "On the next page you will see some information about the Lambda function you've just created. If you scroll down you should see an editor in which you can write the code that will be executed when your Lambda function is triggered. Collecting the code we wrote above to process a single review and adding it to the provided example `lambda_handler` we arrive at the following.\n",
    "\n",
    "```python\n",
    "# We need to use the low-level library to interact with SageMaker since the SageMaker API\n",
    "# is not available natively through Lambda.\n",
    "import boto3\n",
    "\n",
    "# And we need the regular expression library to do some of the data processing\n",
    "import re\n",
    "\n",
    "REPLACE_NO_SPACE = re.compile(\"(\\.)|(\\;)|(\\:)|(\\!)|(\\')|(\\?)|(\\,)|(\\\")|(\\()|(\\))|(\\[)|(\\])\")\n",
    "REPLACE_WITH_SPACE = re.compile(\"(<br\\s*/><br\\s*/>)|(\\-)|(\\/)\")\n",
    "\n",
    "def review_to_words(review):\n",
    "    words = REPLACE_NO_SPACE.sub(\"\", review.lower())\n",
    "    words = REPLACE_WITH_SPACE.sub(\" \", words)\n",
    "    return words\n",
    "    \n",
    "def bow_encoding(words, vocabulary):\n",
    "    bow = [0] * len(vocabulary) # Start by setting the count for each word in the vocabulary to zero.\n",
    "    for word in words.split():  # For each word in the string\n",
    "        if word in vocabulary:  # If the word is one that occurs in the vocabulary, increase its count.\n",
    "            bow[vocabulary[word]] += 1\n",
    "    return bow\n",
    "\n",
    "\n",
    "def lambda_handler(event, context):\n",
    "    \n",
    "    vocab = \"*** ACTUAL VOCABULARY GOES HERE ***\"\n",
    "    \n",
    "    words = review_to_words(event['body'])\n",
    "    bow = bow_encoding(words, vocab)\n",
    "\n",
    "    # The SageMaker runtime is what allows us to invoke the endpoint that we've created.\n",
    "    runtime = boto3.Session().client('sagemaker-runtime')\n",
    "\n",
    "    # Now we use the SageMaker runtime to invoke our endpoint, sending the review we were given\n",
    "    response = runtime.invoke_endpoint(EndpointName = '***ENDPOINT NAME HERE***',# The name of the endpoint we created\n",
    "                                       ContentType = 'text/csv',                 # The data format that is expected\n",
    "                                       Body = ','.join([str(val) for val in bow]).encode('utf-8')) # The actual review\n",
    "\n",
    "    # The response is an HTTP response whose body contains the result of our inference\n",
    "    result = response['Body'].read().decode('utf-8')\n",
    "    \n",
    "    # Round the result so that our web app only gets '1' or '0' as a response.\n",
    "    result = round(float(result))\n",
    "\n",
    "    return {\n",
    "        'statusCode' : 200,\n",
    "        'headers' : { 'Content-Type' : 'text/plain', 'Access-Control-Allow-Origin' : '*' },\n",
    "        'body' : str(result)\n",
    "    }\n",
    "```"
   ]
  },
  {
   "cell_type": "markdown",
   "metadata": {},
   "source": [
    "Once you have copy and pasted the code above into the Lambda code editor, replace the `**ENDPOINT NAME HERE**` portion with the name of the endpoint that we deployed earlier. You can determine the name of the endpoint using the code cell below."
   ]
  },
  {
   "cell_type": "code",
   "execution_count": 45,
   "metadata": {},
   "outputs": [
    {
     "data": {
      "text/plain": [
       "'xgboost-2019-12-12-14-19-30-633'"
      ]
     },
     "execution_count": 45,
     "metadata": {},
     "output_type": "execute_result"
    }
   ],
   "source": [
    "xgb_predictor.endpoint"
   ]
  },
  {
   "cell_type": "markdown",
   "metadata": {},
   "source": [
    "In addition, you will need to copy the vocabulary dict to the appropriate place in the code at the beginning of the `lambda_handler` method. The cell below prints out the vocabulary dict in a way that is easy to copy and paste."
   ]
  },
  {
   "cell_type": "code",
   "execution_count": 46,
   "metadata": {},
   "outputs": [
    {
     "name": "stdout",
     "output_type": "stream",
     "text": [
      "{'the': 4426, 'use': 4692, 'of': 3083, 'form': 1798, 'editing': 1421, 'position': 3345, 'characters': 760, 'in': 2257, 'scene': 3809, 'these': 4441, 'were': 4848, 'all': 187, 'used': 4693, 'with': 4911, 'such': 4268, 'by': 642, 'hitchcock': 2123, 'that': 4424, 'you': 4986, 'can': 665, 'really': 3556, 'see': 3855, 'what': 4858, 'genius': 1887, 'he': 2056, 'had': 2003, 'way': 4820, 'wife': 4884, 'moves': 2925, 'from': 1840, 'one': 3107, 'corner': 996, 'ring': 3698, 'to': 4507, 'other': 3135, 'as': 311, 'fight': 1707, 'progresses': 3426, 'when': 4862, 'wedding': 4836, 'is': 2360, 'placed': 3283, 'on': 3105, 'her': 2085, 'finger': 1731, 'while': 4868, 'may': 2775, 'seem': 3861, 'bit': 488, 'obvious': 3071, 'todays': 4509, 'standards': 4145, 'silent': 3975, 'era': 1513, 'they': 4442, 'spoke': 4125, 'about': 67, 'story': 4207, 'without': 4913, 'word': 4937, 'being': 448, 'spoken': 4126, 'even': 1533, 'title': 4504, 'has': 2043, 'least': 2554, 'four': 1812, 'boxing': 556, 'lover': 2672, 'and': 226, 'love': 2669, 'at': 331, 'heart': 2064, 'how': 2181, 'grinch': 1975, 'stole': 4194, 'christmas': 810, 'instantly': 2306, 'my': 2951, 'became': 431, 'favorite': 1671, 'movie': 2926, 'almost': 193, 'very': 4723, 'first': 1736, 'viewing': 4740, 'now': 3054, 'eight': 1436, 'viewings': 4741, 'later': 2525, 'it': 2366, 'still': 4188, 'same': 3778, 'impact': 2244, 'me': 2778, 'did': 1241, 'time': 4495, 'saw': 3798, 'price': 3389, 'peter': 3247, 'who': 4871, 'roger': 3724, 'rabbit': 3498, 'fame': 1642, 'do': 1302, 'fantastic': 1651, 'job': 2405, 'screen': 3829, 'ron': 3734, 'direction': 1261, 'brought': 600, 'full': 1846, 'life': 2592, 'jim': 2402, 'typically': 4624, 'performance': 3228, 'steals': 4172, 'show': 3953, 'some': 4061, 'film': 1716, 'have': 2052, 'claimed': 829, 'not': 3040, 'true': 4596, 'spirit': 4113, 'or': 3124, 'original': 3129, 'having': 2054, 'read': 3543, 'must': 2950, 'say': 3799, 'cannot': 670, 'agree': 155, 'makes': 2716, 'point': 3316, 'its': 2370, 'meaning': 2780, 'indeed': 2271, 'making': 2718, 'more': 2904, 'personal': 3240, 'showing': 3958, 'us': 4690, 'why': 4878, 'was': 4805, 'mild': 2839, 'spoilers': 4124, 'probably': 3407, 'wouldnt': 4958, 'ruin': 3750, 'for': 1784, 'but': 636, 'if': 2222, 'havent': 2053, 'seen': 3865, 'yet': 4984, 'youre': 4992, 'those': 4460, 'wants': 4791, 'know': 2489, 'nothing': 3047, 'until': 4680, 'youve': 4995, 'should': 3951, 'skip': 4016, 'next': 3007, 'two': 4620, 'think': 4452, 'just': 2437, 'everyone': 1542, 'relate': 3593, 'terrible': 4407, 'experiences': 1582, 'school': 3813, 'another': 250, 'always': 203, 'picked': 3266, 'thats': 4425, 'personally': 3243, 'so': 4046, 'much': 2934, 'sympathy': 4343, 'went': 4847, 'through': 4477, 'lou': 2663, 'whos': 4876, 'naive': 2958, 'believing': 457, 'nobody': 3022, 'be': 418, 'bad': 382, 'else': 1448, 'turned': 4606, 'their': 4431, 'out': 3141, 'fear': 1676, 'determined': 1221, 'his': 2118, 'friend': 1835, 'only': 3110, 'could': 1007, 'an': 223, 'attitude': 346, 'fact': 1621, 'thing': 4450, 'made': 2697, 'little': 2624, 'better': 472, 'would': 4957, 'been': 438, 'further': 1853, 'tone': 4517, 'down': 1335, 'adult': 125, 'humor': 2192, 'content': 966, 'already': 197, 'pretty': 3384, 'any': 256, 'this': 4457, 'like': 2599, 'nose': 3037, 'into': 2332, 'doesnt': 1309, 'fit': 1740, 'ones': 3108, 'well': 4843, 'classic': 835, 'taking': 4352, 'deserved': 1200, 'place': 3282, 'alongside': 196, 'book': 535, 'chuck': 812, 'jones': 2418, 'cartoon': 704, 'every': 1539, 'season': 3843, 'found': 1811, 'exciting': 1563, 'right': 3696, 'start': 4156, 'spielberg': 4110, 'plot': 3309, 'intriguing': 2335, 'tried': 4584, 'figure': 1711, 'actual': 108, 'situation': 4008, 'before': 440, 'opening': 3114, 'credits': 1050, 'action': 100, 'starts': 4159, 'bringing': 586, 'suspense': 4330, 'main': 2707, 'are': 285, 'likable': 2598, 'trouble': 4592, 'liking': 2604, 'due': 1382, 'extra': 1606, 'political': 3324, 'activities': 102, 'william': 4887, 'too': 4522, 'there': 4438, 'several': 3905, 'highly': 2105, 'unexpected': 4650, 'twists': 4619, 'which': 4867, 'enjoyment': 1488, 'unfortunately': 4654, 'many': 2732, 'places': 3284, 'where': 4864, 'annoying': 249, 'high': 2100, 'pitch': 3279, 'sound': 4081, 'soundtrack': 4085, 'something': 4066, 'suspect': 4327, 'picking': 3267, 'up': 4683, 'video': 4733, 'set': 3898, 'cant': 671, 'understand': 4643, 'hype': 2207, 'ok': 3098, 'cheap': 774, 'splatter': 4118, 'will': 4886, 'good': 1937, 'stories': 4205, 'actors': 104, 'dont': 1324, 'watch': 4811, 'hired': 2117, 'straight': 4210, 'street': 4216, 'dialogs': 1233, 'completely': 922, 'flat': 1748, 'whats': 4860, 'coming': 896, 'overall': 3150, 'quality': 3484, 'lacks': 2505, 'low': 2676, 'budget': 610, 'we': 4823, 'people': 3221, 'mind': 2849, 'needed': 2988, 'get': 1899, 'lowest': 2678, 'effort': 1432, 'issue': 2364, 'whole': 4873, 'experience': 1580, 'seems': 3864, 'single': 3996, 'liked': 2600, 'amusing': 221, 'able': 66, 'make': 2713, 'whether': 4866, 'comedy': 890, 'work': 4940, 'light': 2595, 'moments': 2887, 'few': 1700, 'far': 1653, 'also': 199, 'lot': 2661, 'happen': 2026, 'no': 3020, 'extremely': 1610, 'feel': 1684, 'things': 4451, 'taken': 4350, 'explain': 1586, 'might': 2835, 'ending': 1471, 'anti': 254, 'mean': 2779, 'rest': 3657, 'actually': 109, 'building': 615, 'sorts': 4078, 'didnt': 1242, 'find': 1726, 'isnt': 2362, 'give': 1912, 'winter': 4900, 'kills': 2474, 'weak': 4824, '10': 0, 'interested': 2324, 'came': 656, 'theaters': 4428, 'however': 2183, 'wasnt': 4807, 'around': 297, 'finally': 1724, 'hit': 2122, 'knowing': 2490, 'exactly': 1551, 'expect': 1575, 'dvd': 1391, 'player': 3298, 'evening': 1534, 'murder': 2939, 'play': 3296, 'followed': 1773, 'engaging': 1481, 'flicks': 1755, 'ive': 2372, 'last': 2521, 'couple': 1016, 'years': 4979, 'murders': 2943, 'led': 2558, 'parts': 3199, 'la': 2500, 'biggest': 480, 'porn': 3336, '70s': 56, 'john': 2409, 'holmes': 2139, 'hooked': 2153, 'beginning': 443, 'held': 2074, 'bloody': 513, 'end': 1468, 'surprised': 4313, 'focused': 1767, 'less': 2575, 'events': 1536, 'investigation': 2343, 'after': 143, 'aside': 315, 'blood': 512, 'walls': 4783, 'towards': 4540, 'great': 1964, 'acting': 99, 'star': 4150, 'beautiful': 428, 'joy': 2422, 'looks': 2649, 'felt': 1692, 'best': 469, 'aspect': 321, 'mentioned': 2811, 'lack': 2502, 'shown': 3959, 'dark': 1115, 'atmosphere': 333, 'couldnt': 1008, 'brutal': 603, 'sleeping': 4025, 'furthermore': 1854, 'effects': 1431, 'said': 3774, 'than': 4420, 'enough': 1491, 'beating': 425, 'lead': 2545, 'theres': 4440, 'needs': 2990, 'real': 3547, 'problem': 3408, 'carrie': 697, 'brief': 579, 'portrayal': 3341, 'overly': 3155, 'religious': 3608, 'cliche': 843, 'maybe': 2776, 'person': 3238, 'part': 3193, 'sold': 4052, 'reason': 3557, 'fisher': 1739, 'seemed': 3862, 'excellent': 1555, 'worth': 4953, 'once': 3106, 'men': 2805, 'ed': 1415, 'jon': 2416, 'voight': 4764, 'lewis': 2586, 'burt': 629, 'reynolds': 3684, 'drew': 1360, 'cox': 1026, 'bobby': 525, 'ned': 2986, 'beatty': 427, 'decide': 1148, 'go': 1924, 'trip': 4588, 'river': 3707, 'wanted': 4789, 'fun': 1848, 'nice': 3008, 'weekend': 4838, 'nature': 2975, 'mountain': 2917, 'cross': 1066, 'path': 3209, 'rape': 3521, 'them': 4432, 'everything': 1544, 'begins': 444, 'hell': 2077, 'cost': 1003, 'italian': 2367, 'titled': 4505, 'un': 4630, 'calm': 655, 'movies': 2927, 'texas': 4418, 'massacre': 2754, 'hills': 2109, 'eyes': 1613, 'wrong': 4973, 'turn': 4605, 'house': 2178, 'left': 2561, 'evil': 1548, 'revenge': 3675, 'films': 1721, 'based': 404, 'james': 2378, 'appears': 278, 'sheriff': 3929, 'chilling': 794, 'someone': 4064, 'thinking': 4453, 'knows': 2493, 'image': 2233, 'dead': 1132, 'mans': 2730, 'hand': 2015, 'raising': 3509, 'under': 4639, 'water': 4816, 'hands': 2020, 'holding': 2130, 'haunting': 2051, 'images': 2235, 'never': 3001, 'leave': 2555, 'your': 4991, 'teenager': 4390, 'songs': 4072, 'huge': 2185, 'class': 833, 'back': 378, 'then': 4436, 'watching': 4815, 'aka': 168, 'anyways': 262, 'series': 3890, '90s': 61, 'most': 2909, 'again': 146, 'long': 2644, 'remembered': 3617, 'created': 1037, 'song': 4071, 'each': 1395, 'worst': 4952, 'dressing': 1359, 'duo': 1386, 'late': 2523, 'faithful': 1634, 'dress': 1357, 'sense': 3877, 'remains': 3611, 'worked': 4941, 'slowly': 4032, 'realized': 3553, 'missing': 2869, 'looking': 2648, 'indian': 2274, 'carry': 700, 'hated': 2047, 'loved': 2670, 'masses': 2755, 'rent': 3626, 'tv': 4610, 'regret': 3591, 'remember': 3616, 'stop': 4201, 'ahead': 159, 'times': 4497, 'stupidity': 4248, 'done': 1322, 'kings': 2481, 'surely': 4309, 'watchable': 4812, 'recommend': 3571, 'lovers': 2673, 'five': 1743, 'six': 4010, 'year': 4978, 'old': 3100, 'enjoying': 1487, 'recently': 3567, 'opportunity': 3121, 'since': 3990, 'aired': 165, 'disney': 1289, 'presents': 3377, 'channel': 753, 'id': 2212, 'forgotten': 1797, 'kids': 2467, 'enjoyable': 1485, 'wait': 4770, 'interesting': 2325, 'secret': 3849, 'sunshine': 4294, 'lee': 2559, 'character': 758, 'woman': 4921, 'young': 4989, 'son': 4070, 'whose': 4877, 'husband': 2204, 'died': 1244, 'tragic': 4552, 'accident': 84, 'leaves': 2556, 'live': 2625, 'home': 2142, 'town': 4541, 'face': 1616, 'she': 3923, 'elegant': 1441, 'aged': 149, 'sad': 3767, 'desperate': 1208, 'terribly': 4408, 'isolated': 2363, 'turns': 4609, 'stars': 4155, 'ho': 2127, 'kim': 2475, 'man': 2721, 'meets': 2795, 'car': 680, 'breaks': 571, 'happens': 2029, 'run': 3755, 'follows': 1775, 'despite': 1211, 'apparent': 269, 'interest': 2323, 'park': 3190, 'chan': 746, 'mr': 2929, 'vengeance': 4719, 'memories': 2803, 'host': 2173, 'here': 2086, 'plays': 3301, 'course': 1019, 'him': 2110, 'appealing': 272, 'essential': 1522, 'keep': 2449, 'floating': 1758, 'away': 369, 'piano': 3264, 'teacher': 4375, 'comes': 891, 'new': 3003, 'kind': 2476, 'poor': 3328, 'anywhere': 263, 'says': 3801, 'anyone': 259, 'boy': 557, 'boys': 559, 'father': 1666, 'misses': 2868, 'lies': 2591, 'awake': 365, 'pretending': 3382, 'goes': 1930, 'parents': 3188, 'students': 4239, 'though': 4461, 'speak': 4094, 'local': 2634, 'immediately': 2242, 'noticed': 3049, 'big': 478, 'city': 825, 'realize': 3552, 'danger': 1109, 'necessarily': 2983, 'deal': 1135, 'possible': 3350, 'consequences': 947, 'pieces': 3273, 'caught': 722, 'eventually': 1537, 'becomes': 434, 'born': 544, 'christian': 808, 'meeting': 2794, 'attend': 344, 'finds': 1728, 'peace': 3219, 'release': 3602, 'decides': 1150, 'forgive': 1795, 'prison': 3401, 'tell': 4395, 'over': 3148, 'longer': 2645, 'religion': 3607, 'gets': 1900, 'worse': 4951, 'gives': 1914, 'role': 3726, 'director': 1264, 'actor': 103, 'enormous': 1490, 'convincing': 985, 'according': 88, 'scott': 3824, 'lees': 2560, 'three': 4469, 'green': 1971, 'fish': 1738, 'candy': 668, '2000': 30, '2002': 32, 'leading': 2547, 'figures': 1713, 'recent': 3566, 'cinematic': 818, 'successful': 4266, 'korean': 2495, 'directors': 1266, 'gifted': 1907, 'begin': 442, 'alice': 182, 'anymore': 258, 'warning': 4800, 'thriller': 4472, 'nearly': 2981, 'study': 4242, 'human': 2188, 'suffering': 4277, 'random': 3514, 'loses': 2657, 'toward': 4539, 'simply': 3986, 'takes': 4351, 'chances': 748, 'choices': 798, 'along': 195, 'madness': 2698, 'betty': 474, 'jean': 2389, 'blue': 518, 'mistaken': 2872, 'properly': 3437, 'developed': 1223, 'certainly': 738, 'disturbing': 1300, 'putting': 3482, 'emotional': 1459, 'official': 3094, 'york': 4985, 'festival': 1697, 'presented': 3376, 'lincoln': 2608, 'center': 732, '2007': 37, 'event': 1535, 'filmmakers': 1720, 'past': 3207, 'cold': 872, 'adapted': 114, 'richard': 3686, 'brooks': 596, 'famous': 1647, 'novel': 3052, 'deals': 1137, 'senseless': 3878, 'family': 1645, 'pair': 3176, 'criminals': 1058, 'killers': 2471, 'particularly': 3195, 'perry': 3237, 'smith': 4038, 'robert': 3713, 'blake': 498, 'cast': 710, 'includes': 2263, 'names': 2963, 'nevertheless': 3002, 'bring': 585, 'ease': 1404, 'wilson': 4891, 'together': 4511, 'personalities': 3241, 'off': 3084, 'plenty': 3307, 'opportunities': 3120, 'explore': 1594, 'merely': 2815, 'average': 362, 'received': 3564, 'oscar': 3133, 'both': 547, 'script': 3834, 'opinion': 3118, 'does': 1308, 'ill': 2228, 'narration': 2965, 'nominated': 3025, 'cinematography': 820, 'hall': 2009, 'top': 4525, 'notch': 3043, 'worthy': 4956, 'note': 3044, 'score': 3822, 'unlike': 4670, 'crime': 1055, 'violence': 4747, 'rather': 3528, 'present': 3374, 'usual': 4699, 'hollywood': 2137, 'approach': 282, 'technical': 4381, 'aspects': 322, 'handled': 2019, 'scenes': 3811, 'fast': 1661, 'paced': 3162, 'anne': 246, 'marie': 2737, 'disappointed': 1273, 'deeper': 1155, 'relationship': 3597, 'reviews': 3679, 'predictable': 3367, 'boring': 543, 'below': 462, 'especially': 1520, 'pathetic': 3210, 'attempt': 340, 'oh': 3096, 'somewhere': 4069, 'cult': 1077, 'piece': 3272, 'lame': 2510, 'guy': 2000, 'office': 3091, 'space': 4090, 'minutes': 2859, 'silly': 3976, 'costume': 1005, 'albert': 174, 'wonderful': 4928, 'taste': 4369, 'writers': 4969, 'instead': 2307, 'decided': 1149, 'daughter': 1121, 'boyfriend': 558, 'own': 3158, 'ex': 1549, 'alright': 198, 'example': 1553, 'different': 1248, 'soul': 4079, 'body': 527, 'funny': 1852, 'charming': 768, 'jr': 2423, 'dancing': 1107, 'spoil': 4121, 'impression': 2252, 'played': 3297, 'death': 1141, 'waiting': 4772, 'met': 2822, 'philip': 3252, 'train': 4556, 'ryan': 3765, 'easily': 1406, 'missed': 2867, 'sea': 3838, 'gary': 1873, 'cooper': 990, 'souls': 4080, 'describes': 1196, 'starring': 4154, 'team': 4378, 'stan': 4142, 'laurel': 2537, 'oliver': 3102, 'hardy': 2037, 'ocean': 3079, 'escaped': 1518, 'killer': 2470, 'nick': 3012, 'criminal': 1057, 'fine': 1729, 'comedic': 888, 'powerful': 3360, 'presence': 3373, 'tribute': 4581, 'charisma': 762, 'supposed': 4306, 'protagonists': 3442, 'charm': 767, 'material': 2766, 'slow': 4031, 'spots': 4132, 'instance': 2304, 'previous': 3387, 'noted': 3045, 'doctor': 1304, 'tries': 4585, 'called': 652, 'punch': 3466, 'scenario': 3808, 'apartment': 265, 'second': 3846, 'pleasant': 3302, 'entertainment': 1500, 'running': 3756, 'wear': 4830, 'welcome': 4842, 'certain': 737, 'final': 1722, 'between': 475, 'producer': 3415, 'hal': 2006, 'post': 3352, 'measure': 2786, 'weakest': 4825, 'alien': 183, 'environment': 1505, 'colorful': 878, 'supporting': 4304, 'players': 3299, 'charlie': 765, 'musical': 2947, 'scores': 3823, 'arent': 288, 'either': 1438, 'pity': 3281, 'generally': 1881, 'public': 3460, 'minor': 2857, 'entry': 1504, 'because': 432, 'allowed': 190, 'force': 1786, 'behind': 447, 'complete': 921, 'artistic': 308, 'freedom': 1828, 'lost': 2660, 'studios': 4241, 'bottom': 551, 'practically': 3362, 'unwatchable': 4682, 'remake': 3612, 'road': 3709, 'warrior': 4802, 'exact': 1550, 'dialog': 1232, 'dubbing': 1380, 'pacing': 3163, 'sequences': 3888, 'list': 2617, 'italy': 2368, 'literally': 2622, 'dozens': 1339, 'rip': 3700, 'early': 1400, '80s': 59, 'contest': 967, 'mood': 2898, 'bleak': 503, 'miserable': 2863, 'sitting': 4007, 'bore': 540, 'half': 2007, 'chase': 769, 'sequence': 3887, 'cool': 989, 'shot': 3949, 'seriously': 3892, 'track': 4544, 'copy': 994, 'fall': 1637, 'escape': 1517, 'theyre': 4445, 'rubbish': 3748, 'joan': 2404, 'clark': 832, 'rich': 3685, 'girl': 1909, 'stock': 4193, 'market': 2740, 'crash': 1033, 'brother': 598, 'gangster': 1868, 'thinks': 4454, 'easy': 1410, 'head': 2057, 'quick': 3490, 'reporter': 3636, 'newspaper': 3006, 'given': 1913, 'worthless': 4954, 'stuff': 4243, 'killed': 2469, 'witness': 4914, 'ridiculous': 3693, 'redeeming': 3577, 'background': 380, 'scenery': 3810, 'living': 2629, 'east': 1407, 'south': 4087, 'mountains': 2918, 'west': 4852, 'knew': 2486, 'bat': 410, 'perhaps': 3235, 'dalton': 1098, 'english': 1483, 'accent': 78, 'excuse': 1564, 'saying': 3800, 'southern': 4088, 'easier': 1405, 'sure': 4308, 'phony': 3256, 'thought': 4462, 'necessary': 2984, 'pretend': 3381, 'beyond': 476, 'pictures': 3270, 'effect': 1428, 'pulls': 3464, 'loaded': 2632, 'ready': 3546, 'fire': 1734, 'weapons': 4829, 'unnecessary': 4672, 'hey': 2095, 'segment': 3867, 'suppose': 4305, 'act': 97, 'glenn': 1918, 'deeply': 1156, 'unhappy': 4656, 'christopher': 811, 'sees': 3866, 'field': 1704, 'shes': 3930, 'expert': 1585, 'affair': 135, 'spends': 4107, 'artist': 307, 'subplot': 4255, 'talks': 4361, 'apparently': 270, 'magical': 2704, 'clear': 839, 'including': 2264, 'going': 1931, 'tells': 4397, 'inside': 2297, 'god': 1926, 'means': 2783, 'extent': 1605, 'touches': 4535, 'plight': 3308, 'women': 4923, 'ultra': 4629, 'community': 908, 'nor': 3032, 'notion': 3050, 'race': 3499, 'definition': 1163, 'quotes': 3497, 'struggles': 4235, 'mid': 2832, 'sometimes': 4067, 'sounds': 4084, 'brooklyn': 595, 'tough': 4537, 'charge': 761, 'ultimately': 4628, 'mess': 2818, 'rented': 3628, 'calling': 653, 'vampires': 4712, 'los': 2653, 'con': 928, 'trick': 4582, 'executive': 1567, 'clearly': 840, 'storyline': 4208, 'special': 4097, 'vampire': 4711, 'hunter': 2199, 'dull': 1384, 'clichéd': 845, 'avoid': 363, 'plague': 3285, 'impossible': 2249, 'books': 536, 'comic': 893, 'strip': 4228, 'currently': 1085, 'comics': 895, 'greatest': 1966, 'adventure': 130, 'got': 1944, 'holds': 2131, 'extras': 1608, 'interview': 2329, 'obviously': 3072, 'gas': 1874, 'name': 2960, 'modesty': 2883, 'fan': 1648, 'writer': 4968, 'considered': 951, 'yes': 4982, 'total': 4531, 'babe': 375, 'seeing': 3857, 'jokes': 2415, 'gags': 1862, 'repetitive': 3633, 'shows': 3960, 'humour': 2194, 'values': 4710, 'george': 1893, 'take': 4349, 'winner': 4897, 'im': 2232, 'serious': 3891, 'hilarious': 2106, 'bitter': 491, 'spot': 4131, 'hate': 2046, '30': 42, 'seconds': 3848, 'hear': 2061, 'dialogue': 1234, 'mother': 2911, 'am': 204, 'shocked': 3939, 'stand': 4143, 'myself': 2953, 'bill': 481, 'sitcom': 4004, 'jeff': 2390, 'written': 4972, 'directed': 1259, 'poorly': 3329, 'idea': 2213, 'stale': 4141, 'execution': 1566, 'cake': 648, 'eva': 1531, 'parker': 3191, 'hardly': 2036, 'anything': 260, 'ever': 1538, 'delivers': 1172, 'paul': 3214, 'lake': 2509, 'bell': 458, 'miscast': 2862, 'strictly': 4223, 'jason': 2383, 'wasted': 4809, 'expected': 1577, 'sadly': 3769, 'entertained': 1498, 'aware': 368, '1970s': 17, 'cheesy': 781, 'view': 4736, 'feed': 1683, 'caused': 724, 'war': 4792, 'failed': 1626, 'soviet': 4089, 'union': 4661, '1930s': 11, 'millions': 2848, 'day': 1129, 'tragedy': 4551, 'rural': 3758, 'china': 795, 'million': 2847, 'deaths': 1142, '1950s': 14, 'let': 2579, 'forget': 1793, 'africa': 141, '1980s': 21, 'conflicts': 940, 'consider': 949, 'heavily': 2069, 'areas': 287, 'earth': 1403, 'hong': 2149, 'kong': 2494, 'suffered': 4276, 'modern': 2882, 'likewise': 2603, 'cities': 823, 'paid': 3169, 'countryside': 1015, 'progress': 3425, 'streets': 4217, 'walk': 4775, 'sleep': 4024, 'somewhat': 4068, 'laughable': 2530, 'don': 1320, 'fooled': 1780, 'pile': 3275, 'corny': 997, 'tree': 4576, 'crap': 1031, 'audience': 352, 'knowledge': 2491, 'world': 4946, 'themselves': 4435, 'finding': 1727, 'fresh': 1833, 'meat': 2787, 'ice': 2210, 'line': 2610, 'afford': 138, 'smoke': 4039, 'memorable': 2802, 'wild': 4885, 'animals': 240, 'snow': 4045, 'covered': 1023, 'generation': 1883, 'known': 2492, 'combined': 885, 'features': 1680, 'appearance': 274, 'edward': 1426, 'robinson': 3716, 'wise': 4903, 'appreciation': 281, 'billy': 482, 'proves': 3447, 'hes': 2093, 'slapstick': 4019, 'understated': 4646, 'music': 2946, 'pace': 3161, 'goofy': 1939, 'wood': 4933, 'appreciated': 280, 'look': 2646, 'shines': 3932, 'believe': 454, 'broad': 590, 'physical': 3262, 'days': 1130, 'today': 4508, 'reviewers': 3678, 'try': 4600, 'guess': 1989, 'become': 433, 'target': 4366, 'mostly': 2910, 'woods': 4935, 'social': 4049, 'dealt': 1138, 'blow': 514, 'entertaining': 1499, 'genuinely': 1892, 'deserves': 1201, 'ingredients': 2289, 'cinema': 816, 'topless': 4527, 'girls': 1911, 'kung': 2498, 'fu': 1844, 'kicking': 2462, 'slave': 4022, 'germans': 1897, 'cameron': 661, 'mitchell': 2875, 'sword': 4340, 'zombies': 4998, 'breasts': 572, 'keaton': 2448, 'display': 1291, 'occurs': 3078, 'feminist': 1695, 'exploitation': 1592, 'grave': 1962, 'mention': 2810, 'lots': 2662, 'martial': 2747, 'arts': 310, 'among': 217, 'dancers': 1105, 'bar': 396, 'boat': 523, 'load': 2631, 'artists': 309, 'zombie': 4997, 'island': 2361, 'die': 1243, 'come': 886, 'frequently': 1832, 'thanks': 4423, 'owner': 3159, 'disaster': 1276, 'strikes': 4225, 'destroyed': 1214, 'land': 2511, 'sacrifice': 3766, 'fat': 1663, 'german': 1896, 'dinner': 1254, 'fest': 1696, 'waste': 4808, 'doubt': 1332, 'want': 4788, 'nicely': 3009, 'although': 201, 'stretch': 4221, 'imagination': 2236, 'mayor': 2777, 'honest': 2146, 'concerned': 932, 'tends': 4402, 'genuine': 1891, 'drama': 1346, 'weve': 4856, 'grown': 1984, 'gritty': 1977, 'reality': 3551, 'comparing': 913, 'valley': 4707, 'admire': 121, 'middle': 2833, 'suited': 4286, 'younger': 4990, 'viewers': 4739, 'exposed': 1598, 'classical': 836, 'change': 749, 'thoughtful': 4463, 'growing': 1983, 'thank': 4421, 'goodness': 1938, 'warm': 4794, 'enjoy': 1484, 'grade': 1951, 'drive': 1363, 'filmmaker': 1719, 'par': 3184, 'al': 170, 'himself': 2111, 'sci': 3815, 'fi': 1701, 'soft': 4051, 'core': 995, 'sheer': 3925, 'celluloid': 731, 'jaw': 2384, 'dropping': 1371, 'grim': 1974, 'future': 1856, 'sex': 3907, 'illegal': 2229, 'bumbling': 622, 'idiot': 2218, 'cinderella': 815, 'blonde': 511, 'pie': 3271, 'catherine': 719, 'help': 2079, 'fairy': 1632, 'godfather': 1927, 'campy': 664, 'jay': 2386, 'grand': 1953, 'ball': 388, 'specific': 4099, 'plan': 3287, 'handsome': 2021, 'tom': 4514, 'prince': 3396, 'teaching': 4377, 'positive': 3346, 'wholly': 4874, 'acceptable': 81, 'directs': 1267, 'thumbs': 4485, 'incredibly': 2270, 'dance': 1103, 'totally': 4532, 'skill': 4013, 'abysmal': 76, 'need': 2987, 'number': 3060, 'absurd': 73, 'animal': 239, 'costumes': 1006, 'forest': 1791, 'hilariously': 2107, 'horrendous': 2162, 'equally': 1510, 'routine': 3743, 'featuring': 1681, 'bunch': 623, 'robots': 3718, 'louis': 2665, 'crude': 1069, 'plastic': 3294, 'gratuitous': 1961, 'nudity': 3059, 'praise': 3364, 'particular': 3194, 'department': 1182, 'brain': 562, 'attempts': 343, 'robot': 3717, 'law': 2538, 'irritating': 2359, 'performances': 3229, 'wicked': 4879, 'cops': 993, 'prize': 3405, 'dreadful': 1353, 'sandra': 3782, 'hugh': 2186, 'grant': 1956, 'quite': 3495, 'depth': 1190, 'whatsoever': 4861, 'suffers': 4278, 'fatal': 1664, 'stewart': 4184, '20': 29, 'result': 3660, 'chemistry': 782, 'small': 4033, 'call': 651, 'wit': 4908, 'problems': 3409, 'heard': 2062, 'overrated': 3156, 'hours': 2177, 'amazed': 208, 'quickly': 3491, 'imdb': 2240, 'rating': 3529, 'perfectly': 3226, 'decent': 1147, 'gorgeous': 1942, 'rarely': 3524, 'focus': 1766, 'jack': 2373, 'kate': 2446, 'lovely': 2671, 'rose': 3739, 'david': 1124, 'warner': 4799, 'detail': 1217, 'hot': 2174, 'development': 1225, 'moving': 2928, 'hour': 2176, 'riveting': 3708, 'edge': 1418, 'seat': 3845, 'titanic': 4503, '1996': 26, 'historical': 2119, 'appearing': 277, 'digital': 1251, 'month': 2896, 'watched': 4813, 'dozen': 1338, 'delight': 1167, 'maggie': 2702, 'create': 1036, 'helped': 2080, 'superb': 4296, 'trio': 4587, 'bob': 524, 'others': 3136, 'roles': 3727, 'simple': 3983, 'tale': 4353, 'told': 4513, 'lovable': 2668, 'age': 148, 'technology': 4385, 'ie': 2221, 'process': 3412, 'tad': 4347, 'tongue': 4518, 'cheek': 779, 'implausible': 2245, 'unbelievable': 4634, 'language': 2516, 'awful': 372, 'method': 2824, 'lesson': 2577, 'makers': 2715, 'virtually': 4751, 'outstanding': 3147, 'talent': 4354, 'wallace': 4782, 'side': 3965, 'animation': 242, 'twisted': 4618, 'creature': 1045, 'short': 3946, 'careers': 687, 'conversation': 980, 'removed': 3624, 'context': 968, 'sort': 4077, 'across': 96, 'country': 1014, 'questions': 3489, 'speed': 4103, 'asking': 318, 'lives': 2628, 'answers': 252, 'mundane': 2938, 'added': 116, 'thin': 4449, 'walking': 4779, 'stick': 4185, 'dogs': 1311, 'talk': 4358, 'birds': 485, 'cage': 645, 'health': 2060, 'stands': 4147, 'legs': 2566, 'television': 4394, 'tired': 4501, 'ordinary': 3128, 'carter': 703, 'definitely': 1162, 'catches': 715, 'attention': 345, 'children': 792, 'batman': 413, '60s': 54, 'subtle': 4260, 'wont': 4932, 'adults': 126, 'messages': 2820, 'suddenly': 4273, 'whom': 4875, 'werent': 4849, 'began': 441, 'abuse': 74, 'persons': 3244, 'child': 789, 'proved': 3446, 'third': 4455, 'opened': 3113, 'type': 4621, 'picture': 3269, 'revealing': 3672, 'dog': 1310, 'doing': 1312, 'took': 4523, 'australia': 356, 'poster': 3353, 'stated': 4161, 'trying': 4601, 'put': 3480, 'kid': 2464, 'aid': 160, 'listen': 2619, 'likely': 2601, 'safe': 3771, 'bet': 470, 'accused': 91, 'within': 4912, 'operation': 3117, 'recall': 3562, 'gave': 1875, 'duke': 1383, 'mechanical': 2788, 'voice': 4761, 'won': 4925, 'cut': 1089, 'leg': 2562, 'court': 1020, 'guilty': 1995, 'assault': 324, 'whatever': 4859, 'legal': 2563, 'justice': 2438, 'condition': 937, 'hollow': 2135, 'chance': 747, 'alone': 194, 'normal': 3033, 'utterly': 4702, 'superficial': 4298, 'upon': 4684, 'circumstances': 822, 'darkness': 1117, 'insight': 2298, 'motivation': 2914, 'strange': 4211, 'matter': 2769, 'alive': 186, 'reaction': 3541, 'creates': 1038, 'money': 2888, 'energy': 1478, 'air': 164, 'painful': 3171, 'nonetheless': 3029, 'breathtaking': 574, 'flow': 1762, 'minimal': 2855, 'complaint': 920, 'april': 284, 'ago': 154, 'following': 1774, 'castle': 712, 'leaving': 2557, 'root': 3737, 'share': 3920, 'pure': 3471, 'chases': 771, 'care': 684, 'smile': 4036, 'except': 1556, 'crying': 1074, 'happy': 2032, 'tears': 4380, 'clever': 841, 'romantic': 3733, 'neither': 2996, 'effective': 1429, 'embarrassing': 1454, 'saving': 3797, 'competent': 917, 'glimpse': 1919, 'avoided': 364, 'masterpiece': 2759, 'locations': 2636, 'flynn': 1765, 'glory': 1922, 'pilot': 3276, 'awfully': 373, 'contrived': 976, 'compared': 912, 'similarities': 3979, 'inspired': 2301, 'countless': 1012, 'closing': 859, 'fashioned': 1660, 'otherwise': 3137, 'introduction': 2339, 'hollywoods': 2138, 'classics': 837, 'wonder': 4926, 'ian': 2209, 'author': 359, 'hitler': 2124, 'originally': 3131, 'scientific': 3817, 'historically': 2120, 'mistakes': 2873, 'dies': 1245, 'moved': 2922, 'childhood': 790, 'youth': 4994, 'portrayed': 3342, 'difficult': 1249, 'frustrated': 1842, 'important': 2247, 'party': 3200, 'alfred': 181, 'characterization': 759, 'noble': 3021, 'crazy': 1035, 'constantly': 958, 'orders': 3127, 'everybody': 1540, 'wonders': 4931, 'disgusting': 1286, 'naturally': 2974, 'portray': 3340, 'facts': 1624, 'private': 3404, 'follow': 1772, 'location': 2635, 'shots': 3950, 'production': 3419, 'design': 1202, 'believable': 453, 'sequel': 3885, 'pseudo': 3454, 'documentary': 1307, 'legend': 2564, 'etc': 1527, 'dawn': 1127, 'wells': 4845, 'hoping': 2160, 'rescue': 3643, 'trap': 4563, 'horror': 2168, 'remotely': 3623, 'horrific': 2166, 'deserve': 1199, 'genre': 1888, 'wrote': 4974, 'laughed': 2532, 'embarrassed': 1453, 'subject': 4253, 'actress': 105, 'ugly': 4625, 'sucks': 4271, 'case': 707, 'reveals': 3673, 'unless': 4669, '80': 58, 'irony': 2357, 'anthony': 253, 'superman': 4301, 'ii': 2226, 'fans': 1650, 'dream': 1354, 'footage': 1782, 'photos': 3261, 'existed': 1570, 'page': 3167, 'unable': 4631, 'vision': 4754, 'restored': 3659, 'winning': 4898, 'nightmare': 3014, 'entirely': 1503, 'finished': 1733, 'perfect': 3224, 'version': 4720, 'imagined': 2239, 'thrill': 4471, 'project': 3427, 'text': 4419, 'computer': 927, 'graphics': 1959, 'trial': 4580, 'neat': 2982, 'convince': 983, 'lets': 2580, 'judge': 2424, 'visual': 4757, 'supposedly': 4307, 'direct': 1258, 'tag': 4348, 'youll': 4988, 'fly': 1763, 'productions': 3420, 're': 3535, 'works': 4945, 'theatrical': 4430, 'holes': 2133, 'shooting': 3943, 'intent': 2318, 'using': 4698, 'coherent': 871, 'comfortable': 892, 'michael': 2829, 'filmed': 1717, 'relatively': 3600, 'released': 3603, 'moon': 2900, 'ironically': 2356, 'edited': 1420, 'fashion': 1659, 'ham': 2011, 'thrown': 4481, 'bus': 631, 'brando': 566, 'highlights': 2104, 'major': 2711, 'jumping': 2431, 'served': 3894, 'section': 3853, 'nonsensical': 3031, 'narrative': 2966, 'inferior': 2285, 'alternate': 200, 'familiar': 1643, 'sloppy': 4030, 'decisions': 1152, 'daily': 1097, 'planet': 3289, 'jackie': 2374, 'calls': 654, 'bathroom': 412, 'turning': 4608, 'lights': 2597, 'initially': 2291, 'confused': 941, 'entire': 1502, 'filled': 1715, 'questionable': 3488, 'battle': 414, 'cuts': 1091, 'bridge': 578, 'pride': 3391, 'admit': 122, 'military': 2844, 'elsewhere': 1449, 'bears': 421, 'blind': 506, 'producers': 3416, 'hard': 2033, 'honor': 2150, 'dropped': 1370, 'mistake': 2871, 'product': 3418, 'separate': 3883, 'states': 4163, 'pay': 3216, 'essentially': 1523, 'bonus': 534, 'disc': 1278, 'legendary': 2565, 'initial': 2290, 'dust': 1388, 'respect': 3652, 'bold': 528, 'relief': 3605, 'managed': 2723, 'continue': 969, 'history': 2121, 'fabulous': 1615, 'anyway': 261, 'bible': 477, 'related': 3594, 'bothered': 549, 'wannabe': 4787, 'looked': 2647, 'van': 4713, 'kinda': 2477, 'style': 4249, 'skills': 4014, 'somehow': 4063, 'camera': 659, 'angels': 234, 'unrealistic': 4677, 'kevin': 2457, 'paper': 3183, 'hoped': 2156, 'disappoint': 1272, 'premise': 3370, 'conflict': 939, 'promises': 3432, 'triumph': 4590, 'poem': 3312, 'scripted': 3835, 'rough': 3741, 'translation': 4562, 'balance': 387, 'truth': 4599, 'deep': 1154, 'protagonist': 3441, 'ends': 1474, 'described': 1195, 'mighty': 2836, 'words': 4938, 'matches': 2764, 'dr': 1340, 'museum': 2945, 'boss': 546, 'large': 2517, 'task': 4368, 'collection': 874, 'deceased': 1146, 'arrival': 299, 'hadnt': 2004, 'expecting': 1578, 'week': 4837, 'none': 3028, 'room': 3735, 'stay': 4166, 'order': 3126, 'finish': 1732, 'visit': 4755, 'empty': 1465, 'providing': 3451, 'endless': 1473, 'amount': 219, 'clothes': 860, 'needless': 2989, 'eager': 1396, 'asks': 319, 'matters': 2770, 'rid': 3690, 'walks': 4780, 'hill': 2108, 'estate': 1525, 'surrounding': 4319, 'points': 3319, 'hung': 2197, 'crimes': 1056, 'pays': 3218, 'site': 4005, 'stone': 4197, 'falls': 1640, 'feels': 1687, 'shadows': 3913, 'runs': 3757, 'details': 1219, 'suggests': 4282, 'explanation': 1590, 'belong': 459, 'disappeared': 1271, 'night': 3013, 'mask': 2752, 'area': 286, 'learns': 2553, 'during': 1387, 'henry': 2084, 'drawn': 1351, 'signed': 3971, 'dated': 1119, 'power': 3359, 'vivid': 4760, 'dreams': 1355, 'sets': 3899, 'closer': 856, 'surprises': 4314, 'trapped': 4564, 'dangerous': 1110, 'obsession': 3070, 'search': 3841, 'above': 68, 'save': 3794, 'destiny': 1212, 'ghost': 1902, 'bbc': 417, 'ended': 1470, '2005': 35, '2006': 36, 'briefly': 580, 'thankfully': 4422, 'return': 3665, 'haunted': 2050, 'generations': 1884, 'luke': 2687, 'worried': 4949, 'older': 3101, 'returns': 3668, 'period': 3236, 'setting': 3900, 'abandoned': 62, 'stays': 4169, 'masters': 2761, 'gradually': 1952, 'builds': 617, 'factor': 1622, 'terrifying': 4410, 'climax': 849, 'keeping': 2450, 'viewer': 4738, 'minimum': 2856, 'thus': 4486, 'tension': 4404, 'mystery': 2956, 'provides': 3450, 'falling': 1639, 'lying': 2690, 'sun': 4292, 'unsettling': 4679, 'backdrop': 379, 'sinister': 3998, 'object': 3066, 'supernatural': 4302, 'beings': 449, 'naked': 2959, 'eye': 1611, 'influenced': 2287, 'de': 1131, 'del': 1165, 'striking': 4226, 'mixed': 2877, 'raised': 3508, 'perfection': 3225, 'audiences': 353, '40': 48, 'favourite': 1673, 'mine': 2853, 'decade': 1144, 'friends': 1837, 'beast': 422, 'horses': 2171, 'dirty': 1268, 'non': 3027, 'terms': 4406, 'loss': 2659, 'innocence': 2293, 'sexual': 3908, 'bizarre': 492, 'european': 1530, 'shocking': 3940, 'against': 147, 'invisible': 2344, 'flick': 1754, 'fourth': 1813, 'enjoyed': 1486, 'mann': 2728, 'symbolism': 4341, 'mainly': 2708, 'partner': 3198, 'winters': 4901, 'johnny': 2410, 'dean': 1139, 'dan': 1102, 'steve': 4181, 'miller': 2846, 'hero': 2088, 'yellow': 4981, 'reduced': 3579, 'serving': 3897, 'enemies': 1476, 'coffee': 870, 'tony': 4521, 'curtis': 1087, 'rock': 3720, 'hudson': 2184, 'cameos': 658, 'lucky': 2683, 'card': 681, 'dealing': 1136, 'gun': 1996, 'western': 4853, 'american': 213, 'spend': 4105, 'kiss': 2483, 'chief': 788, 'walter': 4784, 'teeth': 4393, 'red': 3576, 'wayne': 4821, 'pulled': 3462, 'repeat': 3630, 'elements': 1443, 'visuals': 4759, 'evidence': 1546, 'creators': 1044, 'involvement': 2347, 'hire': 2116, 'feature': 1678, 'terry': 4415, '12': 3, 'monkeys': 2891, 'opposed': 3122, 'sake': 3775, 'similar': 3978, 'themes': 4434, 'frustration': 1843, 'associated': 327, 'disbelief': 1277, 'parallel': 3185, 'lines': 2612, 'fill': 1714, 'leads': 2548, 'art': 304, 'difference': 1246, 'purpose': 3474, 'cole': 873, 'meant': 2784, 'draw': 1349, 'mark': 2739, 'disease': 1285, 'ridden': 3691, 'itself': 2371, 'creativity': 1042, 'requires': 3642, 'majority': 2712, 'flesh': 1753, 'fully': 1847, 'understood': 4647, 'creative': 1041, 'interpretation': 2328, 'value': 4709, 'hints': 2113, 'favorites': 1672, 'beauty': 430, 'uwe': 4703, 'boll': 529, 'hint': 2112, 'multi': 2935, 'attraction': 350, 'pointless': 3318, 'joined': 2413, 'incoherent': 2265, 'annoyed': 248, 'scary': 3807, 'advice': 133, 'tales': 4357, 'listening': 2620, 'please': 3304, 'whoever': 4872, 'theyd': 4443, 'negative': 2991, 'warned': 4798, 'witnessed': 4915, 'significant': 3972, 'moment': 2886, '1960s': 15, 'join': 2412, 'unbelievably': 4635, 'locked': 2637, 'stones': 4198, 'research': 3644, 'canadian': 667, 'critic': 1061, 'conclusion': 936, 'episode': 1507, 'abusive': 75, 'absolutely': 72, 'demon': 1177, 'angel': 231, 'max': 2774, 'creepy': 1052, 'eric': 1514, 'busy': 635, 'lacking': 2504, 'lay': 2542, 'serial': 3889, 'results': 3662, 'false': 1641, 'arthur': 305, 'talented': 4355, 'exist': 1569, 'innovative': 2295, 'hope': 2155, 'possibly': 3351, 'afternoon': 144, 'feet': 1688, 'urge': 4689, 'carried': 698, 'childish': 791, 'badly': 383, 'executed': 1565, 'belief': 451, 'responsible': 3656, 'forced': 1787, 'required': 3641, 'contrary': 974, 'suck': 4269, 'actresses': 106, 'wives': 4918, 'club': 863, 'womens': 4924, 'ages': 152, 'chick': 786, 'attorney': 348, 'america': 212, 'dude': 1381, 'offering': 3089, 'realizing': 3555, 'bland': 500, '1940s': 13, 'rank': 3518, 'orson': 3132, 'welles': 4844, 'believed': 455, 'category': 718, 'hair': 2005, 'fascinating': 1658, 'subtitles': 4259, 'angles': 237, 'facial': 1619, 'unique': 4662, 'visually': 4758, 'near': 2979, 'game': 1864, 'psychological': 3458, 'analysis': 224, 'psycho': 3457, 'narrator': 2967, 'listed': 2618, 'strongly': 4231, 'advise': 134, 'lynch': 2691, 'reference': 3582, 'spoiled': 4122, 'chaplin': 756, 'report': 3635, 'soon': 4074, 'views': 4742, 'opinions': 3119, 'open': 3112, 'minded': 2850, 'perspective': 3245, 'destroy': 1213, '1973': 19, 'double': 1331, 'fred': 1825, 'agent': 150, 'bored': 541, 'proceedings': 3410, 'barbara': 397, 'stanwyck': 4149, 'crucial': 1068, 'close': 853, 'defense': 1159, 'ford': 1789, 'revealed': 3671, 'planned': 3290, 'claim': 828, 'portrays': 3344, 'brothers': 599, 'career': 686, 'depicted': 1183, 'dying': 1393, 'mature': 2773, 'doc': 1303, 'choice': 797, 'information': 2288, 'involving': 2349, 'mexican': 2826, 'pro': 3406, 'nazi': 2977, 'kill': 2468, 'eighties': 1437, 'crappy': 1032, 'scarecrow': 3804, 'stupid': 4247, 'villain': 4744, 'enjoys': 1489, 'screaming': 3827, 'contained': 963, 'sentence': 3881, 'luck': 2681, 'uses': 4697, 'justify': 2439, 'killings': 2473, 'picks': 3268, 'trailer': 4554, 'trash': 4565, 'likes': 2602, 'guys': 2001, 'pick': 3265, 'adding': 117, 'mom': 2885, 'current': 1084, 'getting': 1901, 'refuses': 3587, 'front': 1841, 'screams': 3828, 'terror': 4412, 'police': 3322, 'murdered': 2940, 'victims': 4730, 'spite': 4117, 'horrible': 2163, 'level': 2584, 'risk': 3704, 'distance': 1294, 'theatre': 4429, 'yesterday': 4983, 'cable': 644, 'madonna': 2699, 'bomb': 531, 'learn': 2550, 'largely': 2518, 'deadly': 1133, 'mouth': 2920, 'showed': 3956, 'desperately': 1209, 'seeking': 3859, 'susan': 4326, 'alas': 172, 'convinced': 984, 'frame': 1815, 'unbearable': 4633, 'british': 589, 'speaking': 4095, 'cruel': 1070, 'latter': 2528, 'bette': 471, 'davis': 1126, 'photography': 3260, 'displayed': 1292, 'throughout': 4478, 'grace': 1950, 'credit': 1049, 'worlds': 4947, 'involved': 2346, 'escapes': 1519, 'bruce': 602, 'herself': 2092, 'aint': 163, 'immensely': 2243, 'attractive': 351, 'altogether': 202, 'nomination': 3026, 'blame': 499, 'centered': 733, 'relative': 3599, 'feeling': 1685, 'wooden': 4934, 'surprise': 4312, 'black': 493, 'hole': 2132, 'odd': 3080, 'classes': 834, 'witty': 4917, 'involves': 2348, 'honestly': 2147, 'succeeds': 4264, 'laugh': 2529, 'romance': 3732, 'princess': 3397, 'shame': 3918, 'bought': 552, 'bin': 483, 'cover': 1022, 'retarded': 3663, 'ten': 4399, 'alike': 185, 'stunt': 4245, 'monkey': 2890, 'committed': 905, 'suicide': 4283, 'preview': 3386, 'studio': 4240, 'infamous': 2284, 'producing': 3417, 'michelle': 2830, 'ignorant': 2223, 'dad': 1095, 'sadness': 3770, 'passion': 3205, 'happened': 2027, 'sport': 4129, 'suggest': 4280, 'check': 777, 'primary': 3394, 'educational': 1425, 'intended': 2315, 'benefit': 465, 'theme': 4433, 'teach': 4374, 'produced': 3414, 'buy': 640, 'angle': 236, 'our': 3139, 'wearing': 4831, 'wed': 4835, 'science': 3816, 'spent': 4108, 'camp': 662, 'remarks': 3615, 'sat': 3786, 'silence': 3974, 'sellers': 3872, 'animated': 241, 'lord': 2652, 'rings': 3699, 'matrix': 2767, 'sequels': 3886, 'kirk': 2482, 'former': 1800, 'besides': 468, 'sexy': 3911, 'natural': 2973, 'throwing': 4480, 'wind': 4893, 'constant': 957, 'hold': 2129, 'grasp': 1960, 'emotion': 1458, 'kelly': 2452, 'surprising': 4315, 'installment': 2303, 'captain': 674, 'plus': 3311, 'stayed': 4167, 'unoriginal': 4673, 'hidden': 2096, 'underground': 4640, 'store': 4204, 'substance': 4258, 'food': 1778, 'lose': 2654, 'ability': 65, 'exercise': 1568, 'base': 402, 'desire': 1205, 'minds': 2852, 'normally': 3034, 'surreal': 4317, 'memory': 2804, 'capable': 672, 'wow': 4962, 'scientist': 3818, 'massive': 2756, 'radio': 3504, 'priest': 3392, 'believes': 456, 'secretly': 3851, 'aliens': 184, 'forces': 1788, 'element': 1442, 'decision': 1151, 'gone': 1935, 'doomed': 1327, 'staying': 4168, 'disappear': 1270, 'experienced': 1581, 'heroes': 2089, 'heck': 2071, 'overwhelming': 3157, 'doom': 1326, 'folks': 1771, 'cards': 683, 'returned': 3666, 'charles': 764, 'band': 391, 'asked': 317, 'sorry': 4076, 'chris': 806, 'often': 3095, 'helps': 2082, 'fancy': 1649, 'beat': 423, 'truly': 4597, 'maker': 2714, 'beautifully': 429, 'poignant': 3315, 'ward': 4793, 'add': 115, 'gay': 1876, 'alan': 171, 'usually': 4700, 'sidekick': 3966, 'fighting': 1709, 'sub': 4252, 'comedies': 889, 'actions': 101, 'appeal': 271, 'virgin': 4749, 'basically': 407, 'commercials': 903, 'weird': 4841, 'wall': 4781, 'adam': 111, 'sandler': 3781, 'inappropriate': 2259, 'sink': 3999, 'worthwhile': 4955, 'message': 2819, 'andy': 230, 'theater': 4427, '3000': 43, 'games': 1865, 'working': 4944, 'importantly': 2248, 'swear': 4334, 'combine': 884, 'murderer': 2941, 'slightly': 4029, 'exaggerated': 1552, 'distracting': 1297, 'girlfriend': 1910, 'flaw': 1749, 'ignore': 2224, 'faults': 1669, 'succeeded': 4263, 'education': 1424, 'anybody': 257, 'ah': 158, 'chest': 784, 'pain': 3170, 'brave': 567, 'talking': 4360, 'respected': 3653, 'prior': 3400, 'impressed': 2251, 'writing': 4971, 'timing': 4498, 'doubts': 1333, 'glad': 1916, 'funniest': 1851, 'touching': 4536, 'guts': 1999, 'review': 3676, 'waves': 4819, 'bother': 548, 'lousy': 2667, 'beaten': 424, 'male': 2719, 'sexuality': 3909, 'titles': 4506, 'saturday': 3792, 'crowd': 1067, 'shorts': 3948, 'foreign': 1790, 'sell': 3871, 'started': 4157, 'arrived': 301, '14': 6, 'directions': 1262, 'exists': 1573, 'appreciate': 279, 'throw': 4479, 'balls': 390, 'compare': 911, 'unintentional': 4658, 'laughter': 2535, 'saved': 3795, 'nine': 3017, 'league': 2549, 'shelf': 3926, 'reads': 3545, 'box': 555, 'amazing': 209, 'jamie': 2379, 'kennedy': 2454, 'darker': 1116, 'agreed': 156, 'manage': 2722, 'survive': 4321, 'originality': 3130, 'manages': 2725, 'fever': 1699, 'chosen': 805, 'reflect': 3584, 'drug': 1373, 'control': 977, 'stunning': 4244, 'prove': 3445, 'indie': 2276, 'various': 4715, 'lisa': 2616, 'limited': 2606, 'ted': 4386, 'assumed': 329, 'revolves': 3682, 'professional': 3421, '75': 57, 'okay': 3099, 'sick': 3963, 'weight': 4840, 'garbage': 1870, 'laughing': 2533, 'dressed': 1358, 'wanna': 4786, 'toilet': 4512, 'laughs': 2534, 'victoria': 4732, 'queen': 3485, 'emily': 1456, 'blunt': 520, 'oscars': 3134, 'issues': 2365, 'pleased': 3305, 'terrific': 4409, 'incredible': 2269, 'lively': 2627, 'brilliant': 583, 'fail': 1625, 'impress': 2250, 'popcorn': 3331, 'trust': 4598, 'simplistic': 3985, 'celebrity': 729, 'morgan': 2905, 'freeman': 1829, 'lane': 2515, 'strong': 4229, 'curious': 1083, 'brilliantly': 584, 'solid': 4057, 'conventional': 979, 'represent': 3637, 'harsh': 2040, 'fantasy': 1652, 'existence': 1571, 'phone': 3255, 'numbers': 3061, 'recognize': 3569, 'hide': 2097, 'brains': 563, 'willing': 4889, 'succeed': 4262, 'somebody': 4062, 'entertain': 1497, 'endearing': 1469, 'slight': 4027, 'zero': 4996, 'angry': 238, 'react': 3540, 'rooms': 3736, 'vaguely': 4706, 'imagine': 2238, 'generous': 1886, 'descent': 1193, 'yeah': 4977, '2003': 33, 'fairly': 1631, 'topic': 4526, 'female': 1693, 'pack': 3165, 'neil': 2995, '17': 9, 'rated': 3527, 'ms': 2931, 'dawson': 1128, 'flawed': 1750, 'promise': 3430, 'rising': 3703, 'commented': 900, 'namely': 2962, 'catch': 714, 'independent': 2272, 'identity': 2217, 'shoot': 3942, 'confusion': 943, 'screenplay': 3831, 'student': 4238, 'football': 1783, 'answer': 251, 'talents': 4356, 'business': 633, 'lit': 2621, 'dreary': 1356, 'videos': 4734, 'starting': 4158, 'group': 1980, 'continues': 971, 'imagery': 2234, 'college': 875, 'model': 2880, 'drop': 1369, 'plain': 3286, 'university': 4667, 'jesus': 2399, 'christ': 807, 'crush': 1072, 'survivor': 4324, 'generic': 1885, 'tiger': 4491, 'ass': 323, 'glass': 1917, 'window': 4894, 'cabin': 643, 'kick': 2460, 'utter': 4701, 'joke': 2414, 'accidentally': 85, 'reminded': 3619, 'nicholas': 3010, 'dennis': 1179, 'hopper': 2161, 'built': 618, 'disturbed': 1299, 'gene': 1879, 'joe': 2407, 'brady': 561, 'miss': 2866, 'step': 4175, 'frank': 1821, 'sinatra': 3989, 'uneven': 4649, 'hat': 2045, 'delightful': 1168, 'earned': 1401, 'navy': 2976, 'sings': 3997, 'thoroughly': 4459, 'tight': 4492, 'yourself': 4993, 'jane': 2380, 'march': 2734, 'north': 3036, 'spy': 4135, 'sent': 3880, 'regard': 3588, 'white': 4870, 'asian': 314, 'teenage': 4389, 'household': 2179, 'insane': 2296, 'screenwriter': 3833, 'intention': 2319, 'paying': 3217, 'spoiler': 4123, 'sin': 3988, 'innocent': 2294, 'bed': 436, 'halfway': 2008, 'lawyer': 2541, 'manner': 2729, 'sidney': 3968, 'lumet': 2688, 'cinemas': 817, '13': 4, 'warmth': 4796, '3d': 46, 'refreshing': 3586, 'individual': 2277, 'surface': 4310, 'appear': 273, 'sid': 3964, 'adorable': 124, 'depressed': 1187, 'forth': 1804, 'giving': 1915, 'adds': 119, 'gender': 1878, 'nuclear': 3057, 'proof': 3434, 'hopes': 2159, 'twenty': 4612, 'horribly': 2164, 'kept': 2456, 'prom': 3429, 'overdone': 3152, 'response': 3654, 'key': 2458, 'thrilling': 4474, 'spoof': 4127, 'walked': 4776, 'wish': 4904, 'torture': 4529, 'fortune': 1806, 'produce': 3413, 'dollar': 1314, 'props': 3439, 'dutch': 1389, 'mainstream': 2709, 'basic': 406, 'instinct': 2308, 'stage': 4139, 'widow': 4883, 'spider': 4109, 'catching': 716, 'web': 4833, 'meet': 2793, 'gerard': 1895, 'self': 3869, 'guest': 1992, 'boom': 537, 'lie': 2590, 'offer': 3087, 'wealthy': 4827, 'twist': 4617, 'stuck': 4237, 'figured': 1712, 'master': 2757, 'question': 3487, 'understanding': 4645, 'fare': 1655, '1983': 22, 'soldiers': 4054, 'careful': 688, 'cartoons': 705, 'mixture': 2878, 'fears': 1677, 'kinds': 2478, 'spread': 4133, 'losing': 2658, 'confidence': 938, 'cause': 723, 'pointed': 3317, 'enemy': 1477, 'americans': 214, 'learned': 2551, 'write': 4967, 'terrorist': 4413, 'europe': 1529, 'paranoia': 3186, 'wound': 4960, 'tense': 4403, 'minute': 2858, 'monster': 2892, 'machine': 2693, 'stolen': 4195, 'wars': 4804, 'examples': 1554, 'attacked': 338, 'victim': 4729, 'hello': 2078, 'vs': 4767, 'humans': 2190, 'nazis': 2978, 'juvenile': 2441, 'rushed': 3760, 'childrens': 793, 'disappointment': 1275, 'company': 910, 'renting': 3629, 'rental': 3627, 'curiosity': 1082, 'conversations': 981, 'lesser': 2576, 'smaller': 4034, 'connection': 946, 'directorial': 1265, 'secondly': 3847, 'named': 2961, 'chair': 742, 'redemption': 3578, 'build': 614, 'solely': 4056, 'interaction': 2322, 'featured': 1679, 'imaginative': 2237, 'provide': 3448, 'drags': 1345, 'uk': 4626, 'edition': 1422, 'kitchen': 2485, 'bedroom': 437, 'wonderfully': 4929, 'shouldnt': 3952, 'system': 4345, 'receive': 3563, 'potential': 3355, 'spending': 4106, 'hundreds': 2196, 'thousands': 4466, 'dollars': 1315, 'borrowed': 545, 'houses': 2180, 'barely': 399, 'describe': 1194, 'trade': 4547, 'groups': 1981, 'storytelling': 4209, 'ken': 2453, 'president': 3378, 'funnier': 1850, 'gag': 1861, 'cringe': 1059, 'oddly': 3081, 'mad': 2696, 'checking': 778, 'comment': 898, 'firstly': 1737, 'stiff': 4187, 'scripts': 3836, 'fault': 1668, 'casting': 711, 'teenagers': 4391, 'wave': 4818, '90': 60, 'dumb': 1385, 'horse': 2170, 'talked': 4359, 'planning': 3291, 'marry': 2745, 'danny': 1112, 'sharp': 3922, 'accents': 79, 'letter': 2581, 'primarily': 3393, 'focuses': 1768, 'taylor': 4372, 'ruthless': 3764, 'hunt': 2198, 'slaughter': 4021, 'native': 2972, 'hatred': 2049, 'indians': 2275, 'shoots': 3944, 'lloyd': 2630, 'fitting': 1742, 'sucked': 4270, 'demented': 1176, 'gore': 1941, 'considering': 952, 'qualities': 3483, 'acted': 98, 'london': 2641, 'creating': 1039, 'shell': 3927, 'transfer': 4559, '1968': 16, 'depiction': 1185, 'drag': 1342, 'fortunately': 1805, 'wrapped': 4964, 'thousand': 4465, 'cat': 713, 'mouse': 2919, 'passionate': 3206, 'humorous': 2193, 'comments': 901, 'lady': 2507, 'inevitable': 2282, 'unlikely': 4671, 'tons': 4520, 'national': 2970, 'treasure': 4571, 'shed': 3924, 'miles': 2843, 'obscure': 3068, 'seek': 3858, 'magic': 2703, 'contains': 964, 'serve': 3893, 'cute': 1090, 'plots': 3310, 'numerous': 3062, '50s': 52, 'eating': 1413, 'latin': 2527, 'ripped': 3701, 'irish': 2353, 'magazine': 2701, 'thomas': 4458, 'pink': 3277, 'sky': 4017, 'clue': 864, '45': 50, '60': 53, 'realistic': 3550, 'singing': 3995, 'nowhere': 3056, '15': 7, 'move': 2921, 'jazz': 2387, 'unseen': 4678, 'string': 4227, 'broadway': 592, 'jackson': 2375, 'imitation': 2241, 'eddie': 1416, 'murphy': 2944, 'brown': 601, 'loud': 2664, 'ladies': 2506, 'chicks': 787, 'harder': 2035, 'unfunny': 4655, 'inane': 2258, 'tim': 4494, 'snl': 4044, 'logic': 2638, 'common': 906, 'bag': 384, 'hitting': 2126, 'include': 2261, 'seventies': 3904, 'shortly': 3947, 'hang': 2022, 'bright': 581, 'mary': 2751, 'shut': 3961, 'breath': 573, 'attempted': 341, 'fake': 1635, 'fails': 1628, 'oil': 3097, 'ask': 316, 'soldier': 4053, 'apart': 264, 'government': 1948, 'killing': 2472, 'ultimate': 4627, 'streep': 4215, 'spanish': 4092, 'jeremy': 2394, 'realism': 3549, 'loves': 2674, 'reputation': 3640, 'sudden': 4272, 'changed': 750, 'officers': 3093, 'mix': 2876, 'damn': 1100, 'alert': 178, 'painting': 3175, 'paint': 3173, 'painted': 3174, 'facing': 1620, 'teachers': 4376, 'whenever': 4863, 'super': 4295, 'officer': 3092, 'versions': 4721, 'successfully': 4267, 'arrested': 298, 'secretary': 3850, 'mall': 2720, 'steal': 4170, 'pass': 3201, 'capture': 676, 'appeared': 276, 'recommended': 3572, 'russian': 3762, 'revolution': 3680, 'partly': 3197, 'rob': 3710, 'sister': 4001, 'credible': 1048, 'reel': 3581, 'lived': 2626, 'village': 4743, 'regarding': 3589, 'success': 4265, 'rangers': 3517, 'teen': 4388, 'suits': 4287, 'colors': 879, 'mental': 2808, 'exception': 1557, 'teens': 4392, 'tommy': 4516, 'acts': 107, 'insult': 2309, 'recognition': 3568, 'mindless': 2851, 'convoluted': 987, 'causes': 725, 'carrying': 701, 'bare': 398, 'co': 867, 'directing': 1260, 'fair': 1630, 'suit': 4284, '40s': 49, 'scientists': 3819, 'sir': 4000, 'captures': 678, 'intelligent': 2314, 'ambitious': 211, 'voiced': 4762, 'starred': 4153, 'hearts': 2066, 'fits': 1741, 'provoking': 3452, 'moral': 2902, 'ludicrous': 2685, 'occurred': 3077, 'encounter': 1466, 'driving': 1368, 'finest': 1730, 'headed': 2058, 'hoffman': 2128, 'ethan': 1528, 'captured': 677, 'construction': 960, 'central': 735, 'robbery': 3711, 'satisfying': 3791, 'guessing': 1991, 'rare': 3523, 'hence': 2083, 'efforts': 1433, 'driven': 1365, 'eg': 1434, 'award': 366, 'reasons': 3560, 'eat': 1411, 'suffer': 4275, 'ben': 463, 'sean': 3840, 'annie': 247, 'physically': 3263, 'ideal': 2214, 'birth': 486, 'range': 3516, 'comical': 894, 'enters': 1496, 'online': 3109, 'daddy': 1096, 'distant': 1295, 'relation': 3595, 'hiding': 2099, 'meanwhile': 2785, 'frankly': 1823, 'behave': 445, 'achieve': 92, 'tend': 4400, 'forward': 1808, 'detective': 1220, 'dimensional': 1253, 'unpleasant': 4674, 'sweet': 4336, 'walken': 4777, 'fx': 1858, 'mediocre': 2791, 'nervous': 2999, 'wondered': 4927, 'golden': 1934, 'frightening': 1839, 'demands': 1175, 'nail': 2957, 'diana': 1237, 'summary': 4290, 'martin': 2748, 'genres': 1889, 'contemporary': 965, 'general': 1880, 'century': 736, 'anderson': 227, 'steven': 4182, 'clean': 838, 'reading': 3544, 'che': 773, 'revolutionary': 3681, 'proper': 3436, 'bone': 533, 'motion': 2913, 'square': 4136, 'jungle': 2434, 'complain': 919, '16': 8, 'letting': 2583, 'developing': 1224, 'speech': 4102, 'focusing': 1769, 'link': 2613, 'matt': 2768, 'damon': 1101, 'playing': 3300, 'notably': 3042, 'puts': 3481, 'allow': 189, 'cuba': 1075, 'quiet': 3492, 'propaganda': 3435, 'global': 1920, 'international': 2326, 'financial': 1725, 'chess': 783, 'neighbors': 2994, 'fiction': 1702, 'witch': 4909, 'airplane': 166, 'concerning': 933, 'stinks': 4192, 'theory': 4437, 'murderous': 2942, 'cd': 728, 'cameo': 657, 'canada': 666, 'passed': 3202, 'ireland': 2352, 'unintentionally': 4659, 'table': 4346, 'mile': 2842, 'cannibal': 669, 'howard': 2182, 'loser': 2655, 'fell': 1690, 'nude': 3058, 'shower': 3957, 'hopefully': 2157, 'theyll': 4444, 'fate': 1665, 'hotel': 2175, 'manager': 2724, 'flight': 1757, 'switch': 4339, 'ways': 4822, 'plane': 3288, 'funeral': 1849, 'journalist': 2420, 'woody': 4936, 'allen': 188, 'outside': 3146, 'manhattan': 2726, 'ironic': 2355, 'shape': 3919, 'comedian': 887, 'changing': 752, 'vote': 4766, 'brazil': 568, 'suspenseful': 4331, 'unforgettable': 4652, 'sexually': 3910, 'stylish': 4251, 'gory': 1943, 'portraying': 3343, 'dynamic': 1394, 'cared': 685, 'outcome': 3142, 'win': 4892, 'holy': 2140, 'saves': 3796, 'dignity': 1252, 'ruined': 3751, 'grab': 1949, 'neighborhood': 2993, '50': 51, 'situations': 4009, 'mysteries': 2954, 'jealous': 2388, 'artificial': 306, 'noir': 3023, 'kane': 2442, 'cameras': 660, 'shakespeare': 3915, 'telling': 4396, 'suspects': 4328, 'lighting': 2596, 'deliberately': 1166, 'closed': 854, 'chinese': 796, 'solution': 4059, 'introduced': 2337, 'notes': 3046, 'conspiracy': 956, 'gods': 1928, 'opera': 3116, 'directly': 1263, 'corpse': 999, 'ties': 4490, 'complex': 923, 'nation': 2969, 'iraq': 2351, 'documentaries': 1306, 'seven': 3903, 'mere': 2814, 'purposes': 3475, 'subsequent': 4257, 'lacked': 2503, 'source': 4086, 'valuable': 4708, 'dvds': 1392, 'free': 1827, 'purchase': 3469, 'chose': 804, 'racism': 3502, 'blatant': 502, 'strike': 4224, 'britain': 588, 'graphic': 1958, 'japanese': 2382, 'vietnam': 4735, 'disappointing': 1274, 'experiment': 1583, '100': 1, 'arms': 294, 'travels': 4569, 'struck': 4232, 'fay': 1674, 'earlier': 1399, 'fool': 1779, 'merits': 2817, 'combination': 883, 'dry': 1377, 'parody': 3192, 'delivered': 1170, 'ran': 3513, 'ideas': 2215, 'fifteen': 1706, 'carl': 692, 'support': 4303, 'paris': 3189, 'berlin': 467, 'arguably': 289, 'dramatic': 1348, 'intelligence': 2313, 'rate': 3526, 'epic': 1506, 'scope': 3821, 'families': 1644, 'mafia': 2700, 'paulie': 3215, 'ralph': 3510, 'creator': 1043, 'hearted': 2065, 'tall': 4362, 'americas': 215, 'compelling': 916, 'remind': 3618, 'traveling': 4568, 'changes': 751, 'jump': 2429, 'keeps': 2451, 'advance': 127, 'clumsy': 866, 'till': 4493, 'anime': 243, 'spirited': 4114, 'disagree': 1269, 'superior': 4300, 'prepared': 3371, 'intense': 2316, 'tender': 4401, 'eccentric': 1414, 'spell': 4104, 'gentle': 1890, 'touched': 4534, 'typical': 4623, 'hamlet': 2013, 'brings': 587, 'performed': 3230, 'brian': 576, 'heston': 2094, 'youd': 4987, 'robin': 3715, 'williams': 4888, 'kenneth': 2455, 'branagh': 564, 'roll': 3728, 'schools': 3814, 'everywhere': 1545, 'higher': 2101, 'performing': 3233, 'extreme': 1609, 'length': 2569, 'mike': 2838, 'baby': 376, 'faced': 1617, 'foot': 1781, 'semi': 3874, 'ticket': 4487, '1984': 23, 'statement': 4162, 'network': 3000, 'allowing': 191, 'franco': 1820, 'mini': 2854, 'ancient': 225, 'roman': 3731, 'literature': 2623, 'structure': 4233, 'via': 4726, 'letters': 2582, 'dubbed': 1379, 'maria': 2736, 'von': 4765, 'episodes': 1508, 'impressive': 2253, 'encounters': 1467, 'potentially': 3356, 'inspiring': 2302, 'parties': 3196, 'dave': 1123, 'visible': 4753, 'christians': 809, 'bull': 619, 'passes': 3203, 'afraid': 140, 'hardcore': 2034, 'sounded': 4082, 'punk': 3468, 'broke': 593, 'popularity': 3334, 'members': 2801, 'struggling': 4236, 'offered': 3088, 'concert': 935, 'basis': 408, 'carefully': 689, 'becoming': 435, 'quirky': 3493, 'illogical': 2231, 'dig': 1250, 'powers': 3361, 'wasting': 4810, 'villains': 4745, 'flaws': 1752, 'liners': 2611, 'curse': 1086, 'composed': 926, 'tracks': 4545, 'cell': 730, 'popular': 3333, 'japan': 2381, 'included': 2262, 'treated': 4573, 'politics': 3326, 'smart': 4035, 'wrap': 4963, 'smiling': 4037, 'lazy': 2543, 'choreographed': 801, 'unconvincing': 4638, 'jumps': 2432, 'sally': 3776, 'sits': 4006, 'addition': 118, 'forever': 1792, 'faces': 1618, 'baker': 385, 'stealing': 4171, 'errors': 1516, 'usa': 4691, 'stopped': 4202, 'weapon': 4828, 'shop': 3945, 'laws': 2540, 'state': 4160, 'guns': 1998, 'counter': 1011, 'unreal': 4676, 'crew': 1053, 'discover': 1279, 'sam': 3777, 'yelling': 4980, 'ourselves': 3140, 'bits': 490, 'singer': 3993, 'peoples': 3222, 'promising': 3433, 'creatures': 1046, 'worry': 4950, 'ride': 3692, 'blockbuster': 509, 'resist': 3648, 'sappy': 3784, 'pleasure': 3306, 'suggested': 4281, 'buff': 611, 'touch': 4533, 'magnificent': 2705, 'gotta': 1946, 'brosnan': 597, 'mexico': 2827, 'sunday': 4293, 'morning': 2906, 'drinking': 1362, 'french': 1830, 'holiday': 2134, 'bang': 393, 'drivel': 1364, 'selfish': 3870, 'treats': 4575, 'seemingly': 3863, 'deaf': 1134, 'heroine': 2091, 'intrigued': 2334, 'convincingly': 986, 'challenge': 743, 'satisfied': 3789, 'kidding': 2465, 'werewolf': 4850, 'wing': 4896, 'reviewer': 3677, 'larry': 2520, 'mel': 2796, 'critics': 1064, 'critical': 1062, 'references': 3583, 'brand': 565, 'jewish': 2401, 'watches': 4814, 'accept': 80, 'albeit': 173, 'trite': 4589, 'failing': 1627, 'ashamed': 312, 'adventures': 131, 'violent': 4748, 'harvey': 2042, 'cia': 814, 'assigned': 325, 'dickens': 1240, 'urban': 4688, 'friendly': 1836, 'upset': 4687, 'thief': 4448, 'settle': 3902, 'gotten': 1947, 'improve': 2254, 'chapter': 757, 'hanging': 2023, 'sign': 3970, 'hed': 2072, 'treatment': 4574, 'mob': 2879, 'carol': 693, 'reed': 3580, 'musicals': 2948, 'glorious': 1921, 'moody': 2899, 'nancy': 2964, 'harry': 2039, 'handle': 2018, 'realizes': 3554, 'accompanied': 86, 'england': 1482, 'filming': 1718, 'scrooge': 3837, 'available': 361, 'distribution': 1298, 'heres': 2087, 'hopeless': 2158, 'stunts': 4246, 'existent': 1572, 'continuity': 972, 'principal': 3398, 'da': 1094, 'ramones': 3512, 'bands': 392, 'clint': 850, 'dick': 1239, 'drunk': 1375, 'beneath': 464, 'vehicle': 4718, 'society': 4050, 'sisters': 4002, 'farm': 1656, 'warming': 4795, 'thrillers': 4473, 'rambo': 3511, 'outer': 3143, 'explosions': 1597, 'tame': 4363, 'forbidden': 1785, 'ann': 244, 'slap': 4018, 'hanks': 2025, 'persona': 3239, 'months': 2897, 'cg': 739, 'continued': 970, 'mass': 2753, 'match': 2762, 'viewed': 4737, 'championship': 745, 'regular': 3592, 'chaos': 755, 'notable': 3041, 'jumped': 2430, 'blew': 505, 'flying': 1764, 'sit': 4003, 'united': 4664, 'chain': 741, 'scares': 3806, 'allows': 192, 'jimmy': 2403, 'blowing': 515, 'wouldve': 4959, 'steel': 4173, 'santa': 3783, 'ear': 1397, 'break': 569, 'king': 2479, 'strength': 4219, 'throat': 4476, 'hits': 2125, 'superbly': 4297, 'useless': 4695, 'per': 3223, 'wishes': 4906, 'friday': 1834, 'unusual': 4681, 'turkey': 4604, 'increasingly': 2268, 'variety': 4714, 'gruesome': 1986, 'inventive': 2341, 'belongs': 460, 'thoughts': 4464, 'boredom': 542, 'photographer': 3259, 'hippie': 2115, 'india': 2273, 'assume': 328, 'beliefs': 452, 'cash': 709, 'cgi': 740, 'san': 3780, 'ship': 3934, 'ships': 3935, 'arrogant': 303, 'grow': 1982, 'onto': 3111, 'snake': 4042, 'selling': 3873, 'rush': 3759, 'stomach': 4196, 'claims': 830, 'service': 3896, 'pops': 3332, 'bath': 411, 'pre': 3365, 'conceived': 929, 'pretentious': 3383, 'channels': 754, 'sixties': 4011, 'backgrounds': 381, 'generated': 1882, 'uninspired': 4657, 'ears': 1402, 'occasion': 3073, 'whereas': 4865, 'butt': 638, 'projects': 3428, 'occasionally': 3075, 'cop': 991, 'performer': 3231, 'cliff': 847, 'gonna': 1936, 'mothers': 2912, 'sons': 4073, 'intentions': 2321, 'tear': 4379, 'corrupt': 1001, 'countries': 1013, 'covers': 1024, 'westerns': 4854, 'philosophy': 3254, 'wes': 4851, 'craven': 1034, 'hates': 2048, 'debut': 1143, 'absolute': 71, 'discovery': 1282, 'honesty': 2148, 'lessons': 2578, 'resolution': 3649, 'serves': 3895, 'banned': 395, 'population': 3335, 'concerns': 934, 'married': 2744, 'marriage': 2743, 'petty': 3249, 'shoes': 3941, 'bugs': 613, 'husbands': 2205, 'summer': 4291, 'swim': 4337, '1933': 12, 'ground': 1979, 'nights': 3016, 'knock': 2488, 'mst3k': 2932, 'pearl': 3220, 'sends': 3876, 'admittedly': 123, 'waters': 4817, 'segments': 3868, 'occasional': 3074, 'forty': 1807, 'ps': 3453, 'mars': 2746, 'investigate': 2342, 'buried': 624, 'nearby': 2980, 'handful': 2017, 'driver': 1366, 'notice': 3048, 'journey': 2421, 'businessman': 634, 'couples': 1017, 'suspicious': 4332, 'bride': 577, 'newly': 3004, 'spooky': 4128, 'ensemble': 1492, 'climactic': 848, 'revelation': 3674, 'hbo': 2055, 'searching': 3842, 'remote': 3622, 'button': 639, 'voices': 4763, 'bigger': 479, 'models': 2881, 'resort': 3650, 'jerk': 2395, 'empathy': 1462, 'gold': 1932, 'jerry': 2396, 'provided': 3449, 'program': 3424, 'regardless': 3590, 'enterprise': 1495, 'roots': 3738, 'cousin': 1021, 'hearing': 2063, 'aids': 161, 'shirley': 3936, 'remarkable': 3613, '1999': 27, 'standard': 4144, 'blows': 517, 'sensitive': 3879, 'ought': 3138, 'clip': 851, 'lasted': 2522, 'thirty': 4456, 'useful': 4694, 'cheated': 775, 'tedious': 4387, 'intimate': 2331, 'dialogues': 1235, 'inner': 2292, 'feelings': 1686, 'explicit': 1591, 'trademark': 4548, 'intensity': 2317, 'consists': 955, 'recorded': 3574, 'gray': 1963, 'replaced': 3634, 'aimed': 162, 'nations': 2971, 'border': 539, 'humanity': 2189, 'cultural': 1078, 'greek': 1970, 'drawing': 1350, 'tradition': 4549, 'travel': 4567, 'alexander': 180, 'aging': 153, 'wondering': 4930, 'grows': 1985, 'draws': 1352, 'returning': 3667, 'fellow': 1691, 'influence': 2286, 'clues': 865, 'account': 89, 'walker': 4778, 'loosely': 2651, 'ray': 3533, 'handed': 2016, 'staring': 4152, 'survivors': 4325, 'send': 3875, 'industry': 2280, 'basement': 405, 'metal': 2823, 'pulp': 3465, 'civilization': 827, 'cutting': 1092, 'sight': 3969, 'julia': 2427, 'wins': 4899, 'upper': 4685, 'pit': 3278, 'designs': 1204, 'armed': 293, 'bullets': 621, 'trashy': 4566, 'obnoxious': 3067, 'territory': 4411, 'decades': 1145, 'cup': 1080, 'tea': 4373, 'prime': 3395, 'achievement': 94, 'explains': 1589, 'marks': 2742, 'delivering': 1171, 'simplicity': 3984, 'offers': 3090, 'meaningful': 2781, 'slick': 4026, 'daughters': 1122, 'richardson': 3688, 'claire': 831, 'danes': 1108, 'patrick': 3213, 'multiple': 2936, 'cinematographer': 819, 'soap': 4047, 'raise': 3507, 'relationships': 3598, 'tunes': 4603, 'emphasis': 1463, 'shine': 3931, 'emotions': 1461, 'awesome': 371, 'fond': 1776, 'slasher': 4020, 'pool': 3327, 'beer': 439, 'drink': 1361, 'scared': 3805, 'rocks': 3722, 'nostalgia': 3038, 'vhs': 4725, 'happening': 2028, 'hasnt': 2044, 'rex': 3683, 'consistently': 954, 'repeated': 3631, 'packed': 3166, 'criticism': 1063, 'cats': 721, 'phantom': 3251, 'andrew': 228, 'express': 1600, 'awkward': 374, 'costs': 1004, 'raw': 3532, 'heaven': 2068, 'homeless': 2143, 'repeatedly': 3632, 'devoted': 1231, 'status': 4165, 'discovers': 1281, 'connect': 944, 'laid': 2508, 'strangely': 4212, 'technique': 4383, 'methods': 2825, 'captivating': 675, 'kay': 2447, 'spike': 4111, 'buddy': 609, 'ratings': 3530, 'pop': 3330, 'whilst': 4869, 'contain': 962, 'cliché': 844, 'sides': 3967, 'relations': 3596, 'twilight': 4614, 'crisis': 1060, 'discuss': 1283, 'tomatoes': 4515, 'trilogy': 4586, 'france': 1816, 'professor': 3422, '3rd': 47, 'rule': 3753, 'aforementioned': 139, 'happily': 2030, 'passing': 3204, 'fox': 1814, 'angela': 232, 'member': 2800, 'rick': 3689, 'pull': 3461, 'mickey': 2831, 'garden': 1872, 'attracted': 349, 'diane': 1238, 'extraordinary': 1607, 'forgettable': 1794, 'everyday': 1541, 'cry': 1073, 'ego': 1435, 'purple': 3473, 'heavy': 2070, '18': 10, 'cowboy': 1025, 'hundred': 2195, 'print': 3399, 'circle': 821, 'landscape': 2513, 'movements': 2924, 'bound': 553, 'therefore': 4439, 'format': 1799, 'carrey': 696, 'rubber': 3747, 'dramas': 1347, 'relies': 3606, 'wanting': 4790, 'jennifer': 2392, 'gift': 1906, 'internet': 2327, 'devoid': 1230, 'mrs': 2930, 'jail': 2376, 'wreck': 4965, 'settings': 3901, 'anger': 235, 'lust': 2689, 'hamilton': 2012, 'cheating': 776, 'date': 1118, 'bud': 607, 'throws': 4482, 'craig': 1030, 'justin': 2440, 'dating': 1120, 'carpenter': 694, 'wendy': 4846, 'opens': 3115, 'spare': 4093, 'competition': 918, 'fix': 1744, '1980': 20, 'expectations': 1576, 'possessed': 3347, 'count': 1010, 'resulting': 3661, 'someones': 4065, 'reasonable': 3558, 'maintain': 2710, 'specifically': 4100, 'eyre': 1614, 'timothy': 4499, 'rochester': 3719, 'discussion': 1284, '35': 45, 'humble': 2191, 'blown': 516, 'charlotte': 766, 'poetic': 3313, 'tiny': 4500, 'gripping': 1976, 'expressions': 1603, 'novels': 3053, 'desert': 1198, 'notorious': 3051, 'hospital': 2172, 'der': 1191, 'lengthy': 2570, 'satire': 3788, 'uninteresting': 4660, 'rotten': 3740, 'press': 3379, 'station': 4164, 'hysterical': 2208, 'contrast': 975, 'menacing': 2807, 'sports': 4130, 'blond': 510, 'sympathetic': 4342, 'germany': 1898, 'wealth': 4826, 'jonathan': 2417, 'racial': 3501, 'larger': 2519, '20th': 38, 'dancer': 1104, 'politically': 3325, 'correct': 1000, 'makeup': 2717, 'beloved': 461, 'atmospheric': 334, 'nostalgic': 3039, 'survived': 4322, 'promised': 3431, 'fallen': 1638, 'paltrow': 3178, 'emma': 1457, 'sentimental': 3882, '1990s': 25, 'occur': 3076, 'goldberg': 1933, 'greatly': 1967, 'reminiscent': 3621, 'accurate': 90, 'helen': 2075, 'fbi': 1675, 'bela': 450, 'lugosi': 2686, 'drugs': 1374, 'bodies': 526, 'explained': 1587, 'rage': 3505, 'overacting': 3149, 'creep': 1051, 'idiotic': 2219, 'reaching': 3539, 'bacall': 377, 'kudos': 2497, 'veteran': 4724, 'vicious': 4728, 'eerie': 1427, 'rap': 3520, 'lily': 2605, 'lena': 2568, 'miserably': 2864, 'complexity': 924, 'ruth': 3763, 'confusing': 942, 'stargate': 4151, 'intentionally': 2320, 'horrifying': 2167, 'amazingly': 210, 'sadistic': 3768, 'authentic': 358, 'color': 877, 'represents': 3639, 'et': 1526, 'connected': 945, 'weeks': 4839, 'convey': 982, 'machines': 2694, 'technically': 4382, 'steps': 4177, 'jenny': 2393, 'mistress': 2874, 'apes': 267, 'australian': 357, 'speaks': 4096, 'broken': 594, 'bottle': 550, 'obsessed': 3069, 'luckily': 2682, 'gem': 1877, 'guarantee': 1987, 'flawless': 1751, 'awards': 367, 'guilt': 1994, 'surviving': 4323, 'incident': 2260, 'ensues': 1493, '24': 39, 'block': 508, 'unknown': 4668, 'elephant': 1444, 'exposure': 1599, 'news': 3005, 'assistant': 326, 'dentist': 1180, 'uncle': 4636, 'scream': 3826, 'stevens': 4183, 'perform': 3227, 'odds': 3082, 'giant': 1905, 'merit': 2816, 'plans': 3292, 'relatives': 3601, 'nurse': 3063, 'rolling': 3730, 'floor': 1759, 'cares': 690, 'doll': 1313, 'lol': 2640, 'arm': 292, 'kicks': 2463, 'demons': 1178, 'pregnant': 3369, 'stephen': 4176, 'affected': 137, '1990': 24, 'incomprehensible': 2267, 'depressing': 1188, 'purely': 3472, 'tape': 4365, 'enter': 1494, 'protect': 3443, 'showdown': 3955, 'behavior': 446, 'horrid': 2165, 'witnesses': 4916, 'ape': 266, 'split': 4120, 'finale': 1723, 'gordon': 1940, 'homage': 2141, 'junk': 2436, 'wake': 4774, 'possibilities': 3348, 'credibility': 1047, 'concept': 930, 'develop': 1222, 'presentation': 3375, 'skin': 4015, 'grew': 1972, 'training': 4558, 'warn': 4797, 'blah': 496, 'karloff': 2445, 'gothic': 1945, 'elderly': 1440, 'greedy': 1969, 'toy': 4542, 'sole': 4055, 'gross': 1978, 'struggle': 4234, 'authority': 360, 'rocky': 3723, 'happiness': 2031, 'morality': 2903, 'faith': 1633, 'poverty': 3357, 'expression': 1602, 'testament': 4417, 'attitudes': 347, 'rachel': 3500, 'joey': 2408, 'church': 813, 'lesbian': 2573, 'twelve': 4611, 'quit': 3494, 'deliver': 1169, 'contract': 973, 'delivery': 1173, 'september': 3884, 'destruction': 1216, 'buildings': 616, 'discovered': 1280, 'dragged': 1343, 'flashbacks': 1747, 'erotic': 1515, 'airport': 167, 'noise': 3024, 'insulting': 2310, 'culture': 1079, 'push': 3477, 'horrors': 2169, 'raped': 3522, 'womans': 4922, 'sophisticated': 4075, 'bucks': 606, 'dare': 1113, 'performs': 3234, 'helping': 2081, 'philosophical': 3253, 'pants': 3182, 'doors': 1329, 'scale': 3802, 'advanced': 128, '2001': 31, 'traditional': 4550, 'logical': 2639, 'limits': 2607, 'species': 4098, 'user': 4696, 'kapoor': 2443, 'photographed': 3258, 'emotionally': 1460, 'depicts': 1186, 'loving': 2675, 'friendship': 1838, 'familys': 1646, 'rules': 3754, 'prevent': 3385, 'mirror': 2861, 'forms': 1801, 'bond': 532, 'carries': 699, 'command': 897, 'mysterious': 2955, 'guard': 1988, 'coach': 868, 'dinosaurs': 1256, 'fetched': 1698, 'overlooked': 3154, 'choose': 799, 'willis': 4890, 'brad': 560, 'pitt': 3280, 'meaningless': 2782, 'intellectual': 2312, 'unaware': 4632, 'dances': 1106, 'garbo': 1871, 'douglas': 1334, 'levels': 2585, 'desired': 1206, 'scheme': 3812, 'round': 3742, 'outrageous': 3145, 'clothing': 861, 'butler': 637, 'unfortunate': 4653, 'worn': 4948, 'detailed': 1218, 'suffice': 4279, 'introduce': 2336, 'engage': 1479, 'appropriate': 283, 'underlying': 4641, 'centers': 734, 'realise': 3548, 'tortured': 4530, 'prefer': 3368, 'homer': 2144, 'simpson': 3987, 'depicting': 1184, 'movement': 2923, 'lower': 2677, 'asleep': 320, 'surprisingly': 4316, 'shallow': 3917, '11': 2, 'hurt': 2202, 'granted': 1957, 'scare': 3803, 'stiller': 4189, 'treat': 4572, 'barry': 401, 'rain': 3506, 'nuts': 3064, 'chorus': 803, 'nowadays': 3055, 'recognized': 3570, 'stress': 4220, 'companion': 909, 'broadcast': 591, 'ups': 4686, 'lyrics': 2692, 'transition': 4561, 'arnold': 296, 'sneak': 4043, 'arrives': 302, 'cheese': 780, 'gangsters': 1869, 'signs': 3973, 'involve': 2345, 'shirt': 3937, 'desperation': 1210, 'styles': 4250, 'burn': 625, 'pulling': 3463, 'door': 1328, 'heroic': 2090, 'nonsense': 3030, 'quest': 3486, 'accepted': 82, 'distinct': 1296, 'wisdom': 4902, '30s': 44, 'dracula': 1341, 'frankenstein': 1822, 'formula': 1802, 'device': 1227, 'felix': 1689, 'francis': 1818, 'marvelous': 2750, 'landing': 2512, 'previously': 3388, 'melodrama': 2797, 'universal': 4665, 'troubles': 4594, 'resources': 3651, 'effectively': 1430, 'essence': 1521, 'underrated': 4642, 'remarkably': 3614, 'amongst': 218, 'cleverly': 842, 'description': 1197, 'precious': 3366, 'personality': 3242, '2nd': 41, 'splendid': 4119, 'record': 3573, 'opposite': 3123, 'closet': 858, 'virus': 4752, 'favor': 1670, 'atrocious': 335, 'brenda': 575, 'stretched': 4222, 'moore': 2901, 'johnson': 2411, 'spin': 4112, 'suspend': 4329, 'album': 175, 'performers': 3232, 'considerable': 950, 'downright': 1337, 'understandable': 4644, 'appearances': 275, 'civil': 826, 'afterwards': 145, 'instant': 2305, 'dislike': 1288, 'jake': 2377, 'vice': 4727, 'army': 295, 'faster': 1662, 'colour': 880, 'cardboard': 682, 'psychic': 3456, 'contact': 961, 'remaining': 3610, 'mate': 2765, 'standing': 4146, 'nicholson': 3011, 'wounded': 4961, 'reactions': 3542, 'commit': 904, 'stooges': 4200, 'polished': 3323, 'superhero': 4299, 'nelson': 2997, 'jessica': 2398, 'donna': 1323, 'pg': 3250, '2004': 34, 'subplots': 4256, 'lifetime': 2594, 'halloween': 2010, 'stinker': 4191, 'davies': 1125, 'identify': 2216, 'sarah': 3785, 'hart': 2041, 'pan': 3180, 'california': 650, 'exceptional': 1558, 'gang': 1867, 'devil': 1228, 'adaptation': 113, 'bergman': 466, 'tap': 4364, 'excitement': 1562, 'definite': 1161, 'closely': 855, 'russell': 3761, 'swimming': 4338, 'folk': 1770, 'recording': 3575, 'hook': 2152, 'abilities': 64, 'board': 522, 'saga': 3773, 'chicago': 785, 'riding': 3695, 'offensive': 3086, 'porno': 3337, 'trek': 4578, 'represented': 3638, 'shy': 3962, 'elm': 1447, 'tied': 4489, 'birthday': 487, 'freddy': 1826, 'destroying': 1215, 'secrets': 3852, 'huh': 2187, 'nightmares': 3015, 'disjointed': 1287, 'flop': 1760, 'kubrick': 2496, 'interviews': 2330, 'comparison': 914, 'evident': 1547, 'chooses': 800, 'kurt': 2499, 'campbell': 663, 'writes': 4970, 'poetry': 3314, 'nyc': 3065, 'reached': 3537, 'twin': 4615, 'laura': 2536, 'rise': 3702, 'sticks': 4186, 'highlight': 2103, 'sullivan': 4288, 'complicated': 925, 'rights': 3697, 'established': 1524, 'cases': 708, 'alcohol': 176, 'idiots': 2220, 'fathers': 1667, 'turner': 4607, 'vincent': 4746, 'edgar': 1417, 'karen': 2444, 'drops': 1372, 'pet': 3246, 'lonely': 2643, 'factory': 1623, 'toys': 4543, 'blade': 495, 'reaches': 3538, 'loads': 2633, 'downhill': 1336, 'stereotypes': 4179, 'inept': 2281, 'empire': 1464, 'stood': 4199, 'masterful': 2758, 'attacks': 339, 'burned': 626, 'unfolds': 4651, 'library': 2589, 'basketball': 409, 'consistent': 953, 'media': 2789, 'kingdom': 2480, 'slightest': 4028, 'inducing': 2279, 'monsters': 2893, 'resembles': 3646, 'fascinated': 1657, 'wore': 4939, 'heat': 2067, 'threw': 4470, 'neck': 2985, 'joseph': 2419, 'appalling': 268, 'security': 3854, 'types': 4622, 'drunken': 1376, 'term': 4405, 'blank': 501, 'buying': 641, 'psychotic': 3459, 'melting': 2799, 'proud': 3444, 'wide': 4880, 'spectacular': 4101, 'tricks': 4583, 'franchise': 1817, 'st': 4137, 'warriors': 4803, 'cynical': 1093, 'charismatic': 763, 'flashback': 1746, 'map': 2733, 'threatening': 4468, 'access': 83, 'tracy': 4546, 'damage': 1099, 'greed': 1968, 'neo': 2998, 'explaining': 1588, 'stops': 4203, 'zone': 4999, 'extended': 1604, 'loose': 2650, 'formulaic': 1803, 'fired': 1735, 'boot': 538, 'combat': 882, 'flash': 1745, 'burns': 628, 'staff': 4138, 'angeles': 233, 'fights': 1710, 'jaws': 2385, 'fed': 1682, 'farce': 1654, 'whale': 4857, 'scottish': 3825, 'denzel': 1181, 'guessed': 1990, '1st': 28, 'seasons': 3844, 'exploration': 1593, 'reveal': 3670, 'threat': 4467, 'arrive': 300, 'website': 4834, 'futuristic': 1857, 'lucas': 2680, 'miracle': 2860, 'stereotypical': 4180, 'theyve': 4446, 'amitabh': 216, 'akshay': 169, 'rendition': 3625, 'attack': 337, 'african': 142, 'drives': 1367, 'pursuit': 3476, 'thugs': 4484, 'brutally': 604, 'universe': 4666, 'spiritual': 4116, 'defend': 1158, 'tour': 4538, 'importance': 2246, 'attempting': 342, 'mtv': 2933, 'racist': 3503, 'dolph': 1317, 'endings': 1472, 'cure': 1081, 'homosexual': 2145, 'females': 1694, 'le': 2544, 'designed': 1203, 'tune': 4602, 'divorce': 1301, 'commentary': 899, 'simon': 3982, 'showcase': 3954, 'painfully': 3172, 'irrelevant': 2358, 'fighter': 1708, 'degree': 1164, 'ignored': 2225, 'heads': 2059, 'acid': 95, 'choreography': 802, 'improved': 2255, 'agrees': 157, 'invasion': 2340, 'battles': 415, 'anna': 245, 'heights': 2073, 'stilted': 4190, 'hunting': 2201, 'subjects': 4254, 'vast': 4716, 'nasty': 2968, 'hurts': 2203, 'ya': 4976, 'atlantis': 332, 'jesse': 2397, 'abraham': 69, 'subtlety': 4261, 'em': 1452, 'washington': 4806, 'sing': 3992, 'margaret': 2735, 'patients': 3212, 'shark': 3921, 'elaborate': 1439, 'amanda': 205, 'holly': 2136, 'challenging': 744, 'adequate': 120, 'bank': 394, 'hyde': 2206, 'molly': 2884, 'medium': 2792, '70': 55, 'bollywood': 530, 'strangers': 4214, 'caring': 691, 'psychiatrist': 3455, 'advantage': 129, 'abc': 63, 'prisoner': 3402, 'sleazy': 4023, 'temple': 4398, 'restaurant': 3658, 'offended': 3085, 'couldve': 1009, 'buck': 605, 'shock': 3938, 'portrait': 3339, 'lifestyle': 2593, 'responsibility': 3655, 'conservative': 948, 'similarly': 3980, 'burning': 627, 'reach': 3536, 'liberal': 2588, 'clichés': 846, 'loyal': 2679, 'icon': 2211, 'wolf': 4920, 'excited': 1561, 'learning': 2552, 'cube': 1076, 'leader': 2546, 'forgot': 1796, 'judy': 2426, 'andrews': 229, 'suitable': 4285, 'photo': 3257, 'proceeds': 3411, 'ad': 110, 'harris': 2038, 'pushed': 3478, 'resemblance': 3645, 'pleasantly': 3303, 'bush': 632, 'lion': 2614, 'argument': 291, 'displays': 1293, 'donald': 1321, 'sutherland': 4333, 'macy': 2695, 'ritter': 3705, 'panic': 3181, 'closest': 857, 'eaten': 1412, 'miike': 2837, 'hideous': 2098, 'lawrence': 2539, 'georges': 1894, 'mentally': 2809, 'jobs': 2406, 'academy': 77, 'grey': 1973, 'widely': 4881, 'wizard': 4919, 'oz': 3160, 'solo': 4058, 'stronger': 4230, 'quote': 3496, 'columbo': 881, 'falk': 1636, 'olivier': 3103, 'pat': 3208, 'copies': 992, 'courage': 1018, 'sue': 4274, 'tooth': 4524, 'matched': 2763, 'shelley': 3928, 'crafted': 1029, 'masterpieces': 2760, 'severe': 3906, 'wwii': 4975, 'june': 2433, 'practice': 3363, 'develops': 1226, 'eve': 1532, 'controversial': 978, 'aunt': 355, 'ranks': 3519, 'torn': 4528, 'pages': 3168, 'ruins': 3752, 'streisand': 4218, 'wishing': 4907, 'techniques': 4384, 'stanley': 4148, 'clips': 852, 'argue': 290, 'iron': 2354, 'taxi': 4371, 'beach': 419, 'mission': 2870, 'commercial': 902, 'punishment': 3467, 'gabriel': 1859, 'royal': 3746, 'dear': 1140, 'kidnapped': 2466, 'powell': 3358, 'cagney': 646, 'hood': 2151, 'medical': 2790, 'cars': 702, 'editor': 1423, 'workers': 4943, 'landscapes': 2514, 'size': 4012, 'capital': 673, 'blair': 497, 'grandmother': 1955, 'ruby': 3749, 'row': 3744, 'florida': 1761, 'mildly': 2840, 'vague': 4705, 'lone': 2642, 'lips': 2615, 'vegas': 4717, 'pokemon': 3320, 'transformation': 4560, 'waited': 4771, 'advertising': 132, 'dorothy': 1330, 'receives': 3565, 'vulnerable': 4768, 'storm': 4206, 'greater': 1965, 'depression': 1189, 'bo': 521, 'peters': 3248, 'foul': 1810, 'unpredictable': 4675, 'defined': 1160, 'wet': 4855, 'plausible': 3295, 'fields': 1705, 'stereotype': 4178, 'retired': 3664, 'mentions': 2813, 'fictional': 1703, 'code': 869, 'raymond': 3534, 'causing': 726, 'breaking': 570, 'pushing': 3479, 'endure': 1475, 'amateurish': 207, 'truck': 4595, 'ridiculously': 3694, 'individuals': 2278, 'expressed': 1601, 'differences': 1247, 'bird': 484, 'bear': 420, 'sum': 4289, 'fonda': 1777, 'todd': 4510, 'lemmon': 2567, 'devils': 1229, 'mgm': 2828, 'alcoholic': 177, 'chasing': 772, 'versus': 4722, 'portion': 3338, 'wandering': 4785, 'rocket': 3721, 'profound': 3423, 'shall': 3916, 'constructed': 959, 'creation': 1040, 'godzilla': 1929, 'accomplished': 87, 'exotic': 1574, 'dedicated': 1153, 'undoubtedly': 4648, 'shadow': 3912, 'highest': 2102, 'dub': 1378, 'lucy': 2684, 'travesty': 4570, 'junior': 2435, 'losers': 2656, 'seed': 3856, 'winds': 4895, 'daniel': 1111, 'mail': 2706, 'stellar': 4174, 'grandfather': 1954, 'reflection': 3585, 'baseball': 403, 'bargain': 400, 'inspiration': 2300, 'spain': 4091, 'spring': 4134, 'robbins': 3712, 'matthau': 2771, 'surrounded': 4318, 'engaged': 1480, 'test': 4416, 'guide': 1993, 'crocodile': 1065, 'experiments': 1584, 'orange': 3125, 'amy': 222, 'adams': 112, 'rogers': 3725, 'polanski': 3321, 'uncomfortable': 4637, 'embarrassment': 1455, 'craft': 1028, 'survival': 4320, 'wears': 4832, 'expensive': 1579, 'rolled': 3729, 'seeks': 3860, 'neighbor': 2992, 'motivations': 2915, 'twice': 4613, 'cave': 727, 'buddies': 608, 'elizabeth': 1445, 'amateur': 206, 'remain': 3609, 'judging': 2425, '13th': 5, 'pacino': 3164, 'illness': 2230, 'overlook': 3153, 'staged': 4140, 'tremendous': 4579, 'compelled': 915, 'daring': 1114, 'citizen': 824, 'gandhi': 1866, 'achieved': 93, 'explored': 1595, 'eyed': 1612, 'roberts': 3714, 'tie': 4488, 'lab': 2501, 'disneys': 1290, 'hunters': 2200, 'latest': 2526, 'blend': 504, 'vacation': 4704, 'ellen': 1446, '1972': 18, 'moronic': 2907, 'freak': 1824, 'incompetent': 2266, 'leo': 2571, 'samurai': 3779, 'fury': 1855, 'screening': 3830, 'attached': 336, 'cried': 1054, 'rats': 3531, 'dragon': 1344, 'mentioning': 2812, 'reasonably': 3559, 'audio': 354, 'marketing': 2741, 'niro': 3019, 'witches': 4910, 'ghosts': 1903, 'itll': 2369, 'rival': 3706, 'fulci': 1845, 'timeless': 4496, 'jeffrey': 2391, 'safety': 3772, 'presumably': 3380, 'prisoners': 3403, 'melodramatic': 2798, 'worker': 4942, 'trees': 4577, 'alex': 179, 'ashley': 313, 'cusack': 1088, 'brilliance': 582, 'chased': 770, 'equal': 1509, 'sincere': 3991, 'catchy': 717, 'solve': 4060, 'goal': 1925, 'unit': 4663, 'trailers': 4555, 'earl': 1398, 'reminds': 3620, 'twins': 4616, '25': 40, 'mansion': 2731, 'shining': 3933, 'victor': 4731, 'tarzan': 4367, 'outfit': 3144, 'trained': 4557, 'smooth': 4041, 'relevant': 3604, 'waitress': 4773, 'roy': 3745, 'troops': 4591, 'capturing': 679, 'stranger': 4213, 'failure': 1629, 'cruise': 1071, 'demand': 1174, 'iii': 2227, 'dolls': 1316, 'spirits': 4115, 'pot': 3354, 'concern': 931, 'amounts': 220, 'reunion': 3669, 'soccer': 4048, 'silver': 3977, 'mario': 2738, 'doctors': 1305, 'midnight': 2834, 'defeat': 1157, 'hip': 2114, 'rat': 3525, 'duty': 1390, 'clown': 862, 'introduces': 2338, 'menace': 2806, 'agents': 151, 'gain': 1863, 'mummy': 2937, 'carradine': 695, 'helicopter': 2076, 'diamond': 1236, 'satan': 3787, 'catholic': 720, 'thrills': 4475, 'tiresome': 4502, 'lately': 2524, 'overcome': 3151, 'singers': 3994, 'satisfy': 3790, 'motives': 2916, 'corruption': 1002, 'widmark': 4882, 'colonel': 876, 'bettie': 473, 'bite': 489, 'flies': 1756, 'blues': 519, 'visits': 4756, 'foster': 1809, 'eastern': 1408, 'cary': 706, 'matthew': 2772, 'simmons': 3981, 'screens': 3832, 'scooby': 3820, 'doo': 1325, 'antics': 255, 'bourne': 554, 'absence': 70, 'montana': 2895, 'affect': 136, 'intrigue': 2333, 'mill': 2845, 'thru': 4483, 'equivalent': 1512, 'warren': 4801, 'richards': 3687, 'bay': 416, 'resident': 3647, 'patient': 3211, 'hammer': 2014, 'sounding': 4083, 'possibility': 3349, 'parent': 3187, 'glover': 1923, 'corporate': 998, 'randomly': 3515, 'ninja': 3018, 'swedish': 4335, 'caine': 647, 'inevitably': 2283, 'crack': 1027, 'cook': 988, 'laughably': 2531, 'synopsis': 4344, 'khan': 2459, 'myers': 2952, 'buffs': 612, 'giallo': 1904, 'montage': 2894, 'excessive': 1560, 'enthusiasm': 1501, 'plant': 3293, 'misery': 2865, 'kicked': 2461, 'dire': 1257, 'pamela': 3179, 'linda': 2609, 'everyones': 1543, 'exceptionally': 1559, 'improvement': 2256, 'purchased': 3470, 'explosion': 1596, 'integrity': 2311, 'gundam': 1997, 'rebel': 3561, 'julie': 2428, 'hank': 2024, 'despair': 1207, 'troubled': 4593, 'thick': 4447, 'omen': 3104, 'wacky': 4769, 'wrestling': 4966, 'jet': 2400, 'kissing': 2484, 'leslie': 2574, 'dinosaur': 1255, 'property': 3438, 'inspector': 2299, 'taught': 4370, 'savage': 3793, 'monk': 2889, 'messed': 2821, 'hop': 2154, 'blacks': 494, 'beats': 426, 'smoking': 4040, 'iran': 2350, 'terrorists': 4414, 'priceless': 3390, 'awe': 370, 'louise': 2666, 'francisco': 1819, 'pal': 3177, 'prostitute': 3440, 'eastwood': 1409, 'norman': 3035, 'pig': 3274, 'elvira': 1450, 'li': 2587, 'burton': 630, 'elvis': 1451, 'derek': 1192, 'wished': 4905, 'knife': 2487, 'muslim': 2949, 'ginger': 1908, 'morris': 2908, 'ballet': 389, 'frequent': 1831, 'edie': 1419, 'caliber': 649, 'equipment': 1511, 'seagal': 3839, 'virginia': 4750, 'prequel': 3372, 'mildred': 2841, 'domestic': 1318, 'blob': 507, 'manipulative': 2727, 'marty': 2749, 'domino': 1319, 'ha': 2002, 'surfing': 4311, 'trail': 4553, 'gadget': 1860, 'bullet': 620, 'shake': 3914, 'tonight': 4519, 'astaire': 330, 'leonard': 2572, 'communist': 907, 'bakshi': 386}\n"
     ]
    }
   ],
   "source": [
    "print(str(vocabulary))"
   ]
  },
  {
   "cell_type": "markdown",
   "metadata": {},
   "source": [
    "Once you have added the endpoint name to the Lambda function, click on **Save**. Your Lambda function is now up and running. Next we need to create a way for our web app to execute the Lambda function."
   ]
  },
  {
   "cell_type": "markdown",
   "metadata": {},
   "source": [
    "### Setting up API Gateway\n",
    "\n",
    "Now that our Lambda function is set up, it is time to create a new API using API Gateway that will trigger the Lambda function we have just created.\n",
    "\n",
    "Using AWS Console, navigate to **Amazon API Gateway** and then click on **Get started**.\n",
    "\n",
    "On the next page, make sure that **New API** is selected and give the new api a name, for example, `sentiment_analysis_web_app`. Then, click on **Create API**.\n",
    "\n",
    "Now we have created an API, however it doesn't currently do anything. What we want it to do is to trigger the Lambda function that we created earlier.\n",
    "\n",
    "Select the **Actions** dropdown menu and click **Create Method**. A new blank method will be created, select its dropdown menu and select **POST**, then click on the check mark beside it.\n",
    "\n",
    "For the integration point, make sure that **Lambda Function** is selected and click on the **Use Lambda Proxy integration**. This option makes sure that the data that is sent to the API is then sent directly to the Lambda function with no processing. It also means that the return value must be a proper response object as it will also not be processed by API Gateway.\n",
    "\n",
    "Type the name of the Lambda function you created earlier into the **Lambda Function** text entry box and then click on **Save**. Click on **OK** in the pop-up box that then appears, giving permission to API Gateway to invoke the Lambda function you created.\n",
    "\n",
    "The last step in creating the API Gateway is to select the **Actions** dropdown and click on **Deploy API**. You will need to create a new Deployment stage and name it anything you like, for example `prod`.\n",
    "\n",
    "You have now successfully set up a public API to access your SageMaker model. Make sure to copy or write down the URL provided to invoke your newly created public API as this will be needed in the next step. This URL can be found at the top of the page, highlighted in blue next to the text **Invoke URL**."
   ]
  },
  {
   "cell_type": "markdown",
   "metadata": {},
   "source": [
    "## Step 7: Deploying our web app\n",
    "\n",
    "Now that we have a publicly available API, we can start using it in a web app. For our purposes, we have provided a simple static html file which can make use of the public api you created earlier.\n",
    "\n",
    "In the `website` folder there should be a file called `index.html`. Download the file to your computer and open that file up in a text editor of your choice. There should be a line which contains **\\*\\*REPLACE WITH PUBLIC API URL\\*\\***. Replace this string with the url that you wrote down in the last step and then save the file.\n",
    "\n",
    "Now, if you open `index.html` on your local computer, your browser will behave as a local web server and you can use the provided site to interact with your SageMaker model.\n",
    "\n",
    "If you'd like to go further, you can host this html file anywhere you'd like, for example using github or hosting a static site on Amazon's S3. Once you have done this you can share the link with anyone you'd like and have them play with it too!\n",
    "\n",
    "> **Important Note** In order for the web app to communicate with the SageMaker endpoint, the endpoint has to actually be deployed and running. This means that you are paying for it. Make sure that the endpoint is running when you want to use the web app but that you shut it down when you don't need it, otherwise you will end up with a surprisingly large AWS bill."
   ]
  },
  {
   "cell_type": "markdown",
   "metadata": {},
   "source": [
    "### Delete the endpoint\n",
    "\n",
    "Remember to always shut down your endpoint if you are no longer using it. You are charged for the length of time that the endpoint is running so if you forget and leave it on you could end up with an unexpectedly large bill."
   ]
  },
  {
   "cell_type": "code",
   "execution_count": 52,
   "metadata": {},
   "outputs": [],
   "source": [
    "xgb_predictor.delete_endpoint()"
   ]
  },
  {
   "cell_type": "markdown",
   "metadata": {},
   "source": [
    "## Optional: Clean up\n",
    "\n",
    "The default notebook instance on SageMaker doesn't have a lot of excess disk space available. As you continue to complete and execute notebooks you will eventually fill up this disk space, leading to errors which can be difficult to diagnose. Once you are completely finished using a notebook it is a good idea to remove the files that you created along the way. Of course, you can do this from the terminal or from the notebook hub if you would like. The cell below contains some commands to clean up the created files from within the notebook."
   ]
  },
  {
   "cell_type": "code",
   "execution_count": 55,
   "metadata": {},
   "outputs": [],
   "source": [
    "# # First we will remove all of the files contained in the data_dir directory\n",
    "!rm $data_dir/*\n",
    "\n",
    "# # And then we delete the directory itself\n",
    "!rmdir $data_dir\n",
    "\n",
    "# # Similarly we remove the files in the cache_dir directory and the directory itself\n",
    "!rm $cache_dir/*\n",
    "!rmdir $cache_dir"
   ]
  },
  {
   "cell_type": "code",
   "execution_count": null,
   "metadata": {},
   "outputs": [],
   "source": []
  }
 ],
 "metadata": {
  "kernelspec": {
   "display_name": "conda_python3",
   "language": "python",
   "name": "conda_python3"
  },
  "language_info": {
   "codemirror_mode": {
    "name": "ipython",
    "version": 3
   },
   "file_extension": ".py",
   "mimetype": "text/x-python",
   "name": "python",
   "nbconvert_exporter": "python",
   "pygments_lexer": "ipython3",
   "version": "3.6.5"
  }
 },
 "nbformat": 4,
 "nbformat_minor": 2
}
