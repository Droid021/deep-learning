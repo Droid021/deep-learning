{
 "cells": [
  {
   "cell_type": "markdown",
   "metadata": {
    "colab_type": "text",
    "id": "-Gr6j-QT31D9"
   },
   "source": [
    "# Face Generation\n",
    "\n",
    "In this project, you'll define and train a DCGAN on a dataset of faces. Your goal is to get a generator network to generate *new* images of faces that look as realistic as possible!\n",
    "\n",
    "The project will be broken down into a series of tasks from **loading in data to defining and training adversarial networks**. At the end of the notebook, you'll be able to visualize the results of your trained Generator to see how it performs; your generated samples should look like fairly realistic faces with small amounts of noise.\n",
    "\n",
    "### Get the Data\n",
    "\n",
    "You'll be using the [CelebFaces Attributes Dataset (CelebA)](http://mmlab.ie.cuhk.edu.hk/projects/CelebA.html) to train your adversarial networks.\n",
    "\n",
    "This dataset is more complex than the number datasets (like MNIST or SVHN) you've been working with, and so, you should prepare to define deeper networks and train them for a longer time to get good results. It is suggested that you utilize a GPU for training.\n",
    "\n",
    "### Pre-processed Data\n",
    "\n",
    "Since the project's main focus is on building the GANs, we've done *some* of the pre-processing for you. Each of the CelebA images has been cropped to remove parts of the image that don't include a face, then resized down to 64x64x3 NumPy images. Some sample data is show below.\n",
    "\n",
    "<img src='https://github.com/udacity/deep-learning-v2-pytorch/blob/master/project-face-generation/assets/processed_face_data.png?raw=1' width=60% />\n",
    "\n",
    "> If you are working locally, you can download this data [by clicking here](https://s3.amazonaws.com/video.udacity-data.com/topher/2018/November/5be7eb6f_processed-celeba-small/processed-celeba-small.zip)\n",
    "\n",
    "This is a zip file that you'll need to extract in the home directory of this notebook for further loading and processing. After extracting the data, you should be left with a directory of data `processed_celeba_small/`"
   ]
  },
  {
   "cell_type": "code",
   "execution_count": 0,
   "metadata": {
    "colab": {},
    "colab_type": "code",
    "id": "6My7K1HR31EG"
   },
   "outputs": [],
   "source": [
    "# can comment out after executing\n",
    "# !unzip processed_celeba_small.zip"
   ]
  },
  {
   "cell_type": "code",
   "execution_count": 0,
   "metadata": {
    "colab": {},
    "colab_type": "code",
    "id": "sEVp3YNj31ET"
   },
   "outputs": [],
   "source": [
    "data_dir = 'processed_celeba_small/'\n",
    "\n",
    "\"\"\"\n",
    "DON'T MODIFY ANYTHING IN THIS CELL\n",
    "\"\"\"\n",
    "import pickle as pkl\n",
    "import matplotlib.pyplot as plt\n",
    "import numpy as np\n",
    "import problem_unittests as tests\n",
    "#import helper\n",
    "\n",
    "%matplotlib inline"
   ]
  },
  {
   "cell_type": "markdown",
   "metadata": {
    "colab_type": "text",
    "id": "3yoHb9i131Ec"
   },
   "source": [
    "## Visualize the CelebA Data\n",
    "\n",
    "The [CelebA](http://mmlab.ie.cuhk.edu.hk/projects/CelebA.html) dataset contains over 200,000 celebrity images with annotations. Since you're going to be generating faces, you won't need the annotations, you'll only need the images. Note that these are color images with [3 color channels (RGB)](https://en.wikipedia.org/wiki/Channel_(digital_image)#RGB_Images) each.\n",
    "\n",
    "### Pre-process and Load the Data\n",
    "\n",
    "Since the project's main focus is on building the GANs, we've done *some* of the pre-processing for you. Each of the CelebA images has been cropped to remove parts of the image that don't include a face, then resized down to 64x64x3 NumPy images. This *pre-processed* dataset is a smaller subset of the very large CelebA data.\n",
    "\n",
    "> There are a few other steps that you'll need to **transform** this data and create a **DataLoader**.\n",
    "\n",
    "#### Exercise: Complete the following `get_dataloader` function, such that it satisfies these requirements:\n",
    "\n",
    "* Your images should be square, Tensor images of size `image_size x image_size` in the x and y dimension.\n",
    "* Your function should return a DataLoader that shuffles and batches these Tensor images.\n",
    "\n",
    "#### ImageFolder\n",
    "\n",
    "To create a dataset given a directory of images, it's recommended that you use PyTorch's [ImageFolder](https://pytorch.org/docs/stable/torchvision/datasets.html#imagefolder) wrapper, with a root directory `processed_celeba_small/` and data transformation passed in."
   ]
  },
  {
   "cell_type": "code",
   "execution_count": 0,
   "metadata": {
    "colab": {},
    "colab_type": "code",
    "id": "gwu3CgXz31Eh"
   },
   "outputs": [],
   "source": [
    "# necessary imports\n",
    "import torch\n",
    "from torchvision import datasets\n",
    "from torchvision import transforms"
   ]
  },
  {
   "cell_type": "code",
   "execution_count": 0,
   "metadata": {
    "colab": {},
    "colab_type": "code",
    "id": "yKgYOI2H31Er"
   },
   "outputs": [],
   "source": [
    "def get_dataloader(batch_size, image_size, data_dir='processed_celeba_small/'):\n",
    "    \"\"\"\n",
    "    Batch the neural network data using DataLoader\n",
    "    :param batch_size: The size of each batch; the number of images in a batch\n",
    "    :param img_size: The square size of the image data (x, y)\n",
    "    :param data_dir: Directory where image data is located\n",
    "    :return: DataLoader with batched data\n",
    "    \"\"\"\n",
    "    \n",
    "    # TODO: Implement function and return a dataloader\n",
    "    transform = transforms.Compose([transforms.Resize(image_size),\n",
    "                                    transforms.CenterCrop(image_size),\n",
    "                                    transforms.ToTensor()])\n",
    "    dataset = datasets.ImageFolder(data_dir, transform=transform)\n",
    "# Create the dataloader\n",
    "    dataloader = torch.utils.data.DataLoader(dataset, batch_size=128,\n",
    "                                         shuffle=True)\n",
    "    \n",
    "    return dataloader\n"
   ]
  },
  {
   "cell_type": "markdown",
   "metadata": {
    "colab_type": "text",
    "id": "071WvN0P31E5"
   },
   "source": [
    "## Create a DataLoader\n",
    "\n",
    "#### Exercise: Create a DataLoader `celeba_train_loader` with appropriate hyperparameters.\n",
    "\n",
    "Call the above function and create a dataloader to view images. \n",
    "* You can decide on any reasonable `batch_size` parameter\n",
    "* Your `image_size` **must be** `32`. Resizing the data to a smaller size will make for faster training, while still creating convincing images of faces!"
   ]
  },
  {
   "cell_type": "code",
   "execution_count": 0,
   "metadata": {
    "colab": {},
    "colab_type": "code",
    "id": "ZWDyOjTI31E8"
   },
   "outputs": [],
   "source": [
    "# Define function hyperparameters\n",
    "batch_size = 128\n",
    "img_size = 32\n",
    "\n",
    "\"\"\"\n",
    "DON'T MODIFY ANYTHING IN THIS CELL THAT IS BELOW THIS LINE\n",
    "\"\"\"\n",
    "# Call your function and get a dataloader\n",
    "celeba_train_loader = get_dataloader(batch_size, img_size)\n"
   ]
  },
  {
   "cell_type": "markdown",
   "metadata": {
    "colab_type": "text",
    "id": "DbVSnL9s31FG"
   },
   "source": [
    "Next, you can view some images! You should seen square images of somewhat-centered faces.\n",
    "\n",
    "Note: You'll need to convert the Tensor images into a NumPy type and transpose the dimensions to correctly display an image, suggested `imshow` code is below, but it may not be perfect."
   ]
  },
  {
   "cell_type": "code",
   "execution_count": 35,
   "metadata": {
    "colab": {
     "base_uri": "https://localhost:8080/",
     "height": 248
    },
    "colab_type": "code",
    "id": "e8nRRXsH31FK",
    "outputId": "fb78323e-a347-429b-8e4b-9ad9bb845495"
   },
   "outputs": [
    {
     "data": {
      "image/png": "[encoded data removed]",
      "text/plain": [
       "<Figure size 1440x288 with 20 Axes>"
      ]
     },
     "metadata": {
      "tags": []
     },
     "output_type": "display_data"
    }
   ],
   "source": [
    "# helper display function\n",
    "def imshow(img):\n",
    "    npimg = img.numpy()\n",
    "    plt.imshow(np.transpose(npimg, (1, 2, 0)))\n",
    "\n",
    "\"\"\"\n",
    "DON'T MODIFY ANYTHING IN THIS CELL THAT IS BELOW THIS LINE\n",
    "\"\"\"\n",
    "# obtain one batch of training images\n",
    "dataiter = iter(celeba_train_loader)\n",
    "images, _ = dataiter.next() # _ for no labels\n",
    "\n",
    "# plot the images in the batch, along with the corresponding labels\n",
    "fig = plt.figure(figsize=(20, 4))\n",
    "plot_size=20\n",
    "for idx in np.arange(plot_size):\n",
    "    ax = fig.add_subplot(2, plot_size/2, idx+1, xticks=[], yticks=[])\n",
    "    imshow(images[idx])"
   ]
  },
  {
   "cell_type": "markdown",
   "metadata": {
    "colab_type": "text",
    "id": "3ox7KKc_31Fc"
   },
   "source": [
    "#### Exercise: Pre-process your image data and scale it to a pixel range of -1 to 1\n",
    "\n",
    "You need to do a bit of pre-processing; you know that the output of a `tanh` activated generator will contain pixel values in a range from -1 to 1, and so, we need to rescale our training images to a range of -1 to 1. (Right now, they are in a range from 0-1.)"
   ]
  },
  {
   "cell_type": "code",
   "execution_count": 0,
   "metadata": {
    "colab": {},
    "colab_type": "code",
    "id": "1s1OiuVj31Ff"
   },
   "outputs": [],
   "source": [
    "# TODO: Complete the scale function\n",
    "def scale(x, feature_range=(-1, 1)):\n",
    "    ''' Scale takes in an image x and returns that image, scaled\n",
    "       with a feature_range of pixel values from -1 to 1. \n",
    "       This function assumes that the input x is already scaled from 0-1.'''\n",
    "    # assume x is scaled to (0, 1)\n",
    "    # scale to feature_range and return scaled x\n",
    "    min, max = feature_range\n",
    "    x = x *(max-min) + min\n",
    "    return x\n"
   ]
  },
  {
   "cell_type": "code",
   "execution_count": 37,
   "metadata": {
    "colab": {
     "base_uri": "https://localhost:8080/",
     "height": 51
    },
    "colab_type": "code",
    "id": "5dgYlCEJ31Fp",
    "outputId": "20e98b6c-094c-4009-adb5-6a6affa58a42"
   },
   "outputs": [
    {
     "name": "stdout",
     "output_type": "stream",
     "text": [
      "Min:  tensor(-0.9843)\n",
      "Max:  tensor(0.9686)\n"
     ]
    }
   ],
   "source": [
    "\"\"\"\n",
    "DON'T MODIFY ANYTHING IN THIS CELL THAT IS BELOW THIS LINE\n",
    "\"\"\"\n",
    "# check scaled range\n",
    "# should be close to -1 to 1\n",
    "img = images[0]\n",
    "scaled_img = scale(img)\n",
    "\n",
    "print('Min: ', scaled_img.min())\n",
    "print('Max: ', scaled_img.max())"
   ]
  },
  {
   "cell_type": "markdown",
   "metadata": {
    "colab_type": "text",
    "id": "eQ1R_vwl31F3"
   },
   "source": [
    "---\n",
    "# Define the Model\n",
    "\n",
    "A GAN is comprised of two adversarial networks, a discriminator and a generator.\n",
    "\n",
    "## Discriminator\n",
    "\n",
    "Your first task will be to define the discriminator. This is a convolutional classifier like you've built before, only without any maxpooling layers. To deal with this complex data, it's suggested you use a deep network with **normalization**. You are also allowed to create any helper functions that may be useful.\n",
    "\n",
    "#### Exercise: Complete the Discriminator class\n",
    "* The inputs to the discriminator are 32x32x3 tensor images\n",
    "* The output should be a single value that will indicate whether a given image is real or fake\n"
   ]
  },
  {
   "cell_type": "code",
   "execution_count": 0,
   "metadata": {
    "colab": {},
    "colab_type": "code",
    "id": "ePwEZk6431GT"
   },
   "outputs": [],
   "source": [
    "import torch.nn as nn\n",
    "import torch.nn.functional as F"
   ]
  },
  {
   "cell_type": "code",
   "execution_count": 0,
   "metadata": {
    "colab": {},
    "colab_type": "code",
    "id": "uXInV56PKcH-"
   },
   "outputs": [],
   "source": [
    "def conv(in_channels, out_channels, kernel_size, stride=2, padding=1, batch_norm=True):\n",
    "    layers=[]\n",
    "    \n",
    "    conv_layer = nn.Conv2d(in_channels, out_channels, kernel_size, stride, padding, bias=False)\n",
    "    layers.append(conv_layer)\n",
    "    \n",
    "    if batch_norm:\n",
    "        layers.append(nn.BatchNorm2d(out_channels))\n",
    "        \n",
    "    return nn.Sequential(*layers)"
   ]
  },
  {
   "cell_type": "code",
   "execution_count": 47,
   "metadata": {
    "colab": {
     "base_uri": "https://localhost:8080/",
     "height": 34
    },
    "colab_type": "code",
    "id": "8x0D0J1N31G2",
    "outputId": "613a8d8c-5b0f-4baa-a464-2076839f2736"
   },
   "outputs": [
    {
     "name": "stdout",
     "output_type": "stream",
     "text": [
      "Tests Passed\n"
     ]
    }
   ],
   "source": [
    "class Discriminator(nn.Module):\n",
    "\n",
    "    def __init__(self, conv_dim):\n",
    "        \"\"\"\n",
    "        Initialize the Discriminator Module\n",
    "        :param conv_dim: The depth of the first convolutional layer\n",
    "        \"\"\"\n",
    "        super(Discriminator, self).__init__()\n",
    "\n",
    "        # complete init function\n",
    "        self.conv_dim = conv_dim\n",
    "        ## 32x32\n",
    "        self.conv1 = conv(3, conv_dim, 4, batch_norm=False)\n",
    "        # 16x16\n",
    "        self.conv2 = conv(conv_dim, conv_dim*2, 4)\n",
    "        # 8x8\n",
    "        self.conv3 = conv(conv_dim*2, conv_dim*4, 4)\n",
    "        # 4x4\n",
    "        self.fc = nn.Linear(conv_dim*4*4*4, 1)\n",
    "        \n",
    "    def forward(self, x):\n",
    "        \"\"\"\n",
    "        Forward propagation of the neural network\n",
    "        :param x: The input to the neural network     \n",
    "        :return: Discriminator logits; the output of the neural network\n",
    "        \"\"\"\n",
    "        # define feedforward behavior\n",
    "        \n",
    "        x = F.leaky_relu(self.conv1(x), 0.2)\n",
    "        x = F.leaky_relu(self.conv2(x), 0.2)\n",
    "        x = F.leaky_relu(self.conv3(x), 0.2)\n",
    "\n",
    "        x = x.view(-1, self.conv_dim*4*4*4)\n",
    "        x = self.fc(x)\n",
    "        return x\n",
    "\n",
    "\n",
    "\"\"\"\n",
    "DON'T MODIFY ANYTHING IN THIS CELL THAT IS BELOW THIS LINE\n",
    "\"\"\"\n",
    "tests.test_discriminator(Discriminator)"
   ]
  },
  {
   "cell_type": "markdown",
   "metadata": {
    "colab_type": "text",
    "id": "EXvtMnYh31Ha"
   },
   "source": [
    "## Generator\n",
    "\n",
    "The generator should upsample an input and generate a *new* image of the same size as our training data `32x32x3`. This should be mostly transpose convolutional layers with normalization applied to the outputs.\n",
    "\n",
    "#### Exercise: Complete the Generator class\n",
    "* The inputs to the generator are vectors of some length `z_size`\n",
    "* The output should be a image of shape `32x32x3`"
   ]
  },
  {
   "cell_type": "code",
   "execution_count": 0,
   "metadata": {
    "colab": {},
    "colab_type": "code",
    "id": "rKN3XXRmMdOl"
   },
   "outputs": [],
   "source": [
    "# helper deconv \n",
    "def deconv(in_channels, out_channels, kernel_size, stride=2, padding=1, batch_norm=True):\n",
    "    layers=[]\n",
    "    \n",
    "    t_conv_layer = nn.ConvTranspose2d(in_channels, out_channels, kernel_size, stride, padding, bias=False)\n",
    "    layers.append(t_conv_layer)\n",
    "    \n",
    "    if batch_norm:\n",
    "        layers.append(nn.BatchNorm2d(out_channels))\n",
    "\n",
    "    return nn.Sequential(*layers)"
   ]
  },
  {
   "cell_type": "code",
   "execution_count": 49,
   "metadata": {
    "colab": {
     "base_uri": "https://localhost:8080/",
     "height": 34
    },
    "colab_type": "code",
    "id": "zkvPFECE31He",
    "outputId": "391a7b56-911d-456c-ae91-3d14b00c3a6f"
   },
   "outputs": [
    {
     "name": "stdout",
     "output_type": "stream",
     "text": [
      "Tests Passed\n"
     ]
    }
   ],
   "source": [
    "class Generator(nn.Module):\n",
    "    \n",
    "    def __init__(self, z_size, conv_dim):\n",
    "        \"\"\"\n",
    "        Initialize the Generator Module\n",
    "        :param z_size: The length of the input latent vector, z\n",
    "        :param conv_dim: The depth of the inputs to the *last* transpose convolutional layer\n",
    "        \"\"\"\n",
    "        super(Generator, self).__init__()\n",
    "\n",
    "        # complete init function\n",
    "        self.conv_dim = conv_dim\n",
    "\n",
    "        self.fc = nn.Linear(z_size, self.conv_dim*4*4*4)\n",
    "\n",
    "        self.t_conv1 = deconv(conv_dim*4, conv_dim*2, kernel_size=4)\n",
    "        self.t_conv2 = deconv(conv_dim*2, conv_dim, kernel_size=4)\n",
    "        self.t_conv3 = deconv(conv_dim, 3, kernel_size=4, batch_norm=False)\n",
    "        \n",
    "\n",
    "    def forward(self, x):\n",
    "        \"\"\"\n",
    "        Forward propagation of the neural network\n",
    "        :param x: The input to the neural network     \n",
    "        :return: A 32x32x3 Tensor image as output\n",
    "        \"\"\"\n",
    "        # define feedforward behavior\n",
    "        x = self.fc(x)\n",
    "        # batch_size, depth, 4 * 4\n",
    "        x = x.view(-1, self.conv_dim*4, 4, 4)\n",
    "\n",
    "        x = F.relu(self.t_conv1(x))\n",
    "        x = F.relu(self.t_conv2(x))\n",
    "        x = torch.tanh(self.t_conv3(x))\n",
    "        \n",
    "        return x\n",
    "\n",
    "\"\"\"\n",
    "DON'T MODIFY ANYTHING IN THIS CELL THAT IS BELOW THIS LINE\n",
    "\"\"\"\n",
    "tests.test_generator(Generator)"
   ]
  },
  {
   "cell_type": "markdown",
   "metadata": {
    "colab_type": "text",
    "id": "O98WuKaR31Hv"
   },
   "source": [
    "## Initialize the weights of your networks\n",
    "\n",
    "To help your models converge, you should initialize the weights of the convolutional and linear layers in your model. From reading the [original DCGAN paper](https://arxiv.org/pdf/1511.06434.pdf), they say:\n",
    "> All weights were initialized from a zero-centered Normal distribution with standard deviation 0.02.\n",
    "\n",
    "So, your next task will be to define a weight initialization function that does just this!\n",
    "\n",
    "You can refer back to the lesson on weight initialization or even consult existing model code, such as that from [the `networks.py` file in CycleGAN Github repository](https://github.com/junyanz/pytorch-CycleGAN-and-pix2pix/blob/master/models/networks.py) to help you complete this function.\n",
    "\n",
    "#### Exercise: Complete the weight initialization function\n",
    "\n",
    "* This should initialize only **convolutional** and **linear** layers\n",
    "* Initialize the weights to a normal distribution, centered around 0, with a standard deviation of 0.02.\n",
    "* The bias terms, if they exist, may be left alone or set to 0."
   ]
  },
  {
   "cell_type": "code",
   "execution_count": 0,
   "metadata": {
    "colab": {},
    "colab_type": "code",
    "id": "Y0b9HFR531Hy"
   },
   "outputs": [],
   "source": [
    "def weights_init_normal(m):\n",
    "    \"\"\"\n",
    "    Applies initial weights to certain layers in a model .\n",
    "    The weights are taken from a normal distribution \n",
    "    with mean = 0, std dev = 0.02.\n",
    "    :param m: A module or layer in a network    \n",
    "    \"\"\"\n",
    "    # classname will be something like:\n",
    "    # `Conv`, `BatchNorm2d`, `Linear`, etc.\n",
    "    classname = m.__class__.__name__\n",
    "    \n",
    "    # TODO: Apply initial weights to convolutional and linear layers\n",
    "    if classname.find('Conv') != -1 or classname.find('Linear') != -1:\n",
    "        nn.init.normal_(m.weight.data, 0.0, 0.02)\n",
    "    if hasattr(m, 'bias') and m.bias is not None:\n",
    "        m.bias.data.fill_(0)\n",
    "    \n",
    "    "
   ]
  },
  {
   "cell_type": "markdown",
   "metadata": {
    "colab_type": "text",
    "collapsed": true,
    "id": "Z6-GUseK31Je"
   },
   "source": [
    "## Build complete network\n",
    "\n",
    "Define your models' hyperparameters and instantiate the discriminator and generator from the classes defined above. Make sure you've passed in the correct input arguments."
   ]
  },
  {
   "cell_type": "code",
   "execution_count": 0,
   "metadata": {
    "colab": {},
    "colab_type": "code",
    "id": "a2baehHU31Jh"
   },
   "outputs": [],
   "source": [
    "\"\"\"\n",
    "DON'T MODIFY ANYTHING IN THIS CELL THAT IS BELOW THIS LINE\n",
    "\"\"\"\n",
    "def build_network(d_conv_dim, g_conv_dim, z_size):\n",
    "    # define discriminator and generator\n",
    "    D = Discriminator(d_conv_dim)\n",
    "    G = Generator(z_size=z_size, conv_dim=g_conv_dim)\n",
    "\n",
    "    # initialize model weights\n",
    "    D.apply(weights_init_normal)\n",
    "    G.apply(weights_init_normal)\n",
    "\n",
    "    print(D)\n",
    "    print()\n",
    "    print(G)\n",
    "    \n",
    "    return D, G\n"
   ]
  },
  {
   "cell_type": "markdown",
   "metadata": {
    "colab_type": "text",
    "id": "06MjPm7J31Jq"
   },
   "source": [
    "#### Exercise: Define model hyperparameters"
   ]
  },
  {
   "cell_type": "code",
   "execution_count": 60,
   "metadata": {
    "colab": {
     "base_uri": "https://localhost:8080/",
     "height": 510
    },
    "colab_type": "code",
    "id": "PoFIdqyb31Jv",
    "outputId": "f0679832-4512-4d2d-ca17-fb0fbbbd04e5"
   },
   "outputs": [
    {
     "name": "stdout",
     "output_type": "stream",
     "text": [
      "Discriminator(\n",
      "  (conv1): Sequential(\n",
      "    (0): Conv2d(3, 32, kernel_size=(4, 4), stride=(2, 2), padding=(1, 1), bias=False)\n",
      "  )\n",
      "  (conv2): Sequential(\n",
      "    (0): Conv2d(32, 64, kernel_size=(4, 4), stride=(2, 2), padding=(1, 1), bias=False)\n",
      "    (1): BatchNorm2d(64, eps=1e-05, momentum=0.1, affine=True, track_running_stats=True)\n",
      "  )\n",
      "  (conv3): Sequential(\n",
      "    (0): Conv2d(64, 128, kernel_size=(4, 4), stride=(2, 2), padding=(1, 1), bias=False)\n",
      "    (1): BatchNorm2d(128, eps=1e-05, momentum=0.1, affine=True, track_running_stats=True)\n",
      "  )\n",
      "  (fc): Linear(in_features=2048, out_features=1, bias=True)\n",
      ")\n",
      "\n",
      "Generator(\n",
      "  (fc): Linear(in_features=100, out_features=2048, bias=True)\n",
      "  (t_conv1): Sequential(\n",
      "    (0): ConvTranspose2d(128, 64, kernel_size=(4, 4), stride=(2, 2), padding=(1, 1), bias=False)\n",
      "    (1): BatchNorm2d(64, eps=1e-05, momentum=0.1, affine=True, track_running_stats=True)\n",
      "  )\n",
      "  (t_conv2): Sequential(\n",
      "    (0): ConvTranspose2d(64, 32, kernel_size=(4, 4), stride=(2, 2), padding=(1, 1), bias=False)\n",
      "    (1): BatchNorm2d(32, eps=1e-05, momentum=0.1, affine=True, track_running_stats=True)\n",
      "  )\n",
      "  (t_conv3): Sequential(\n",
      "    (0): ConvTranspose2d(32, 3, kernel_size=(4, 4), stride=(2, 2), padding=(1, 1), bias=False)\n",
      "  )\n",
      ")\n"
     ]
    }
   ],
   "source": [
    "# Define model hyperparams\n",
    "d_conv_dim = 32\n",
    "g_conv_dim = 32\n",
    "z_size = 100\n",
    "\n",
    "\"\"\"\n",
    "DON'T MODIFY ANYTHING IN THIS CELL THAT IS BELOW THIS LINE\n",
    "\"\"\"\n",
    "D, G = build_network(d_conv_dim, g_conv_dim, z_size)"
   ]
  },
  {
   "cell_type": "markdown",
   "metadata": {
    "colab_type": "text",
    "id": "p99xtDc231J4"
   },
   "source": [
    "### Training on GPU\n",
    "\n",
    "Check if you can train on GPU. Here, we'll set this as a boolean variable `train_on_gpu`. Later, you'll be responsible for making sure that \n",
    ">* Models,\n",
    "* Model inputs, and\n",
    "* Loss function arguments\n",
    "\n",
    "Are moved to GPU, where appropriate."
   ]
  },
  {
   "cell_type": "code",
   "execution_count": 76,
   "metadata": {
    "colab": {
     "base_uri": "https://localhost:8080/",
     "height": 34
    },
    "colab_type": "code",
    "id": "vuYuoT-d31J7",
    "outputId": "7b18672a-a88f-40fa-81ae-955097a993cf"
   },
   "outputs": [
    {
     "name": "stdout",
     "output_type": "stream",
     "text": [
      "Training on GPU!\n"
     ]
    }
   ],
   "source": [
    "\"\"\"\n",
    "DON'T MODIFY ANYTHING IN THIS CELL\n",
    "\"\"\"\n",
    "import torch\n",
    "\n",
    "# Check for a GPU\n",
    "train_on_gpu = torch.cuda.is_available()\n",
    "if not train_on_gpu:\n",
    "    print('No GPU found. Please use a GPU to train your neural network.')\n",
    "else:\n",
    "    print('Training on GPU!')"
   ]
  },
  {
   "cell_type": "markdown",
   "metadata": {
    "colab_type": "text",
    "id": "I9ERbsr-31KF"
   },
   "source": [
    "---\n",
    "## Discriminator and Generator Losses\n",
    "\n",
    "Now we need to calculate the losses for both types of adversarial networks.\n",
    "\n",
    "### Discriminator Losses\n",
    "\n",
    "> * For the discriminator, the total loss is the sum of the losses for real and fake images, `d_loss = d_real_loss + d_fake_loss`. \n",
    "* Remember that we want the discriminator to output 1 for real images and 0 for fake images, so we need to set up the losses to reflect that.\n",
    "\n",
    "\n",
    "### Generator Loss\n",
    "\n",
    "The generator loss will look similar only with flipped labels. The generator's goal is to get the discriminator to *think* its generated images are *real*.\n",
    "\n",
    "#### Exercise: Complete real and fake loss functions\n",
    "\n",
    "**You may choose to use either cross entropy or a least squares error loss to complete the following `real_loss` and `fake_loss` functions.**"
   ]
  },
  {
   "cell_type": "code",
   "execution_count": 0,
   "metadata": {
    "colab": {},
    "colab_type": "code",
    "id": "bRFiuioD31KJ"
   },
   "outputs": [],
   "source": [
    "def real_loss(D_out):\n",
    "    '''Calculates how close discriminator outputs are to being real.\n",
    "       param, D_out: discriminator logits\n",
    "       return: real loss'''\n",
    "    batch_size = D_out.size(0)\n",
    "    criterion = nn.BCEWithLogitsLoss()\n",
    "    labels = torch.ones(batch_size)*0.9\n",
    "    if train_on_gpu:\n",
    "        labels = labels.cuda()\n",
    "    loss = criterion(D_out.squeeze(), labels)\n",
    "    return loss\n",
    "\n",
    "def fake_loss(D_out):\n",
    "    '''Calculates how close discriminator outputs are to being fake.\n",
    "       param, D_out: discriminator logits\n",
    "       return: fake loss'''\n",
    "    batch_size = D_out.size(0)\n",
    "    labels = torch.zeros(batch_size)\n",
    "    if train_on_gpu:\n",
    "        labels = labels.cuda()\n",
    "    criterion = nn.BCEWithLogitsLoss()\n",
    "    loss = criterion(D_out.squeeze(), labels)\n",
    "    return loss"
   ]
  },
  {
   "cell_type": "markdown",
   "metadata": {
    "colab_type": "text",
    "id": "GGgbpNjt31KU"
   },
   "source": [
    "## Optimizers\n",
    "\n",
    "#### Exercise: Define optimizers for your Discriminator (D) and Generator (G)\n",
    "\n",
    "Define optimizers for your models with appropriate hyperparameters."
   ]
  },
  {
   "cell_type": "code",
   "execution_count": 0,
   "metadata": {
    "colab": {},
    "colab_type": "code",
    "id": "hXys4kdA31KX"
   },
   "outputs": [],
   "source": [
    "import torch.optim as optim\n",
    "\n",
    "# Create optimizers for the discriminator D and generator G\n",
    "d_optimizer = optim.Adam(D.parameters(), lr=0.0002, betas=[0.5, 0.999])\n",
    "g_optimizer = optim.Adam(G.parameters(), lr=0.0002, betas=[0.5, 0.999])"
   ]
  },
  {
   "cell_type": "markdown",
   "metadata": {
    "colab_type": "text",
    "id": "ZEVw4B6B31Ko"
   },
   "source": [
    "---\n",
    "## Training\n",
    "\n",
    "Training will involve alternating between training the discriminator and the generator. You'll use your functions `real_loss` and `fake_loss` to help you calculate the discriminator losses.\n",
    "\n",
    "* You should train the discriminator by alternating on real and fake images\n",
    "* Then the generator, which tries to trick the discriminator and should have an opposing loss function\n",
    "\n",
    "\n",
    "#### Saving Samples\n",
    "\n",
    "You've been given some code to print out some loss statistics and save some generated \"fake\" samples."
   ]
  },
  {
   "cell_type": "markdown",
   "metadata": {
    "colab_type": "text",
    "id": "mIyriucE31K1"
   },
   "source": [
    "#### Exercise: Complete the training function\n",
    "\n",
    "Keep in mind that, if you've moved your models to GPU, you'll also have to move any model inputs to GPU."
   ]
  },
  {
   "cell_type": "code",
   "execution_count": 0,
   "metadata": {
    "colab": {},
    "colab_type": "code",
    "id": "5q6MScNr31K4"
   },
   "outputs": [],
   "source": [
    "def train(D, G, n_epochs, print_every=50):\n",
    "    '''Trains adversarial networks for some number of epochs\n",
    "       param, D: the discriminator network\n",
    "       param, G: the generator network\n",
    "       param, n_epochs: number of epochs to train for\n",
    "       param, print_every: when to print and record the models' losses\n",
    "       return: D and G losses'''\n",
    "    \n",
    "    # move models to GPU\n",
    "    if train_on_gpu:\n",
    "        D.cuda()\n",
    "        G.cuda()\n",
    "\n",
    "    # keep track of loss and generated, \"fake\" samples\n",
    "    samples = []\n",
    "    losses = []\n",
    "\n",
    "    # Get some fixed data for sampling. These are images that are held\n",
    "    # constant throughout training, and allow us to inspect the model's performance\n",
    "    sample_size=16\n",
    "    fixed_z = np.random.uniform(-1, 1, size=(sample_size, z_size))\n",
    "    fixed_z = torch.from_numpy(fixed_z).float()\n",
    "    # move z to GPU if available\n",
    "    if train_on_gpu:\n",
    "        fixed_z = fixed_z.cuda()\n",
    "\n",
    "    # epoch training loop\n",
    "    for epoch in range(n_epochs):\n",
    "\n",
    "        # batch training loop\n",
    "        for batch_i, (real_images, _) in enumerate(celeba_train_loader):\n",
    "\n",
    "            batch_size = real_images.size(0)\n",
    "            real_images = scale(real_images)\n",
    "\n",
    "            # ===============================================\n",
    "            #         YOUR CODE HERE: TRAIN THE NETWORKS\n",
    "            # ===============================================\n",
    "            d_optimizer.zero_grad()\n",
    "            # 1. Train the discriminator on real and fake images\n",
    "            if train_on_gpu:\n",
    "                real_images = real_images.cuda()\n",
    "            d_real = D(real_images)\n",
    "            d_real_loss = real_loss(d_real)\n",
    "            \n",
    "            # fake images\n",
    "            z = np.random.uniform(-1, 1, size=(batch_size, z_size))\n",
    "            z = torch.from_numpy(z).float()\n",
    "            if train_on_gpu:\n",
    "                z = z.cuda()\n",
    "            fake_images = G(z)\n",
    "            d_fake = D(fake_images)\n",
    "            d_fake_loss = fake_loss(d_fake)\n",
    "            # sum loss and backprop\n",
    "            d_loss = d_real_loss + d_fake_loss\n",
    "            d_loss.backward()\n",
    "            d_optimizer.step()\n",
    "            # 2. Train the generator with an adversarial loss            \n",
    "            g_optimizer.zero_grad()\n",
    "             # Train with fake images and flipped labels\n",
    "            z = np.random.uniform(-1, 1, size=(batch_size, z_size))\n",
    "            z = torch.from_numpy(z).float()\n",
    "            if train_on_gpu:\n",
    "                z = z.cuda()\n",
    "            fake_images = G(z)\n",
    "            # discriminator loss on fake images\n",
    "            g_fake = D(fake_images)\n",
    "            g_loss = real_loss(g_fake)\n",
    "            g_loss.backward()\n",
    "            g_optimizer.step()   \n",
    "                \n",
    "            # ===============================================\n",
    "            #              END OF YOUR CODE\n",
    "            # ===============================================\n",
    "\n",
    "            # Print some loss stats\n",
    "            if batch_i % print_every == 0:\n",
    "                # append discriminator loss and generator loss\n",
    "                losses.append((d_loss.item(), g_loss.item()))\n",
    "                # print discriminator and generator loss\n",
    "                print('Epoch [{:5d}/{:5d}] | d_loss: {:6.4f} | g_loss: {:6.4f}'.format(\n",
    "                        epoch+1, n_epochs, d_loss.item(), g_loss.item()))\n",
    "\n",
    "\n",
    "        ## AFTER EACH EPOCH##    \n",
    "        # this code assumes your generator is named G, feel free to change the name\n",
    "        # generate and save sample, fake images\n",
    "        G.eval() # for generating samples\n",
    "        samples_z = G(fixed_z)\n",
    "        samples.append(samples_z)\n",
    "        G.train() # back to training mode\n",
    "\n",
    "    # Save training generator samples\n",
    "    with open('train_samples.pkl', 'wb') as f:\n",
    "        pkl.dump(samples, f)\n",
    "    \n",
    "    # finally return losses\n",
    "    return losses"
   ]
  },
  {
   "cell_type": "markdown",
   "metadata": {
    "colab_type": "text",
    "id": "aTKAjX9131LE"
   },
   "source": [
    "Set your number of training epochs and train your GAN!"
   ]
  },
  {
   "cell_type": "code",
   "execution_count": 89,
   "metadata": {
    "colab": {
     "base_uri": "https://localhost:8080/",
     "height": 1000
    },
    "colab_type": "code",
    "id": "II3kuSN231LI",
    "outputId": "c94a3661-eee2-4d40-e417-580859e92904"
   },
   "outputs": [
    {
     "name": "stdout",
     "output_type": "stream",
     "text": [
      "Epoch [    4/   20] | d_loss: 1.0998 | g_loss: 1.7852\n",
      "Epoch [    4/   20] | d_loss: 1.0660 | g_loss: 1.3153\n",
      "Epoch [    4/   20] | d_loss: 1.0968 | g_loss: 0.8672\n",
      "Epoch [    4/   20] | d_loss: 1.0035 | g_loss: 1.8178\n",
      "Epoch [    4/   20] | d_loss: 0.9582 | g_loss: 1.1342\n",
      "Epoch [    4/   20] | d_loss: 0.9477 | g_loss: 1.5386\n",
      "Epoch [    4/   20] | d_loss: 1.1072 | g_loss: 1.2466\n",
      "Epoch [    5/   20] | d_loss: 1.0293 | g_loss: 1.7870\n",
      "Epoch [    5/   20] | d_loss: 1.0524 | g_loss: 0.7569\n",
      "Epoch [    5/   20] | d_loss: 1.2538 | g_loss: 1.7679\n",
      "Epoch [    5/   20] | d_loss: 1.2730 | g_loss: 0.9239\n",
      "Epoch [    5/   20] | d_loss: 0.8632 | g_loss: 1.4655\n",
      "Epoch [    5/   20] | d_loss: 1.1777 | g_loss: 1.4948\n",
      "Epoch [    5/   20] | d_loss: 1.0245 | g_loss: 1.5058\n",
      "Epoch [    5/   20] | d_loss: 1.0866 | g_loss: 0.9537\n",
      "Epoch [    5/   20] | d_loss: 1.0246 | g_loss: 1.0782\n",
      "Epoch [    5/   20] | d_loss: 2.1664 | g_loss: 2.9842\n",
      "Epoch [    5/   20] | d_loss: 0.9517 | g_loss: 1.5297\n",
      "Epoch [    5/   20] | d_loss: 1.0726 | g_loss: 1.3913\n",
      "Epoch [    5/   20] | d_loss: 1.0142 | g_loss: 1.0466\n",
      "Epoch [    5/   20] | d_loss: 0.9765 | g_loss: 1.6794\n",
      "Epoch [    5/   20] | d_loss: 0.9722 | g_loss: 1.1652\n",
      "Epoch [    6/   20] | d_loss: 0.9503 | g_loss: 1.4457\n",
      "Epoch [    6/   20] | d_loss: 0.9613 | g_loss: 1.8000\n",
      "Epoch [    6/   20] | d_loss: 1.1494 | g_loss: 0.9099\n",
      "Epoch [    6/   20] | d_loss: 0.9158 | g_loss: 1.4580\n",
      "Epoch [    6/   20] | d_loss: 0.9276 | g_loss: 1.1417\n",
      "Epoch [    6/   20] | d_loss: 0.7789 | g_loss: 1.5785\n",
      "Epoch [    6/   20] | d_loss: 0.9290 | g_loss: 1.4840\n",
      "Epoch [    6/   20] | d_loss: 0.8958 | g_loss: 1.7364\n",
      "Epoch [    6/   20] | d_loss: 1.1754 | g_loss: 0.9116\n",
      "Epoch [    6/   20] | d_loss: 1.1187 | g_loss: 0.7221\n",
      "Epoch [    6/   20] | d_loss: 1.1409 | g_loss: 0.9856\n",
      "Epoch [    6/   20] | d_loss: 0.9707 | g_loss: 1.3219\n",
      "Epoch [    6/   20] | d_loss: 1.2417 | g_loss: 1.9281\n",
      "Epoch [    6/   20] | d_loss: 1.0367 | g_loss: 0.9610\n",
      "Epoch [    6/   20] | d_loss: 1.2470 | g_loss: 1.9935\n",
      "Epoch [    7/   20] | d_loss: 1.2944 | g_loss: 2.5837\n",
      "Epoch [    7/   20] | d_loss: 0.8155 | g_loss: 1.5434\n",
      "Epoch [    7/   20] | d_loss: 0.9580 | g_loss: 1.2605\n",
      "Epoch [    7/   20] | d_loss: 0.9026 | g_loss: 1.3456\n",
      "Epoch [    7/   20] | d_loss: 0.9207 | g_loss: 1.3399\n",
      "Epoch [    7/   20] | d_loss: 1.2514 | g_loss: 1.7324\n",
      "Epoch [    7/   20] | d_loss: 0.9341 | g_loss: 1.2180\n",
      "Epoch [    7/   20] | d_loss: 0.9905 | g_loss: 1.1980\n",
      "Epoch [    7/   20] | d_loss: 1.0647 | g_loss: 1.3711\n",
      "Epoch [    7/   20] | d_loss: 0.8670 | g_loss: 1.5002\n",
      "Epoch [    7/   20] | d_loss: 1.0245 | g_loss: 1.8185\n",
      "Epoch [    7/   20] | d_loss: 0.8108 | g_loss: 1.5456\n",
      "Epoch [    7/   20] | d_loss: 1.0141 | g_loss: 1.4696\n",
      "Epoch [    7/   20] | d_loss: 0.9038 | g_loss: 1.1476\n",
      "Epoch [    7/   20] | d_loss: 0.8091 | g_loss: 1.5383\n",
      "Epoch [    8/   20] | d_loss: 1.0010 | g_loss: 1.5153\n",
      "Epoch [    8/   20] | d_loss: 0.8508 | g_loss: 1.4571\n",
      "Epoch [    8/   20] | d_loss: 0.8525 | g_loss: 1.5096\n",
      "Epoch [    8/   20] | d_loss: 0.8721 | g_loss: 1.3150\n",
      "Epoch [    8/   20] | d_loss: 1.0175 | g_loss: 1.3085\n",
      "Epoch [    8/   20] | d_loss: 1.1069 | g_loss: 0.9742\n",
      "Epoch [    8/   20] | d_loss: 0.9321 | g_loss: 1.9728\n",
      "Epoch [    8/   20] | d_loss: 0.8973 | g_loss: 1.2449\n",
      "Epoch [    8/   20] | d_loss: 0.8524 | g_loss: 1.4043\n",
      "Epoch [    8/   20] | d_loss: 0.9356 | g_loss: 1.1687\n",
      "Epoch [    8/   20] | d_loss: 0.9082 | g_loss: 1.6065\n",
      "Epoch [    8/   20] | d_loss: 1.0566 | g_loss: 1.2247\n",
      "Epoch [    8/   20] | d_loss: 0.9637 | g_loss: 1.5793\n",
      "Epoch [    8/   20] | d_loss: 1.0250 | g_loss: 1.5796\n",
      "Epoch [    8/   20] | d_loss: 1.0023 | g_loss: 1.3767\n",
      "Epoch [    9/   20] | d_loss: 0.8772 | g_loss: 1.8851\n",
      "Epoch [    9/   20] | d_loss: 0.8781 | g_loss: 1.9410\n",
      "Epoch [    9/   20] | d_loss: 1.0446 | g_loss: 1.2759\n",
      "Epoch [    9/   20] | d_loss: 0.9788 | g_loss: 0.9770\n",
      "Epoch [    9/   20] | d_loss: 0.9677 | g_loss: 0.9976\n",
      "Epoch [    9/   20] | d_loss: 0.9807 | g_loss: 1.9750\n",
      "Epoch [    9/   20] | d_loss: 1.0427 | g_loss: 1.5425\n",
      "Epoch [    9/   20] | d_loss: 0.8011 | g_loss: 2.1385\n",
      "Epoch [    9/   20] | d_loss: 1.1734 | g_loss: 1.7838\n",
      "Epoch [    9/   20] | d_loss: 1.0559 | g_loss: 1.3346\n",
      "Epoch [    9/   20] | d_loss: 0.9876 | g_loss: 1.8526\n",
      "Epoch [    9/   20] | d_loss: 0.9260 | g_loss: 2.0112\n",
      "Epoch [    9/   20] | d_loss: 0.9812 | g_loss: 1.3705\n",
      "Epoch [    9/   20] | d_loss: 0.9407 | g_loss: 1.3548\n",
      "Epoch [    9/   20] | d_loss: 0.9872 | g_loss: 1.6046\n",
      "Epoch [   10/   20] | d_loss: 0.9641 | g_loss: 1.7588\n",
      "Epoch [   10/   20] | d_loss: 0.9954 | g_loss: 1.1089\n",
      "Epoch [   10/   20] | d_loss: 0.8800 | g_loss: 1.2783\n",
      "Epoch [   10/   20] | d_loss: 0.8966 | g_loss: 1.4870\n",
      "Epoch [   10/   20] | d_loss: 0.7745 | g_loss: 1.4373\n",
      "Epoch [   10/   20] | d_loss: 0.9983 | g_loss: 1.1260\n",
      "Epoch [   10/   20] | d_loss: 0.8869 | g_loss: 1.3362\n",
      "Epoch [   10/   20] | d_loss: 0.9292 | g_loss: 1.2495\n",
      "Epoch [   10/   20] | d_loss: 0.7601 | g_loss: 1.4615\n",
      "Epoch [   10/   20] | d_loss: 0.9669 | g_loss: 2.1439\n",
      "Epoch [   10/   20] | d_loss: 1.0756 | g_loss: 1.1100\n",
      "Epoch [   10/   20] | d_loss: 0.9285 | g_loss: 1.3603\n",
      "Epoch [   10/   20] | d_loss: 0.9156 | g_loss: 1.1992\n",
      "Epoch [   10/   20] | d_loss: 1.0144 | g_loss: 0.9559\n",
      "Epoch [   10/   20] | d_loss: 0.9352 | g_loss: 1.1082\n",
      "Epoch [   11/   20] | d_loss: 0.8255 | g_loss: 1.6047\n",
      "Epoch [   11/   20] | d_loss: 0.8882 | g_loss: 0.8742\n",
      "Epoch [   11/   20] | d_loss: 0.9573 | g_loss: 1.0825\n",
      "Epoch [   11/   20] | d_loss: 0.9092 | g_loss: 1.0968\n",
      "Epoch [   11/   20] | d_loss: 0.8710 | g_loss: 1.5445\n",
      "Epoch [   11/   20] | d_loss: 0.7111 | g_loss: 1.7052\n",
      "Epoch [   11/   20] | d_loss: 0.8128 | g_loss: 1.5691\n",
      "Epoch [   11/   20] | d_loss: 0.8938 | g_loss: 1.3555\n",
      "Epoch [   11/   20] | d_loss: 0.7915 | g_loss: 1.5935\n",
      "Epoch [   11/   20] | d_loss: 0.9068 | g_loss: 1.2296\n",
      "Epoch [   11/   20] | d_loss: 0.8950 | g_loss: 1.2890\n",
      "Epoch [   11/   20] | d_loss: 1.1579 | g_loss: 1.2453\n",
      "Epoch [   11/   20] | d_loss: 0.7318 | g_loss: 1.8042\n",
      "Epoch [   11/   20] | d_loss: 0.8056 | g_loss: 1.6516\n",
      "Epoch [   11/   20] | d_loss: 1.8175 | g_loss: 0.4219\n",
      "Epoch [   12/   20] | d_loss: 1.9631 | g_loss: 4.6920\n",
      "Epoch [   12/   20] | d_loss: 1.0218 | g_loss: 1.1576\n",
      "Epoch [   12/   20] | d_loss: 0.8990 | g_loss: 1.2874\n",
      "Epoch [   12/   20] | d_loss: 0.8020 | g_loss: 1.5566\n",
      "Epoch [   12/   20] | d_loss: 1.1647 | g_loss: 2.5521\n",
      "Epoch [   12/   20] | d_loss: 0.9709 | g_loss: 1.6586\n",
      "Epoch [   12/   20] | d_loss: 0.8764 | g_loss: 1.6560\n",
      "Epoch [   12/   20] | d_loss: 0.9372 | g_loss: 1.0431\n",
      "Epoch [   12/   20] | d_loss: 0.9640 | g_loss: 2.2325\n",
      "Epoch [   12/   20] | d_loss: 0.6714 | g_loss: 1.7465\n",
      "Epoch [   12/   20] | d_loss: 0.8138 | g_loss: 1.2381\n",
      "Epoch [   12/   20] | d_loss: 0.8106 | g_loss: 1.5044\n",
      "Epoch [   12/   20] | d_loss: 0.8930 | g_loss: 1.4173\n",
      "Epoch [   12/   20] | d_loss: 0.8696 | g_loss: 1.8636\n",
      "Epoch [   12/   20] | d_loss: 0.8927 | g_loss: 1.3822\n",
      "Epoch [   13/   20] | d_loss: 0.9206 | g_loss: 2.0508\n",
      "Epoch [   13/   20] | d_loss: 0.6377 | g_loss: 2.2229\n",
      "Epoch [   13/   20] | d_loss: 0.9578 | g_loss: 2.6857\n",
      "Epoch [   13/   20] | d_loss: 1.1376 | g_loss: 2.0279\n",
      "Epoch [   13/   20] | d_loss: 0.9285 | g_loss: 1.1499\n",
      "Epoch [   13/   20] | d_loss: 0.8890 | g_loss: 1.3536\n",
      "Epoch [   13/   20] | d_loss: 0.8248 | g_loss: 1.3163\n",
      "Epoch [   13/   20] | d_loss: 0.7752 | g_loss: 1.7224\n",
      "Epoch [   13/   20] | d_loss: 0.8836 | g_loss: 2.1140\n",
      "Epoch [   13/   20] | d_loss: 0.8480 | g_loss: 1.3617\n",
      "Epoch [   13/   20] | d_loss: 0.9284 | g_loss: 2.1708\n",
      "Epoch [   13/   20] | d_loss: 0.9567 | g_loss: 1.4386\n",
      "Epoch [   13/   20] | d_loss: 0.8337 | g_loss: 1.4697\n",
      "Epoch [   13/   20] | d_loss: 0.8500 | g_loss: 1.6641\n",
      "Epoch [   13/   20] | d_loss: 0.7923 | g_loss: 2.4458\n",
      "Epoch [   14/   20] | d_loss: 0.7923 | g_loss: 2.0596\n",
      "Epoch [   14/   20] | d_loss: 0.8041 | g_loss: 1.3530\n",
      "Epoch [   14/   20] | d_loss: 0.9493 | g_loss: 1.3035\n",
      "Epoch [   14/   20] | d_loss: 0.8168 | g_loss: 1.9708\n",
      "Epoch [   14/   20] | d_loss: 0.7636 | g_loss: 1.6772\n",
      "Epoch [   14/   20] | d_loss: 0.8935 | g_loss: 1.2279\n",
      "Epoch [   14/   20] | d_loss: 0.9608 | g_loss: 1.1332\n",
      "Epoch [   14/   20] | d_loss: 0.8143 | g_loss: 1.7218\n",
      "Epoch [   14/   20] | d_loss: 0.7525 | g_loss: 1.5125\n",
      "Epoch [   14/   20] | d_loss: 0.7791 | g_loss: 1.5624\n",
      "Epoch [   14/   20] | d_loss: 1.2101 | g_loss: 2.8640\n",
      "Epoch [   14/   20] | d_loss: 1.3018 | g_loss: 0.8527\n",
      "Epoch [   14/   20] | d_loss: 0.9117 | g_loss: 1.2806\n",
      "Epoch [   14/   20] | d_loss: 1.0194 | g_loss: 1.1050\n",
      "Epoch [   14/   20] | d_loss: 0.8194 | g_loss: 1.7546\n",
      "Epoch [   15/   20] | d_loss: 0.9202 | g_loss: 1.9696\n",
      "Epoch [   15/   20] | d_loss: 0.7678 | g_loss: 1.3692\n",
      "Epoch [   15/   20] | d_loss: 0.8330 | g_loss: 2.2766\n",
      "Epoch [   15/   20] | d_loss: 0.9330 | g_loss: 1.5773\n",
      "Epoch [   15/   20] | d_loss: 0.8595 | g_loss: 2.0037\n",
      "Epoch [   15/   20] | d_loss: 0.8742 | g_loss: 1.5147\n",
      "Epoch [   15/   20] | d_loss: 0.7295 | g_loss: 1.7094\n",
      "Epoch [   15/   20] | d_loss: 0.9507 | g_loss: 1.5203\n",
      "Epoch [   15/   20] | d_loss: 0.7382 | g_loss: 1.2100\n",
      "Epoch [   15/   20] | d_loss: 0.8359 | g_loss: 1.1981\n",
      "Epoch [   15/   20] | d_loss: 0.7538 | g_loss: 2.0230\n",
      "Epoch [   15/   20] | d_loss: 0.8774 | g_loss: 1.2306\n",
      "Epoch [   15/   20] | d_loss: 0.7813 | g_loss: 1.8033\n",
      "Epoch [   15/   20] | d_loss: 0.7304 | g_loss: 1.4051\n",
      "Epoch [   15/   20] | d_loss: 0.6401 | g_loss: 1.7709\n",
      "Epoch [   16/   20] | d_loss: 0.7460 | g_loss: 1.5947\n",
      "Epoch [   16/   20] | d_loss: 0.9448 | g_loss: 0.8601\n",
      "Epoch [   16/   20] | d_loss: 0.6365 | g_loss: 2.1098\n",
      "Epoch [   16/   20] | d_loss: 0.8750 | g_loss: 1.5509\n",
      "Epoch [   16/   20] | d_loss: 0.9234 | g_loss: 1.8775\n",
      "Epoch [   16/   20] | d_loss: 0.6393 | g_loss: 1.9120\n",
      "Epoch [   16/   20] | d_loss: 0.7894 | g_loss: 1.5577\n",
      "Epoch [   16/   20] | d_loss: 1.1225 | g_loss: 1.9879\n",
      "Epoch [   16/   20] | d_loss: 0.8245 | g_loss: 1.1382\n",
      "Epoch [   16/   20] | d_loss: 0.7304 | g_loss: 1.6178\n",
      "Epoch [   16/   20] | d_loss: 0.8357 | g_loss: 2.7709\n",
      "Epoch [   16/   20] | d_loss: 0.7274 | g_loss: 1.8542\n",
      "Epoch [   16/   20] | d_loss: 0.9071 | g_loss: 2.5048\n",
      "Epoch [   16/   20] | d_loss: 0.8049 | g_loss: 1.3461\n",
      "Epoch [   16/   20] | d_loss: 0.7695 | g_loss: 1.7601\n",
      "Epoch [   17/   20] | d_loss: 0.8147 | g_loss: 2.1283\n",
      "Epoch [   17/   20] | d_loss: 0.6739 | g_loss: 1.7949\n",
      "Epoch [   17/   20] | d_loss: 0.6903 | g_loss: 1.2034\n",
      "Epoch [   17/   20] | d_loss: 0.7000 | g_loss: 1.6137\n",
      "Epoch [   17/   20] | d_loss: 0.7922 | g_loss: 1.3130\n",
      "Epoch [   17/   20] | d_loss: 0.7496 | g_loss: 1.4587\n",
      "Epoch [   17/   20] | d_loss: 0.7181 | g_loss: 1.9075\n",
      "Epoch [   17/   20] | d_loss: 0.8620 | g_loss: 1.6407\n",
      "Epoch [   17/   20] | d_loss: 0.7393 | g_loss: 2.5175\n",
      "Epoch [   17/   20] | d_loss: 0.8596 | g_loss: 2.4110\n",
      "Epoch [   17/   20] | d_loss: 0.8483 | g_loss: 1.7406\n",
      "Epoch [   17/   20] | d_loss: 0.8857 | g_loss: 1.3166\n",
      "Epoch [   17/   20] | d_loss: 0.8204 | g_loss: 1.8122\n",
      "Epoch [   17/   20] | d_loss: 0.9027 | g_loss: 1.9082\n",
      "Epoch [   17/   20] | d_loss: 0.8716 | g_loss: 0.6061\n",
      "Epoch [   18/   20] | d_loss: 1.2317 | g_loss: 3.0275\n",
      "Epoch [   18/   20] | d_loss: 0.7769 | g_loss: 1.9883\n",
      "Epoch [   18/   20] | d_loss: 0.7886 | g_loss: 1.6350\n",
      "Epoch [   18/   20] | d_loss: 0.7429 | g_loss: 1.8905\n",
      "Epoch [   18/   20] | d_loss: 0.8310 | g_loss: 1.8274\n",
      "Epoch [   18/   20] | d_loss: 0.8663 | g_loss: 1.4841\n",
      "Epoch [   18/   20] | d_loss: 0.6534 | g_loss: 2.0775\n",
      "Epoch [   18/   20] | d_loss: 0.6460 | g_loss: 1.9283\n",
      "Epoch [   18/   20] | d_loss: 0.8133 | g_loss: 1.8138\n",
      "Epoch [   18/   20] | d_loss: 0.6643 | g_loss: 1.8665\n",
      "Epoch [   18/   20] | d_loss: 0.8399 | g_loss: 1.5447\n",
      "Epoch [   18/   20] | d_loss: 0.7512 | g_loss: 1.3748\n",
      "Epoch [   18/   20] | d_loss: 0.6770 | g_loss: 1.6381\n",
      "Epoch [   18/   20] | d_loss: 0.7265 | g_loss: 1.8214\n",
      "Epoch [   18/   20] | d_loss: 0.5871 | g_loss: 1.7212\n",
      "Epoch [   19/   20] | d_loss: 0.6430 | g_loss: 1.9161\n",
      "Epoch [   19/   20] | d_loss: 0.6040 | g_loss: 2.1869\n",
      "Epoch [   19/   20] | d_loss: 0.8329 | g_loss: 2.2729\n",
      "Epoch [   19/   20] | d_loss: 0.8241 | g_loss: 1.3767\n",
      "Epoch [   19/   20] | d_loss: 0.6900 | g_loss: 2.0421\n",
      "Epoch [   19/   20] | d_loss: 0.6621 | g_loss: 1.8820\n",
      "Epoch [   19/   20] | d_loss: 0.5596 | g_loss: 2.1285\n",
      "Epoch [   19/   20] | d_loss: 1.9870 | g_loss: 0.4372\n",
      "Epoch [   19/   20] | d_loss: 0.6798 | g_loss: 1.6933\n",
      "Epoch [   19/   20] | d_loss: 0.5484 | g_loss: 2.3176\n",
      "Epoch [   19/   20] | d_loss: 0.7125 | g_loss: 2.6081\n",
      "Epoch [   19/   20] | d_loss: 0.6690 | g_loss: 2.0936\n",
      "Epoch [   19/   20] | d_loss: 0.6281 | g_loss: 1.7344\n",
      "Epoch [   19/   20] | d_loss: 0.7150 | g_loss: 1.7037\n",
      "Epoch [   19/   20] | d_loss: 0.9591 | g_loss: 0.7589\n",
      "Epoch [   20/   20] | d_loss: 1.0734 | g_loss: 2.6530\n",
      "Epoch [   20/   20] | d_loss: 0.6302 | g_loss: 2.4715\n",
      "Epoch [   20/   20] | d_loss: 1.4654 | g_loss: 1.1726\n",
      "Epoch [   20/   20] | d_loss: 0.5968 | g_loss: 1.9840\n",
      "Epoch [   20/   20] | d_loss: 0.7079 | g_loss: 1.7374\n",
      "Epoch [   20/   20] | d_loss: 0.6529 | g_loss: 2.3543\n",
      "Epoch [   20/   20] | d_loss: 0.6826 | g_loss: 2.3915\n",
      "Epoch [   20/   20] | d_loss: 0.5618 | g_loss: 1.9596\n",
      "Epoch [   20/   20] | d_loss: 0.6117 | g_loss: 2.0965\n",
      "Epoch [   20/   20] | d_loss: 0.7241 | g_loss: 1.1857\n",
      "Epoch [   20/   20] | d_loss: 0.6391 | g_loss: 2.5653\n",
      "Epoch [   20/   20] | d_loss: 0.6794 | g_loss: 2.1335\n",
      "Epoch [   20/   20] | d_loss: 0.6227 | g_loss: 2.0279\n",
      "Epoch [   20/   20] | d_loss: 0.8256 | g_loss: 1.5320\n",
      "Epoch [   20/   20] | d_loss: 0.6542 | g_loss: 1.5149\n"
     ]
    }
   ],
   "source": [
    "# set number of epochs \n",
    "n_epochs = 20\n",
    "\n",
    "\n",
    "\"\"\"\n",
    "DON'T MODIFY ANYTHING IN THIS CELL\n",
    "\"\"\"\n",
    "# call training function\n",
    "losses = train(D, G, n_epochs=n_epochs)"
   ]
  },
  {
   "cell_type": "markdown",
   "metadata": {
    "colab_type": "text",
    "collapsed": true,
    "id": "_CoBGDlx31LS"
   },
   "source": [
    "## Training loss\n",
    "\n",
    "Plot the training losses for the generator and discriminator, recorded after each epoch."
   ]
  },
  {
   "cell_type": "code",
   "execution_count": 90,
   "metadata": {
    "colab": {
     "base_uri": "https://localhost:8080/",
     "height": 298
    },
    "colab_type": "code",
    "id": "hhr9YzWs31LU",
    "outputId": "ed70c01b-de51-49dc-e067-73b879bb3d2b"
   },
   "outputs": [
    {
     "data": {
      "text/plain": [
       "<matplotlib.legend.Legend at 0x7ff576246550>"
      ]
     },
     "execution_count": 90,
     "metadata": {
      "tags": []
     },
     "output_type": "execute_result"
    },
    {
     "data": {
      "image/png": "[encoded data removed]",
      "text/plain": [
       "<Figure size 432x288 with 1 Axes>"
      ]
     },
     "metadata": {
      "tags": []
     },
     "output_type": "display_data"
    }
   ],
   "source": [
    "fig, ax = plt.subplots()\n",
    "losses = np.array(losses)\n",
    "plt.plot(losses.T[0], label='Discriminator', alpha=0.5)\n",
    "plt.plot(losses.T[1], label='Generator', alpha=0.5)\n",
    "plt.title(\"Training Losses\")\n",
    "plt.legend()"
   ]
  },
  {
   "cell_type": "markdown",
   "metadata": {
    "colab_type": "text",
    "collapsed": true,
    "id": "xtoAbAaU31Le"
   },
   "source": [
    "## Generator samples from training\n",
    "\n",
    "View samples of images from the generator, and answer a question about the strengths and weaknesses of your trained models."
   ]
  },
  {
   "cell_type": "code",
   "execution_count": 0,
   "metadata": {
    "colab": {},
    "colab_type": "code",
    "id": "HUSIrOzW31Li"
   },
   "outputs": [],
   "source": [
    "# helper function for viewing a list of passed in sample images\n",
    "def view_samples(epoch, samples):\n",
    "    fig, axes = plt.subplots(figsize=(16,4), nrows=2, ncols=8, sharey=True, sharex=True)\n",
    "    for ax, img in zip(axes.flatten(), samples[epoch]):\n",
    "        img = img.detach().cpu().numpy()\n",
    "        img = np.transpose(img, (1, 2, 0))\n",
    "        img = ((img + 1)*255 / (2)).astype(np.uint8)\n",
    "        ax.xaxis.set_visible(False)\n",
    "        ax.yaxis.set_visible(False)\n",
    "        im = ax.imshow(img.reshape((32,32,3)))"
   ]
  },
  {
   "cell_type": "code",
   "execution_count": 0,
   "metadata": {
    "colab": {},
    "colab_type": "code",
    "id": "8iIvKfWy31Lq"
   },
   "outputs": [],
   "source": [
    "# Load samples from generator, taken while training\n",
    "with open('train_samples.pkl', 'rb') as f:\n",
    "    samples = pkl.load(f)"
   ]
  },
  {
   "cell_type": "code",
   "execution_count": 93,
   "metadata": {
    "colab": {
     "base_uri": "https://localhost:8080/",
     "height": 248
    },
    "colab_type": "code",
    "id": "lUPxR_e-31Lx",
    "outputId": "28fa35b1-bffe-4a39-e1a0-e466df122b94"
   },
   "outputs": [
    {
     "data": {
      "image/png": "[encoded data removed]",
      "text/plain": [
       "<Figure size 1152x288 with 16 Axes>"
      ]
     },
     "metadata": {
      "tags": []
     },
     "output_type": "display_data"
    }
   ],
   "source": [
    "_ = view_samples(-1, samples)"
   ]
  },
  {
   "cell_type": "markdown",
   "metadata": {
    "colab_type": "text",
    "id": "1pG4nP7-31L8"
   },
   "source": [
    "### Question: What do you notice about your generated samples and how might you improve this model?\n",
    "When you answer this question, consider the following factors:\n",
    "* The dataset is biased; it is made of \"celebrity\" faces that are mostly white\n",
    "* Model size; larger models have the opportunity to learn more features in a data feature space\n",
    "* Optimization strategy; optimizers and number of epochs affect your final result\n"
   ]
  },
  {
   "cell_type": "markdown",
   "metadata": {
    "colab_type": "text",
    "id": "Z2rVWu_Z31L-"
   },
   "source": [
    "**Answer:** (Write your answer in this cell)\n",
    "\n",
    "1.   Images generated mainly comprise of white images, this being a result of the dataset being biased. This can be improved by using a more generalized image dataset containing different colors.\n",
    "2.   Using a larger model may help improve the quality of generated images. a larger model has a better chance of learning some of the features in the images that maybe missed by an otherwise smaller model.\n",
    "More conv layers might help extract more features from the images. \n",
    "3.   Based on the experiments done, i don't think high epoch rates have an exact improvement to the model since most images generated don't have are clear even after 50 epochs of training. \n",
    "4.  Using larger clearer images will improve the model. The celeba dataset is made up of 64x64 images. Larger images make for better feature extraction keeping in mind the face has very complex features.\n",
    "5.  Using techniques such as image super resolution on the generated images can also be helpful in enhancing the quality of the generated images.\n",
    "\n",
    "\n",
    "\n"
   ]
  },
  {
   "cell_type": "markdown",
   "metadata": {
    "colab_type": "text",
    "id": "0rKZvejq31MB"
   },
   "source": [
    "### Submitting This Project\n",
    "When submitting this project, make sure to run all the cells before saving the notebook. Save the notebook file as \"dlnd_face_generation.ipynb\" and save it as a HTML file under \"File\" -> \"Download as\". Include the \"problem_unittests.py\" files in your submission."
   ]
  }
 ],
 "metadata": {
  "accelerator": "GPU",
  "colab": {
   "collapsed_sections": [],
   "name": "dlnd_face_generation.ipynb",
   "provenance": []
  },
  "kernelspec": {
   "display_name": "Python 3",
   "language": "python",
   "name": "python3"
  },
  "language_info": {
   "codemirror_mode": {
    "name": "ipython",
    "version": 3
   },
   "file_extension": ".py",
   "mimetype": "text/x-python",
   "name": "python",
   "nbconvert_exporter": "python",
   "pygments_lexer": "ipython3",
   "version": "3.7.3"
  }
 },
 "nbformat": 4,
 "nbformat_minor": 1
}
