{
 "cells": [
  {
   "cell_type": "code",
   "execution_count": 1,
   "metadata": {},
   "outputs": [],
   "source": [
    "import numpy as np\n",
    "import torch\n",
    "import torch.nn.functional as F\n",
    "from torch import nn"
   ]
  },
  {
   "cell_type": "code",
   "execution_count": 2,
   "metadata": {},
   "outputs": [],
   "source": [
    "# open text\n",
    "with open('../../deep-learning-v2-pytorch/recurrent-neural-networks/char-rnn/data/anna.txt', 'r') as f:\n",
    "    text = f.read()"
   ]
  },
  {
   "cell_type": "code",
   "execution_count": 3,
   "metadata": {},
   "outputs": [
    {
     "data": {
      "text/plain": [
       "'Chapter 1\\n\\n\\nHappy families are all alike; every unhappy family is unhappy in its own\\nway.\\n\\nEverythin'"
      ]
     },
     "execution_count": 3,
     "metadata": {},
     "output_type": "execute_result"
    }
   ],
   "source": [
    "# first 100\n",
    "text[:100]"
   ]
  },
  {
   "cell_type": "code",
   "execution_count": 4,
   "metadata": {},
   "outputs": [],
   "source": [
    "# Tokenization\n",
    "chars = tuple(set(text))\n",
    "int2char = dict(enumerate(chars))\n",
    "char2int = {ch: ii for ii, ch in int2char.items()}\n",
    "\n",
    "# encode\n",
    "encoded = np.array([char2int[ch] for ch in text])"
   ]
  },
  {
   "cell_type": "code",
   "execution_count": 5,
   "metadata": {},
   "outputs": [
    {
     "data": {
      "text/plain": [
       "array([77, 68, 70, 25,  5, 55, 81, 60, 39, 82, 82, 82, 53, 70, 25, 25, 26,\n",
       "       60, 79, 70, 23, 27,  8, 27, 55,  7, 60, 70, 81, 55, 60, 70,  8,  8,\n",
       "       60, 70,  8, 27, 64, 55,  6, 60, 55,  9, 55, 81, 26, 60, 40, 76, 68,\n",
       "       70, 25, 25, 26, 60, 79, 70, 23, 27,  8, 26, 60, 27,  7, 60, 40, 76,\n",
       "       68, 70, 25, 25, 26, 60, 27, 76, 60, 27,  5,  7, 60, 42, 24, 76, 82,\n",
       "       24, 70, 26,  2, 82, 82, 71,  9, 55, 81, 26,  5, 68, 27, 76])"
      ]
     },
     "execution_count": 5,
     "metadata": {},
     "output_type": "execute_result"
    }
   ],
   "source": [
    "encoded[:100]"
   ]
  },
  {
   "cell_type": "code",
   "execution_count": 6,
   "metadata": {},
   "outputs": [],
   "source": [
    "# one hot encode\n",
    "def one_hot_encode(arr, labels):\n",
    "    one_hot = np.zeros((np.multiply(*arr.shape),labels), dtype=np.float32 )\n",
    "    one_hot[np.arange(one_hot.shape[0]), arr.flatten()] = 1\n",
    "    one_hot = one_hot.reshape((*arr.shape, labels))\n",
    "    return one_hot"
   ]
  },
  {
   "cell_type": "code",
   "execution_count": 8,
   "metadata": {},
   "outputs": [
    {
     "data": {
      "text/plain": [
       "array([[[0., 1., 0., 0., 0., 0., 0., 0.],\n",
       "        [0., 0., 1., 0., 0., 0., 0., 0.],\n",
       "        [0., 0., 0., 0., 0., 1., 0., 0.]]], dtype=float32)"
      ]
     },
     "execution_count": 8,
     "metadata": {},
     "output_type": "execute_result"
    }
   ],
   "source": [
    "test_seq = np.array([[1,2,5]])\n",
    "one_hot = one_hot_encode(test_seq, 8)\n",
    "one_hot"
   ]
  },
  {
   "cell_type": "code",
   "execution_count": 9,
   "metadata": {},
   "outputs": [],
   "source": [
    "def get_batches(arr, batch_size, seq_length):\n",
    "    # get the number of full batches\n",
    "    batch_size_total = batch_size * seq_length\n",
    "    n_batches = len(arr)//batch_size_total\n",
    "    # keep only enough chars to make full batches\n",
    "    arr = arr[:n_batches * batch_size_total]\n",
    "    # reshape into {batch_size} rows\n",
    "    arr = arr.reshape((batch_size, -1))\n",
    "    # loop through the batches using a seq length of 3\n",
    "    for n in range(0, arr.shape[1], seq_length):\n",
    "        # features\n",
    "        x = arr[:, n:n+seq_length]\n",
    "        # targets\n",
    "        y = np.zeros_like(x)\n",
    "        try:\n",
    "            y[:, :-1], y[:, -1] = x[:, 1:], arr[:, n+seq_length]\n",
    "        except IndexError:\n",
    "            y[:, :-1], y[:, -1] = x[:, 1:], arr[:, 0]\n",
    "        yield x, y"
   ]
  },
  {
   "cell_type": "code",
   "execution_count": 10,
   "metadata": {},
   "outputs": [],
   "source": [
    "batches = get_batches(encoded, 8, 50)\n",
    "x, y = next(batches)"
   ]
  },
  {
   "cell_type": "code",
   "execution_count": 11,
   "metadata": {},
   "outputs": [
    {
     "name": "stdout",
     "output_type": "stream",
     "text": [
      "x\n",
      " [[77 68 70 25  5 55 81 60 39 82]\n",
      " [ 7 42 76 60  5 68 70  5 60 70]\n",
      " [55 76 11 60 42 81 60 70 60 79]\n",
      " [ 7 60  5 68 55 60 57 68 27 55]\n",
      " [60  7 70 24 60 68 55 81 60  5]\n",
      " [57 40  7  7 27 42 76 60 70 76]\n",
      " [60 78 76 76 70 60 68 70 11 60]\n",
      " [63 32  8 42 76  7 64 26  2 60]]\n",
      "\n",
      "y\n",
      " [[68 70 25  5 55 81 60 39 82 82]\n",
      " [42 76 60  5 68 70  5 60 70  5]\n",
      " [76 11 60 42 81 60 70 60 79 42]\n",
      " [60  5 68 55 60 57 68 27 55 79]\n",
      " [ 7 70 24 60 68 55 81 60  5 55]\n",
      " [40  7  7 27 42 76 60 70 76 11]\n",
      " [78 76 76 70 60 68 70 11 60  7]\n",
      " [32  8 42 76  7 64 26  2 60 28]]\n"
     ]
    }
   ],
   "source": [
    "# printing out the first 10 items in a sequence\n",
    "print('x\\n', x[:10, :10])\n",
    "print('\\ny\\n', y[:10, :10])"
   ]
  },
  {
   "cell_type": "markdown",
   "metadata": {},
   "source": [
    "## Implementation"
   ]
  },
  {
   "cell_type": "code",
   "execution_count": 12,
   "metadata": {},
   "outputs": [],
   "source": [
    "device = 'cuda' if torch.cuda.is_available() else 'cpu'"
   ]
  },
  {
   "cell_type": "code",
   "execution_count": 13,
   "metadata": {},
   "outputs": [],
   "source": [
    "class CharRNN(nn.Module):\n",
    "    def __init__(self, tokens, n_hidden=256, n_layers=2, drop_prob=0.3, lr=0.001):\n",
    "            super().__init__()\n",
    "            self.drop_prob = drop_prob\n",
    "            self.n_layers = n_layers\n",
    "            self.n_hidden = n_hidden\n",
    "            self.lr = lr\n",
    "            \n",
    "            #create char dictionaries\n",
    "            self.chars = tokens\n",
    "            self.int2char = dict(enumerate(self.chars))\n",
    "            self.char2int = {ch: ii for ii, ch in self.int2char.items()}\n",
    "            \n",
    "            # model layers\n",
    "            self.lstm = nn.LSTM(len(self.chars),n_hidden, n_layers, dropout=drop_prob, batch_first=True)\n",
    "            self.dropout = nn.Dropout(drop_prob)\n",
    "            self.fc = nn.Linear(n_hidden, len(self.chars))\n",
    "            \n",
    "    def forward(self, x, hidden):\n",
    "        r_output, hidden = self.lstm(x, hidden)\n",
    "        out = self.dropout(r_output)\n",
    "        out = out.reshape(-1, self.n_hidden)\n",
    "        out = self.fc(out)\n",
    "        return out, hidden\n",
    "    \n",
    "    def init_hidden(self, batch_size):\n",
    "        '''initializes hidden state'''\n",
    "        weight = next(self.parameters()).data\n",
    "        hidden = (weight.new(self.n_layers, batch_size, self.n_hidden).zero_().to(device),\n",
    "                  weight.new(self.n_layers, batch_size, self.n_hidden).zero_().to(device))\n",
    "\n",
    "        return hidden\n",
    "                "
   ]
  },
  {
   "cell_type": "code",
   "execution_count": 14,
   "metadata": {},
   "outputs": [],
   "source": [
    "def train(net, data, epochs=10, batch_size=10, seq_length=50, lr=0.001, clip=5, val_frac=0.1, print_every=10):\n",
    "    ''' Training a network \n",
    "    \n",
    "        Arguments\n",
    "        ---------\n",
    "        \n",
    "        net: CharRNN network\n",
    "        data: text data to train the network\n",
    "        epochs: Number of epochs to train\n",
    "        batch_size: Number of mini-sequences per mini-batch, aka batch size\n",
    "        seq_length: Number of character steps per mini-batch\n",
    "        lr: learning rate\n",
    "        clip: gradient clipping\n",
    "        val_frac: Fraction of data to hold out for validation\n",
    "        print_every: Number of steps for printing training and validation loss\n",
    "    \n",
    "    '''\n",
    "    net.train()\n",
    "    \n",
    "    opt = torch.optim.Adam(net.parameters(), lr=lr)\n",
    "    criterion = nn.CrossEntropyLoss()\n",
    "    \n",
    "    # create training and validation data\n",
    "    val_idx = int(len(data)*(1-val_frac))\n",
    "    data, val_data = data[:val_idx], data[val_idx:]\n",
    "    net.to(device)\n",
    "    counter = 0\n",
    "    n_chars = len(net.chars)\n",
    "    for e in range(epochs):\n",
    "        # initialize hidden state\n",
    "        h = net.init_hidden(batch_size)\n",
    "        \n",
    "        for x, y in get_batches(data, batch_size, seq_length):\n",
    "            counter += 1\n",
    "            \n",
    "            # One-hot encode our data and make them Torch tensors\n",
    "            x = one_hot_encode(x, n_chars)\n",
    "            inputs, targets = torch.from_numpy(x), torch.from_numpy(y)\n",
    "            inputs, targets = inputs.to(device), targets.to(device)\n",
    "            # Creating new variables for the hidden state, otherwise\n",
    "            # we'd backprop through the entire training history\n",
    "            h = tuple([each.data for each in h])\n",
    "\n",
    "            # zero accumulated gradients\n",
    "            net.zero_grad()\n",
    "            \n",
    "            # get the output from the model\n",
    "            output, h = net(inputs, h)\n",
    "            \n",
    "            # calculate the loss and perform backprop\n",
    "            loss = criterion(output, targets.view(batch_size*seq_length).long())\n",
    "            loss.backward()\n",
    "            # `clip_grad_norm` helps prevent the exploding gradient problem in RNNs / LSTMs.\n",
    "            nn.utils.clip_grad_norm_(net.parameters(), clip)\n",
    "            opt.step()\n",
    "            \n",
    "            # loss stats\n",
    "            if counter % print_every == 0:\n",
    "                # Get validation loss\n",
    "                val_h = net.init_hidden(batch_size)\n",
    "                val_losses = []\n",
    "                net.eval()\n",
    "                for x, y in get_batches(val_data, batch_size, seq_length):\n",
    "                    # One-hot encode our data and make them Torch tensors\n",
    "                    x = one_hot_encode(x, n_chars)\n",
    "                    x, y = torch.from_numpy(x), torch.from_numpy(y)\n",
    "                    \n",
    "                    # Creating new variables for the hidden state, otherwise\n",
    "                    # we'd backprop through the entire training history\n",
    "                    val_h = tuple([each.data for each in val_h])\n",
    "                    \n",
    "                    inputs, targets = x, y\n",
    "                    inputs, targets = inputs.to(device), targets.to(device)\n",
    "\n",
    "                    output, val_h = net(inputs, val_h)\n",
    "                    val_loss = criterion(output, targets.view(batch_size*seq_length).long())\n",
    "                \n",
    "                    val_losses.append(val_loss.item())\n",
    "                \n",
    "                net.train() # reset to train mode after iterationg through validation data\n",
    "                \n",
    "                print(\"Epoch: {}/{}...\".format(e+1, epochs),\n",
    "                      \"Step: {}...\".format(counter),\n",
    "                      \"Loss: {:.4f}...\".format(loss.item()),\n",
    "                      \"Val Loss: {:.4f}\".format(np.mean(val_losses)))"
   ]
  },
  {
   "cell_type": "markdown",
   "metadata": {},
   "source": [
    "## Model Instantiation"
   ]
  },
  {
   "cell_type": "code",
   "execution_count": 15,
   "metadata": {},
   "outputs": [
    {
     "name": "stdout",
     "output_type": "stream",
     "text": [
      "CharRNN(\n",
      "  (lstm): LSTM(83, 512, num_layers=2, batch_first=True, dropout=0.3)\n",
      "  (dropout): Dropout(p=0.3, inplace=False)\n",
      "  (fc): Linear(in_features=512, out_features=83, bias=True)\n",
      ")\n"
     ]
    }
   ],
   "source": [
    "n_hidden=512\n",
    "n_layers=2\n",
    "\n",
    "net = CharRNN(chars, n_hidden, n_layers)\n",
    "print(net)"
   ]
  },
  {
   "cell_type": "markdown",
   "metadata": {},
   "source": [
    "## Training"
   ]
  },
  {
   "cell_type": "code",
   "execution_count": null,
   "metadata": {},
   "outputs": [
    {
     "name": "stdout",
     "output_type": "stream",
     "text": [
      "Epoch: 1/2... Step: 10... Loss: 3.2191... Val Loss: 3.1930\n",
      "Epoch: 1/2... Step: 20... Loss: 3.1264... Val Loss: 3.1351\n",
      "Epoch: 1/2... Step: 30... Loss: 3.1263... Val Loss: 3.1233\n",
      "Epoch: 1/2... Step: 40... Loss: 3.1017... Val Loss: 3.1184\n",
      "Epoch: 1/2... Step: 50... Loss: 3.1350... Val Loss: 3.1159\n",
      "Epoch: 1/2... Step: 60... Loss: 3.1070... Val Loss: 3.1115\n",
      "Epoch: 1/2... Step: 70... Loss: 3.0893... Val Loss: 3.1025\n",
      "Epoch: 1/2... Step: 80... Loss: 3.0938... Val Loss: 3.0796\n",
      "Epoch: 1/2... Step: 90... Loss: 3.0468... Val Loss: 3.0273\n",
      "Epoch: 1/2... Step: 100... Loss: 2.9543... Val Loss: 2.9409\n",
      "Epoch: 1/2... Step: 110... Loss: 2.8763... Val Loss: 2.8498\n",
      "Epoch: 1/2... Step: 120... Loss: 2.7378... Val Loss: 2.7862\n",
      "Epoch: 1/2... Step: 130... Loss: 2.6755... Val Loss: 2.6383\n",
      "Epoch: 2/2... Step: 140... Loss: 2.5827... Val Loss: 2.5478\n",
      "Epoch: 2/2... Step: 150... Loss: 2.5160... Val Loss: 2.4915\n",
      "Epoch: 2/2... Step: 160... Loss: 2.4570... Val Loss: 2.4395\n",
      "Epoch: 2/2... Step: 170... Loss: 2.4142... Val Loss: 2.4101\n",
      "Epoch: 2/2... Step: 180... Loss: 2.3796... Val Loss: 2.3831\n",
      "Epoch: 2/2... Step: 190... Loss: 2.3192... Val Loss: 2.3445\n",
      "Epoch: 2/2... Step: 200... Loss: 2.3165... Val Loss: 2.3118\n",
      "Epoch: 2/2... Step: 210... Loss: 2.2746... Val Loss: 2.2812\n",
      "Epoch: 2/2... Step: 220... Loss: 2.2370... Val Loss: 2.2479\n",
      "Epoch: 2/2... Step: 230... Loss: 2.2300... Val Loss: 2.2190\n",
      "Epoch: 2/2... Step: 240... Loss: 2.1986... Val Loss: 2.1973\n",
      "Epoch: 2/2... Step: 250... Loss: 2.1451... Val Loss: 2.1706\n"
     ]
    }
   ],
   "source": [
    "batch_size = 128\n",
    "seq_length = 100\n",
    "n_epochs = 20\n",
    "# train the model\n",
    "train(net, encoded, epochs=n_epochs, batch_size=batch_size, seq_length=seq_length, lr=0.001, print_every=10)"
   ]
  },
  {
   "cell_type": "code",
   "execution_count": null,
   "metadata": {},
   "outputs": [],
   "source": []
  },
  {
   "cell_type": "code",
   "execution_count": null,
   "metadata": {},
   "outputs": [],
   "source": []
  },
  {
   "cell_type": "code",
   "execution_count": null,
   "metadata": {},
   "outputs": [],
   "source": []
  },
  {
   "cell_type": "code",
   "execution_count": null,
   "metadata": {},
   "outputs": [],
   "source": []
  },
  {
   "cell_type": "code",
   "execution_count": null,
   "metadata": {},
   "outputs": [],
   "source": []
  },
  {
   "cell_type": "code",
   "execution_count": null,
   "metadata": {},
   "outputs": [],
   "source": []
  },
  {
   "cell_type": "code",
   "execution_count": null,
   "metadata": {},
   "outputs": [],
   "source": []
  }
 ],
 "metadata": {
  "kernelspec": {
   "display_name": "Python 3",
   "language": "python",
   "name": "python3"
  },
  "language_info": {
   "codemirror_mode": {
    "name": "ipython",
    "version": 3
   },
   "file_extension": ".py",
   "mimetype": "text/x-python",
   "name": "python",
   "nbconvert_exporter": "python",
   "pygments_lexer": "ipython3",
   "version": "3.7.4"
  }
 },
 "nbformat": 4,
 "nbformat_minor": 2
}
