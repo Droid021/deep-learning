{
 "cells": [
  {
   "cell_type": "code",
   "execution_count": 10,
   "metadata": {},
   "outputs": [],
   "source": [
    "import numpy as np\n",
    "import torch\n",
    "import torch.nn.functional as F\n",
    "from torch import nn"
   ]
  },
  {
   "cell_type": "code",
   "execution_count": 11,
   "metadata": {},
   "outputs": [],
   "source": [
    "# open text\n",
    "with open('data/anna.txt', 'r') as f:\n",
    "    text = f.read()"
   ]
  },
  {
   "cell_type": "code",
   "execution_count": 12,
   "metadata": {},
   "outputs": [
    {
     "data": {
      "text/plain": [
       "'Chapter 1\\n\\n\\nHappy families are all alike; every unhappy family is unhappy in its own\\nway.\\n\\nEverythin'"
      ]
     },
     "execution_count": 12,
     "metadata": {},
     "output_type": "execute_result"
    }
   ],
   "source": [
    "# first 100\n",
    "text[:100]"
   ]
  },
  {
   "cell_type": "code",
   "execution_count": 13,
   "metadata": {},
   "outputs": [],
   "source": [
    "# Tokenization\n",
    "chars = tuple(set(text))\n",
    "int2char = dict(enumerate(chars))\n",
    "char2int = {ch: ii for ii, ch in int2char.items()}\n",
    "\n",
    "# encode\n",
    "encoded = np.array([char2int[ch] for ch in text])"
   ]
  },
  {
   "cell_type": "code",
   "execution_count": 16,
   "metadata": {},
   "outputs": [
    {
     "data": {
      "text/plain": [
       "array([64, 19, 47, 41, 65, 30, 51, 29, 20, 32, 32, 32, 33, 47, 41, 41, 44,\n",
       "       29,  5, 47, 66, 63, 45, 63, 30,  8, 29, 47, 51, 30, 29, 47, 45, 45,\n",
       "       29, 47, 45, 63, 72, 30, 68, 29, 30, 36, 30, 51, 44, 29, 16, 43, 19,\n",
       "       47, 41, 41, 44, 29,  5, 47, 66, 63, 45, 44, 29, 63,  8, 29, 16, 43,\n",
       "       19, 47, 41, 41, 44, 29, 63, 43, 29, 63, 65,  8, 29, 60, 57, 43, 32,\n",
       "       57, 47, 44, 38, 32, 32, 74, 36, 30, 51, 44, 65, 19, 63, 43])"
      ]
     },
     "execution_count": 16,
     "metadata": {},
     "output_type": "execute_result"
    }
   ],
   "source": [
    "encoded[:100]"
   ]
  },
  {
   "cell_type": "code",
   "execution_count": 20,
   "metadata": {},
   "outputs": [],
   "source": [
    "# one hot encode\n",
    "def one_code_encode(arr, labels):\n",
    "    one_hot = np.zeros((np.multiply(*arr.shape),labels), dtype=np.float32 )\n",
    "    one_hot[np.arange(one_hot.shape[0]), arr.flatten()] = 1\n",
    "    one_hot = one_hot.reshape((*arr.shape, labels))\n",
    "    return one_hot"
   ]
  },
  {
   "cell_type": "code",
   "execution_count": 22,
   "metadata": {},
   "outputs": [
    {
     "data": {
      "text/plain": [
       "array([[[0., 1., 0., 0., 0., 0., 0., 0.],\n",
       "        [0., 0., 1., 0., 0., 0., 0., 0.],\n",
       "        [0., 0., 0., 0., 0., 1., 0., 0.]]], dtype=float32)"
      ]
     },
     "execution_count": 22,
     "metadata": {},
     "output_type": "execute_result"
    }
   ],
   "source": [
    "test_seq = np.array([[1,2,5]])\n",
    "one_hot = one_code_encode(test_seq, 8)\n",
    "one_hot"
   ]
  },
  {
   "cell_type": "code",
   "execution_count": 35,
   "metadata": {},
   "outputs": [],
   "source": [
    "# # batches\n",
    "# def batches(arr, batch_size, seq_length):\n",
    "    total_batch_size = batch_size * seq_length\n",
    "#     n_batches = len(arr)//total_batch_size\n",
    "#     arr = arr[:n_batches * total_batch_size]\n",
    "#     arr = arr.reshape((batch_size, -1))\n",
    "    \n",
    "#     # iterate a sequance at a time\n",
    "#     for n in range(0, arr.shape[1], seq_length):\n",
    "#         x = arr[:, n:n+seq_length]\n",
    "#         y = np.zeros_like(x)\n",
    "        \n",
    "#         try:\n",
    "#             y[:, :-1], y[:, -1] = x[:, 1:], arr[:, n+seq_length]            \n",
    "#         except IndexError:\n",
    "#             y[:, :-1], y[:, -1] = x[:, 1:], arr[:, 0]\n",
    "\n",
    "    batch_size_total = batch_size * seq_length\n",
    "    # total number of batches we can make\n",
    "    n_batches = len(arr)//batch_size_total\n",
    "    \n",
    "    # Keep only enough characters to make full batches\n",
    "    arr = arr[:n_batches * batch_size_total]\n",
    "    # Reshape into batch_size rows\n",
    "    arr = arr.reshape((batch_size, -1))\n",
    "    \n",
    "    # iterate through the array, one sequence at a time\n",
    "    for n in range(0, arr.shape[1], seq_length):\n",
    "        # The features\n",
    "        x = arr[:, n:n+seq_length]\n",
    "        # The targets, shifted by one\n",
    "        y = np.zeros_like(x)\n",
    "        try:\n",
    "            y[:, :-1], y[:, -1] = x[:, 1:], arr[:, n+seq_length]\n",
    "        except IndexError:\n",
    "            y[:, :-1], y[:, -1] = x[:, 1:], arr[:, 0]\n",
    "        yield x, y"
   ]
  },
  {
   "cell_type": "code",
   "execution_count": 37,
   "metadata": {},
   "outputs": [],
   "source": [
    "batches = get_batches(encoded, 8, 50)\n",
    "x, y = next(batches)"
   ]
  },
  {
   "cell_type": "code",
   "execution_count": 38,
   "metadata": {},
   "outputs": [
    {
     "name": "stdout",
     "output_type": "stream",
     "text": [
      "x\n",
      " [[64 19 47 41 65 30 51 29 20 32]\n",
      " [ 8 60 43 29 65 19 47 65 29 47]\n",
      " [30 43 59 29 60 51 29 47 29  5]\n",
      " [ 8 29 65 19 30 29 42 19 63 30]\n",
      " [29  8 47 57 29 19 30 51 29 65]\n",
      " [42 16  8  8 63 60 43 29 47 43]\n",
      " [29 23 43 43 47 29 19 47 59 29]\n",
      " [70 13 45 60 43  8 72 44 38 29]]\n",
      "\n",
      "y\n",
      " [[19 47 41 65 30 51 29 20 32 32]\n",
      " [60 43 29 65 19 47 65 29 47 65]\n",
      " [43 59 29 60 51 29 47 29  5 60]\n",
      " [29 65 19 30 29 42 19 63 30  5]\n",
      " [ 8 47 57 29 19 30 51 29 65 30]\n",
      " [16  8  8 63 60 43 29 47 43 59]\n",
      " [23 43 43 47 29 19 47 59 29  8]\n",
      " [13 45 60 43  8 72 44 38 29 67]]\n"
     ]
    }
   ],
   "source": [
    "# printing out the first 10 items in a sequence\n",
    "print('x\\n', x[:10, :10])\n",
    "print('\\ny\\n', y[:10, :10])"
   ]
  },
  {
   "cell_type": "code",
   "execution_count": null,
   "metadata": {},
   "outputs": [],
   "source": []
  }
 ],
 "metadata": {
  "kernelspec": {
   "display_name": "Python 3",
   "language": "python",
   "name": "python3"
  },
  "language_info": {
   "codemirror_mode": {
    "name": "ipython",
    "version": 3
   },
   "file_extension": ".py",
   "mimetype": "text/x-python",
   "name": "python",
   "nbconvert_exporter": "python",
   "pygments_lexer": "ipython3",
   "version": "3.7.4"
  }
 },
 "nbformat": 4,
 "nbformat_minor": 2
}
