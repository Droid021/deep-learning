{
 "cells": [
  {
   "cell_type": "code",
   "execution_count": 1,
   "metadata": {},
   "outputs": [],
   "source": [
    "import numpy as np\n",
    "import torch\n",
    "import torch.nn.functional as F\n",
    "from torch import nn"
   ]
  },
  {
   "cell_type": "code",
   "execution_count": 6,
   "metadata": {},
   "outputs": [],
   "source": [
    "# open text\n",
    "with open('../../deep-learning-v2-pytorch/recurrent-neural-networks/char-rnn/data/anna.txt', 'r') as f:\n",
    "    text = f.read()"
   ]
  },
  {
   "cell_type": "code",
   "execution_count": 7,
   "metadata": {},
   "outputs": [
    {
     "data": {
      "text/plain": [
       "'Chapter 1\\n\\n\\nHappy families are all alike; every unhappy family is unhappy in its own\\nway.\\n\\nEverythin'"
      ]
     },
     "execution_count": 7,
     "metadata": {},
     "output_type": "execute_result"
    }
   ],
   "source": [
    "# first 100\n",
    "text[:100]"
   ]
  },
  {
   "cell_type": "code",
   "execution_count": 8,
   "metadata": {},
   "outputs": [],
   "source": [
    "# Tokenization\n",
    "chars = tuple(set(text))\n",
    "int2char = dict(enumerate(chars))\n",
    "char2int = {ch: ii for ii, ch in int2char.items()}\n",
    "\n",
    "# encode\n",
    "encoded = np.array([char2int[ch] for ch in text])"
   ]
  },
  {
   "cell_type": "code",
   "execution_count": 9,
   "metadata": {},
   "outputs": [
    {
     "data": {
      "text/plain": [
       "array([31, 71, 63, 28, 64, 67, 60, 56, 65, 53, 53, 53, 49, 63, 28, 28, 13,\n",
       "       56, 14, 63,  6, 12, 17, 12, 67, 70, 56, 63, 60, 67, 56, 63, 17, 17,\n",
       "       56, 63, 17, 12, 50, 67, 76, 56, 67, 77, 67, 60, 13, 56, 21,  2, 71,\n",
       "       63, 28, 28, 13, 56, 14, 63,  6, 12, 17, 13, 56, 12, 70, 56, 21,  2,\n",
       "       71, 63, 28, 28, 13, 56, 12,  2, 56, 12, 64, 70, 56, 73, 45,  2, 53,\n",
       "       45, 63, 13,  7, 53, 53, 22, 77, 67, 60, 13, 64, 71, 12,  2])"
      ]
     },
     "execution_count": 9,
     "metadata": {},
     "output_type": "execute_result"
    }
   ],
   "source": [
    "encoded[:100]"
   ]
  },
  {
   "cell_type": "code",
   "execution_count": 10,
   "metadata": {},
   "outputs": [],
   "source": [
    "# one hot encode\n",
    "def one_code_encode(arr, labels):\n",
    "    one_hot = np.zeros((np.multiply(*arr.shape),labels), dtype=np.float32 )\n",
    "    one_hot[np.arange(one_hot.shape[0]), arr.flatten()] = 1\n",
    "    one_hot = one_hot.reshape((*arr.shape, labels))\n",
    "    return one_hot"
   ]
  },
  {
   "cell_type": "code",
   "execution_count": 11,
   "metadata": {},
   "outputs": [
    {
     "data": {
      "text/plain": [
       "array([[[0., 1., 0., 0., 0., 0., 0., 0.],\n",
       "        [0., 0., 1., 0., 0., 0., 0., 0.],\n",
       "        [0., 0., 0., 0., 0., 1., 0., 0.]]], dtype=float32)"
      ]
     },
     "execution_count": 11,
     "metadata": {},
     "output_type": "execute_result"
    }
   ],
   "source": [
    "test_seq = np.array([[1,2,5]])\n",
    "one_hot = one_code_encode(test_seq, 8)\n",
    "one_hot"
   ]
  },
  {
   "cell_type": "code",
   "execution_count": 14,
   "metadata": {},
   "outputs": [],
   "source": [
    "def get_batches(arr, batch_size, seq_length):\n",
    "    # get the number of full batches\n",
    "    batch_size_total = batch_size * seq_length\n",
    "    n_batches = len(arr)//batch_size_total\n",
    "    # keep only enough chars to make full batches\n",
    "    arr = arr[:n_batches * batch_size_total]\n",
    "    # reshape into {batch_size} rows\n",
    "    arr = arr.reshape((batch_size, -1))\n",
    "    # loop through the batches using a seq length of 3\n",
    "    for n in range(0, arr.shape[1], seq_length):\n",
    "        # features\n",
    "        x = arr[:, n:n+seq_length]\n",
    "        # targets\n",
    "        y = np.zeros_like(x)\n",
    "        try:\n",
    "            y[:, :-1], y[:, -1] = x[:, 1:], arr[:, n+seq_length]\n",
    "        except IndexError:\n",
    "            y[:, :-1], y[:, -1] = x[:, 1:], arr[:, 0]\n",
    "        yield x, y"
   ]
  },
  {
   "cell_type": "code",
   "execution_count": 15,
   "metadata": {},
   "outputs": [],
   "source": [
    "batches = get_batches(encoded, 8, 50)\n",
    "x, y = next(batches)"
   ]
  },
  {
   "cell_type": "code",
   "execution_count": 16,
   "metadata": {},
   "outputs": [
    {
     "name": "stdout",
     "output_type": "stream",
     "text": [
      "x\n",
      " [[31 71 63 28 64 67 60 56 65 53]\n",
      " [70 73  2 56 64 71 63 64 56 63]\n",
      " [67  2 78 56 73 60 56 63 56 14]\n",
      " [70 56 64 71 67 56 44 71 12 67]\n",
      " [56 70 63 45 56 71 67 60 56 64]\n",
      " [44 21 70 70 12 73  2 56 63  2]\n",
      " [56 61  2  2 63 56 71 63 78 56]\n",
      " [34 43 17 73  2 70 50 13  7 56]]\n",
      "\n",
      "y\n",
      " [[71 63 28 64 67 60 56 65 53 53]\n",
      " [73  2 56 64 71 63 64 56 63 64]\n",
      " [ 2 78 56 73 60 56 63 56 14 73]\n",
      " [56 64 71 67 56 44 71 12 67 14]\n",
      " [70 63 45 56 71 67 60 56 64 67]\n",
      " [21 70 70 12 73  2 56 63  2 78]\n",
      " [61  2  2 63 56 71 63 78 56 70]\n",
      " [43 17 73  2 70 50 13  7 56 39]]\n"
     ]
    }
   ],
   "source": [
    "# printing out the first 10 items in a sequence\n",
    "print('x\\n', x[:10, :10])\n",
    "print('\\ny\\n', y[:10, :10])"
   ]
  },
  {
   "cell_type": "code",
   "execution_count": null,
   "metadata": {},
   "outputs": [],
   "source": []
  }
 ],
 "metadata": {
  "kernelspec": {
   "display_name": "Python 3",
   "language": "python",
   "name": "python3"
  },
  "language_info": {
   "codemirror_mode": {
    "name": "ipython",
    "version": 3
   },
   "file_extension": ".py",
   "mimetype": "text/x-python",
   "name": "python",
   "nbconvert_exporter": "python",
   "pygments_lexer": "ipython3",
   "version": "3.7.4"
  }
 },
 "nbformat": 4,
 "nbformat_minor": 2
}
