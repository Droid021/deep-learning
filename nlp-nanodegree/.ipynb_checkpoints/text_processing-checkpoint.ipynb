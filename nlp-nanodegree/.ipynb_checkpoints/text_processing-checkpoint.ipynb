{
 "cells": [
  {
   "cell_type": "markdown",
   "metadata": {},
   "source": [
    "# Text Processing\n",
    "\n",
    "## Capturing Text Data\n",
    "\n",
    "### Plain Text"
   ]
  },
  {
   "cell_type": "code",
   "execution_count": 1,
   "metadata": {},
   "outputs": [
    {
     "name": "stdout",
     "output_type": "stream",
     "text": [
      "Hieroglyphic writing dates from c. 3000 BC, and is composed of hundreds of symbols. A hieroglyph can represent a word, a sound, or a silent determinative; and the same symbol can serve different purposes in different contexts. Hieroglyphs were a formal script, used on stone monuments and in tombs, that could be as detailed as individual works of art.\n",
      "\n"
     ]
    }
   ],
   "source": [
    "import os\n",
    "\n",
    "# Read in a plain text file\n",
    "with open(os.path.join(\"data\", \"hieroglyph.txt\"), \"r\") as f:\n",
    "    text = f.read()\n",
    "    print(text)"
   ]
  },
  {
   "cell_type": "markdown",
   "metadata": {},
   "source": [
    "### Tabular Data"
   ]
  },
  {
   "cell_type": "code",
   "execution_count": 2,
   "metadata": {
    "scrolled": true
   },
   "outputs": [
    {
     "data": {
      "text/html": [
       "<div>\n",
       "<style scoped>\n",
       "    .dataframe tbody tr th:only-of-type {\n",
       "        vertical-align: middle;\n",
       "    }\n",
       "\n",
       "    .dataframe tbody tr th {\n",
       "        vertical-align: top;\n",
       "    }\n",
       "\n",
       "    .dataframe thead th {\n",
       "        text-align: right;\n",
       "    }\n",
       "</style>\n",
       "<table border=\"1\" class=\"dataframe\">\n",
       "  <thead>\n",
       "    <tr style=\"text-align: right;\">\n",
       "      <th></th>\n",
       "      <th>publisher</th>\n",
       "      <th>title</th>\n",
       "    </tr>\n",
       "  </thead>\n",
       "  <tbody>\n",
       "    <tr>\n",
       "      <th>0</th>\n",
       "      <td>Livemint</td>\n",
       "      <td>fed's charles plosser sees high bar for change...</td>\n",
       "    </tr>\n",
       "    <tr>\n",
       "      <th>1</th>\n",
       "      <td>IFA Magazine</td>\n",
       "      <td>us open: stocks fall after fed official hints ...</td>\n",
       "    </tr>\n",
       "    <tr>\n",
       "      <th>2</th>\n",
       "      <td>IFA Magazine</td>\n",
       "      <td>fed risks falling 'behind the curve', charles ...</td>\n",
       "    </tr>\n",
       "    <tr>\n",
       "      <th>3</th>\n",
       "      <td>Moneynews</td>\n",
       "      <td>fed's plosser: nasty weather has curbed job gr...</td>\n",
       "    </tr>\n",
       "    <tr>\n",
       "      <th>4</th>\n",
       "      <td>NASDAQ</td>\n",
       "      <td>plosser: fed may have to accelerate tapering pace</td>\n",
       "    </tr>\n",
       "  </tbody>\n",
       "</table>\n",
       "</div>"
      ],
      "text/plain": [
       "      publisher                                              title\n",
       "0      Livemint  fed's charles plosser sees high bar for change...\n",
       "1  IFA Magazine  us open: stocks fall after fed official hints ...\n",
       "2  IFA Magazine  fed risks falling 'behind the curve', charles ...\n",
       "3     Moneynews  fed's plosser: nasty weather has curbed job gr...\n",
       "4        NASDAQ  plosser: fed may have to accelerate tapering pace"
      ]
     },
     "execution_count": 2,
     "metadata": {},
     "output_type": "execute_result"
    }
   ],
   "source": [
    "import pandas as pd\n",
    "\n",
    "# Extract text column from a dataframe\n",
    "df = pd.read_csv(os.path.join(\"data\", \"news.csv\"))\n",
    "df.head()[['publisher', 'title']]\n",
    "\n",
    "# Convert text column to lowercase\n",
    "df['title'] = df['title'].str.lower()\n",
    "df.head()[['publisher', 'title']]"
   ]
  },
  {
   "cell_type": "markdown",
   "metadata": {},
   "source": [
    "### Online Resource"
   ]
  },
  {
   "cell_type": "code",
   "execution_count": 3,
   "metadata": {
    "scrolled": true
   },
   "outputs": [
    {
     "name": "stdout",
     "output_type": "stream",
     "text": [
      "{\n",
      "    \"success\": {\n",
      "        \"total\": 1\n",
      "    },\n",
      "    \"contents\": {\n",
      "        \"quotes\": [\n",
      "            {\n",
      "                \"quote\": \"Somewhere between the bottom of the climb and the summit is the answer to the mystery why we climb.\",\n",
      "                \"length\": \"99\",\n",
      "                \"author\": \"Greg Child\",\n",
      "                \"tags\": {\n",
      "                    \"0\": \"inspire\",\n",
      "                    \"1\": \"meaning\",\n",
      "                    \"2\": \"mountaineering\",\n",
      "                    \"4\": \"tso-life\"\n",
      "                },\n",
      "                \"category\": \"inspire\",\n",
      "                \"language\": \"en\",\n",
      "                \"date\": \"2020-03-26\",\n",
      "                \"permalink\": \"https://theysaidso.com/quote/greg-child-somewhere-between-the-bottom-of-the-climb-and-the-summit-is-the-answe\",\n",
      "                \"id\": \"4wWSyA_IO87jFwNPKkN7aweF\",\n",
      "                \"background\": \"https://theysaidso.com/img/qod/qod-inspire.jpg\",\n",
      "                \"title\": \"Inspiring Quote of the day\"\n",
      "            }\n",
      "        ]\n",
      "    },\n",
      "    \"baseurl\": \"https://theysaidso.com\",\n",
      "    \"copyright\": {\n",
      "        \"year\": 2022,\n",
      "        \"url\": \"https://theysaidso.com\"\n",
      "    }\n",
      "}\n",
      "Somewhere between the bottom of the climb and the summit is the answer to the mystery why we climb. \n",
      "-- Greg Child\n"
     ]
    }
   ],
   "source": [
    "import requests\n",
    "import json\n",
    "\n",
    "# Fetch data from a REST API\n",
    "r = requests.get(\n",
    "    \"https://quotes.rest/qod.json\")\n",
    "res = r.json()\n",
    "print(json.dumps(res, indent=4))\n",
    "\n",
    "# Extract relevant object and field\n",
    "q = res[\"contents\"][\"quotes\"][0]\n",
    "print(q[\"quote\"], \"\\n--\", q[\"author\"])"
   ]
  },
  {
   "cell_type": "markdown",
   "metadata": {},
   "source": [
    "## Cleaning"
   ]
  },
  {
   "cell_type": "code",
   "execution_count": 4,
   "metadata": {
    "scrolled": true
   },
   "outputs": [
    {
     "name": "stdout",
     "output_type": "stream",
     "text": [
      "<html op=\"news\"><head><meta name=\"referrer\" content=\"origin\"><meta name=\"viewport\" content=\"width=device-width, initial-scale=1.0\"><link rel=\"stylesheet\" type=\"text/css\" href=\"news.css?WtiDADWyAh3OLz9I78m7\">\n",
      "        <link rel=\"shortcut icon\" href=\"favicon.ico\">\n",
      "          <link rel=\"alternate\" type=\"application/rss+xml\" title=\"RSS\" href=\"rss\">\n",
      "        <title>Hacker News</title></head><body><center><table id=\"hnmain\" border=\"0\" cellpadding=\"0\" cellspacing=\"0\" width=\"85%\" bgcolor=\"#f6f6ef\">\n",
      "        <tr><td bgcolor=\"#ff6600\"><table border=\"0\" cellpadding=\"0\" cellspacing=\"0\" width=\"100%\" style=\"padding:2px\"><tr><td style=\"width:18px;padding-right:4px\"><a href=\"https://news.ycombinator.com\"><img src=\"y18.gif\" width=\"18\" height=\"18\" style=\"border:1px white solid;\"></a></td>\n",
      "                  <td style=\"line-height:12pt; height:10px;\"><span class=\"pagetop\"><b class=\"hnname\"><a href=\"news\">Hacker News</a></b>\n",
      "              <a href=\"newest\">new</a> | <a href=\"front\">past</a> | <a href=\"newcomments\">comments</a> | <a href=\"ask\">ask</a> | <a href=\"show\">show</a> | <a href=\"jobs\">jobs</a> | <a href=\"submit\">submit</a>            </span></td><td style=\"text-align:right;padding-right:4px;\"><span class=\"pagetop\">\n",
      "                              <a href=\"login?goto=news\">login</a>\n",
      "                          </span></td>\n",
      "              </tr></table></td></tr>\n",
      "<tr id=\"pagespace\" title=\"\" style=\"height:10px\"></tr><tr><td><table border=\"0\" cellpadding=\"0\" cellspacing=\"0\" class=\"itemlist\">\n",
      "              <tr class='athing' id='22686602'>\n",
      "      <td align=\"right\" valign=\"top\" class=\"title\"><span class=\"rank\">1.</span></td>      <td valign=\"top\" class=\"votelinks\"><center><a id='up_22686602' href='vote?id=22686602&amp;how=up&amp;goto=news'><div class='votearrow' title='upvote'></div></a></center></td><td class=\"title\"><a href=\"https://andregarzia.com/2020/03/private-client-side-only-pwas-are-hard-but-now-apple-made-them-impossible.html\" class=\"storylink\">Private client-side-only PWAs are hard, but now Apple made them impossible</a><span class=\"sitebit comhead\"> (<a href=\"from?site=andregarzia.com\"><span class=\"sitestr\">andregarzia.com</span></a>)</span></td></tr><tr><td colspan=\"2\"></td><td class=\"subtext\">\n",
      "        <span class=\"score\" id=\"score_22686602\">744 points</span> by <a href=\"user?id=soapdog\" class=\"hnuser\">soapdog</a> <span class=\"age\"><a href=\"item?id=22686602\">14 hours ago</a></span> <span id=\"unv_22686602\"></span> | <a href=\"hide?id=22686602&amp;goto=news\">hide</a> | <a href=\"item?id=22686602\">771&nbsp;comments</a>              </td></tr>\n",
      "      <tr class=\"spacer\" style=\"height:5px\"></tr>\n",
      "                <tr class='athing' id='22687086'>\n",
      "      <td align=\"right\" valign=\"top\" class=\"title\"><span class=\"rank\">2.</span></td>      <td valign=\"top\" class=\"votelinks\"><center><a id='up_22687086' href='vote?id=22687086&amp;how=up&amp;goto=news'><div class='votearrow' title='upvote'></div></a></center></td><td class=\"title\"><a href=\"https://bingetogether.com/\" class=\"storylink\">Show HN: To fight quarantine boredom I build a site to watch movies with friends</a><span class=\"sitebit comhead\"> (<a href=\"from?site=bingetogether.com\"><span class=\"sitestr\">bingetogether.com</span></a>)</span></td></tr><tr><td colspan=\"2\"></td><td class=\"subtext\">\n",
      "        <span class=\"score\" id=\"score_22687086\">330 points</span> by <a href=\"user?id=l1am0\" class=\"hnuser\">l1am0</a> <span class=\"age\"><a href=\"item?id=22687086\">13 hours ago</a></span> <span id=\"unv_22687086\"></span> | <a href=\"hide?id=22687086&amp;goto=news\">hide</a> | <a href=\"item?id=22687086\">126&nbsp;comments</a>              </td></tr>\n",
      "      <tr class=\"spacer\" style=\"height:5px\"></tr>\n",
      "                <tr class='athing' id='22687194'>\n",
      "      <td align=\"right\" valign=\"top\" class=\"title\"><span class=\"rank\">3.</span></td>      <td valign=\"top\" class=\"votelinks\"><center><a id='up_22687194' href='vote?id=22687194&amp;how=up&amp;goto=news'><div class='votearrow' title='upvote'></div></a></center></td><td class=\"title\"><a href=\"https://dalton.substack.com/p/letter-to-myself-in-late-2008\" class=\"storylink\">Letter to Myself in Late 2008</a><span class=\"sitebit comhead\"> (<a href=\"from?site=dalton.substack.com\"><span class=\"sitestr\">dalton.substack.com</span></a>)</span></td></tr><tr><td colspan=\"2\"></td><td class=\"subtext\">\n",
      "        <span class=\"score\" id=\"score_22687194\">238 points</span> by <a href=\"user?id=baxtr\" class=\"hnuser\">baxtr</a> <span class=\"age\"><a href=\"item?id=22687194\">12 hours ago</a></span> <span id=\"unv_22687194\"></span> | <a href=\"hide?id=22687194&amp;goto=news\">hide</a> | <a href=\"item?id=22687194\">75&nbsp;comments</a>              </td></tr>\n",
      "      <tr class=\"spacer\" style=\"height:5px\"></tr>\n",
      "                <tr class='athing' id='22683768'>\n",
      "      <td align=\"right\" valign=\"top\" class=\"title\"><span class=\"rank\">4.</span></td>      <td valign=\"top\" class=\"votelinks\"><center><a id='up_22683768' href='vote?id=22683768&amp;how=up&amp;goto=news'><div class='votearrow' title='upvote'></div></a></center></td><td class=\"title\"><a href=\"https://www.janestreet.com/tech-talks/jane-and-compiler/\" class=\"storylink\">Jane Street and the OCaml Compiler (2018) [video]</a><span class=\"sitebit comhead\"> (<a href=\"from?site=janestreet.com\"><span class=\"sitestr\">janestreet.com</span></a>)</span></td></tr><tr><td colspan=\"2\"></td><td class=\"subtext\">\n",
      "        <span class=\"score\" id=\"score_22683768\">95 points</span> by <a href=\"user?id=chmaynard\" class=\"hnuser\">chmaynard</a> <span class=\"age\"><a href=\"item?id=22683768\">8 hours ago</a></span> <span id=\"unv_22683768\"></span> | <a href=\"hide?id=22683768&amp;goto=news\">hide</a> | <a href=\"item?id=22683768\">58&nbsp;comments</a>              </td></tr>\n",
      "      <tr class=\"spacer\" style=\"height:5px\"></tr>\n",
      "                <tr class='athing' id='22683158'>\n",
      "      <td align=\"right\" valign=\"top\" class=\"title\"><span class=\"rank\">5.</span></td>      <td valign=\"top\" class=\"votelinks\"><center><a id='up_22683158' href='vote?id=22683158&amp;how=up&amp;goto=news'><div class='votearrow' title='upvote'></div></a></center></td><td class=\"title\"><a href=\"https://clp.bbcrewind.co.uk/\" class=\"storylink\">BBC Computer Literacy Project 1980 – 1989</a><span class=\"sitebit comhead\"> (<a href=\"from?site=bbcrewind.co.uk\"><span class=\"sitestr\">bbcrewind.co.uk</span></a>)</span></td></tr><tr><td colspan=\"2\"></td><td class=\"subtext\">\n",
      "        <span class=\"score\" id=\"score_22683158\">27 points</span> by <a href=\"user?id=open-source-ux\" class=\"hnuser\">open-source-ux</a> <span class=\"age\"><a href=\"item?id=22683158\">4 hours ago</a></span> <span id=\"unv_22683158\"></span> | <a href=\"hide?id=22683158&amp;goto=news\">hide</a> | <a href=\"item?id=22683158\">2&nbsp;comments</a>              </td></tr>\n",
      "      <tr class=\"spacer\" style=\"height:5px\"></tr>\n",
      "                <tr class='athing' id='22689085'>\n",
      "      <td align=\"right\" valign=\"top\" class=\"title\"><span class=\"rank\">6.</span></td>      <td valign=\"top\" class=\"votelinks\"><center><a id='up_22689085' href='vote?id=22689085&amp;how=up&amp;goto=news'><div class='votearrow' title='upvote'></div></a></center></td><td class=\"title\"><a href=\"https://qz.com/1824020/social-distancing-slowing-not-only-covid-19-but-other-diseases-too/\" class=\"storylink\">Social distancing slowing not only Covid-19, but other diseases too</a><span class=\"sitebit comhead\"> (<a href=\"from?site=qz.com\"><span class=\"sitestr\">qz.com</span></a>)</span></td></tr><tr><td colspan=\"2\"></td><td class=\"subtext\">\n",
      "        <span class=\"score\" id=\"score_22689085\">220 points</span> by <a href=\"user?id=prostoalex\" class=\"hnuser\">prostoalex</a> <span class=\"age\"><a href=\"item?id=22689085\">9 hours ago</a></span> <span id=\"unv_22689085\"></span> | <a href=\"hide?id=22689085&amp;goto=news\">hide</a> | <a href=\"item?id=22689085\">145&nbsp;comments</a>              </td></tr>\n",
      "      <tr class=\"spacer\" style=\"height:5px\"></tr>\n",
      "                <tr class='athing' id='22688820'>\n",
      "      <td align=\"right\" valign=\"top\" class=\"title\"><span class=\"rank\">7.</span></td>      <td valign=\"top\" class=\"votelinks\"><center><a id='up_22688820' href='vote?id=22688820&amp;how=up&amp;goto=news'><div class='votearrow' title='upvote'></div></a></center></td><td class=\"title\"><a href=\"https://techcrunch.com/2020/03/25/88-out-of-top-200-u-s-cities-have-seen-internet-speeds-decline-this-past-week-3-cities-by-more-than-40/\" class=\"storylink\">Top U.S. cities have seen internet speeds decline this past week</a><span class=\"sitebit comhead\"> (<a href=\"from?site=techcrunch.com\"><span class=\"sitestr\">techcrunch.com</span></a>)</span></td></tr><tr><td colspan=\"2\"></td><td class=\"subtext\">\n",
      "        <span class=\"score\" id=\"score_22688820\">70 points</span> by <a href=\"user?id=arcamax\" class=\"hnuser\">arcamax</a> <span class=\"age\"><a href=\"item?id=22688820\">9 hours ago</a></span> <span id=\"unv_22688820\"></span> | <a href=\"hide?id=22688820&amp;goto=news\">hide</a> | <a href=\"item?id=22688820\">27&nbsp;comments</a>              </td></tr>\n",
      "      <tr class=\"spacer\" style=\"height:5px\"></tr>\n",
      "                <tr class='athing' id='22688731'>\n",
      "      <td align=\"right\" valign=\"top\" class=\"title\"><span class=\"rank\">8.</span></td>      <td valign=\"top\" class=\"votelinks\"><center><a id='up_22688731' href='vote?id=22688731&amp;how=up&amp;goto=news'><div class='votearrow' title='upvote'></div></a></center></td><td class=\"title\"><a href=\"https://blog.zapb.de/stm32f1-exceptional-failure/\" class=\"storylink\">Exceptional failure: breaking the STM32F1 read-out protection</a><span class=\"sitebit comhead\"> (<a href=\"from?site=zapb.de\"><span class=\"sitestr\">zapb.de</span></a>)</span></td></tr><tr><td colspan=\"2\"></td><td class=\"subtext\">\n",
      "        <span class=\"score\" id=\"score_22688731\">74 points</span> by <a href=\"user?id=bcantrill\" class=\"hnuser\">bcantrill</a> <span class=\"age\"><a href=\"item?id=22688731\">9 hours ago</a></span> <span id=\"unv_22688731\"></span> | <a href=\"hide?id=22688731&amp;goto=news\">hide</a> | <a href=\"item?id=22688731\">17&nbsp;comments</a>              </td></tr>\n",
      "      <tr class=\"spacer\" style=\"height:5px\"></tr>\n",
      "                <tr class='athing' id='22686452'>\n",
      "      <td align=\"right\" valign=\"top\" class=\"title\"><span class=\"rank\">9.</span></td>      <td valign=\"top\" class=\"votelinks\"><center><a id='up_22686452' href='vote?id=22686452&amp;how=up&amp;goto=news'><div class='votearrow' title='upvote'></div></a></center></td><td class=\"title\"><a href=\"https://github.com/sbuggay/bspview\" class=\"storylink\">Show HN: Explore Quake/Half-Life maps in your browser</a><span class=\"sitebit comhead\"> (<a href=\"from?site=github.com\"><span class=\"sitestr\">github.com</span></a>)</span></td></tr><tr><td colspan=\"2\"></td><td class=\"subtext\">\n",
      "        <span class=\"score\" id=\"score_22686452\">166 points</span> by <a href=\"user?id=sbuggay\" class=\"hnuser\">sbuggay</a> <span class=\"age\"><a href=\"item?id=22686452\">14 hours ago</a></span> <span id=\"unv_22686452\"></span> | <a href=\"hide?id=22686452&amp;goto=news\">hide</a> | <a href=\"item?id=22686452\">28&nbsp;comments</a>              </td></tr>\n",
      "      <tr class=\"spacer\" style=\"height:5px\"></tr>\n",
      "                <tr class='athing' id='22687296'>\n",
      "      <td align=\"right\" valign=\"top\" class=\"title\"><span class=\"rank\">10.</span></td>      <td valign=\"top\" class=\"votelinks\"><center><a id='up_22687296' href='vote?id=22687296&amp;how=up&amp;goto=news'><div class='votearrow' title='upvote'></div></a></center></td><td class=\"title\"><a href=\"https://news.samsung.com/global/samsung-begins-mass-production-of-the-fastest-storage-for-flagship-smartphones\" class=\"storylink\">Samsung Begins Mass Production of 512GB EUFS 3.1</a><span class=\"sitebit comhead\"> (<a href=\"from?site=samsung.com\"><span class=\"sitestr\">samsung.com</span></a>)</span></td></tr><tr><td colspan=\"2\"></td><td class=\"subtext\">\n",
      "        <span class=\"score\" id=\"score_22687296\">95 points</span> by <a href=\"user?id=oedmarap\" class=\"hnuser\">oedmarap</a> <span class=\"age\"><a href=\"item?id=22687296\">12 hours ago</a></span> <span id=\"unv_22687296\"></span> | <a href=\"hide?id=22687296&amp;goto=news\">hide</a> | <a href=\"item?id=22687296\">29&nbsp;comments</a>              </td></tr>\n",
      "      <tr class=\"spacer\" style=\"height:5px\"></tr>\n",
      "                <tr class='athing' id='22687062'>\n",
      "      <td align=\"right\" valign=\"top\" class=\"title\"><span class=\"rank\">11.</span></td>      <td valign=\"top\" class=\"votelinks\"><center><a id='up_22687062' href='vote?id=22687062&amp;how=up&amp;goto=news'><div class='votearrow' title='upvote'></div></a></center></td><td class=\"title\"><a href=\"https://learn.unity.com/\" class=\"storylink\">Unity Learn platform free for three months</a><span class=\"sitebit comhead\"> (<a href=\"from?site=unity.com\"><span class=\"sitestr\">unity.com</span></a>)</span></td></tr><tr><td colspan=\"2\"></td><td class=\"subtext\">\n",
      "        <span class=\"score\" id=\"score_22687062\">432 points</span> by <a href=\"user?id=metreo\" class=\"hnuser\">metreo</a> <span class=\"age\"><a href=\"item?id=22687062\">13 hours ago</a></span> <span id=\"unv_22687062\"></span> | <a href=\"hide?id=22687062&amp;goto=news\">hide</a> | <a href=\"item?id=22687062\">104&nbsp;comments</a>              </td></tr>\n",
      "      <tr class=\"spacer\" style=\"height:5px\"></tr>\n",
      "                <tr class='athing' id='22683259'>\n",
      "      <td align=\"right\" valign=\"top\" class=\"title\"><span class=\"rank\">12.</span></td>      <td valign=\"top\" class=\"votelinks\"><center><a id='up_22683259' href='vote?id=22683259&amp;how=up&amp;goto=news'><div class='votearrow' title='upvote'></div></a></center></td><td class=\"title\"><a href=\"http://www.wirfs-brock.com/allen/things/smalltalk-things/smalltalk-87\" class=\"storylink\">Smalltalk-87</a><span class=\"sitebit comhead\"> (<a href=\"from?site=wirfs-brock.com\"><span class=\"sitestr\">wirfs-brock.com</span></a>)</span></td></tr><tr><td colspan=\"2\"></td><td class=\"subtext\">\n",
      "        <span class=\"score\" id=\"score_22683259\">102 points</span> by <a href=\"user?id=fniephaus\" class=\"hnuser\">fniephaus</a> <span class=\"age\"><a href=\"item?id=22683259\">12 hours ago</a></span> <span id=\"unv_22683259\"></span> | <a href=\"hide?id=22683259&amp;goto=news\">hide</a> | <a href=\"item?id=22683259\">11&nbsp;comments</a>              </td></tr>\n",
      "      <tr class=\"spacer\" style=\"height:5px\"></tr>\n",
      "                <tr class='athing' id='22685018'>\n",
      "      <td align=\"right\" valign=\"top\" class=\"title\"><span class=\"rank\">13.</span></td>      <td valign=\"top\" class=\"votelinks\"><center><a id='up_22685018' href='vote?id=22685018&amp;how=up&amp;goto=news'><div class='votearrow' title='upvote'></div></a></center></td><td class=\"title\"><a href=\"https://www.infoq.com/news/2020/03/chrome-phasing-user-agent/\" class=\"storylink\">Chrome phasing out support for User-Agent</a><span class=\"sitebit comhead\"> (<a href=\"from?site=infoq.com\"><span class=\"sitestr\">infoq.com</span></a>)</span></td></tr><tr><td colspan=\"2\"></td><td class=\"subtext\">\n",
      "        <span class=\"score\" id=\"score_22685018\">569 points</span> by <a href=\"user?id=oftenwrong\" class=\"hnuser\">oftenwrong</a> <span class=\"age\"><a href=\"item?id=22685018\">16 hours ago</a></span> <span id=\"unv_22685018\"></span> | <a href=\"hide?id=22685018&amp;goto=news\">hide</a> | <a href=\"item?id=22685018\">259&nbsp;comments</a>              </td></tr>\n",
      "      <tr class=\"spacer\" style=\"height:5px\"></tr>\n",
      "                <tr class='athing' id='22690599'>\n",
      "      <td align=\"right\" valign=\"top\" class=\"title\"><span class=\"rank\">14.</span></td>      <td valign=\"top\" class=\"votelinks\"><center><a id='up_22690599' href='vote?id=22690599&amp;how=up&amp;goto=news'><div class='votearrow' title='upvote'></div></a></center></td><td class=\"title\"><a href=\"https://twitter.com/stewart/status/1243000487365861376\" class=\"storylink\">What the last few weeks have been like for the CEO of Slack</a><span class=\"sitebit comhead\"> (<a href=\"from?site=twitter.com\"><span class=\"sitestr\">twitter.com</span></a>)</span></td></tr><tr><td colspan=\"2\"></td><td class=\"subtext\">\n",
      "        <span class=\"score\" id=\"score_22690599\">70 points</span> by <a href=\"user?id=mooreds\" class=\"hnuser\">mooreds</a> <span class=\"age\"><a href=\"item?id=22690599\">3 hours ago</a></span> <span id=\"unv_22690599\"></span> | <a href=\"hide?id=22690599&amp;goto=news\">hide</a> | <a href=\"item?id=22690599\">14&nbsp;comments</a>              </td></tr>\n",
      "      <tr class=\"spacer\" style=\"height:5px\"></tr>\n",
      "                <tr class='athing' id='22687131'>\n",
      "      <td align=\"right\" valign=\"top\" class=\"title\"><span class=\"rank\">15.</span></td>      <td valign=\"top\" class=\"votelinks\"><center><a id='up_22687131' href='vote?id=22687131&amp;how=up&amp;goto=news'><div class='votearrow' title='upvote'></div></a></center></td><td class=\"title\"><a href=\"https://www.ycombinator.com/covid\" class=\"storylink\">YC Companies Responding to Covid-19</a><span class=\"sitebit comhead\"> (<a href=\"from?site=ycombinator.com\"><span class=\"sitestr\">ycombinator.com</span></a>)</span></td></tr><tr><td colspan=\"2\"></td><td class=\"subtext\">\n",
      "        <span class=\"score\" id=\"score_22687131\">115 points</span> by <a href=\"user?id=no_gravity\" class=\"hnuser\">no_gravity</a> <span class=\"age\"><a href=\"item?id=22687131\">13 hours ago</a></span> <span id=\"unv_22687131\"></span> | <a href=\"hide?id=22687131&amp;goto=news\">hide</a> | <a href=\"item?id=22687131\">25&nbsp;comments</a>              </td></tr>\n",
      "      <tr class=\"spacer\" style=\"height:5px\"></tr>\n",
      "                <tr class='athing' id='22689108'>\n",
      "      <td align=\"right\" valign=\"top\" class=\"title\"><span class=\"rank\">16.</span></td>      <td valign=\"top\" class=\"votelinks\"><center><a id='up_22689108' href='vote?id=22689108&amp;how=up&amp;goto=news'><div class='votearrow' title='upvote'></div></a></center></td><td class=\"title\"><a href=\"https://marker.medium.com/how-to-manage-a-business-thats-running-out-of-cash-a9e109a2f254\" class=\"storylink\">What to do if your startup is running out of cash</a><span class=\"sitebit comhead\"> (<a href=\"from?site=marker.medium.com\"><span class=\"sitestr\">marker.medium.com</span></a>)</span></td></tr><tr><td colspan=\"2\"></td><td class=\"subtext\">\n",
      "        <span class=\"score\" id=\"score_22689108\">58 points</span> by <a href=\"user?id=davesuperman\" class=\"hnuser\">davesuperman</a> <span class=\"age\"><a href=\"item?id=22689108\">8 hours ago</a></span> <span id=\"unv_22689108\"></span> | <a href=\"hide?id=22689108&amp;goto=news\">hide</a> | <a href=\"item?id=22689108\">33&nbsp;comments</a>              </td></tr>\n",
      "      <tr class=\"spacer\" style=\"height:5px\"></tr>\n",
      "                <tr class='athing' id='22686433'>\n",
      "      <td align=\"right\" valign=\"top\" class=\"title\"><span class=\"rank\">17.</span></td>      <td valign=\"top\" class=\"votelinks\"><center><a id='up_22686433' href='vote?id=22686433&amp;how=up&amp;goto=news'><div class='votearrow' title='upvote'></div></a></center></td><td class=\"title\"><a href=\"http://www.rutherfordjournal.org/article030107.html\" class=\"storylink\">The structures of computation and the mathematical structure of nature (2010)</a><span class=\"sitebit comhead\"> (<a href=\"from?site=rutherfordjournal.org\"><span class=\"sitestr\">rutherfordjournal.org</span></a>)</span></td></tr><tr><td colspan=\"2\"></td><td class=\"subtext\">\n",
      "        <span class=\"score\" id=\"score_22686433\">121 points</span> by <a href=\"user?id=ege_erdogan\" class=\"hnuser\">ege_erdogan</a> <span class=\"age\"><a href=\"item?id=22686433\">14 hours ago</a></span> <span id=\"unv_22686433\"></span> | <a href=\"hide?id=22686433&amp;goto=news\">hide</a> | <a href=\"item?id=22686433\">7&nbsp;comments</a>              </td></tr>\n",
      "      <tr class=\"spacer\" style=\"height:5px\"></tr>\n",
      "                <tr class='athing' id='22689659'>\n",
      "      <td align=\"right\" valign=\"top\" class=\"title\"><span class=\"rank\">18.</span></td>      <td valign=\"top\" class=\"votelinks\"><center><a id='up_22689659' href='vote?id=22689659&amp;how=up&amp;goto=news'><div class='votearrow' title='upvote'></div></a></center></td><td class=\"title\"><a href=\"https://edition.cnn.com/style/article/5000-year-old-sword-discovered-in-italy-trnd/index.html\" class=\"storylink\">5,000-year-old sword discovered by archaeology student at a Venetian monastery</a><span class=\"sitebit comhead\"> (<a href=\"from?site=cnn.com\"><span class=\"sitestr\">cnn.com</span></a>)</span></td></tr><tr><td colspan=\"2\"></td><td class=\"subtext\">\n",
      "        <span class=\"score\" id=\"score_22689659\">110 points</span> by <a href=\"user?id=HenryBemis\" class=\"hnuser\">HenryBemis</a> <span class=\"age\"><a href=\"item?id=22689659\">7 hours ago</a></span> <span id=\"unv_22689659\"></span> | <a href=\"hide?id=22689659&amp;goto=news\">hide</a> | <a href=\"item?id=22689659\">50&nbsp;comments</a>              </td></tr>\n",
      "      <tr class=\"spacer\" style=\"height:5px\"></tr>\n",
      "                <tr class='athing' id='22682837'>\n",
      "      <td align=\"right\" valign=\"top\" class=\"title\"><span class=\"rank\">19.</span></td>      <td valign=\"top\" class=\"votelinks\"><center><a id='up_22682837' href='vote?id=22682837&amp;how=up&amp;goto=news'><div class='votearrow' title='upvote'></div></a></center></td><td class=\"title\"><a href=\"item?id=22682837\" class=\"storylink\">Ask HN: How to Self Study Physics?</a></td></tr><tr><td colspan=\"2\"></td><td class=\"subtext\">\n",
      "        <span class=\"score\" id=\"score_22682837\">39 points</span> by <a href=\"user?id=hsikka\" class=\"hnuser\">hsikka</a> <span class=\"age\"><a href=\"item?id=22682837\">3 hours ago</a></span> <span id=\"unv_22682837\"></span> | <a href=\"hide?id=22682837&amp;goto=news\">hide</a> | <a href=\"item?id=22682837\">15&nbsp;comments</a>              </td></tr>\n",
      "      <tr class=\"spacer\" style=\"height:5px\"></tr>\n",
      "                <tr class='athing' id='22685914'>\n",
      "      <td align=\"right\" valign=\"top\" class=\"title\"><span class=\"rank\">20.</span></td>      <td valign=\"top\" class=\"votelinks\"><center><a id='up_22685914' href='vote?id=22685914&amp;how=up&amp;goto=news'><div class='votearrow' title='upvote'></div></a></center></td><td class=\"title\"><a href=\"https://git.mysticmode.org/r/sorcia\" class=\"storylink\">Show HN: Sorcia – Self-hosted web front end for Git repositories, written in Go</a><span class=\"sitebit comhead\"> (<a href=\"from?site=mysticmode.org\"><span class=\"sitestr\">mysticmode.org</span></a>)</span></td></tr><tr><td colspan=\"2\"></td><td class=\"subtext\">\n",
      "        <span class=\"score\" id=\"score_22685914\">75 points</span> by <a href=\"user?id=mysticmode\" class=\"hnuser\">mysticmode</a> <span class=\"age\"><a href=\"item?id=22685914\">12 hours ago</a></span> <span id=\"unv_22685914\"></span> | <a href=\"hide?id=22685914&amp;goto=news\">hide</a> | <a href=\"item?id=22685914\">23&nbsp;comments</a>              </td></tr>\n",
      "      <tr class=\"spacer\" style=\"height:5px\"></tr>\n",
      "                <tr class='athing' id='22686913'>\n",
      "      <td align=\"right\" valign=\"top\" class=\"title\"><span class=\"rank\">21.</span></td>      <td valign=\"top\" class=\"votelinks\"><center><a id='up_22686913' href='vote?id=22686913&amp;how=up&amp;goto=news'><div class='votearrow' title='upvote'></div></a></center></td><td class=\"title\"><a href=\"item?id=22686913\" class=\"storylink\">Show HN: Panther v1.0 – Open Source, Cloud-Native SIEM</a></td></tr><tr><td colspan=\"2\"></td><td class=\"subtext\">\n",
      "        <span class=\"score\" id=\"score_22686913\">127 points</span> by <a href=\"user?id=jacknagz\" class=\"hnuser\">jacknagz</a> <span class=\"age\"><a href=\"item?id=22686913\">13 hours ago</a></span> <span id=\"unv_22686913\"></span> | <a href=\"hide?id=22686913&amp;goto=news\">hide</a> | <a href=\"item?id=22686913\">40&nbsp;comments</a>              </td></tr>\n",
      "      <tr class=\"spacer\" style=\"height:5px\"></tr>\n",
      "                <tr class='athing' id='22690870'>\n",
      "      <td align=\"right\" valign=\"top\" class=\"title\"><span class=\"rank\">22.</span></td>      <td></td><td class=\"title\"><a href=\"https://www.easypost.com/careers\" class=\"storylink\" rel=\"nofollow\">Beat Amazon – Join EasyPost (YC S13)</a><span class=\"sitebit comhead\"> (<a href=\"from?site=easypost.com\"><span class=\"sitestr\">easypost.com</span></a>)</span></td></tr><tr><td colspan=\"2\"></td><td class=\"subtext\">\n",
      "        <span class=\"age\"><a href=\"item?id=22690870\">2 hours ago</a></span> | <a href=\"hide?id=22690870&amp;goto=news\">hide</a>      </td></tr>\n",
      "      <tr class=\"spacer\" style=\"height:5px\"></tr>\n",
      "                <tr class='athing' id='22686802'>\n",
      "      <td align=\"right\" valign=\"top\" class=\"title\"><span class=\"rank\">23.</span></td>      <td valign=\"top\" class=\"votelinks\"><center><a id='up_22686802' href='vote?id=22686802&amp;how=up&amp;goto=news'><div class='votearrow' title='upvote'></div></a></center></td><td class=\"title\"><a href=\"https://github.com/pion/ion\" class=\"storylink\">Show HN: pion/ion, self-hosted conferencing software with single command deploy</a><span class=\"sitebit comhead\"> (<a href=\"from?site=github.com\"><span class=\"sitestr\">github.com</span></a>)</span></td></tr><tr><td colspan=\"2\"></td><td class=\"subtext\">\n",
      "        <span class=\"score\" id=\"score_22686802\">108 points</span> by <a href=\"user?id=Sean-Der\" class=\"hnuser\">Sean-Der</a> <span class=\"age\"><a href=\"item?id=22686802\">13 hours ago</a></span> <span id=\"unv_22686802\"></span> | <a href=\"hide?id=22686802&amp;goto=news\">hide</a> | <a href=\"item?id=22686802\">20&nbsp;comments</a>              </td></tr>\n",
      "      <tr class=\"spacer\" style=\"height:5px\"></tr>\n",
      "                <tr class='athing' id='22683745'>\n",
      "      <td align=\"right\" valign=\"top\" class=\"title\"><span class=\"rank\">24.</span></td>      <td valign=\"top\" class=\"votelinks\"><center><a id='up_22683745' href='vote?id=22683745&amp;how=up&amp;goto=news'><div class='votearrow' title='upvote'></div></a></center></td><td class=\"title\"><a href=\"https://github.com/Urigo/graphql-mesh\" class=\"storylink\">GraphQL Mesh</a><span class=\"sitebit comhead\"> (<a href=\"from?site=github.com\"><span class=\"sitestr\">github.com</span></a>)</span></td></tr><tr><td colspan=\"2\"></td><td class=\"subtext\">\n",
      "        <span class=\"score\" id=\"score_22683745\">76 points</span> by <a href=\"user?id=diggan\" class=\"hnuser\">diggan</a> <span class=\"age\"><a href=\"item?id=22683745\">12 hours ago</a></span> <span id=\"unv_22683745\"></span> | <a href=\"hide?id=22683745&amp;goto=news\">hide</a> | <a href=\"item?id=22683745\">11&nbsp;comments</a>              </td></tr>\n",
      "      <tr class=\"spacer\" style=\"height:5px\"></tr>\n",
      "                <tr class='athing' id='22682219'>\n",
      "      <td align=\"right\" valign=\"top\" class=\"title\"><span class=\"rank\">25.</span></td>      <td valign=\"top\" class=\"votelinks\"><center><a id='up_22682219' href='vote?id=22682219&amp;how=up&amp;goto=news'><div class='votearrow' title='upvote'></div></a></center></td><td class=\"title\"><a href=\"https://arpitbhayani.me/blogs/function-overloading\" class=\"storylink\" rel=\"nofollow\">Implementing Function Overloading in Python</a><span class=\"sitebit comhead\"> (<a href=\"from?site=arpitbhayani.me\"><span class=\"sitestr\">arpitbhayani.me</span></a>)</span></td></tr><tr><td colspan=\"2\"></td><td class=\"subtext\">\n",
      "        <span class=\"score\" id=\"score_22682219\">3 points</span> by <a href=\"user?id=arpitbbhayani\" class=\"hnuser\">arpitbbhayani</a> <span class=\"age\"><a href=\"item?id=22682219\">2 hours ago</a></span> <span id=\"unv_22682219\"></span> | <a href=\"hide?id=22682219&amp;goto=news\">hide</a> | <a href=\"item?id=22682219\">3&nbsp;comments</a>              </td></tr>\n",
      "      <tr class=\"spacer\" style=\"height:5px\"></tr>\n",
      "                <tr class='athing' id='22684881'>\n",
      "      <td align=\"right\" valign=\"top\" class=\"title\"><span class=\"rank\">26.</span></td>      <td valign=\"top\" class=\"votelinks\"><center><a id='up_22684881' href='vote?id=22684881&amp;how=up&amp;goto=news'><div class='votearrow' title='upvote'></div></a></center></td><td class=\"title\"><a href=\"https://johv.dk/blog/bare-metal-assembly-tutorial.html\" class=\"storylink\">Getting started with bare-metal assembly</a><span class=\"sitebit comhead\"> (<a href=\"from?site=johv.dk\"><span class=\"sitestr\">johv.dk</span></a>)</span></td></tr><tr><td colspan=\"2\"></td><td class=\"subtext\">\n",
      "        <span class=\"score\" id=\"score_22684881\">369 points</span> by <a href=\"user?id=a7b3fa\" class=\"hnuser\">a7b3fa</a> <span class=\"age\"><a href=\"item?id=22684881\">16 hours ago</a></span> <span id=\"unv_22684881\"></span> | <a href=\"hide?id=22684881&amp;goto=news\">hide</a> | <a href=\"item?id=22684881\">158&nbsp;comments</a>              </td></tr>\n",
      "      <tr class=\"spacer\" style=\"height:5px\"></tr>\n",
      "                <tr class='athing' id='22685831'>\n",
      "      <td align=\"right\" valign=\"top\" class=\"title\"><span class=\"rank\">27.</span></td>      <td valign=\"top\" class=\"votelinks\"><center><a id='up_22685831' href='vote?id=22685831&amp;how=up&amp;goto=news'><div class='votearrow' title='upvote'></div></a></center></td><td class=\"title\"><a href=\"https://github.com/meilisearch/MeiliSearch\" class=\"storylink\">MeiliSearch: Zero-config alternative to Elasticsearch, made in Rust</a><span class=\"sitebit comhead\"> (<a href=\"from?site=github.com\"><span class=\"sitestr\">github.com</span></a>)</span></td></tr><tr><td colspan=\"2\"></td><td class=\"subtext\">\n",
      "        <span class=\"score\" id=\"score_22685831\">284 points</span> by <a href=\"user?id=qdequelen\" class=\"hnuser\">qdequelen</a> <span class=\"age\"><a href=\"item?id=22685831\">15 hours ago</a></span> <span id=\"unv_22685831\"></span> | <a href=\"hide?id=22685831&amp;goto=news\">hide</a> | <a href=\"item?id=22685831\">70&nbsp;comments</a>              </td></tr>\n",
      "      <tr class=\"spacer\" style=\"height:5px\"></tr>\n",
      "                <tr class='athing' id='22675551'>\n",
      "      <td align=\"right\" valign=\"top\" class=\"title\"><span class=\"rank\">28.</span></td>      <td valign=\"top\" class=\"votelinks\"><center><a id='up_22675551' href='vote?id=22675551&amp;how=up&amp;goto=news'><div class='votearrow' title='upvote'></div></a></center></td><td class=\"title\"><a href=\"https://observablehq.com/@d3/learn-d3\" class=\"storylink\">Learn D3</a><span class=\"sitebit comhead\"> (<a href=\"from?site=observablehq.com\"><span class=\"sitestr\">observablehq.com</span></a>)</span></td></tr><tr><td colspan=\"2\"></td><td class=\"subtext\">\n",
      "        <span class=\"score\" id=\"score_22675551\">470 points</span> by <a href=\"user?id=mbostock\" class=\"hnuser\">mbostock</a> <span class=\"age\"><a href=\"item?id=22675551\">18 hours ago</a></span> <span id=\"unv_22675551\"></span> | <a href=\"hide?id=22675551&amp;goto=news\">hide</a> | <a href=\"item?id=22675551\">51&nbsp;comments</a>              </td></tr>\n",
      "      <tr class=\"spacer\" style=\"height:5px\"></tr>\n",
      "                <tr class='athing' id='22688509'>\n",
      "      <td align=\"right\" valign=\"top\" class=\"title\"><span class=\"rank\">29.</span></td>      <td valign=\"top\" class=\"votelinks\"><center><a id='up_22688509' href='vote?id=22688509&amp;how=up&amp;goto=news'><div class='votearrow' title='upvote'></div></a></center></td><td class=\"title\"><a href=\"https://kubernetes.io/blog/2020/03/25/kubernetes-1-18-release-announcement/\" class=\"storylink\">Kubernetes 1.18</a><span class=\"sitebit comhead\"> (<a href=\"from?site=kubernetes.io\"><span class=\"sitestr\">kubernetes.io</span></a>)</span></td></tr><tr><td colspan=\"2\"></td><td class=\"subtext\">\n",
      "        <span class=\"score\" id=\"score_22688509\">108 points</span> by <a href=\"user?id=onlydole\" class=\"hnuser\">onlydole</a> <span class=\"age\"><a href=\"item?id=22688509\">10 hours ago</a></span> <span id=\"unv_22688509\"></span> | <a href=\"hide?id=22688509&amp;goto=news\">hide</a> | <a href=\"item?id=22688509\">73&nbsp;comments</a>              </td></tr>\n",
      "      <tr class=\"spacer\" style=\"height:5px\"></tr>\n",
      "                <tr class='athing' id='22689190'>\n",
      "      <td align=\"right\" valign=\"top\" class=\"title\"><span class=\"rank\">30.</span></td>      <td valign=\"top\" class=\"votelinks\"><center><a id='up_22689190' href='vote?id=22689190&amp;how=up&amp;goto=news'><div class='votearrow' title='upvote'></div></a></center></td><td class=\"title\"><a href=\"https://andreasbm.github.io/web-skills/\" class=\"storylink\">Show HN: Web Skills – A Visual Learning Guide for Web Developers</a><span class=\"sitebit comhead\"> (<a href=\"from?site=andreasbm.github.io\"><span class=\"sitestr\">andreasbm.github.io</span></a>)</span></td></tr><tr><td colspan=\"2\"></td><td class=\"subtext\">\n",
      "        <span class=\"score\" id=\"score_22689190\">37 points</span> by <a href=\"user?id=sooperb\" class=\"hnuser\">sooperb</a> <span class=\"age\"><a href=\"item?id=22689190\">8 hours ago</a></span> <span id=\"unv_22689190\"></span> | <a href=\"hide?id=22689190&amp;goto=news\">hide</a> | <a href=\"item?id=22689190\">7&nbsp;comments</a>              </td></tr>\n",
      "      <tr class=\"spacer\" style=\"height:5px\"></tr>\n",
      "            <tr class=\"morespace\" style=\"height:10px\"></tr><tr><td colspan=\"2\"></td><td class=\"title\"><a href=\"news?p=2\" class=\"morelink\" rel=\"next\">More</a></td></tr>\n",
      "  </table>\n",
      "</td></tr>\n",
      "<tr><td><img src=\"s.gif\" height=\"10\" width=\"0\"><table width=\"100%\" cellspacing=\"0\" cellpadding=\"1\"><tr><td bgcolor=\"#ff6600\"></td></tr></table><br><center><a href=\"https://www.ycombinator.com/apply/\">\n",
      "        Applications are open for YC Summer 2020\n",
      "      </a></center><br><center><span class=\"yclinks\"><a href=\"newsguidelines.html\">Guidelines</a>\n",
      "        | <a href=\"newsfaq.html\">FAQ</a>\n",
      "        | <a href=\"mailto:hn@ycombinator.com\">Support</a>\n",
      "        | <a href=\"https://github.com/HackerNews/API\">API</a>\n",
      "        | <a href=\"security.html\">Security</a>\n",
      "        | <a href=\"lists\">Lists</a>\n",
      "        | <a href=\"bookmarklet.html\" rel=\"nofollow\">Bookmarklet</a>\n",
      "        | <a href=\"http://www.ycombinator.com/legal/\">Legal</a>\n",
      "        | <a href=\"http://www.ycombinator.com/apply/\">Apply to YC</a>\n",
      "        | <a href=\"mailto:hn@ycombinator.com\">Contact</a></span><br><br><form method=\"get\" action=\"//hn.algolia.com/\">Search:\n",
      "          <input type=\"text\" name=\"q\" value=\"\" size=\"17\" autocorrect=\"off\" spellcheck=\"false\" autocapitalize=\"off\" autocomplete=\"false\"></form>\n",
      "            </center></td></tr>\n",
      "      </table></center></body><script type='text/javascript' src='hn.js?WtiDADWyAh3OLz9I78m7'></script></html>\n",
      "\n"
     ]
    }
   ],
   "source": [
    "import requests\n",
    "\n",
    "# Fetch a web page\n",
    "r = requests.get(\"https://news.ycombinator.com\")\n",
    "print(r.text)"
   ]
  },
  {
   "cell_type": "code",
   "execution_count": 5,
   "metadata": {},
   "outputs": [
    {
     "name": "stdout",
     "output_type": "stream",
     "text": [
      "\n",
      "        \n",
      "          \n",
      "        Hacker News\n",
      "        \n",
      "                  Hacker News\n",
      "              new | past | comments | ask | show | jobs | submit            \n",
      "                              login\n",
      "                          \n",
      "              \n",
      "\n",
      "              \n",
      "      1.      Private client-side-only PWAs are hard, but now Apple made them impossible (andregarzia.com)\n",
      "        744 points by soapdog 14 hours ago  | hide | 771&nbsp;comments              \n",
      "      \n",
      "                \n",
      "      2.      Show HN: To fight quarantine boredom I build a site to watch movies with friends (bingetogether.com)\n",
      "        330 points by l1am0 13 hours ago  | hide | 126&nbsp;comments              \n",
      "      \n",
      "                \n",
      "      3.      Letter to Myself in Late 2008 (dalton.substack.com)\n",
      "        238 points by baxtr 12 hours ago  | hide | 75&nbsp;comments              \n",
      "      \n",
      "                \n",
      "      4.      Jane Street and the OCaml Compiler (2018) [video] (janestreet.com)\n",
      "        95 points by chmaynard 8 hours ago  | hide | 58&nbsp;comments              \n",
      "      \n",
      "                \n",
      "      5.      BBC Computer Literacy Project 1980 – 1989 (bbcrewind.co.uk)\n",
      "        27 points by open-source-ux 4 hours ago  | hide | 2&nbsp;comments              \n",
      "      \n",
      "                \n",
      "      6.      Social distancing slowing not only Covid-19, but other diseases too (qz.com)\n",
      "        220 points by prostoalex 9 hours ago  | hide | 145&nbsp;comments              \n",
      "      \n",
      "                \n",
      "      7.      Top U.S. cities have seen internet speeds decline this past week (techcrunch.com)\n",
      "        70 points by arcamax 9 hours ago  | hide | 27&nbsp;comments              \n",
      "      \n",
      "                \n",
      "      8.      Exceptional failure: breaking the STM32F1 read-out protection (zapb.de)\n",
      "        74 points by bcantrill 9 hours ago  | hide | 17&nbsp;comments              \n",
      "      \n",
      "                \n",
      "      9.      Show HN: Explore Quake/Half-Life maps in your browser (github.com)\n",
      "        166 points by sbuggay 14 hours ago  | hide | 28&nbsp;comments              \n",
      "      \n",
      "                \n",
      "      10.      Samsung Begins Mass Production of 512GB EUFS 3.1 (samsung.com)\n",
      "        95 points by oedmarap 12 hours ago  | hide | 29&nbsp;comments              \n",
      "      \n",
      "                \n",
      "      11.      Unity Learn platform free for three months (unity.com)\n",
      "        432 points by metreo 13 hours ago  | hide | 104&nbsp;comments              \n",
      "      \n",
      "                \n",
      "      12.      Smalltalk-87 (wirfs-brock.com)\n",
      "        102 points by fniephaus 12 hours ago  | hide | 11&nbsp;comments              \n",
      "      \n",
      "                \n",
      "      13.      Chrome phasing out support for User-Agent (infoq.com)\n",
      "        569 points by oftenwrong 16 hours ago  | hide | 259&nbsp;comments              \n",
      "      \n",
      "                \n",
      "      14.      What the last few weeks have been like for the CEO of Slack (twitter.com)\n",
      "        70 points by mooreds 3 hours ago  | hide | 14&nbsp;comments              \n",
      "      \n",
      "                \n",
      "      15.      YC Companies Responding to Covid-19 (ycombinator.com)\n",
      "        115 points by no_gravity 13 hours ago  | hide | 25&nbsp;comments              \n",
      "      \n",
      "                \n",
      "      16.      What to do if your startup is running out of cash (marker.medium.com)\n",
      "        58 points by davesuperman 8 hours ago  | hide | 33&nbsp;comments              \n",
      "      \n",
      "                \n",
      "      17.      The structures of computation and the mathematical structure of nature (2010) (rutherfordjournal.org)\n",
      "        121 points by ege_erdogan 14 hours ago  | hide | 7&nbsp;comments              \n",
      "      \n",
      "                \n",
      "      18.      5,000-year-old sword discovered by archaeology student at a Venetian monastery (cnn.com)\n",
      "        110 points by HenryBemis 7 hours ago  | hide | 50&nbsp;comments              \n",
      "      \n",
      "                \n",
      "      19.      Ask HN: How to Self Study Physics?\n",
      "        39 points by hsikka 3 hours ago  | hide | 15&nbsp;comments              \n",
      "      \n",
      "                \n",
      "      20.      Show HN: Sorcia – Self-hosted web front end for Git repositories, written in Go (mysticmode.org)\n",
      "        75 points by mysticmode 12 hours ago  | hide | 23&nbsp;comments              \n",
      "      \n",
      "                \n",
      "      21.      Show HN: Panther v1.0 – Open Source, Cloud-Native SIEM\n",
      "        127 points by jacknagz 13 hours ago  | hide | 40&nbsp;comments              \n",
      "      \n",
      "                \n",
      "      22.      Beat Amazon – Join EasyPost (YC S13) (easypost.com)\n",
      "        2 hours ago | hide      \n",
      "      \n",
      "                \n",
      "      23.      Show HN: pion/ion, self-hosted conferencing software with single command deploy (github.com)\n",
      "        108 points by Sean-Der 13 hours ago  | hide | 20&nbsp;comments              \n",
      "      \n",
      "                \n",
      "      24.      GraphQL Mesh (github.com)\n",
      "        76 points by diggan 12 hours ago  | hide | 11&nbsp;comments              \n",
      "      \n",
      "                \n",
      "      25.      Implementing Function Overloading in Python (arpitbhayani.me)\n",
      "        3 points by arpitbbhayani 2 hours ago  | hide | 3&nbsp;comments              \n",
      "      \n",
      "                \n",
      "      26.      Getting started with bare-metal assembly (johv.dk)\n",
      "        369 points by a7b3fa 16 hours ago  | hide | 158&nbsp;comments              \n",
      "      \n",
      "                \n",
      "      27.      MeiliSearch: Zero-config alternative to Elasticsearch, made in Rust (github.com)\n",
      "        284 points by qdequelen 15 hours ago  | hide | 70&nbsp;comments              \n",
      "      \n",
      "                \n",
      "      28.      Learn D3 (observablehq.com)\n",
      "        470 points by mbostock 18 hours ago  | hide | 51&nbsp;comments              \n",
      "      \n",
      "                \n",
      "      29.      Kubernetes 1.18 (kubernetes.io)\n",
      "        108 points by onlydole 10 hours ago  | hide | 73&nbsp;comments              \n",
      "      \n",
      "                \n",
      "      30.      Show HN: Web Skills – A Visual Learning Guide for Web Developers (andreasbm.github.io)\n",
      "        37 points by sooperb 8 hours ago  | hide | 7&nbsp;comments              \n",
      "      \n",
      "            More\n",
      "  \n",
      "\n",
      "\n",
      "        Applications are open for YC Summer 2020\n",
      "      Guidelines\n",
      "        | FAQ\n",
      "        | Support\n",
      "        | API\n",
      "        | Security\n",
      "        | Lists\n",
      "        | Bookmarklet\n",
      "        | Legal\n",
      "        | Apply to YC\n",
      "        | ContactSearch:\n",
      "          \n",
      "            \n",
      "      \n",
      "\n"
     ]
    }
   ],
   "source": [
    "import re\n",
    "\n",
    "# Remove HTML tags using RegEx\n",
    "pattern = re.compile(r'<.*?>')  # tags look like <...>\n",
    "print(pattern.sub('', r.text))  # replace them with blank"
   ]
  },
  {
   "cell_type": "code",
   "execution_count": 6,
   "metadata": {},
   "outputs": [
    {
     "name": "stdout",
     "output_type": "stream",
     "text": [
      "\n",
      "        \n",
      "          \n",
      "        Hacker News\n",
      "        \n",
      "                  Hacker News\n",
      "              new | past | comments | ask | show | jobs | submit            \n",
      "                              login\n",
      "                          \n",
      "              \n",
      "\n",
      "              \n",
      "      1.      Private client-side-only PWAs are hard, but now Apple made them impossible (andregarzia.com)\n",
      "        744 points by soapdog 14 hours ago  | hide | 771 comments              \n",
      "      \n",
      "                \n",
      "      2.      Show HN: To fight quarantine boredom I build a site to watch movies with friends (bingetogether.com)\n",
      "        330 points by l1am0 13 hours ago  | hide | 126 comments              \n",
      "      \n",
      "                \n",
      "      3.      Letter to Myself in Late 2008 (dalton.substack.com)\n",
      "        238 points by baxtr 12 hours ago  | hide | 75 comments              \n",
      "      \n",
      "                \n",
      "      4.      Jane Street and the OCaml Compiler (2018) [video] (janestreet.com)\n",
      "        95 points by chmaynard 8 hours ago  | hide | 58 comments              \n",
      "      \n",
      "                \n",
      "      5.      BBC Computer Literacy Project 1980 – 1989 (bbcrewind.co.uk)\n",
      "        27 points by open-source-ux 4 hours ago  | hide | 2 comments              \n",
      "      \n",
      "                \n",
      "      6.      Social distancing slowing not only Covid-19, but other diseases too (qz.com)\n",
      "        220 points by prostoalex 9 hours ago  | hide | 145 comments              \n",
      "      \n",
      "                \n",
      "      7.      Top U.S. cities have seen internet speeds decline this past week (techcrunch.com)\n",
      "        70 points by arcamax 9 hours ago  | hide | 27 comments              \n",
      "      \n",
      "                \n",
      "      8.      Exceptional failure: breaking the STM32F1 read-out protection (zapb.de)\n",
      "        74 points by bcantrill 9 hours ago  | hide | 17 comments              \n",
      "      \n",
      "                \n",
      "      9.      Show HN: Explore Quake/Half-Life maps in your browser (github.com)\n",
      "        166 points by sbuggay 14 hours ago  | hide | 28 comments              \n",
      "      \n",
      "                \n",
      "      10.      Samsung Begins Mass Production of 512GB EUFS 3.1 (samsung.com)\n",
      "        95 points by oedmarap 12 hours ago  | hide | 29 comments              \n",
      "      \n",
      "                \n",
      "      11.      Unity Learn platform free for three months (unity.com)\n",
      "        432 points by metreo 13 hours ago  | hide | 104 comments              \n",
      "      \n",
      "                \n",
      "      12.      Smalltalk-87 (wirfs-brock.com)\n",
      "        102 points by fniephaus 12 hours ago  | hide | 11 comments              \n",
      "      \n",
      "                \n",
      "      13.      Chrome phasing out support for User-Agent (infoq.com)\n",
      "        569 points by oftenwrong 16 hours ago  | hide | 259 comments              \n",
      "      \n",
      "                \n",
      "      14.      What the last few weeks have been like for the CEO of Slack (twitter.com)\n",
      "        70 points by mooreds 3 hours ago  | hide | 14 comments              \n",
      "      \n",
      "                \n",
      "      15.      YC Companies Responding to Covid-19 (ycombinator.com)\n",
      "        115 points by no_gravity 13 hours ago  | hide | 25 comments              \n",
      "      \n",
      "                \n",
      "      16.      What to do if your startup is running out of cash (marker.medium.com)\n",
      "        58 points by davesuperman 8 hours ago  | hide | 33 comments              \n",
      "      \n",
      "                \n",
      "      17.      The structures of computation and the mathematical structure of nature (2010) (rutherfordjournal.org)\n",
      "        121 points by ege_erdogan 14 hours ago  | hide | 7 comments              \n",
      "      \n",
      "                \n",
      "      18.      5,000-year-old sword discovered by archaeology student at a Venetian monastery (cnn.com)\n",
      "        110 points by HenryBemis 7 hours ago  | hide | 50 comments              \n",
      "      \n",
      "                \n",
      "      19.      Ask HN: How to Self Study Physics?\n",
      "        39 points by hsikka 3 hours ago  | hide | 15 comments              \n",
      "      \n",
      "                \n",
      "      20.      Show HN: Sorcia – Self-hosted web front end for Git repositories, written in Go (mysticmode.org)\n",
      "        75 points by mysticmode 12 hours ago  | hide | 23 comments              \n",
      "      \n",
      "                \n",
      "      21.      Show HN: Panther v1.0 – Open Source, Cloud-Native SIEM\n",
      "        127 points by jacknagz 13 hours ago  | hide | 40 comments              \n",
      "      \n",
      "                \n",
      "      22.      Beat Amazon – Join EasyPost (YC S13) (easypost.com)\n",
      "        2 hours ago | hide      \n",
      "      \n",
      "                \n",
      "      23.      Show HN: pion/ion, self-hosted conferencing software with single command deploy (github.com)\n",
      "        108 points by Sean-Der 13 hours ago  | hide | 20 comments              \n",
      "      \n",
      "                \n",
      "      24.      GraphQL Mesh (github.com)\n",
      "        76 points by diggan 12 hours ago  | hide | 11 comments              \n",
      "      \n",
      "                \n",
      "      25.      Implementing Function Overloading in Python (arpitbhayani.me)\n",
      "        3 points by arpitbbhayani 2 hours ago  | hide | 3 comments              \n",
      "      \n",
      "                \n",
      "      26.      Getting started with bare-metal assembly (johv.dk)\n",
      "        369 points by a7b3fa 16 hours ago  | hide | 158 comments              \n",
      "      \n",
      "                \n",
      "      27.      MeiliSearch: Zero-config alternative to Elasticsearch, made in Rust (github.com)\n",
      "        284 points by qdequelen 15 hours ago  | hide | 70 comments              \n",
      "      \n",
      "                \n",
      "      28.      Learn D3 (observablehq.com)\n",
      "        470 points by mbostock 18 hours ago  | hide | 51 comments              \n",
      "      \n",
      "                \n",
      "      29.      Kubernetes 1.18 (kubernetes.io)\n",
      "        108 points by onlydole 10 hours ago  | hide | 73 comments              \n",
      "      \n",
      "                \n",
      "      30.      Show HN: Web Skills – A Visual Learning Guide for Web Developers (andreasbm.github.io)\n",
      "        37 points by sooperb 8 hours ago  | hide | 7 comments              \n",
      "      \n",
      "            More\n",
      "  \n",
      "\n",
      "\n",
      "        Applications are open for YC Summer 2020\n",
      "      Guidelines\n",
      "        | FAQ\n",
      "        | Support\n",
      "        | API\n",
      "        | Security\n",
      "        | Lists\n",
      "        | Bookmarklet\n",
      "        | Legal\n",
      "        | Apply to YC\n",
      "        | ContactSearch:\n",
      "          \n",
      "            \n",
      "      \n",
      "\n"
     ]
    }
   ],
   "source": [
    "from bs4 import BeautifulSoup\n",
    "\n",
    "# Remove HTML tags using Beautiful Soup library\n",
    "soup = BeautifulSoup(r.text, \"html5lib\")\n",
    "print(soup.get_text())"
   ]
  },
  {
   "cell_type": "code",
   "execution_count": 7,
   "metadata": {
    "scrolled": true
   },
   "outputs": [
    {
     "data": {
      "text/plain": [
       "<tr class=\"athing\" id=\"22686602\">\n",
       "      <td align=\"right\" class=\"title\" valign=\"top\"><span class=\"rank\">1.</span></td>      <td class=\"votelinks\" valign=\"top\"><center><a href=\"vote?id=22686602&amp;how=up&amp;goto=news\" id=\"up_22686602\"><div class=\"votearrow\" title=\"upvote\"></div></a></center></td><td class=\"title\"><a class=\"storylink\" href=\"https://andregarzia.com/2020/03/private-client-side-only-pwas-are-hard-but-now-apple-made-them-impossible.html\">Private client-side-only PWAs are hard, but now Apple made them impossible</a><span class=\"sitebit comhead\"> (<a href=\"from?site=andregarzia.com\"><span class=\"sitestr\">andregarzia.com</span></a>)</span></td></tr>"
      ]
     },
     "execution_count": 7,
     "metadata": {},
     "output_type": "execute_result"
    }
   ],
   "source": [
    "# Find all articles\n",
    "summaries = soup.find_all(\"tr\", class_=\"athing\")\n",
    "summaries[0]"
   ]
  },
  {
   "cell_type": "code",
   "execution_count": 8,
   "metadata": {},
   "outputs": [
    {
     "data": {
      "text/plain": [
       "'Private client-side-only PWAs are hard, but now Apple made them impossible'"
      ]
     },
     "execution_count": 8,
     "metadata": {},
     "output_type": "execute_result"
    }
   ],
   "source": [
    "# Extract title\n",
    "summaries[0].find(\"a\", class_=\"storylink\").get_text().strip()"
   ]
  },
  {
   "cell_type": "code",
   "execution_count": 9,
   "metadata": {},
   "outputs": [
    {
     "name": "stdout",
     "output_type": "stream",
     "text": [
      "30 Article summaries found. Sample:\n",
      "Private client-side-only PWAs are hard, but now Apple made them impossible\n"
     ]
    }
   ],
   "source": [
    "# Find all articles, extract titles\n",
    "articles = []\n",
    "summaries = soup.find_all(\"tr\", class_=\"athing\")\n",
    "for summary in summaries:\n",
    "    title = summary.find(\"a\", class_=\"storylink\").get_text().strip()\n",
    "    articles.append((title))\n",
    "\n",
    "print(len(articles), \"Article summaries found. Sample:\")\n",
    "print(articles[0])"
   ]
  },
  {
   "cell_type": "markdown",
   "metadata": {
    "collapsed": true
   },
   "source": [
    "## Normalization"
   ]
  },
  {
   "cell_type": "markdown",
   "metadata": {},
   "source": [
    "### Case Normalization"
   ]
  },
  {
   "cell_type": "code",
   "execution_count": 10,
   "metadata": {},
   "outputs": [
    {
     "name": "stdout",
     "output_type": "stream",
     "text": [
      "The first time you see The Second Renaissance it may look boring. Look at it at least twice and definitely watch part 2. It will change your view of the matrix. Are the human people the ones who started the war ? Is AI a bad thing ?\n"
     ]
    }
   ],
   "source": [
    "# Sample text\n",
    "text = \"The first time you see The Second Renaissance it may look boring. Look at it at least twice and definitely watch part 2. It will change your view of the matrix. Are the human people the ones who started the war ? Is AI a bad thing ?\"\n",
    "print(text)"
   ]
  },
  {
   "cell_type": "code",
   "execution_count": 11,
   "metadata": {},
   "outputs": [
    {
     "name": "stdout",
     "output_type": "stream",
     "text": [
      "the first time you see the second renaissance it may look boring. look at it at least twice and definitely watch part 2. it will change your view of the matrix. are the human people the ones who started the war ? is ai a bad thing ?\n"
     ]
    }
   ],
   "source": [
    "# Convert to lowercase\n",
    "text = text.lower() \n",
    "print(text)"
   ]
  },
  {
   "cell_type": "markdown",
   "metadata": {},
   "source": [
    "### Punctuation Removal"
   ]
  },
  {
   "cell_type": "code",
   "execution_count": 12,
   "metadata": {},
   "outputs": [
    {
     "name": "stdout",
     "output_type": "stream",
     "text": [
      "the first time you see the second renaissance it may look boring  look at it at least twice and definitely watch part 2  it will change your view of the matrix  are the human people the ones who started the war   is ai a bad thing  \n"
     ]
    }
   ],
   "source": [
    "import re\n",
    "\n",
    "# Remove punctuation characters\n",
    "text = re.sub(r\"[^a-zA-Z0-9]\", \" \", text) \n",
    "print(text)"
   ]
  },
  {
   "cell_type": "markdown",
   "metadata": {},
   "source": [
    "## Tokenization"
   ]
  },
  {
   "cell_type": "code",
   "execution_count": 13,
   "metadata": {},
   "outputs": [
    {
     "name": "stdout",
     "output_type": "stream",
     "text": [
      "['the', 'first', 'time', 'you', 'see', 'the', 'second', 'renaissance', 'it', 'may', 'look', 'boring', 'look', 'at', 'it', 'at', 'least', 'twice', 'and', 'definitely', 'watch', 'part', '2', 'it', 'will', 'change', 'your', 'view', 'of', 'the', 'matrix', 'are', 'the', 'human', 'people', 'the', 'ones', 'who', 'started', 'the', 'war', 'is', 'ai', 'a', 'bad', 'thing']\n"
     ]
    }
   ],
   "source": [
    "# Split text into tokens (words)\n",
    "words = text.split()\n",
    "print(words)"
   ]
  },
  {
   "cell_type": "markdown",
   "metadata": {},
   "source": [
    "### NLTK: Natural Language ToolKit"
   ]
  },
  {
   "cell_type": "code",
   "execution_count": 14,
   "metadata": {},
   "outputs": [],
   "source": [
    "import os\n",
    "import nltk\n",
    "nltk.data.path.append(os.path.join(os.getcwd(), \"nltk_data\"))"
   ]
  },
  {
   "cell_type": "code",
   "execution_count": 15,
   "metadata": {},
   "outputs": [
    {
     "name": "stdout",
     "output_type": "stream",
     "text": [
      "Dr. Smith graduated from the University of Washington. He later started an analytics firm called Lux, which catered to enterprise customers.\n"
     ]
    }
   ],
   "source": [
    "# Another sample text\n",
    "text = \"Dr. Smith graduated from the University of Washington. He later started an analytics firm called Lux, which catered to enterprise customers.\"\n",
    "print(text)"
   ]
  },
  {
   "cell_type": "code",
   "execution_count": 16,
   "metadata": {},
   "outputs": [
    {
     "name": "stdout",
     "output_type": "stream",
     "text": [
      "['Dr.', 'Smith', 'graduated', 'from', 'the', 'University', 'of', 'Washington', '.', 'He', 'later', 'started', 'an', 'analytics', 'firm', 'called', 'Lux', ',', 'which', 'catered', 'to', 'enterprise', 'customers', '.']\n"
     ]
    }
   ],
   "source": [
    "from nltk.tokenize import word_tokenize\n",
    "\n",
    "# Split text into words using NLTK\n",
    "words = word_tokenize(text)\n",
    "print(words)"
   ]
  },
  {
   "cell_type": "code",
   "execution_count": 17,
   "metadata": {},
   "outputs": [
    {
     "name": "stdout",
     "output_type": "stream",
     "text": [
      "['Dr. Smith graduated from the University of Washington.', 'He later started an analytics firm called Lux, which catered to enterprise customers.']\n"
     ]
    }
   ],
   "source": [
    "from nltk.tokenize import sent_tokenize\n",
    "\n",
    "# Split text into sentences\n",
    "sentences = sent_tokenize(text)\n",
    "print(sentences)"
   ]
  },
  {
   "cell_type": "code",
   "execution_count": 18,
   "metadata": {},
   "outputs": [
    {
     "name": "stdout",
     "output_type": "stream",
     "text": [
      "['i', 'me', 'my', 'myself', 'we', 'our', 'ours', 'ourselves', 'you', \"you're\", \"you've\", \"you'll\", \"you'd\", 'your', 'yours', 'yourself', 'yourselves', 'he', 'him', 'his', 'himself', 'she', \"she's\", 'her', 'hers', 'herself', 'it', \"it's\", 'its', 'itself', 'they', 'them', 'their', 'theirs', 'themselves', 'what', 'which', 'who', 'whom', 'this', 'that', \"that'll\", 'these', 'those', 'am', 'is', 'are', 'was', 'were', 'be', 'been', 'being', 'have', 'has', 'had', 'having', 'do', 'does', 'did', 'doing', 'a', 'an', 'the', 'and', 'but', 'if', 'or', 'because', 'as', 'until', 'while', 'of', 'at', 'by', 'for', 'with', 'about', 'against', 'between', 'into', 'through', 'during', 'before', 'after', 'above', 'below', 'to', 'from', 'up', 'down', 'in', 'out', 'on', 'off', 'over', 'under', 'again', 'further', 'then', 'once', 'here', 'there', 'when', 'where', 'why', 'how', 'all', 'any', 'both', 'each', 'few', 'more', 'most', 'other', 'some', 'such', 'no', 'nor', 'not', 'only', 'own', 'same', 'so', 'than', 'too', 'very', 's', 't', 'can', 'will', 'just', 'don', \"don't\", 'should', \"should've\", 'now', 'd', 'll', 'm', 'o', 're', 've', 'y', 'ain', 'aren', \"aren't\", 'couldn', \"couldn't\", 'didn', \"didn't\", 'doesn', \"doesn't\", 'hadn', \"hadn't\", 'hasn', \"hasn't\", 'haven', \"haven't\", 'isn', \"isn't\", 'ma', 'mightn', \"mightn't\", 'mustn', \"mustn't\", 'needn', \"needn't\", 'shan', \"shan't\", 'shouldn', \"shouldn't\", 'wasn', \"wasn't\", 'weren', \"weren't\", 'won', \"won't\", 'wouldn', \"wouldn't\"]\n"
     ]
    }
   ],
   "source": [
    "# List stop words\n",
    "from nltk.corpus import stopwords\n",
    "print(stopwords.words(\"english\"))"
   ]
  },
  {
   "cell_type": "code",
   "execution_count": 19,
   "metadata": {},
   "outputs": [
    {
     "name": "stdout",
     "output_type": "stream",
     "text": [
      "['the', 'first', 'time', 'you', 'see', 'the', 'second', 'renaissance', 'it', 'may', 'look', 'boring', 'look', 'at', 'it', 'at', 'least', 'twice', 'and', 'definitely', 'watch', 'part', '2', 'it', 'will', 'change', 'your', 'view', 'of', 'the', 'matrix', 'are', 'the', 'human', 'people', 'the', 'ones', 'who', 'started', 'the', 'war', 'is', 'ai', 'a', 'bad', 'thing']\n"
     ]
    }
   ],
   "source": [
    "# Reset text\n",
    "text = \"The first time you see The Second Renaissance it may look boring. Look at it at least twice and definitely watch part 2. It will change your view of the matrix. Are the human people the ones who started the war ? Is AI a bad thing ?\"\n",
    "\n",
    "# Normalize it\n",
    "text = re.sub(r\"[^a-zA-Z0-9]\", \" \", text.lower())\n",
    "\n",
    "# Tokenize it\n",
    "words = text.split()\n",
    "print(words)"
   ]
  },
  {
   "cell_type": "code",
   "execution_count": 20,
   "metadata": {},
   "outputs": [
    {
     "name": "stdout",
     "output_type": "stream",
     "text": [
      "['first', 'time', 'see', 'second', 'renaissance', 'may', 'look', 'boring', 'look', 'least', 'twice', 'definitely', 'watch', 'part', '2', 'change', 'view', 'matrix', 'human', 'people', 'ones', 'started', 'war', 'ai', 'bad', 'thing']\n"
     ]
    }
   ],
   "source": [
    "# Remove stop words\n",
    "words = [w for w in words if w not in stopwords.words(\"english\")]\n",
    "print(words)"
   ]
  },
  {
   "cell_type": "markdown",
   "metadata": {},
   "source": [
    "### Sentence Parsing"
   ]
  },
  {
   "cell_type": "code",
   "execution_count": 21,
   "metadata": {},
   "outputs": [
    {
     "name": "stdout",
     "output_type": "stream",
     "text": [
      "(S\n",
      "  (NP I)\n",
      "  (VP\n",
      "    (VP (V shot) (NP (Det an) (N elephant)))\n",
      "    (PP (P in) (NP (Det my) (N pajamas)))))\n",
      "(S\n",
      "  (NP I)\n",
      "  (VP\n",
      "    (V shot)\n",
      "    (NP (Det an) (N elephant) (PP (P in) (NP (Det my) (N pajamas))))))\n"
     ]
    }
   ],
   "source": [
    "import nltk\n",
    "\n",
    "# Define a custom grammar\n",
    "my_grammar = nltk.CFG.fromstring(\"\"\"\n",
    "S -> NP VP\n",
    "PP -> P NP\n",
    "NP -> Det N | Det N PP | 'I'\n",
    "VP -> V NP | VP PP\n",
    "Det -> 'an' | 'my'\n",
    "N -> 'elephant' | 'pajamas'\n",
    "V -> 'shot'\n",
    "P -> 'in'\n",
    "\"\"\")\n",
    "parser = nltk.ChartParser(my_grammar)\n",
    "\n",
    "# Parse a sentence\n",
    "sentence = word_tokenize(\"I shot an elephant in my pajamas\")\n",
    "for tree in parser.parse(sentence):\n",
    "    print(tree)"
   ]
  },
  {
   "cell_type": "markdown",
   "metadata": {},
   "source": [
    "## Stemming & Lemmatization\n",
    "\n",
    "### Stemming"
   ]
  },
  {
   "cell_type": "code",
   "execution_count": 22,
   "metadata": {},
   "outputs": [
    {
     "name": "stdout",
     "output_type": "stream",
     "text": [
      "['first', 'time', 'see', 'second', 'renaiss', 'may', 'look', 'bore', 'look', 'least', 'twice', 'definit', 'watch', 'part', '2', 'chang', 'view', 'matrix', 'human', 'peopl', 'one', 'start', 'war', 'ai', 'bad', 'thing']\n"
     ]
    }
   ],
   "source": [
    "from nltk.stem.porter import PorterStemmer\n",
    "\n",
    "# Reduce words to their stems\n",
    "stemmed = [PorterStemmer().stem(w) for w in words]\n",
    "print(stemmed)"
   ]
  },
  {
   "cell_type": "markdown",
   "metadata": {},
   "source": [
    "### Lemmatization"
   ]
  },
  {
   "cell_type": "code",
   "execution_count": 23,
   "metadata": {},
   "outputs": [
    {
     "name": "stdout",
     "output_type": "stream",
     "text": [
      "['first', 'time', 'see', 'second', 'renaissance', 'may', 'look', 'boring', 'look', 'least', 'twice', 'definitely', 'watch', 'part', '2', 'change', 'view', 'matrix', 'human', 'people', 'one', 'started', 'war', 'ai', 'bad', 'thing']\n"
     ]
    }
   ],
   "source": [
    "from nltk.stem.wordnet import WordNetLemmatizer\n",
    "\n",
    "# Reduce words to their root form\n",
    "lemmed = [WordNetLemmatizer().lemmatize(w) for w in words]\n",
    "print(lemmed) "
   ]
  },
  {
   "cell_type": "code",
   "execution_count": 24,
   "metadata": {},
   "outputs": [
    {
     "name": "stdout",
     "output_type": "stream",
     "text": [
      "['first', 'time', 'see', 'second', 'renaissance', 'may', 'look', 'bore', 'look', 'least', 'twice', 'definitely', 'watch', 'part', '2', 'change', 'view', 'matrix', 'human', 'people', 'one', 'start', 'war', 'ai', 'bad', 'thing']\n"
     ]
    }
   ],
   "source": [
    "# Lemmatize verbs by specifying pos\n",
    "lemmed = [WordNetLemmatizer().lemmatize(w, pos='v') for w in lemmed]\n",
    "print(lemmed)"
   ]
  },
  {
   "cell_type": "code",
   "execution_count": null,
   "metadata": {},
   "outputs": [],
   "source": []
  }
 ],
 "metadata": {
  "kernelspec": {
   "display_name": "Python 3",
   "language": "python",
   "name": "python3"
  },
  "language_info": {
   "codemirror_mode": {
    "name": "ipython",
    "version": 3
   },
   "file_extension": ".py",
   "mimetype": "text/x-python",
   "name": "python",
   "nbconvert_exporter": "python",
   "pygments_lexer": "ipython3",
   "version": "3.7.7"
  }
 },
 "nbformat": 4,
 "nbformat_minor": 2
}
